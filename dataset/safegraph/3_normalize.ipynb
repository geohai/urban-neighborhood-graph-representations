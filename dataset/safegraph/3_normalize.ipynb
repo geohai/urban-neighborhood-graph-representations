{
 "cells": [
  {
   "cell_type": "markdown",
   "id": "b972dd53",
   "metadata": {},
   "source": [
    "# to download population info"
   ]
  },
  {
   "cell_type": "code",
   "execution_count": 23,
   "id": "5f64f6c2",
   "metadata": {},
   "outputs": [
    {
     "ename": "ModuleNotFoundError",
     "evalue": "No module named 'census'",
     "output_type": "error",
     "traceback": [
      "\u001b[0;31m---------------------------------------------------------------------------\u001b[0m",
      "\u001b[0;31mModuleNotFoundError\u001b[0m                       Traceback (most recent call last)",
      "Cell \u001b[0;32mIn[23], line 1\u001b[0m\n\u001b[0;32m----> 1\u001b[0m \u001b[38;5;28;01mfrom\u001b[39;00m \u001b[38;5;21;01mcensus\u001b[39;00m \u001b[38;5;28;01mimport\u001b[39;00m Census\n\u001b[1;32m      2\u001b[0m \u001b[38;5;28;01mimport\u001b[39;00m \u001b[38;5;21;01mpickle\u001b[39;00m\n\u001b[1;32m      3\u001b[0m \u001b[38;5;28;01mimport\u001b[39;00m \u001b[38;5;21;01mpandas\u001b[39;00m \u001b[38;5;28;01mas\u001b[39;00m \u001b[38;5;21;01mpd\u001b[39;00m\n",
      "\u001b[0;31mModuleNotFoundError\u001b[0m: No module named 'census'"
     ]
    }
   ],
   "source": [
    "from census import Census\n",
    "import pickle\n",
    "import pandas as pd\n",
    "from os.path import exists\n",
    "graph_obj_path = 'graph_checkpoints/nyc_metro/checkpoint_12.pkl'\n",
    "pop_file_path = 'data/nyc_metro/population.pkl'\n",
    "with open(graph_obj_path, 'rb') as f:\n",
    "    ct = pickle.load(f)"
   ]
  },
  {
   "cell_type": "code",
   "execution_count": null,
   "id": "c3903137",
   "metadata": {},
   "outputs": [],
   "source": [
    "ct.is_normalized_edge_mat"
   ]
  },
  {
   "cell_type": "code",
   "execution_count": 6,
   "id": "57c3d727",
   "metadata": {},
   "outputs": [
    {
     "ename": "NameError",
     "evalue": "name 'ct' is not defined",
     "output_type": "error",
     "traceback": [
      "\u001b[0;31m---------------------------------------------------------------------------\u001b[0m",
      "\u001b[0;31mNameError\u001b[0m                                 Traceback (most recent call last)",
      "Cell \u001b[0;32mIn[6], line 1\u001b[0m\n\u001b[0;32m----> 1\u001b[0m \u001b[43mct\u001b[49m\u001b[38;5;241m.\u001b[39medge_mat\n",
      "\u001b[0;31mNameError\u001b[0m: name 'ct' is not defined"
     ]
    }
   ],
   "source": [
    "ct.edge_mat"
   ]
  },
  {
   "cell_type": "code",
   "execution_count": 4,
   "id": "2dc3c34b",
   "metadata": {},
   "outputs": [],
   "source": [
    "with open('../api_keys/census_key.txt', 'r') as f:\n",
    "    key = f.readline()\n",
    "c = Census(key)\n",
    "\n",
    "# normalize by population of area\n",
    "def geoid_to_cty_fps(geoid):\n",
    "    if len(geoid) != 11:\n",
    "        print('GEOID not correct length.')\n",
    "        return\n",
    "    countyfps = geoid[2:5]\n",
    "    return countyfps\n",
    "\n",
    "def geoid_to_st_fps(geoid):\n",
    "    if len(geoid) != 11:\n",
    "        print('GEOID not correct length.')\n",
    "        return\n",
    "    statefps = geoid[0:2]\n",
    "    return statefps\n",
    "\n",
    "def geoid_to_tract_fps(geoid):\n",
    "    if len(geoid) != 11:\n",
    "        print('GEOID not correct length.')\n",
    "        return\n",
    "    trfps = geoid[5:]\n",
    "    return trfps\n",
    "\n",
    "\n",
    "def get_population(statefps, countyfps, var='B01001_001E', varname='total_pop'):\n",
    "    \n",
    "    census = c.acs5.state_county_tract(fields = var,\n",
    "                                        state_fips = statefps,\n",
    "                                        county_fips = countyfps,\n",
    "                                        tract = '*',\n",
    "                                        year = 2020)\n",
    "    df = pd.DataFrame(census)\n",
    "    df.rename(columns={var: varname}, inplace=True)\n",
    "    return df\n",
    "\n",
    "def get_population_for_tract(statefps, countyfps, tract, var='B01001_001E', varname='total_pop'):\n",
    "    \n",
    "    census = c.acs5.state_county_tract(fields = var,\n",
    "                                        state_fips = statefps,\n",
    "                                        county_fips = countyfps,\n",
    "                                        tract = tract,\n",
    "                                        year = 2020)\n",
    "    df = pd.DataFrame(census)\n",
    "    df.rename(columns={var: varname}, inplace=True)\n",
    "    return df"
   ]
  },
  {
   "cell_type": "code",
   "execution_count": 5,
   "id": "72f43e61",
   "metadata": {},
   "outputs": [],
   "source": [
    "# ct = CensusTractMobility(tract_data_dir='Tracts/nyc_metro_boundaries/nyc_metro_boundaries.shp')\n",
    "# checkpoint_version = -1\n",
    "# checkpoint_path = f'safegraph/compute_graph_checkpoints/denver/checkpoint_{checkpoint_version}.pkl'\n",
    "# # with open(checkpoint_path, 'rb') as f:\n",
    "# #     ct = pickle.load(f)\n",
    "\n",
    "# get population of each tract\n",
    "df = pd.DataFrame()\n",
    "pop_file_path = 'data/nyc_metro/population.pkl'\n",
    "if not exists(pop_file_path):\n",
    "    df['state_fips'] = ct.tract_data.GEOID.apply(geoid_to_st_fps)\n",
    "    df['county_fips'] = ct.tract_data.GEOID.apply(geoid_to_cty_fps)\n",
    "    df.drop_duplicates(inplace=True)\n",
    "\n",
    "    pop = pd.DataFrame()\n",
    "    for i in range(0, df.shape[0]):\n",
    "        x = df.iloc[i]\n",
    "        pop = pd.concat([pop, get_population(x['state_fips'], x['county_fips'])])\n",
    "\n",
    "    pop['GEOID'] = pop['state'] + pop['county'] + pop['tract']\n",
    "    pop_dict = dict(zip(pop['GEOID'], pop['total_pop']))\n",
    "\n",
    "    f = open(pop_file_path, 'wb')\n",
    "    pickle.dump(pop_dict, f)\n",
    "    f.close()\n",
    "else:\n",
    "    with open(pop_file_path, 'rb') as f:\n",
    "        pop_dict = pickle.load(f)"
   ]
  },
  {
   "cell_type": "code",
   "execution_count": 6,
   "id": "498ada96",
   "metadata": {},
   "outputs": [
    {
     "data": {
      "text/plain": [
       "8231"
      ]
     },
     "execution_count": 6,
     "metadata": {},
     "output_type": "execute_result"
    }
   ],
   "source": [
    "len(pop_dict.keys())"
   ]
  },
  {
   "cell_type": "code",
   "execution_count": 7,
   "id": "760ace25",
   "metadata": {},
   "outputs": [
    {
     "name": "stdout",
     "output_type": "stream",
     "text": [
      "Num geoids in the graph: 8231\n",
      "Num geoids that are not in the pop dict: 0\n"
     ]
    }
   ],
   "source": [
    "all_geoids = list(ct.idx_node_map.values())\n",
    "print(f'Num geoids in the graph: {len(all_geoids)}')\n",
    "\n",
    "missed = []\n",
    "[(missed.append(i) if i not in pop_dict.keys() else None) for i in all_geoids]\n",
    "\n",
    "print(f'Num geoids that are not in the pop dict: {len(missed)}')"
   ]
  },
  {
   "cell_type": "code",
   "execution_count": 8,
   "id": "e4d7b7df",
   "metadata": {},
   "outputs": [
    {
     "data": {
      "text/plain": [
       "False"
      ]
     },
     "execution_count": 8,
     "metadata": {},
     "output_type": "execute_result"
    }
   ],
   "source": [
    "# check if any are not strings\n",
    "any([not isinstance(s, str) for s in missed])"
   ]
  },
  {
   "cell_type": "code",
   "execution_count": 9,
   "id": "e2dfaa0f",
   "metadata": {},
   "outputs": [
    {
     "data": {
      "text/plain": [
       "False"
      ]
     },
     "execution_count": 9,
     "metadata": {},
     "output_type": "execute_result"
    }
   ],
   "source": [
    "any([i in pop_dict.keys() for i in missed])"
   ]
  },
  {
   "cell_type": "code",
   "execution_count": 10,
   "id": "00a3dfaa",
   "metadata": {},
   "outputs": [
    {
     "data": {
      "text/plain": [
       "[]"
      ]
     },
     "execution_count": 10,
     "metadata": {},
     "output_type": "execute_result"
    }
   ],
   "source": [
    "missed"
   ]
  },
  {
   "cell_type": "code",
   "execution_count": 11,
   "id": "592dab55",
   "metadata": {},
   "outputs": [],
   "source": [
    "# missed_df = ct.tract_data.loc[ct.tract_data.GEOID.isin(missed)]\n",
    "\n",
    "# missed_df['state_fips'] = missed_df.GEOID.apply(geoid_to_st_fps)\n",
    "# missed_df['county_fips'] = missed_df.GEOID.apply(geoid_to_cty_fps)\n",
    "# missed_df['tract_fips'] = missed_df.GEOID.apply(geoid_to_tract_fps)\n",
    "# df = missed_df\n",
    "\n",
    "# pop = pd.DataFrame()\n",
    "# for i in range(0, missed_df.shape[0]):\n",
    "#     x = missed_df.iloc[i]\n",
    "#     pop = pd.concat([pop, get_population_for_tract(x['state_fips'], x['county_fips'], x['tract_fips'])])\n",
    "\n",
    "# # pop['GEOID'] = pop['state'] + pop['county'] + pop['tract']\n",
    "# # pop_dict2 = dict(zip(pop['GEOID'], pop['total_pop']))\n",
    "\n",
    "# # pop_dict = pop_dict | pop_dict3\n",
    "\n",
    "# # f = open(pop_file_path, 'wb')\n",
    "# # pickle.dump(pop_dict, f)\n",
    "# # f.close()\n"
   ]
  },
  {
   "cell_type": "code",
   "execution_count": 12,
   "id": "56949c23",
   "metadata": {},
   "outputs": [],
   "source": [
    "# ct.check_and_normalize_edges(pop_dict)"
   ]
  },
  {
   "cell_type": "code",
   "execution_count": 13,
   "id": "c4b440a7",
   "metadata": {},
   "outputs": [
    {
     "name": "stdout",
     "output_type": "stream",
     "text": [
      "09003980001\n",
      "09003980002\n",
      "09003980003\n",
      "09009990000\n",
      "09001990000\n",
      "42017980000\n",
      "42003980000\n",
      "42003980100\n",
      "42003980300\n",
      "42003980400\n",
      "42003980700\n",
      "42003980800\n",
      "42003981000\n",
      "42003981100\n",
      "42003981200\n",
      "36047011902\n",
      "36047017500\n",
      "36047017700\n",
      "36047031402\n",
      "36047035702\n",
      "36047040700\n",
      "36047044902\n",
      "36047054300\n",
      "36047057902\n",
      "36047058902\n",
      "36047066600\n",
      "36047070203\n",
      "36047070602\n",
      "36047096000\n",
      "36047001802\n",
      "36047001803\n",
      "36047001804\n",
      "36047003102\n",
      "36047102802\n",
      "36047103402\n",
      "36047107002\n",
      "36047107003\n",
      "36047005303\n",
      "36047008600\n",
      "36047118000\n",
      "36047990100\n",
      "36119005600\n",
      "36061031100\n",
      "36061031900\n",
      "36061000100\n",
      "36061000500\n",
      "36061008602\n",
      "36059990100\n",
      "36059990200\n",
      "36059990301\n",
      "36059990302\n",
      "36059990400\n",
      "36029990000\n",
      "36005001903\n",
      "36005001904\n",
      "36005002400\n",
      "36005006302\n",
      "36005011000\n",
      "36005011702\n",
      "36005016300\n",
      "36005017100\n",
      "36005024900\n",
      "36005043502\n",
      "36005043503\n",
      "36005048402\n",
      "36005050400\n",
      "36005051602\n",
      "36013990000\n",
      "36085015400\n",
      "36085022802\n",
      "36085990100\n",
      "36085005902\n",
      "36085009702\n",
      "36103990100\n",
      "36081017101\n",
      "36081019902\n",
      "36081019903\n",
      "36081021603\n",
      "36081021900\n",
      "36081022900\n",
      "36081024600\n",
      "36081028803\n",
      "36081029900\n",
      "36081033100\n",
      "36081038301\n",
      "36081038302\n",
      "36081053502\n",
      "36081061302\n",
      "36081062400\n",
      "36081064102\n",
      "36081065501\n",
      "36081066302\n",
      "36081066404\n",
      "36081071600\n",
      "36081079300\n",
      "36081089202\n",
      "36081091602\n",
      "36081091604\n",
      "36081097207\n",
      "36081099900\n",
      "36081107202\n",
      "36081120702\n",
      "36081121100\n",
      "36081128300\n",
      "36081000103\n",
      "36081990100\n",
      "36081003700\n",
      "36081005000\n",
      "36081009900\n",
      "36081010701\n",
      "36009940200\n",
      "34013980200\n",
      "34001990000\n",
      "34029980000\n",
      "34029980100\n",
      "34029990000\n",
      "34025990000\n",
      "34009990100\n",
      "34023980000\n",
      "34017980100\n"
     ]
    }
   ],
   "source": [
    "_ = [print(k) if v == 0 else None for k, v in pop_dict.items()]"
   ]
  },
  {
   "cell_type": "code",
   "execution_count": 14,
   "id": "407ceb2b",
   "metadata": {},
   "outputs": [
    {
     "data": {
      "text/plain": [
       "0.0"
      ]
     },
     "execution_count": 14,
     "metadata": {},
     "output_type": "execute_result"
    }
   ],
   "source": [
    "pop_dict['09003980001']"
   ]
  },
  {
   "cell_type": "markdown",
   "id": "ba55ce44",
   "metadata": {},
   "source": [
    "Replace 0 population with population of 1."
   ]
  },
  {
   "cell_type": "code",
   "execution_count": 15,
   "id": "19c8bb9c",
   "metadata": {},
   "outputs": [],
   "source": [
    "df = pd.DataFrame.from_dict(pop_dict, orient='index').reset_index()\n",
    "df.loc[df[0] <= 0, 0] = 1"
   ]
  },
  {
   "cell_type": "code",
   "execution_count": 16,
   "id": "9ccc055c",
   "metadata": {},
   "outputs": [
    {
     "data": {
      "text/html": [
       "<div>\n",
       "<style scoped>\n",
       "    .dataframe tbody tr th:only-of-type {\n",
       "        vertical-align: middle;\n",
       "    }\n",
       "\n",
       "    .dataframe tbody tr th {\n",
       "        vertical-align: top;\n",
       "    }\n",
       "\n",
       "    .dataframe thead th {\n",
       "        text-align: right;\n",
       "    }\n",
       "</style>\n",
       "<table border=\"1\" class=\"dataframe\">\n",
       "  <thead>\n",
       "    <tr style=\"text-align: right;\">\n",
       "      <th></th>\n",
       "      <th>index</th>\n",
       "      <th>0</th>\n",
       "    </tr>\n",
       "  </thead>\n",
       "  <tbody>\n",
       "    <tr>\n",
       "      <th>0</th>\n",
       "      <td>09003330100</td>\n",
       "      <td>1883.0</td>\n",
       "    </tr>\n",
       "    <tr>\n",
       "      <th>1</th>\n",
       "      <td>09003400101</td>\n",
       "      <td>3093.0</td>\n",
       "    </tr>\n",
       "    <tr>\n",
       "      <th>2</th>\n",
       "      <td>09003400102</td>\n",
       "      <td>4307.0</td>\n",
       "    </tr>\n",
       "    <tr>\n",
       "      <th>3</th>\n",
       "      <td>09003400200</td>\n",
       "      <td>6289.0</td>\n",
       "    </tr>\n",
       "    <tr>\n",
       "      <th>4</th>\n",
       "      <td>09003400300</td>\n",
       "      <td>6771.0</td>\n",
       "    </tr>\n",
       "  </tbody>\n",
       "</table>\n",
       "</div>"
      ],
      "text/plain": [
       "         index       0\n",
       "0  09003330100  1883.0\n",
       "1  09003400101  3093.0\n",
       "2  09003400102  4307.0\n",
       "3  09003400200  6289.0\n",
       "4  09003400300  6771.0"
      ]
     },
     "execution_count": 16,
     "metadata": {},
     "output_type": "execute_result"
    }
   ],
   "source": [
    "df.head()"
   ]
  },
  {
   "cell_type": "code",
   "execution_count": 17,
   "id": "23700ed6",
   "metadata": {},
   "outputs": [],
   "source": [
    "pop_dict = dict(zip(df['index'], df[0]))"
   ]
  },
  {
   "cell_type": "code",
   "execution_count": 18,
   "id": "8fe1afbd",
   "metadata": {},
   "outputs": [],
   "source": [
    "ct.check_and_normalize_edges(pop_dict)"
   ]
  },
  {
   "cell_type": "code",
   "execution_count": 19,
   "id": "d199a163",
   "metadata": {},
   "outputs": [
    {
     "data": {
      "text/plain": [
       "True"
      ]
     },
     "execution_count": 19,
     "metadata": {},
     "output_type": "execute_result"
    }
   ],
   "source": [
    "ct.is_normalized_edge_mat"
   ]
  },
  {
   "cell_type": "code",
   "execution_count": 20,
   "id": "02a80d58",
   "metadata": {},
   "outputs": [],
   "source": [
    "ct.save_pickle('graph_checkpoints/nyc_metro/checkpoint_norm.pkl')"
   ]
  },
  {
   "cell_type": "markdown",
   "id": "e172a29a",
   "metadata": {},
   "source": [
    "# EDA "
   ]
  },
  {
   "cell_type": "code",
   "execution_count": 9,
   "id": "a2d6b36c",
   "metadata": {},
   "outputs": [],
   "source": [
    "import numpy as np\n",
    "\n",
    "graph_obj_path = 'graph_checkpoints/nyc_metro/checkpoint_norm.pkl'\n",
    "with open(graph_obj_path, 'rb') as f:\n",
    "    ct = pickle.load(f)"
   ]
  },
  {
   "cell_type": "code",
   "execution_count": 14,
   "id": "af19ea80",
   "metadata": {},
   "outputs": [],
   "source": [
    "import seaborn as sns"
   ]
  },
  {
   "cell_type": "code",
   "execution_count": 15,
   "id": "56525d3f",
   "metadata": {},
   "outputs": [],
   "source": [
    "raw = ct.edge_mat"
   ]
  },
  {
   "cell_type": "code",
   "execution_count": 22,
   "id": "b89bd747",
   "metadata": {},
   "outputs": [
    {
     "data": {
      "text/plain": [
       "array([   9,   10,   11, ..., 8054, 8055, 8056])"
      ]
     },
     "execution_count": 22,
     "metadata": {},
     "output_type": "execute_result"
    }
   ],
   "source": [
    "np.where(~raw.any(axis=1))[0]"
   ]
  },
  {
   "cell_type": "code",
   "execution_count": 19,
   "id": "48715d99",
   "metadata": {},
   "outputs": [
    {
     "data": {
      "text/plain": [
       "(8231, 8231)"
      ]
     },
     "execution_count": 19,
     "metadata": {},
     "output_type": "execute_result"
    }
   ],
   "source": [
    "(raw[:]a == 0).shape"
   ]
  },
  {
   "cell_type": "code",
   "execution_count": 16,
   "id": "8dd45b91",
   "metadata": {},
   "outputs": [
    {
     "data": {
      "text/plain": [
       "array([0., 0., 0., ..., 0., 0., 0.])"
      ]
     },
     "execution_count": 16,
     "metadata": {},
     "output_type": "execute_result"
    }
   ],
   "source": [
    "raw[raw[:] == 0]"
   ]
  },
  {
   "cell_type": "code",
   "execution_count": 45,
   "id": "a147dd8c",
   "metadata": {},
   "outputs": [],
   "source": [
    "raw = pd.DataFrame(raw)\n",
    "# raw = raw[raw != 0]"
   ]
  },
  {
   "cell_type": "code",
   "execution_count": 46,
   "id": "865d9a8d",
   "metadata": {},
   "outputs": [
    {
     "data": {
      "text/html": [
       "<div>\n",
       "<style scoped>\n",
       "    .dataframe tbody tr th:only-of-type {\n",
       "        vertical-align: middle;\n",
       "    }\n",
       "\n",
       "    .dataframe tbody tr th {\n",
       "        vertical-align: top;\n",
       "    }\n",
       "\n",
       "    .dataframe thead th {\n",
       "        text-align: right;\n",
       "    }\n",
       "</style>\n",
       "<table border=\"1\" class=\"dataframe\">\n",
       "  <thead>\n",
       "    <tr style=\"text-align: right;\">\n",
       "      <th></th>\n",
       "      <th>0</th>\n",
       "      <th>1</th>\n",
       "      <th>2</th>\n",
       "      <th>3</th>\n",
       "      <th>4</th>\n",
       "      <th>5</th>\n",
       "      <th>6</th>\n",
       "      <th>7</th>\n",
       "      <th>8</th>\n",
       "      <th>9</th>\n",
       "      <th>...</th>\n",
       "      <th>8221</th>\n",
       "      <th>8222</th>\n",
       "      <th>8223</th>\n",
       "      <th>8224</th>\n",
       "      <th>8225</th>\n",
       "      <th>8226</th>\n",
       "      <th>8227</th>\n",
       "      <th>8228</th>\n",
       "      <th>8229</th>\n",
       "      <th>8230</th>\n",
       "    </tr>\n",
       "  </thead>\n",
       "  <tbody>\n",
       "    <tr>\n",
       "      <th>0</th>\n",
       "      <td>1.564571</td>\n",
       "      <td>0.299065</td>\n",
       "      <td>0.319881</td>\n",
       "      <td>0.024002</td>\n",
       "      <td>0.036958</td>\n",
       "      <td>0.040994</td>\n",
       "      <td>0.052251</td>\n",
       "      <td>0.005098</td>\n",
       "      <td>0.002549</td>\n",
       "      <td>0.0</td>\n",
       "      <td>...</td>\n",
       "      <td>0.0</td>\n",
       "      <td>0.0</td>\n",
       "      <td>0.000000</td>\n",
       "      <td>0.000000</td>\n",
       "      <td>0.000850</td>\n",
       "      <td>0.000000</td>\n",
       "      <td>0.000000</td>\n",
       "      <td>0.000000</td>\n",
       "      <td>0.000000</td>\n",
       "      <td>0.000000</td>\n",
       "    </tr>\n",
       "    <tr>\n",
       "      <th>1</th>\n",
       "      <td>1.031875</td>\n",
       "      <td>0.723573</td>\n",
       "      <td>0.378894</td>\n",
       "      <td>0.016207</td>\n",
       "      <td>0.019089</td>\n",
       "      <td>0.061948</td>\n",
       "      <td>0.051144</td>\n",
       "      <td>0.004322</td>\n",
       "      <td>0.000720</td>\n",
       "      <td>0.0</td>\n",
       "      <td>...</td>\n",
       "      <td>0.0</td>\n",
       "      <td>0.0</td>\n",
       "      <td>0.000000</td>\n",
       "      <td>0.000000</td>\n",
       "      <td>0.000720</td>\n",
       "      <td>0.000000</td>\n",
       "      <td>0.000000</td>\n",
       "      <td>0.000000</td>\n",
       "      <td>0.000000</td>\n",
       "      <td>0.000000</td>\n",
       "    </tr>\n",
       "    <tr>\n",
       "      <th>2</th>\n",
       "      <td>1.060859</td>\n",
       "      <td>0.451438</td>\n",
       "      <td>1.257816</td>\n",
       "      <td>0.125677</td>\n",
       "      <td>0.013547</td>\n",
       "      <td>0.048562</td>\n",
       "      <td>0.136932</td>\n",
       "      <td>0.012505</td>\n",
       "      <td>0.012297</td>\n",
       "      <td>0.0</td>\n",
       "      <td>...</td>\n",
       "      <td>0.0</td>\n",
       "      <td>0.0</td>\n",
       "      <td>0.000000</td>\n",
       "      <td>0.000000</td>\n",
       "      <td>0.000000</td>\n",
       "      <td>0.000000</td>\n",
       "      <td>0.000000</td>\n",
       "      <td>0.000000</td>\n",
       "      <td>0.000000</td>\n",
       "      <td>0.000000</td>\n",
       "    </tr>\n",
       "    <tr>\n",
       "      <th>3</th>\n",
       "      <td>1.378613</td>\n",
       "      <td>0.529865</td>\n",
       "      <td>1.434489</td>\n",
       "      <td>0.406872</td>\n",
       "      <td>0.034040</td>\n",
       "      <td>0.214515</td>\n",
       "      <td>0.223507</td>\n",
       "      <td>0.005138</td>\n",
       "      <td>0.010276</td>\n",
       "      <td>0.0</td>\n",
       "      <td>...</td>\n",
       "      <td>0.0</td>\n",
       "      <td>0.0</td>\n",
       "      <td>0.000000</td>\n",
       "      <td>0.000000</td>\n",
       "      <td>0.001285</td>\n",
       "      <td>0.000000</td>\n",
       "      <td>0.000000</td>\n",
       "      <td>0.000000</td>\n",
       "      <td>0.000000</td>\n",
       "      <td>0.000000</td>\n",
       "    </tr>\n",
       "    <tr>\n",
       "      <th>4</th>\n",
       "      <td>0.749011</td>\n",
       "      <td>0.163610</td>\n",
       "      <td>0.412082</td>\n",
       "      <td>0.043869</td>\n",
       "      <td>0.182309</td>\n",
       "      <td>0.264293</td>\n",
       "      <td>0.071197</td>\n",
       "      <td>0.001438</td>\n",
       "      <td>0.007911</td>\n",
       "      <td>0.0</td>\n",
       "      <td>...</td>\n",
       "      <td>0.0</td>\n",
       "      <td>0.0</td>\n",
       "      <td>0.000000</td>\n",
       "      <td>0.000000</td>\n",
       "      <td>0.000000</td>\n",
       "      <td>0.000000</td>\n",
       "      <td>0.000000</td>\n",
       "      <td>0.000000</td>\n",
       "      <td>0.000000</td>\n",
       "      <td>0.000000</td>\n",
       "    </tr>\n",
       "    <tr>\n",
       "      <th>...</th>\n",
       "      <td>...</td>\n",
       "      <td>...</td>\n",
       "      <td>...</td>\n",
       "      <td>...</td>\n",
       "      <td>...</td>\n",
       "      <td>...</td>\n",
       "      <td>...</td>\n",
       "      <td>...</td>\n",
       "      <td>...</td>\n",
       "      <td>...</td>\n",
       "      <td>...</td>\n",
       "      <td>...</td>\n",
       "      <td>...</td>\n",
       "      <td>...</td>\n",
       "      <td>...</td>\n",
       "      <td>...</td>\n",
       "      <td>...</td>\n",
       "      <td>...</td>\n",
       "      <td>...</td>\n",
       "      <td>...</td>\n",
       "      <td>...</td>\n",
       "    </tr>\n",
       "    <tr>\n",
       "      <th>8226</th>\n",
       "      <td>0.000000</td>\n",
       "      <td>0.000000</td>\n",
       "      <td>0.000000</td>\n",
       "      <td>0.000000</td>\n",
       "      <td>0.000000</td>\n",
       "      <td>0.000000</td>\n",
       "      <td>0.000000</td>\n",
       "      <td>0.000000</td>\n",
       "      <td>0.000000</td>\n",
       "      <td>0.0</td>\n",
       "      <td>...</td>\n",
       "      <td>0.0</td>\n",
       "      <td>0.0</td>\n",
       "      <td>0.000000</td>\n",
       "      <td>0.073226</td>\n",
       "      <td>0.079423</td>\n",
       "      <td>1.250537</td>\n",
       "      <td>0.000506</td>\n",
       "      <td>0.000506</td>\n",
       "      <td>0.002024</td>\n",
       "      <td>0.001012</td>\n",
       "    </tr>\n",
       "    <tr>\n",
       "      <th>8227</th>\n",
       "      <td>0.000000</td>\n",
       "      <td>0.000000</td>\n",
       "      <td>0.000000</td>\n",
       "      <td>0.000000</td>\n",
       "      <td>0.000000</td>\n",
       "      <td>0.000000</td>\n",
       "      <td>0.000000</td>\n",
       "      <td>0.000000</td>\n",
       "      <td>0.000000</td>\n",
       "      <td>0.0</td>\n",
       "      <td>...</td>\n",
       "      <td>0.0</td>\n",
       "      <td>0.0</td>\n",
       "      <td>0.195096</td>\n",
       "      <td>0.000000</td>\n",
       "      <td>0.053305</td>\n",
       "      <td>0.000000</td>\n",
       "      <td>0.906983</td>\n",
       "      <td>0.646055</td>\n",
       "      <td>0.140192</td>\n",
       "      <td>0.684701</td>\n",
       "    </tr>\n",
       "    <tr>\n",
       "      <th>8228</th>\n",
       "      <td>0.000000</td>\n",
       "      <td>0.000000</td>\n",
       "      <td>0.000000</td>\n",
       "      <td>0.000000</td>\n",
       "      <td>0.000000</td>\n",
       "      <td>0.000000</td>\n",
       "      <td>0.000000</td>\n",
       "      <td>0.000000</td>\n",
       "      <td>0.000000</td>\n",
       "      <td>0.0</td>\n",
       "      <td>...</td>\n",
       "      <td>0.0</td>\n",
       "      <td>0.0</td>\n",
       "      <td>0.050678</td>\n",
       "      <td>0.000000</td>\n",
       "      <td>0.015508</td>\n",
       "      <td>0.001108</td>\n",
       "      <td>0.187206</td>\n",
       "      <td>1.541955</td>\n",
       "      <td>0.217391</td>\n",
       "      <td>0.164220</td>\n",
       "    </tr>\n",
       "    <tr>\n",
       "      <th>8229</th>\n",
       "      <td>0.000000</td>\n",
       "      <td>0.000000</td>\n",
       "      <td>0.000000</td>\n",
       "      <td>0.000000</td>\n",
       "      <td>0.000000</td>\n",
       "      <td>0.000000</td>\n",
       "      <td>0.000000</td>\n",
       "      <td>0.000000</td>\n",
       "      <td>0.000000</td>\n",
       "      <td>0.0</td>\n",
       "      <td>...</td>\n",
       "      <td>0.0</td>\n",
       "      <td>0.0</td>\n",
       "      <td>0.251892</td>\n",
       "      <td>0.000606</td>\n",
       "      <td>0.024826</td>\n",
       "      <td>0.000000</td>\n",
       "      <td>0.081290</td>\n",
       "      <td>0.551317</td>\n",
       "      <td>1.236906</td>\n",
       "      <td>1.110506</td>\n",
       "    </tr>\n",
       "    <tr>\n",
       "      <th>8230</th>\n",
       "      <td>0.000000</td>\n",
       "      <td>0.000000</td>\n",
       "      <td>0.000000</td>\n",
       "      <td>0.000000</td>\n",
       "      <td>0.000000</td>\n",
       "      <td>0.000000</td>\n",
       "      <td>0.000000</td>\n",
       "      <td>0.000000</td>\n",
       "      <td>0.000000</td>\n",
       "      <td>0.0</td>\n",
       "      <td>...</td>\n",
       "      <td>0.0</td>\n",
       "      <td>0.0</td>\n",
       "      <td>0.814807</td>\n",
       "      <td>0.004891</td>\n",
       "      <td>0.034015</td>\n",
       "      <td>0.002223</td>\n",
       "      <td>0.258337</td>\n",
       "      <td>0.625167</td>\n",
       "      <td>1.476212</td>\n",
       "      <td>3.194309</td>\n",
       "    </tr>\n",
       "  </tbody>\n",
       "</table>\n",
       "<p>8231 rows × 8231 columns</p>\n",
       "</div>"
      ],
      "text/plain": [
       "          0         1         2         3         4         5         6     \\\n",
       "0     1.564571  0.299065  0.319881  0.024002  0.036958  0.040994  0.052251   \n",
       "1     1.031875  0.723573  0.378894  0.016207  0.019089  0.061948  0.051144   \n",
       "2     1.060859  0.451438  1.257816  0.125677  0.013547  0.048562  0.136932   \n",
       "3     1.378613  0.529865  1.434489  0.406872  0.034040  0.214515  0.223507   \n",
       "4     0.749011  0.163610  0.412082  0.043869  0.182309  0.264293  0.071197   \n",
       "...        ...       ...       ...       ...       ...       ...       ...   \n",
       "8226  0.000000  0.000000  0.000000  0.000000  0.000000  0.000000  0.000000   \n",
       "8227  0.000000  0.000000  0.000000  0.000000  0.000000  0.000000  0.000000   \n",
       "8228  0.000000  0.000000  0.000000  0.000000  0.000000  0.000000  0.000000   \n",
       "8229  0.000000  0.000000  0.000000  0.000000  0.000000  0.000000  0.000000   \n",
       "8230  0.000000  0.000000  0.000000  0.000000  0.000000  0.000000  0.000000   \n",
       "\n",
       "          7         8     9     ...  8221  8222      8223      8224      8225  \\\n",
       "0     0.005098  0.002549   0.0  ...   0.0   0.0  0.000000  0.000000  0.000850   \n",
       "1     0.004322  0.000720   0.0  ...   0.0   0.0  0.000000  0.000000  0.000720   \n",
       "2     0.012505  0.012297   0.0  ...   0.0   0.0  0.000000  0.000000  0.000000   \n",
       "3     0.005138  0.010276   0.0  ...   0.0   0.0  0.000000  0.000000  0.001285   \n",
       "4     0.001438  0.007911   0.0  ...   0.0   0.0  0.000000  0.000000  0.000000   \n",
       "...        ...       ...   ...  ...   ...   ...       ...       ...       ...   \n",
       "8226  0.000000  0.000000   0.0  ...   0.0   0.0  0.000000  0.073226  0.079423   \n",
       "8227  0.000000  0.000000   0.0  ...   0.0   0.0  0.195096  0.000000  0.053305   \n",
       "8228  0.000000  0.000000   0.0  ...   0.0   0.0  0.050678  0.000000  0.015508   \n",
       "8229  0.000000  0.000000   0.0  ...   0.0   0.0  0.251892  0.000606  0.024826   \n",
       "8230  0.000000  0.000000   0.0  ...   0.0   0.0  0.814807  0.004891  0.034015   \n",
       "\n",
       "          8226      8227      8228      8229      8230  \n",
       "0     0.000000  0.000000  0.000000  0.000000  0.000000  \n",
       "1     0.000000  0.000000  0.000000  0.000000  0.000000  \n",
       "2     0.000000  0.000000  0.000000  0.000000  0.000000  \n",
       "3     0.000000  0.000000  0.000000  0.000000  0.000000  \n",
       "4     0.000000  0.000000  0.000000  0.000000  0.000000  \n",
       "...        ...       ...       ...       ...       ...  \n",
       "8226  1.250537  0.000506  0.000506  0.002024  0.001012  \n",
       "8227  0.000000  0.906983  0.646055  0.140192  0.684701  \n",
       "8228  0.001108  0.187206  1.541955  0.217391  0.164220  \n",
       "8229  0.000000  0.081290  0.551317  1.236906  1.110506  \n",
       "8230  0.002223  0.258337  0.625167  1.476212  3.194309  \n",
       "\n",
       "[8231 rows x 8231 columns]"
      ]
     },
     "execution_count": 46,
     "metadata": {},
     "output_type": "execute_result"
    }
   ],
   "source": [
    "raw"
   ]
  },
  {
   "cell_type": "code",
   "execution_count": 39,
   "id": "83a94e39",
   "metadata": {},
   "outputs": [
    {
     "data": {
      "text/html": [
       "<div>\n",
       "<style scoped>\n",
       "    .dataframe tbody tr th:only-of-type {\n",
       "        vertical-align: middle;\n",
       "    }\n",
       "\n",
       "    .dataframe tbody tr th {\n",
       "        vertical-align: top;\n",
       "    }\n",
       "\n",
       "    .dataframe thead th {\n",
       "        text-align: right;\n",
       "    }\n",
       "</style>\n",
       "<table border=\"1\" class=\"dataframe\">\n",
       "  <thead>\n",
       "    <tr style=\"text-align: right;\">\n",
       "      <th></th>\n",
       "      <th>0</th>\n",
       "      <th>1</th>\n",
       "      <th>2</th>\n",
       "      <th>3</th>\n",
       "      <th>4</th>\n",
       "      <th>5</th>\n",
       "      <th>6</th>\n",
       "      <th>7</th>\n",
       "      <th>8</th>\n",
       "      <th>9</th>\n",
       "      <th>...</th>\n",
       "      <th>8221</th>\n",
       "      <th>8222</th>\n",
       "      <th>8223</th>\n",
       "      <th>8224</th>\n",
       "      <th>8225</th>\n",
       "      <th>8226</th>\n",
       "      <th>8227</th>\n",
       "      <th>8228</th>\n",
       "      <th>8229</th>\n",
       "      <th>8230</th>\n",
       "    </tr>\n",
       "  </thead>\n",
       "  <tbody>\n",
       "    <tr>\n",
       "      <th>count</th>\n",
       "      <td>8231.000000</td>\n",
       "      <td>8231.000000</td>\n",
       "      <td>8231.000000</td>\n",
       "      <td>8231.000000</td>\n",
       "      <td>8231.000000</td>\n",
       "      <td>8231.000000</td>\n",
       "      <td>8231.000000</td>\n",
       "      <td>8231.000000</td>\n",
       "      <td>8231.000000</td>\n",
       "      <td>8231.0</td>\n",
       "      <td>...</td>\n",
       "      <td>8231.000000</td>\n",
       "      <td>8231.000000</td>\n",
       "      <td>8231.000000</td>\n",
       "      <td>8231.000000</td>\n",
       "      <td>8231.000000</td>\n",
       "      <td>8231.000000</td>\n",
       "      <td>8231.000000</td>\n",
       "      <td>8231.000000</td>\n",
       "      <td>8231.000000</td>\n",
       "      <td>8231.000000</td>\n",
       "    </tr>\n",
       "    <tr>\n",
       "      <th>mean</th>\n",
       "      <td>0.002470</td>\n",
       "      <td>0.000922</td>\n",
       "      <td>0.001616</td>\n",
       "      <td>0.000199</td>\n",
       "      <td>0.000163</td>\n",
       "      <td>0.000392</td>\n",
       "      <td>0.000331</td>\n",
       "      <td>0.000380</td>\n",
       "      <td>0.000431</td>\n",
       "      <td>0.0</td>\n",
       "      <td>...</td>\n",
       "      <td>0.001005</td>\n",
       "      <td>0.000771</td>\n",
       "      <td>0.000885</td>\n",
       "      <td>0.007317</td>\n",
       "      <td>0.019917</td>\n",
       "      <td>0.000783</td>\n",
       "      <td>0.000997</td>\n",
       "      <td>0.006127</td>\n",
       "      <td>0.002364</td>\n",
       "      <td>0.002607</td>\n",
       "    </tr>\n",
       "    <tr>\n",
       "      <th>std</th>\n",
       "      <td>0.042169</td>\n",
       "      <td>0.015731</td>\n",
       "      <td>0.029335</td>\n",
       "      <td>0.005112</td>\n",
       "      <td>0.002871</td>\n",
       "      <td>0.008561</td>\n",
       "      <td>0.006227</td>\n",
       "      <td>0.006248</td>\n",
       "      <td>0.013510</td>\n",
       "      <td>0.0</td>\n",
       "      <td>...</td>\n",
       "      <td>0.016043</td>\n",
       "      <td>0.012881</td>\n",
       "      <td>0.017666</td>\n",
       "      <td>0.447115</td>\n",
       "      <td>0.349350</td>\n",
       "      <td>0.021428</td>\n",
       "      <td>0.017359</td>\n",
       "      <td>0.267353</td>\n",
       "      <td>0.053956</td>\n",
       "      <td>0.057389</td>\n",
       "    </tr>\n",
       "    <tr>\n",
       "      <th>min</th>\n",
       "      <td>0.000000</td>\n",
       "      <td>0.000000</td>\n",
       "      <td>0.000000</td>\n",
       "      <td>0.000000</td>\n",
       "      <td>0.000000</td>\n",
       "      <td>0.000000</td>\n",
       "      <td>0.000000</td>\n",
       "      <td>0.000000</td>\n",
       "      <td>0.000000</td>\n",
       "      <td>0.0</td>\n",
       "      <td>...</td>\n",
       "      <td>0.000000</td>\n",
       "      <td>0.000000</td>\n",
       "      <td>0.000000</td>\n",
       "      <td>0.000000</td>\n",
       "      <td>0.000000</td>\n",
       "      <td>0.000000</td>\n",
       "      <td>0.000000</td>\n",
       "      <td>0.000000</td>\n",
       "      <td>0.000000</td>\n",
       "      <td>0.000000</td>\n",
       "    </tr>\n",
       "    <tr>\n",
       "      <th>25%</th>\n",
       "      <td>0.000000</td>\n",
       "      <td>0.000000</td>\n",
       "      <td>0.000000</td>\n",
       "      <td>0.000000</td>\n",
       "      <td>0.000000</td>\n",
       "      <td>0.000000</td>\n",
       "      <td>0.000000</td>\n",
       "      <td>0.000000</td>\n",
       "      <td>0.000000</td>\n",
       "      <td>0.0</td>\n",
       "      <td>...</td>\n",
       "      <td>0.000000</td>\n",
       "      <td>0.000000</td>\n",
       "      <td>0.000000</td>\n",
       "      <td>0.000000</td>\n",
       "      <td>0.000000</td>\n",
       "      <td>0.000000</td>\n",
       "      <td>0.000000</td>\n",
       "      <td>0.000000</td>\n",
       "      <td>0.000000</td>\n",
       "      <td>0.000000</td>\n",
       "    </tr>\n",
       "    <tr>\n",
       "      <th>50%</th>\n",
       "      <td>0.000000</td>\n",
       "      <td>0.000000</td>\n",
       "      <td>0.000000</td>\n",
       "      <td>0.000000</td>\n",
       "      <td>0.000000</td>\n",
       "      <td>0.000000</td>\n",
       "      <td>0.000000</td>\n",
       "      <td>0.000000</td>\n",
       "      <td>0.000000</td>\n",
       "      <td>0.0</td>\n",
       "      <td>...</td>\n",
       "      <td>0.000000</td>\n",
       "      <td>0.000000</td>\n",
       "      <td>0.000000</td>\n",
       "      <td>0.000000</td>\n",
       "      <td>0.002520</td>\n",
       "      <td>0.000000</td>\n",
       "      <td>0.000000</td>\n",
       "      <td>0.000000</td>\n",
       "      <td>0.000000</td>\n",
       "      <td>0.000000</td>\n",
       "    </tr>\n",
       "    <tr>\n",
       "      <th>75%</th>\n",
       "      <td>0.000000</td>\n",
       "      <td>0.000000</td>\n",
       "      <td>0.000000</td>\n",
       "      <td>0.000000</td>\n",
       "      <td>0.000000</td>\n",
       "      <td>0.000000</td>\n",
       "      <td>0.000000</td>\n",
       "      <td>0.000000</td>\n",
       "      <td>0.000000</td>\n",
       "      <td>0.0</td>\n",
       "      <td>...</td>\n",
       "      <td>0.000000</td>\n",
       "      <td>0.000000</td>\n",
       "      <td>0.000000</td>\n",
       "      <td>0.000000</td>\n",
       "      <td>0.010676</td>\n",
       "      <td>0.000000</td>\n",
       "      <td>0.000000</td>\n",
       "      <td>0.000000</td>\n",
       "      <td>0.000000</td>\n",
       "      <td>0.000000</td>\n",
       "    </tr>\n",
       "    <tr>\n",
       "      <th>max</th>\n",
       "      <td>1.669614</td>\n",
       "      <td>0.723573</td>\n",
       "      <td>1.434489</td>\n",
       "      <td>0.406872</td>\n",
       "      <td>0.182309</td>\n",
       "      <td>0.460240</td>\n",
       "      <td>0.406322</td>\n",
       "      <td>0.464138</td>\n",
       "      <td>1.002282</td>\n",
       "      <td>0.0</td>\n",
       "      <td>...</td>\n",
       "      <td>0.771352</td>\n",
       "      <td>0.667622</td>\n",
       "      <td>0.983041</td>\n",
       "      <td>40.000000</td>\n",
       "      <td>22.000000</td>\n",
       "      <td>1.259725</td>\n",
       "      <td>0.906983</td>\n",
       "      <td>24.000000</td>\n",
       "      <td>4.000000</td>\n",
       "      <td>3.194309</td>\n",
       "    </tr>\n",
       "  </tbody>\n",
       "</table>\n",
       "<p>8 rows × 8231 columns</p>\n",
       "</div>"
      ],
      "text/plain": [
       "              0            1            2            3            4     \\\n",
       "count  8231.000000  8231.000000  8231.000000  8231.000000  8231.000000   \n",
       "mean      0.002470     0.000922     0.001616     0.000199     0.000163   \n",
       "std       0.042169     0.015731     0.029335     0.005112     0.002871   \n",
       "min       0.000000     0.000000     0.000000     0.000000     0.000000   \n",
       "25%       0.000000     0.000000     0.000000     0.000000     0.000000   \n",
       "50%       0.000000     0.000000     0.000000     0.000000     0.000000   \n",
       "75%       0.000000     0.000000     0.000000     0.000000     0.000000   \n",
       "max       1.669614     0.723573     1.434489     0.406872     0.182309   \n",
       "\n",
       "              5            6            7            8       9     ...  \\\n",
       "count  8231.000000  8231.000000  8231.000000  8231.000000  8231.0  ...   \n",
       "mean      0.000392     0.000331     0.000380     0.000431     0.0  ...   \n",
       "std       0.008561     0.006227     0.006248     0.013510     0.0  ...   \n",
       "min       0.000000     0.000000     0.000000     0.000000     0.0  ...   \n",
       "25%       0.000000     0.000000     0.000000     0.000000     0.0  ...   \n",
       "50%       0.000000     0.000000     0.000000     0.000000     0.0  ...   \n",
       "75%       0.000000     0.000000     0.000000     0.000000     0.0  ...   \n",
       "max       0.460240     0.406322     0.464138     1.002282     0.0  ...   \n",
       "\n",
       "              8221         8222         8223         8224         8225  \\\n",
       "count  8231.000000  8231.000000  8231.000000  8231.000000  8231.000000   \n",
       "mean      0.001005     0.000771     0.000885     0.007317     0.019917   \n",
       "std       0.016043     0.012881     0.017666     0.447115     0.349350   \n",
       "min       0.000000     0.000000     0.000000     0.000000     0.000000   \n",
       "25%       0.000000     0.000000     0.000000     0.000000     0.000000   \n",
       "50%       0.000000     0.000000     0.000000     0.000000     0.002520   \n",
       "75%       0.000000     0.000000     0.000000     0.000000     0.010676   \n",
       "max       0.771352     0.667622     0.983041    40.000000    22.000000   \n",
       "\n",
       "              8226         8227         8228         8229         8230  \n",
       "count  8231.000000  8231.000000  8231.000000  8231.000000  8231.000000  \n",
       "mean      0.000783     0.000997     0.006127     0.002364     0.002607  \n",
       "std       0.021428     0.017359     0.267353     0.053956     0.057389  \n",
       "min       0.000000     0.000000     0.000000     0.000000     0.000000  \n",
       "25%       0.000000     0.000000     0.000000     0.000000     0.000000  \n",
       "50%       0.000000     0.000000     0.000000     0.000000     0.000000  \n",
       "75%       0.000000     0.000000     0.000000     0.000000     0.000000  \n",
       "max       1.259725     0.906983    24.000000     4.000000     3.194309  \n",
       "\n",
       "[8 rows x 8231 columns]"
      ]
     },
     "execution_count": 39,
     "metadata": {},
     "output_type": "execute_result"
    }
   ],
   "source": [
    "raw.describe()"
   ]
  },
  {
   "cell_type": "code",
   "execution_count": 8,
   "id": "85cebc54",
   "metadata": {},
   "outputs": [],
   "source": [
    "vals = pd.Series(raw.values.flatten().tolist())"
   ]
  },
  {
   "cell_type": "code",
   "execution_count": 9,
   "id": "c8dd2681",
   "metadata": {},
   "outputs": [
    {
     "data": {
      "text/plain": [
       "67749361"
      ]
     },
     "execution_count": 9,
     "metadata": {},
     "output_type": "execute_result"
    }
   ],
   "source": [
    "len(vals)"
   ]
  },
  {
   "cell_type": "code",
   "execution_count": 65,
   "id": "ac872f02",
   "metadata": {},
   "outputs": [
    {
     "data": {
      "text/plain": [
       "0.007078242280711394"
      ]
     },
     "execution_count": 65,
     "metadata": {},
     "output_type": "execute_result"
    }
   ],
   "source": [
    "vals.mean()"
   ]
  },
  {
   "cell_type": "code",
   "execution_count": 66,
   "id": "dfddde02",
   "metadata": {},
   "outputs": [
    {
     "data": {
      "text/plain": [
       "0    0.0\n",
       "dtype: float64"
      ]
     },
     "execution_count": 66,
     "metadata": {},
     "output_type": "execute_result"
    }
   ],
   "source": [
    "vals.mode()"
   ]
  },
  {
   "cell_type": "code",
   "execution_count": 67,
   "id": "17995f06",
   "metadata": {},
   "outputs": [
    {
     "data": {
      "text/plain": [
       "0.0"
      ]
     },
     "execution_count": 67,
     "metadata": {},
     "output_type": "execute_result"
    }
   ],
   "source": [
    "vals.median()"
   ]
  },
  {
   "cell_type": "code",
   "execution_count": 68,
   "id": "ab41315c",
   "metadata": {},
   "outputs": [
    {
     "data": {
      "text/plain": [
       "count    6.774936e+07\n",
       "mean     7.078242e-03\n",
       "std      2.064779e+00\n",
       "min      0.000000e+00\n",
       "25%      0.000000e+00\n",
       "50%      0.000000e+00\n",
       "75%      0.000000e+00\n",
       "max      9.611000e+03\n",
       "dtype: float64"
      ]
     },
     "execution_count": 68,
     "metadata": {},
     "output_type": "execute_result"
    }
   ],
   "source": [
    "vals.describe()"
   ]
  },
  {
   "cell_type": "code",
   "execution_count": 14,
   "id": "3fdad367",
   "metadata": {},
   "outputs": [
    {
     "data": {
      "text/plain": [
       "0"
      ]
     },
     "execution_count": 14,
     "metadata": {},
     "output_type": "execute_result"
    }
   ],
   "source": [
    "vals.isna().sum()"
   ]
  },
  {
   "cell_type": "code",
   "execution_count": 16,
   "id": "3a215efb",
   "metadata": {},
   "outputs": [
    {
     "data": {
      "text/plain": [
       "<AxesSubplot: ylabel='Count'>"
      ]
     },
     "execution_count": 16,
     "metadata": {},
     "output_type": "execute_result"
    },
    {
     "data": {
      "image/png": "[encoded data removed]",
      "text/plain": [
       "<Figure size 640x480 with 1 Axes>"
      ]
     },
     "metadata": {},
     "output_type": "display_data"
    }
   ],
   "source": [
    "sns.histplot(vals[vals>0], log_scale=True)"
   ]
  },
  {
   "cell_type": "code",
   "execution_count": 21,
   "id": "2241819e",
   "metadata": {},
   "outputs": [],
   "source": [
    "q99 = vals[vals>0].quantile(0.99)"
   ]
  },
  {
   "cell_type": "code",
   "execution_count": 22,
   "id": "6d6b5a0f",
   "metadata": {},
   "outputs": [
    {
     "data": {
      "text/plain": [
       "0           1.564571\n",
       "130         0.512744\n",
       "695         0.494265\n",
       "8231        1.031875\n",
       "8232        0.723573\n",
       "              ...   \n",
       "67748728    0.407070\n",
       "67749353    0.814807\n",
       "67749358    0.625167\n",
       "67749359    1.476212\n",
       "67749360    3.194309\n",
       "Length: 49391, dtype: float64"
      ]
     },
     "execution_count": 22,
     "metadata": {},
     "output_type": "execute_result"
    }
   ],
   "source": [
    "vals[vals>q99]"
   ]
  },
  {
   "cell_type": "code",
   "execution_count": 51,
   "id": "cc1e1a8c",
   "metadata": {},
   "outputs": [
    {
     "data": {
      "text/plain": [
       "2587.4325547949566"
      ]
     },
     "execution_count": 51,
     "metadata": {},
     "output_type": "execute_result"
    }
   ],
   "source": [
    "1/q99*1000"
   ]
  },
  {
   "cell_type": "code",
   "execution_count": 47,
   "id": "b81f5489",
   "metadata": {},
   "outputs": [
    {
     "data": {
      "text/plain": [
       "0"
      ]
     },
     "execution_count": 47,
     "metadata": {},
     "output_type": "execute_result"
    }
   ],
   "source": [
    "np.isinf(raw).sum().sum()"
   ]
  },
  {
   "cell_type": "code",
   "execution_count": 48,
   "id": "dae0577d",
   "metadata": {},
   "outputs": [
    {
     "data": {
      "text/html": [
       "<div>\n",
       "<style scoped>\n",
       "    .dataframe tbody tr th:only-of-type {\n",
       "        vertical-align: middle;\n",
       "    }\n",
       "\n",
       "    .dataframe tbody tr th {\n",
       "        vertical-align: top;\n",
       "    }\n",
       "\n",
       "    .dataframe thead th {\n",
       "        text-align: right;\n",
       "    }\n",
       "</style>\n",
       "<table border=\"1\" class=\"dataframe\">\n",
       "  <thead>\n",
       "    <tr style=\"text-align: right;\">\n",
       "      <th></th>\n",
       "      <th>0</th>\n",
       "      <th>1</th>\n",
       "      <th>2</th>\n",
       "      <th>3</th>\n",
       "      <th>4</th>\n",
       "      <th>5</th>\n",
       "      <th>6</th>\n",
       "      <th>7</th>\n",
       "      <th>8</th>\n",
       "      <th>9</th>\n",
       "      <th>...</th>\n",
       "      <th>8221</th>\n",
       "      <th>8222</th>\n",
       "      <th>8223</th>\n",
       "      <th>8224</th>\n",
       "      <th>8225</th>\n",
       "      <th>8226</th>\n",
       "      <th>8227</th>\n",
       "      <th>8228</th>\n",
       "      <th>8229</th>\n",
       "      <th>8230</th>\n",
       "    </tr>\n",
       "  </thead>\n",
       "  <tbody>\n",
       "    <tr>\n",
       "      <th>0</th>\n",
       "      <td>639.152865</td>\n",
       "      <td>3343.750000</td>\n",
       "      <td>3126.162019</td>\n",
       "      <td>4.166372e+04</td>\n",
       "      <td>2.705747e+04</td>\n",
       "      <td>2.439378e+04</td>\n",
       "      <td>1.913821e+04</td>\n",
       "      <td>1.961667e+05</td>\n",
       "      <td>3.923333e+05</td>\n",
       "      <td>inf</td>\n",
       "      <td>...</td>\n",
       "      <td>inf</td>\n",
       "      <td>inf</td>\n",
       "      <td>inf</td>\n",
       "      <td>inf</td>\n",
       "      <td>1.177000e+06</td>\n",
       "      <td>inf</td>\n",
       "      <td>inf</td>\n",
       "      <td>inf</td>\n",
       "      <td>inf</td>\n",
       "      <td>inf</td>\n",
       "    </tr>\n",
       "    <tr>\n",
       "      <th>1</th>\n",
       "      <td>969.109948</td>\n",
       "      <td>1382.030861</td>\n",
       "      <td>2639.258555</td>\n",
       "      <td>6.170000e+04</td>\n",
       "      <td>5.238679e+04</td>\n",
       "      <td>1.614244e+04</td>\n",
       "      <td>1.955282e+04</td>\n",
       "      <td>2.313750e+05</td>\n",
       "      <td>1.388250e+06</td>\n",
       "      <td>inf</td>\n",
       "      <td>...</td>\n",
       "      <td>inf</td>\n",
       "      <td>inf</td>\n",
       "      <td>inf</td>\n",
       "      <td>inf</td>\n",
       "      <td>1.388250e+06</td>\n",
       "      <td>inf</td>\n",
       "      <td>inf</td>\n",
       "      <td>inf</td>\n",
       "      <td>inf</td>\n",
       "      <td>inf</td>\n",
       "    </tr>\n",
       "    <tr>\n",
       "      <th>2</th>\n",
       "      <td>942.632613</td>\n",
       "      <td>2215.143121</td>\n",
       "      <td>795.028998</td>\n",
       "      <td>7.956882e+03</td>\n",
       "      <td>7.381538e+04</td>\n",
       "      <td>2.059227e+04</td>\n",
       "      <td>7.302892e+03</td>\n",
       "      <td>7.996667e+04</td>\n",
       "      <td>8.132203e+04</td>\n",
       "      <td>inf</td>\n",
       "      <td>...</td>\n",
       "      <td>inf</td>\n",
       "      <td>inf</td>\n",
       "      <td>inf</td>\n",
       "      <td>inf</td>\n",
       "      <td>inf</td>\n",
       "      <td>inf</td>\n",
       "      <td>inf</td>\n",
       "      <td>inf</td>\n",
       "      <td>inf</td>\n",
       "      <td>inf</td>\n",
       "    </tr>\n",
       "    <tr>\n",
       "      <th>3</th>\n",
       "      <td>725.366876</td>\n",
       "      <td>1887.272727</td>\n",
       "      <td>697.112156</td>\n",
       "      <td>2.457774e+03</td>\n",
       "      <td>2.937736e+04</td>\n",
       "      <td>4.661677e+03</td>\n",
       "      <td>4.474138e+03</td>\n",
       "      <td>1.946250e+05</td>\n",
       "      <td>9.731250e+04</td>\n",
       "      <td>inf</td>\n",
       "      <td>...</td>\n",
       "      <td>inf</td>\n",
       "      <td>inf</td>\n",
       "      <td>inf</td>\n",
       "      <td>inf</td>\n",
       "      <td>7.785000e+05</td>\n",
       "      <td>inf</td>\n",
       "      <td>inf</td>\n",
       "      <td>inf</td>\n",
       "      <td>inf</td>\n",
       "      <td>inf</td>\n",
       "    </tr>\n",
       "    <tr>\n",
       "      <th>4</th>\n",
       "      <td>1335.093615</td>\n",
       "      <td>6112.087912</td>\n",
       "      <td>2426.701571</td>\n",
       "      <td>2.279508e+04</td>\n",
       "      <td>5.485207e+03</td>\n",
       "      <td>3.783673e+03</td>\n",
       "      <td>1.404545e+04</td>\n",
       "      <td>6.952500e+05</td>\n",
       "      <td>1.264091e+05</td>\n",
       "      <td>inf</td>\n",
       "      <td>...</td>\n",
       "      <td>inf</td>\n",
       "      <td>inf</td>\n",
       "      <td>inf</td>\n",
       "      <td>inf</td>\n",
       "      <td>inf</td>\n",
       "      <td>inf</td>\n",
       "      <td>inf</td>\n",
       "      <td>inf</td>\n",
       "      <td>inf</td>\n",
       "      <td>inf</td>\n",
       "    </tr>\n",
       "    <tr>\n",
       "      <th>...</th>\n",
       "      <td>...</td>\n",
       "      <td>...</td>\n",
       "      <td>...</td>\n",
       "      <td>...</td>\n",
       "      <td>...</td>\n",
       "      <td>...</td>\n",
       "      <td>...</td>\n",
       "      <td>...</td>\n",
       "      <td>...</td>\n",
       "      <td>...</td>\n",
       "      <td>...</td>\n",
       "      <td>...</td>\n",
       "      <td>...</td>\n",
       "      <td>...</td>\n",
       "      <td>...</td>\n",
       "      <td>...</td>\n",
       "      <td>...</td>\n",
       "      <td>...</td>\n",
       "      <td>...</td>\n",
       "      <td>...</td>\n",
       "      <td>...</td>\n",
       "    </tr>\n",
       "    <tr>\n",
       "      <th>8226</th>\n",
       "      <td>inf</td>\n",
       "      <td>inf</td>\n",
       "      <td>inf</td>\n",
       "      <td>inf</td>\n",
       "      <td>inf</td>\n",
       "      <td>inf</td>\n",
       "      <td>inf</td>\n",
       "      <td>inf</td>\n",
       "      <td>inf</td>\n",
       "      <td>inf</td>\n",
       "      <td>...</td>\n",
       "      <td>inf</td>\n",
       "      <td>inf</td>\n",
       "      <td>inf</td>\n",
       "      <td>1.365630e+04</td>\n",
       "      <td>1.259076e+04</td>\n",
       "      <td>7.996561e+02</td>\n",
       "      <td>1.976750e+06</td>\n",
       "      <td>1.976750e+06</td>\n",
       "      <td>4.941875e+05</td>\n",
       "      <td>9.883750e+05</td>\n",
       "    </tr>\n",
       "    <tr>\n",
       "      <th>8227</th>\n",
       "      <td>inf</td>\n",
       "      <td>inf</td>\n",
       "      <td>inf</td>\n",
       "      <td>inf</td>\n",
       "      <td>inf</td>\n",
       "      <td>inf</td>\n",
       "      <td>inf</td>\n",
       "      <td>inf</td>\n",
       "      <td>inf</td>\n",
       "      <td>inf</td>\n",
       "      <td>...</td>\n",
       "      <td>inf</td>\n",
       "      <td>inf</td>\n",
       "      <td>5.125683e+03</td>\n",
       "      <td>inf</td>\n",
       "      <td>1.876000e+04</td>\n",
       "      <td>inf</td>\n",
       "      <td>1.102557e+03</td>\n",
       "      <td>1.547855e+03</td>\n",
       "      <td>7.133080e+03</td>\n",
       "      <td>1.460490e+03</td>\n",
       "    </tr>\n",
       "    <tr>\n",
       "      <th>8228</th>\n",
       "      <td>inf</td>\n",
       "      <td>inf</td>\n",
       "      <td>inf</td>\n",
       "      <td>inf</td>\n",
       "      <td>inf</td>\n",
       "      <td>inf</td>\n",
       "      <td>inf</td>\n",
       "      <td>inf</td>\n",
       "      <td>inf</td>\n",
       "      <td>inf</td>\n",
       "      <td>...</td>\n",
       "      <td>inf</td>\n",
       "      <td>inf</td>\n",
       "      <td>1.973224e+04</td>\n",
       "      <td>inf</td>\n",
       "      <td>6.448214e+04</td>\n",
       "      <td>9.027500e+05</td>\n",
       "      <td>5.341716e+03</td>\n",
       "      <td>6.485273e+02</td>\n",
       "      <td>4.600000e+03</td>\n",
       "      <td>6.089376e+03</td>\n",
       "    </tr>\n",
       "    <tr>\n",
       "      <th>8229</th>\n",
       "      <td>inf</td>\n",
       "      <td>inf</td>\n",
       "      <td>inf</td>\n",
       "      <td>inf</td>\n",
       "      <td>inf</td>\n",
       "      <td>inf</td>\n",
       "      <td>inf</td>\n",
       "      <td>inf</td>\n",
       "      <td>inf</td>\n",
       "      <td>inf</td>\n",
       "      <td>...</td>\n",
       "      <td>inf</td>\n",
       "      <td>inf</td>\n",
       "      <td>3.969952e+03</td>\n",
       "      <td>1.651500e+06</td>\n",
       "      <td>4.028049e+04</td>\n",
       "      <td>inf</td>\n",
       "      <td>1.230168e+04</td>\n",
       "      <td>1.813839e+03</td>\n",
       "      <td>8.084690e+02</td>\n",
       "      <td>9.004907e+02</td>\n",
       "    </tr>\n",
       "    <tr>\n",
       "      <th>8230</th>\n",
       "      <td>inf</td>\n",
       "      <td>inf</td>\n",
       "      <td>inf</td>\n",
       "      <td>inf</td>\n",
       "      <td>inf</td>\n",
       "      <td>inf</td>\n",
       "      <td>inf</td>\n",
       "      <td>inf</td>\n",
       "      <td>inf</td>\n",
       "      <td>inf</td>\n",
       "      <td>...</td>\n",
       "      <td>inf</td>\n",
       "      <td>inf</td>\n",
       "      <td>1.227285e+03</td>\n",
       "      <td>2.044545e+05</td>\n",
       "      <td>2.939869e+04</td>\n",
       "      <td>4.498000e+05</td>\n",
       "      <td>3.870912e+03</td>\n",
       "      <td>1.599573e+03</td>\n",
       "      <td>6.774096e+02</td>\n",
       "      <td>3.130568e+02</td>\n",
       "    </tr>\n",
       "  </tbody>\n",
       "</table>\n",
       "<p>8231 rows × 8231 columns</p>\n",
       "</div>"
      ],
      "text/plain": [
       "             0            1            2             3             4     \\\n",
       "0      639.152865  3343.750000  3126.162019  4.166372e+04  2.705747e+04   \n",
       "1      969.109948  1382.030861  2639.258555  6.170000e+04  5.238679e+04   \n",
       "2      942.632613  2215.143121   795.028998  7.956882e+03  7.381538e+04   \n",
       "3      725.366876  1887.272727   697.112156  2.457774e+03  2.937736e+04   \n",
       "4     1335.093615  6112.087912  2426.701571  2.279508e+04  5.485207e+03   \n",
       "...           ...          ...          ...           ...           ...   \n",
       "8226          inf          inf          inf           inf           inf   \n",
       "8227          inf          inf          inf           inf           inf   \n",
       "8228          inf          inf          inf           inf           inf   \n",
       "8229          inf          inf          inf           inf           inf   \n",
       "8230          inf          inf          inf           inf           inf   \n",
       "\n",
       "              5             6             7             8     9     ...  8221  \\\n",
       "0     2.439378e+04  1.913821e+04  1.961667e+05  3.923333e+05   inf  ...   inf   \n",
       "1     1.614244e+04  1.955282e+04  2.313750e+05  1.388250e+06   inf  ...   inf   \n",
       "2     2.059227e+04  7.302892e+03  7.996667e+04  8.132203e+04   inf  ...   inf   \n",
       "3     4.661677e+03  4.474138e+03  1.946250e+05  9.731250e+04   inf  ...   inf   \n",
       "4     3.783673e+03  1.404545e+04  6.952500e+05  1.264091e+05   inf  ...   inf   \n",
       "...            ...           ...           ...           ...   ...  ...   ...   \n",
       "8226           inf           inf           inf           inf   inf  ...   inf   \n",
       "8227           inf           inf           inf           inf   inf  ...   inf   \n",
       "8228           inf           inf           inf           inf   inf  ...   inf   \n",
       "8229           inf           inf           inf           inf   inf  ...   inf   \n",
       "8230           inf           inf           inf           inf   inf  ...   inf   \n",
       "\n",
       "      8222          8223          8224          8225          8226  \\\n",
       "0      inf           inf           inf  1.177000e+06           inf   \n",
       "1      inf           inf           inf  1.388250e+06           inf   \n",
       "2      inf           inf           inf           inf           inf   \n",
       "3      inf           inf           inf  7.785000e+05           inf   \n",
       "4      inf           inf           inf           inf           inf   \n",
       "...    ...           ...           ...           ...           ...   \n",
       "8226   inf           inf  1.365630e+04  1.259076e+04  7.996561e+02   \n",
       "8227   inf  5.125683e+03           inf  1.876000e+04           inf   \n",
       "8228   inf  1.973224e+04           inf  6.448214e+04  9.027500e+05   \n",
       "8229   inf  3.969952e+03  1.651500e+06  4.028049e+04           inf   \n",
       "8230   inf  1.227285e+03  2.044545e+05  2.939869e+04  4.498000e+05   \n",
       "\n",
       "              8227          8228          8229          8230  \n",
       "0              inf           inf           inf           inf  \n",
       "1              inf           inf           inf           inf  \n",
       "2              inf           inf           inf           inf  \n",
       "3              inf           inf           inf           inf  \n",
       "4              inf           inf           inf           inf  \n",
       "...            ...           ...           ...           ...  \n",
       "8226  1.976750e+06  1.976750e+06  4.941875e+05  9.883750e+05  \n",
       "8227  1.102557e+03  1.547855e+03  7.133080e+03  1.460490e+03  \n",
       "8228  5.341716e+03  6.485273e+02  4.600000e+03  6.089376e+03  \n",
       "8229  1.230168e+04  1.813839e+03  8.084690e+02  9.004907e+02  \n",
       "8230  3.870912e+03  1.599573e+03  6.774096e+02  3.130568e+02  \n",
       "\n",
       "[8231 rows x 8231 columns]"
      ]
     },
     "execution_count": 48,
     "metadata": {},
     "output_type": "execute_result"
    }
   ],
   "source": [
    "rec = 1/raw*1000\n",
    "rec"
   ]
  },
  {
   "cell_type": "code",
   "execution_count": null,
   "id": "e9e956dd",
   "metadata": {},
   "outputs": [],
   "source": [
    "raw"
   ]
  },
  {
   "cell_type": "code",
   "execution_count": 42,
   "id": "d312af24",
   "metadata": {},
   "outputs": [],
   "source": [
    "# interpolate 0s with 1 to avoid infinities/nans\n",
    "# raw = raw.replace(0, 1)"
   ]
  },
  {
   "cell_type": "code",
   "execution_count": 50,
   "id": "c126d6c0",
   "metadata": {},
   "outputs": [],
   "source": [
    "raw = raw.replace([np.inf, -np.inf, np.nan], 0) "
   ]
  },
  {
   "cell_type": "code",
   "execution_count": 94,
   "id": "f97b3d4a",
   "metadata": {},
   "outputs": [
    {
     "data": {
      "text/plain": [
       "<AxesSubplot: ylabel='Count'>"
      ]
     },
     "execution_count": 94,
     "metadata": {},
     "output_type": "execute_result"
    },
    {
     "data": {
      "image/png": "[encoded data removed]",
      "text/plain": [
       "<Figure size 640x480 with 1 Axes>"
      ]
     },
     "metadata": {},
     "output_type": "display_data"
    }
   ],
   "source": [
    "sns.histplot(raw[(raw<500) & (raw > 10)], binwidth=10)"
   ]
  },
  {
   "cell_type": "code",
   "execution_count": 84,
   "id": "23b1d9ce",
   "metadata": {},
   "outputs": [],
   "source": [
    "all_values = normalized.flatten()\n",
    "mean_values_per_tract = normalized.mean(axis=1)"
   ]
  },
  {
   "cell_type": "code",
   "execution_count": 49,
   "id": "a7060df0",
   "metadata": {},
   "outputs": [
    {
     "data": {
      "text/plain": [
       "array([1.56457094, 0.29906542, 0.31988105, ..., 0.62516674, 1.47621165,\n",
       "       3.19430858])"
      ]
     },
     "execution_count": 49,
     "metadata": {},
     "output_type": "execute_result"
    }
   ],
   "source": [
    "all_values"
   ]
  },
  {
   "cell_type": "code",
   "execution_count": 55,
   "id": "1815d464",
   "metadata": {},
   "outputs": [
    {
     "data": {
      "text/plain": [
       "<AxesSubplot: ylabel='Count'>"
      ]
     },
     "execution_count": 55,
     "metadata": {},
     "output_type": "execute_result"
    },
    {
     "data": {
      "image/png": "[encoded data removed]",
      "text/plain": [
       "<Figure size 640x480 with 1 Axes>"
      ]
     },
     "metadata": {},
     "output_type": "display_data"
    }
   ],
   "source": [
    "sns.histplot(all_values, binwidth=500)"
   ]
  },
  {
   "cell_type": "code",
   "execution_count": null,
   "id": "c7ddf56e",
   "metadata": {},
   "outputs": [],
   "source": [
    "sns.histplot(mean_values_per_tract, binwidth=500)"
   ]
  },
  {
   "cell_type": "code",
   "execution_count": null,
   "id": "29216823",
   "metadata": {},
   "outputs": [],
   "source": []
  }
 ],
 "metadata": {
  "kernelspec": {
   "display_name": "myenv",
   "language": "python",
   "name": "myenv"
  },
  "language_info": {
   "codemirror_mode": {
    "name": "ipython",
    "version": 3
   },
   "file_extension": ".py",
   "mimetype": "text/x-python",
   "name": "python",
   "nbconvert_exporter": "python",
   "pygments_lexer": "ipython3",
   "version": "3.10.9"
  }
 },
 "nbformat": 4,
 "nbformat_minor": 5
}
