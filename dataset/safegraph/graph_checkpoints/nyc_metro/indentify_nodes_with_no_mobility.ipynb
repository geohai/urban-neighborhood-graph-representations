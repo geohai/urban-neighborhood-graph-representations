{
 "cells": [
  {
   "cell_type": "code",
   "execution_count": 1,
   "id": "21c1acf5",
   "metadata": {},
   "outputs": [],
   "source": [
    "import numpy as np\n",
    "import json\n",
    "import pandas as pd\n",
    "import pickle\n",
    "import matplotlib.pyplot as plt"
   ]
  },
  {
   "cell_type": "code",
   "execution_count": 2,
   "id": "0217a99b",
   "metadata": {},
   "outputs": [],
   "source": [
    "fn = 'checkpoint_norm.pkl'"
   ]
  },
  {
   "cell_type": "code",
   "execution_count": 3,
   "id": "35e6e57d",
   "metadata": {},
   "outputs": [],
   "source": [
    "with open(fn, 'rb') as f:\n",
    "    g = pickle.load(f)"
   ]
  },
  {
   "cell_type": "code",
   "execution_count": 4,
   "id": "11d71971",
   "metadata": {},
   "outputs": [],
   "source": [
    "data = g.edge_mat\n",
    "mapping = g.node_idx_map"
   ]
  },
  {
   "cell_type": "code",
   "execution_count": 82,
   "id": "78119b86",
   "metadata": {},
   "outputs": [],
   "source": [
    "idx = np.where((data != 0).sum(axis=1) == 0)[0]"
   ]
  },
  {
   "cell_type": "code",
   "execution_count": 85,
   "id": "5bd4c55b",
   "metadata": {},
   "outputs": [
    {
     "data": {
      "text/plain": [
       "array([[ True,  True,  True, ..., False, False, False],\n",
       "       [ True,  True,  True, ..., False, False, False],\n",
       "       [ True,  True,  True, ..., False, False, False],\n",
       "       ...,\n",
       "       [False, False, False, ...,  True,  True,  True],\n",
       "       [False, False, False, ...,  True,  True,  True],\n",
       "       [False, False, False, ...,  True,  True,  True]])"
      ]
     },
     "execution_count": 85,
     "metadata": {},
     "output_type": "execute_result"
    }
   ],
   "source": [
    "(data != 0)"
   ]
  },
  {
   "cell_type": "code",
   "execution_count": 83,
   "id": "b7dcf3aa",
   "metadata": {},
   "outputs": [
    {
     "data": {
      "text/plain": [
       "array([   9,   10,   11, ..., 8054, 8055, 8056])"
      ]
     },
     "execution_count": 83,
     "metadata": {},
     "output_type": "execute_result"
    }
   ],
   "source": [
    "idx"
   ]
  },
  {
   "cell_type": "code",
   "execution_count": 92,
   "id": "36e86b4f",
   "metadata": {},
   "outputs": [
    {
     "data": {
      "text/plain": [
       "True"
      ]
     },
     "execution_count": 92,
     "metadata": {},
     "output_type": "execute_result"
    }
   ],
   "source": [
    "(data[9] == 0).all()"
   ]
  },
  {
   "cell_type": "code",
   "execution_count": 93,
   "id": "16ee9076",
   "metadata": {},
   "outputs": [
    {
     "name": "stdout",
     "output_type": "stream",
     "text": [
      "0\n"
     ]
    }
   ],
   "source": [
    "count = 0\n",
    "for i in idx:\n",
    "    if (data[i] ==0).all() == False:\n",
    "#         print('found nonzero elements')\n",
    "        count += 1\n",
    "    \n",
    "print(count)"
   ]
  },
  {
   "cell_type": "code",
   "execution_count": 70,
   "id": "760c77ea",
   "metadata": {},
   "outputs": [
    {
     "data": {
      "text/plain": [
       "array([[0., 0., 0., ..., 0., 0., 0.],\n",
       "       [0., 0., 0., ..., 0., 0., 0.],\n",
       "       [0., 0., 0., ..., 0., 0., 0.],\n",
       "       ...,\n",
       "       [0., 0., 0., ..., 0., 0., 0.],\n",
       "       [0., 0., 0., ..., 0., 0., 0.],\n",
       "       [0., 0., 0., ..., 0., 0., 0.]])"
      ]
     },
     "execution_count": 70,
     "metadata": {},
     "output_type": "execute_result"
    }
   ],
   "source": [
    "test = data[4556:4570]\n",
    "test"
   ]
  },
  {
   "cell_type": "code",
   "execution_count": 71,
   "id": "b07e6168",
   "metadata": {},
   "outputs": [
    {
     "data": {
      "text/plain": [
       "(14, 8231)"
      ]
     },
     "execution_count": 71,
     "metadata": {},
     "output_type": "execute_result"
    }
   ],
   "source": [
    "test.shape"
   ]
  },
  {
   "cell_type": "code",
   "execution_count": 72,
   "id": "922cbebd",
   "metadata": {},
   "outputs": [
    {
     "data": {
      "text/plain": [
       "False"
      ]
     },
     "execution_count": 72,
     "metadata": {},
     "output_type": "execute_result"
    }
   ],
   "source": [
    "np.any(0)"
   ]
  },
  {
   "cell_type": "code",
   "execution_count": 79,
   "id": "f7e0b678",
   "metadata": {},
   "outputs": [
    {
     "data": {
      "text/plain": [
       "array([  2, 282,  57, 247, 618, 560, 365, 241, 459, 474, 424,   3, 461,\n",
       "       211])"
      ]
     },
     "execution_count": 79,
     "metadata": {},
     "output_type": "execute_result"
    }
   ],
   "source": [
    "(test != 0).sum(axis=1)"
   ]
  },
  {
   "cell_type": "code",
   "execution_count": 81,
   "id": "6f3f5174",
   "metadata": {},
   "outputs": [
    {
     "data": {
      "text/plain": [
       "array([], dtype=int64)"
      ]
     },
     "execution_count": 81,
     "metadata": {},
     "output_type": "execute_result"
    }
   ],
   "source": [
    "np.where((test != 0).sum(axis=1) == 0)[0]#.all(axis=0))"
   ]
  },
  {
   "cell_type": "code",
   "execution_count": 69,
   "id": "14c04f0d",
   "metadata": {},
   "outputs": [
    {
     "data": {
      "text/plain": [
       "16.0"
      ]
     },
     "execution_count": 69,
     "metadata": {},
     "output_type": "execute_result"
    }
   ],
   "source": [
    "test[4734]"
   ]
  },
  {
   "cell_type": "code",
   "execution_count": 56,
   "id": "5a64afb0",
   "metadata": {},
   "outputs": [],
   "source": [
    "# find the idx of nodes that have 0 mobility for all row entries\n",
    "idxs = np.where(test.any(axis=1))[0]"
   ]
  },
  {
   "cell_type": "code",
   "execution_count": 57,
   "id": "4a3e38dc",
   "metadata": {},
   "outputs": [
    {
     "data": {
      "text/plain": [
       "array([ 0,  1,  2,  3,  4,  5,  6,  7,  8,  9, 10, 11, 12, 13])"
      ]
     },
     "execution_count": 57,
     "metadata": {},
     "output_type": "execute_result"
    }
   ],
   "source": [
    "idxs"
   ]
  },
  {
   "cell_type": "code",
   "execution_count": 30,
   "id": "a3580431",
   "metadata": {},
   "outputs": [
    {
     "data": {
      "text/plain": [
       "array([0., 0., 0., 0.])"
      ]
     },
     "execution_count": 30,
     "metadata": {},
     "output_type": "execute_result"
    }
   ],
   "source": [
    "test[4]"
   ]
  }
 ],
 "metadata": {
  "kernelspec": {
   "display_name": "myenv",
   "language": "python",
   "name": "myenv"
  },
  "language_info": {
   "codemirror_mode": {
    "name": "ipython",
    "version": 3
   },
   "file_extension": ".py",
   "mimetype": "text/x-python",
   "name": "python",
   "nbconvert_exporter": "python",
   "pygments_lexer": "ipython3",
   "version": "3.10.9"
  }
 },
 "nbformat": 4,
 "nbformat_minor": 5
}
