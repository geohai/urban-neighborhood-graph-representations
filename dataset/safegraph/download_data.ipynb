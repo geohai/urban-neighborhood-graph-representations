{
 "cells": [
  {
   "cell_type": "markdown",
   "metadata": {},
   "source": [
    "Run this notebook to download data from SafeGraph."
   ]
  },
  {
   "cell_type": "code",
   "execution_count": 1,
   "metadata": {},
   "outputs": [],
   "source": [
    "import pandas as pd\n",
    "import sys, os\n",
    "from csv import writer\n",
    "sys.path.append('utils/')\n",
    "import tqdm\n",
    "#from census_tract_locator import *"
   ]
  },
  {
   "cell_type": "code",
   "execution_count": 2,
   "metadata": {},
   "outputs": [],
   "source": [
    "import numpy as np\n",
    "import json\n",
    "import base64\n",
    "import requests\n",
    "from getpass import getpass\n",
    "import geopandas as gpd\n",
    "from shapely.geometry import Polygon"
   ]
  },
  {
   "cell_type": "code",
   "execution_count": 3,
   "metadata": {},
   "outputs": [
    {
     "data": {
      "text/html": [
       "<div>\n",
       "<style scoped>\n",
       "    .dataframe tbody tr th:only-of-type {\n",
       "        vertical-align: middle;\n",
       "    }\n",
       "\n",
       "    .dataframe tbody tr th {\n",
       "        vertical-align: top;\n",
       "    }\n",
       "\n",
       "    .dataframe thead th {\n",
       "        text-align: right;\n",
       "    }\n",
       "</style>\n",
       "<table border=\"1\" class=\"dataframe\">\n",
       "  <thead>\n",
       "    <tr style=\"text-align: right;\">\n",
       "      <th></th>\n",
       "      <th>GEOID</th>\n",
       "      <th>state_abbr</th>\n",
       "      <th>geometry</th>\n",
       "    </tr>\n",
       "  </thead>\n",
       "  <tbody>\n",
       "    <tr>\n",
       "      <th>0</th>\n",
       "      <td>09003514500</td>\n",
       "      <td>CT</td>\n",
       "      <td>POLYGON ((-72.56218 41.78077, -72.56122 41.780...</td>\n",
       "    </tr>\n",
       "    <tr>\n",
       "      <th>1</th>\n",
       "      <td>09003514600</td>\n",
       "      <td>CT</td>\n",
       "      <td>POLYGON ((-72.55995 41.77014, -72.55994 41.770...</td>\n",
       "    </tr>\n",
       "  </tbody>\n",
       "</table>\n",
       "</div>"
      ],
      "text/plain": [
       "         GEOID state_abbr                                           geometry\n",
       "0  09003514500         CT  POLYGON ((-72.56218 41.78077, -72.56122 41.780...\n",
       "1  09003514600         CT  POLYGON ((-72.55995 41.77014, -72.55994 41.770..."
      ]
     },
     "execution_count": 3,
     "metadata": {},
     "output_type": "execute_result"
    }
   ],
   "source": [
    "from helper_funcs import *\n",
    "dirname = 'data/nyc_metro/'\n",
    "createDir(dirname)\n",
    "tract_file_path = '../Tracts/nyc_metro_boundaries/nyc_metro_boundaries.shp'\n",
    "\n",
    "# this is used to filter the mobility rows that we want\n",
    "boundary_data_for_filtering = gpd.read_file(tract_file_path)\n",
    "boundary_data_for_filtering = boundary_data_for_filtering[['GEOID', 'state_abbr', 'geometry']]\n",
    "boundary_data_for_filtering.GEOID = boundary_data_for_filtering.GEOID.astype(str)\n",
    "boundary_data_for_filtering.head(2)"
   ]
  },
  {
   "cell_type": "code",
   "execution_count": 4,
   "metadata": {},
   "outputs": [],
   "source": [
    "def get_tract_num(tract_data, point):\n",
    "    if not tract_data['geometry'].contains(point).any():\n",
    "        return np.nan\n",
    "    tract_info = tract_data.loc[tract_data['geometry'].contains(point), ['GEOID']]\n",
    "    tract_info = tract_info.iat[0, 0]\n",
    "    print('found point inside')\n",
    "\n",
    "    return tract_info\n",
    "\n",
    "def get_geoids_and_filter(df, tract_data=boundary_data_for_filtering):\n",
    "    df['GEOID'] = np.nan\n",
    "    df.loc[df['poi_cbg'].notna(), 'poi_cbg'].apply(lambda x: print(f'CBG length incorrect: {x}') if len(x) != 12 else None)\n",
    "    df.loc[df['poi_cbg'].notna(), 'GEOID'] = df.loc[df['poi_cbg'].notna(), 'poi_cbg'].apply(lambda x: x[0:-1])\n",
    "\n",
    "    # get the tract that the POIs are located within\n",
    "    cp = df.loc[df.GEOID.isna()]\n",
    "    point = gpd.points_from_xy(x=cp['longitude'], y=cp['latitude'])\n",
    "    points = gpd.GeoSeries(point, index=cp.index)\n",
    "\n",
    "    cp['GEOID'] = points.apply(lambda p: get_tract_num(tract_data, p))\n",
    "    df.loc[df.GEOID.isna(), 'GEOID'] = cp['GEOID']\n",
    "    \n",
    "    df.drop(index=df[df.GEOID.isna()].index, inplace=True)\n",
    "    return df"
   ]
  },
  {
   "cell_type": "code",
   "execution_count": 5,
   "metadata": {},
   "outputs": [
    {
     "data": {
      "text/plain": [
       "array(['CT', 'PA', 'NY', 'NJ'], dtype=object)"
      ]
     },
     "execution_count": 5,
     "metadata": {},
     "output_type": "execute_result"
    }
   ],
   "source": [
    "boundary_data_for_filtering.state_abbr.unique()"
   ]
  },
  {
   "cell_type": "code",
   "execution_count": 6,
   "metadata": {},
   "outputs": [],
   "source": [
    "def get_access_token(username, pword):\n",
    "  \n",
    "  credentials = f\"{username}:{pword}\" # Format credentials according to the API's expectations\n",
    "  # print(f\"Credentials: {credentials}\")\n",
    "\n",
    "  # Convert credentials to base64\n",
    "  credentials_bytes = credentials.encode('ascii') \n",
    "  base64_credentials_bytes = base64.b64encode(credentials_bytes)\n",
    "  base64_credentials = base64_credentials_bytes.decode('ascii')\n",
    "  # print(f\"Base64 credentials: {base64_credentials}\")\n",
    "\n",
    "  # Request access token\n",
    "  headers = {\n",
    "      'accept': 'application/json',\n",
    "      'Authorization': f'Basic {base64_credentials}'\n",
    "  }\n",
    "  response = requests.post(\"https://marketplace.deweydata.io/api/auth/tks/get_token\", headers=headers)\n",
    "  response_access_token = response.json()['access_token']\n",
    "  # print(f\"Access token: {response_access_token}\")\n",
    "\n",
    "  return response_access_token\n",
    "\n",
    "\n",
    "# Recursive function that returns the paths to each file available\n",
    "def get_file_paths(token, path=\"\"):\n",
    "  headers = {\n",
    "      'accept': 'application/json',\n",
    "      'Authorization': f'Bearer {token}'\n",
    "  }\n",
    "\n",
    "  response = requests.get(f\"https://marketplace.deweydata.io/api/data/v2/list/{path}\", headers=headers)\n",
    "  response_df = pd.DataFrame(response.json())\n",
    "  if response_df.shape[0] > 0:\n",
    "    files = response_df[response_df['directory']==False]\n",
    "    folders = response_df[response_df['directory']==True]\n",
    "\n",
    "\n",
    "    for name in folders.name.unique():\n",
    "      new_files, new_folders = get_file_paths(token, path=f\"{path}{name}/\")\n",
    "      files = pd.concat([files, new_files], sort=True)\n",
    "      folders = pd.concat([folders, new_folders], sort=True)\n",
    "\n",
    "    return files, folders\n",
    "  return pd.DataFrame(), pd.DataFrame()\n",
    "\n",
    "\n",
    "def read_file(data_url, cols, token, compression='gzip'):\n",
    "  base_url = \"https://marketplace.deweydata.io\"\n",
    "  full_url = f\"{base_url}{data_url}\"\n",
    "\n",
    "  headers = {\n",
    "      'accept': 'application/json',\n",
    "      'Authorization': f'Bearer {token}'\n",
    "  }\n",
    "\n",
    "  df = pd.read_csv(full_url, storage_options=headers, compression='gzip', usecols=cols, dtype={'latitude':  np.float64, 'longitude':  np.float64, 'poi_cbg': str})\n",
    "\n",
    "  return df\n",
    "\n",
    "def process_dataframe(df):\n",
    "    # drop if not in the correct state\n",
    "    df.drop(index=df[~df.region.isin(boundary_data_for_filtering.state_abbr.unique())].index, inplace=True)\n",
    "\n",
    "    # Drop row if there is a parent placekey (I checked and all parent placekeys do match up with a row placekey). Visits are attributed to parent AND children\n",
    "    df.drop(index=df[df.parent_placekey.notna()].index, inplace=True)\n",
    "    \n",
    "    # drop if no visits\n",
    "    df.drop(index=df[df['visitor_home_aggregation'].isna()].index, inplace=True)\n",
    "    \n",
    "    # get data in the tracts that i want\n",
    "    df = get_geoids_and_filter(df)\n",
    "    \n",
    "    df = df.loc[df['GEOID'].isin(boundary_data_for_filtering.GEOID.unique())]\n",
    "    return df\n",
    "\n",
    "def request_files_and_save_to_drive(files_df, cols, token, month_counter, dir_path):\n",
    "  for i, file_name in tqdm.tqdm(enumerate(files_df.url.unique())):\n",
    "    tmp_df = read_file(file_name, cols, token)\n",
    "    print(f'\\nRead file {i}.')\n",
    "\n",
    "    tmp_df = process_dataframe(tmp_df,)\n",
    "\n",
    "    ah = os.path.exists(f'{dir_path}{month_counter}.csv')\n",
    "\n",
    "    tmp_df.to_csv(f\"{dir_path}{month_counter}.csv\", mode='a', index=False, header=not os.path.exists(f'{dir_path}{month_counter}.csv'))\n",
    "\n",
    "    \n",
    "    print(f'Saved {tmp_df.shape[0]} rows.')\n",
    "  \n",
    "  print(f\"--------done: month {month_counter}--------\")\n",
    "  return True"
   ]
  },
  {
   "cell_type": "code",
   "execution_count": 7,
   "metadata": {},
   "outputs": [
    {
     "name": "stdout",
     "output_type": "stream",
     "text": [
      "Enter your Dewey Marketplace username (email): ········\n",
      "Enter your Dewey Marketplace password: ········\n"
     ]
    }
   ],
   "source": [
    "un = getpass('Enter your Dewey Marketplace username (email): ')\n",
    "pw = getpass('Enter your Dewey Marketplace password: ')"
   ]
  },
  {
   "cell_type": "code",
   "execution_count": 8,
   "metadata": {},
   "outputs": [
    {
     "name": "stdout",
     "output_type": "stream",
     "text": [
      "done\n",
      "Access token: EV0eNuWPa9sxX453aExyxfl3Hhs\n"
     ]
    }
   ],
   "source": [
    "access_token = get_access_token(un, pw)\n",
    "print(\"done\")\n",
    "print(f\"Access token: {access_token}\")\n",
    "\n",
    "rsp = get_file_paths(access_token)[0]"
   ]
  },
  {
   "cell_type": "code",
   "execution_count": 9,
   "metadata": {},
   "outputs": [],
   "source": [
    "# for i, file_name in tqdm.tqdm(enumerate(spend_sample.url.unique())):\n",
    "#     print(file_name)"
   ]
  },
  {
   "cell_type": "code",
   "execution_count": 10,
   "metadata": {},
   "outputs": [
    {
     "name": "stderr",
     "output_type": "stream",
     "text": [
      "\r",
      "0it [00:00, ?it/s]"
     ]
    },
    {
     "name": "stdout",
     "output_type": "stream",
     "text": [
      "\n",
      "Read file 0.\n"
     ]
    },
    {
     "name": "stderr",
     "output_type": "stream",
     "text": [
      "/Users/julialromero/miniconda3/envs/myenv/lib/python3.9/site-packages/geopandas/geoseries.py:207: FutureWarning: The default dtype for empty Series will be 'object' instead of 'float64' in a future version. Specify a dtype explicitly to silence this warning.\n",
      "  s = pd.Series(data, index=index, name=name, **kwargs)\n",
      "\r",
      "1it [00:17, 17.07s/it]"
     ]
    },
    {
     "name": "stdout",
     "output_type": "stream",
     "text": [
      "Saved 11359 rows.\n",
      "\n",
      "Read file 1.\n"
     ]
    },
    {
     "name": "stderr",
     "output_type": "stream",
     "text": [
      "/Users/julialromero/miniconda3/envs/myenv/lib/python3.9/site-packages/geopandas/geoseries.py:207: FutureWarning: The default dtype for empty Series will be 'object' instead of 'float64' in a future version. Specify a dtype explicitly to silence this warning.\n",
      "  s = pd.Series(data, index=index, name=name, **kwargs)\n",
      "\r",
      "2it [00:33, 16.84s/it]"
     ]
    },
    {
     "name": "stdout",
     "output_type": "stream",
     "text": [
      "Saved 11297 rows.\n",
      "\n",
      "Read file 2.\n"
     ]
    },
    {
     "name": "stderr",
     "output_type": "stream",
     "text": [
      "/Users/julialromero/miniconda3/envs/myenv/lib/python3.9/site-packages/geopandas/geoseries.py:207: FutureWarning: The default dtype for empty Series will be 'object' instead of 'float64' in a future version. Specify a dtype explicitly to silence this warning.\n",
      "  s = pd.Series(data, index=index, name=name, **kwargs)\n",
      "\r",
      "3it [00:48, 15.78s/it]"
     ]
    },
    {
     "name": "stdout",
     "output_type": "stream",
     "text": [
      "Saved 11443 rows.\n",
      "\n",
      "Read file 3.\n"
     ]
    },
    {
     "name": "stderr",
     "output_type": "stream",
     "text": [
      "/Users/julialromero/miniconda3/envs/myenv/lib/python3.9/site-packages/geopandas/geoseries.py:207: FutureWarning: The default dtype for empty Series will be 'object' instead of 'float64' in a future version. Specify a dtype explicitly to silence this warning.\n",
      "  s = pd.Series(data, index=index, name=name, **kwargs)\n",
      "\r",
      "4it [01:25, 24.18s/it]"
     ]
    },
    {
     "name": "stdout",
     "output_type": "stream",
     "text": [
      "Saved 11290 rows.\n",
      "\n",
      "Read file 4.\n"
     ]
    },
    {
     "name": "stderr",
     "output_type": "stream",
     "text": [
      "/Users/julialromero/miniconda3/envs/myenv/lib/python3.9/site-packages/geopandas/geoseries.py:207: FutureWarning: The default dtype for empty Series will be 'object' instead of 'float64' in a future version. Specify a dtype explicitly to silence this warning.\n",
      "  s = pd.Series(data, index=index, name=name, **kwargs)\n",
      "\r",
      "5it [01:41, 21.36s/it]"
     ]
    },
    {
     "name": "stdout",
     "output_type": "stream",
     "text": [
      "Saved 11472 rows.\n",
      "\n",
      "Read file 5.\n"
     ]
    },
    {
     "name": "stderr",
     "output_type": "stream",
     "text": [
      "/Users/julialromero/miniconda3/envs/myenv/lib/python3.9/site-packages/geopandas/geoseries.py:207: FutureWarning: The default dtype for empty Series will be 'object' instead of 'float64' in a future version. Specify a dtype explicitly to silence this warning.\n",
      "  s = pd.Series(data, index=index, name=name, **kwargs)\n",
      "\r",
      "6it [01:58, 19.95s/it]"
     ]
    },
    {
     "name": "stdout",
     "output_type": "stream",
     "text": [
      "Saved 11444 rows.\n",
      "\n",
      "Read file 6.\n"
     ]
    },
    {
     "name": "stderr",
     "output_type": "stream",
     "text": [
      "/Users/julialromero/miniconda3/envs/myenv/lib/python3.9/site-packages/geopandas/geoseries.py:207: FutureWarning: The default dtype for empty Series will be 'object' instead of 'float64' in a future version. Specify a dtype explicitly to silence this warning.\n",
      "  s = pd.Series(data, index=index, name=name, **kwargs)\n",
      "\r",
      "7it [02:16, 19.09s/it]"
     ]
    },
    {
     "name": "stdout",
     "output_type": "stream",
     "text": [
      "Saved 11736 rows.\n",
      "\n",
      "Read file 7.\n"
     ]
    },
    {
     "name": "stderr",
     "output_type": "stream",
     "text": [
      "/Users/julialromero/miniconda3/envs/myenv/lib/python3.9/site-packages/geopandas/geoseries.py:207: FutureWarning: The default dtype for empty Series will be 'object' instead of 'float64' in a future version. Specify a dtype explicitly to silence this warning.\n",
      "  s = pd.Series(data, index=index, name=name, **kwargs)\n",
      "\r",
      "8it [02:34, 18.73s/it]"
     ]
    },
    {
     "name": "stdout",
     "output_type": "stream",
     "text": [
      "Saved 11595 rows.\n",
      "\n",
      "Read file 8.\n"
     ]
    },
    {
     "name": "stderr",
     "output_type": "stream",
     "text": [
      "/Users/julialromero/miniconda3/envs/myenv/lib/python3.9/site-packages/geopandas/geoseries.py:207: FutureWarning: The default dtype for empty Series will be 'object' instead of 'float64' in a future version. Specify a dtype explicitly to silence this warning.\n",
      "  s = pd.Series(data, index=index, name=name, **kwargs)\n",
      "\r",
      "9it [03:03, 21.92s/it]"
     ]
    },
    {
     "name": "stdout",
     "output_type": "stream",
     "text": [
      "CBG length incorrect: CA:59150078\n",
      "Saved 15726 rows.\n",
      "\n",
      "Read file 9.\n"
     ]
    },
    {
     "name": "stderr",
     "output_type": "stream",
     "text": [
      "/Users/julialromero/miniconda3/envs/myenv/lib/python3.9/site-packages/geopandas/geoseries.py:207: FutureWarning: The default dtype for empty Series will be 'object' instead of 'float64' in a future version. Specify a dtype explicitly to silence this warning.\n",
      "  s = pd.Series(data, index=index, name=name, **kwargs)\n",
      "\r",
      "10it [03:23, 21.60s/it]"
     ]
    },
    {
     "name": "stdout",
     "output_type": "stream",
     "text": [
      "Saved 11599 rows.\n",
      "\n",
      "Read file 10.\n"
     ]
    },
    {
     "name": "stderr",
     "output_type": "stream",
     "text": [
      "/Users/julialromero/miniconda3/envs/myenv/lib/python3.9/site-packages/geopandas/geoseries.py:207: FutureWarning: The default dtype for empty Series will be 'object' instead of 'float64' in a future version. Specify a dtype explicitly to silence this warning.\n",
      "  s = pd.Series(data, index=index, name=name, **kwargs)\n",
      "\r",
      "11it [03:44, 21.28s/it]"
     ]
    },
    {
     "name": "stdout",
     "output_type": "stream",
     "text": [
      "Saved 11546 rows.\n",
      "\n",
      "Read file 11.\n"
     ]
    },
    {
     "name": "stderr",
     "output_type": "stream",
     "text": [
      "/Users/julialromero/miniconda3/envs/myenv/lib/python3.9/site-packages/geopandas/geoseries.py:207: FutureWarning: The default dtype for empty Series will be 'object' instead of 'float64' in a future version. Specify a dtype explicitly to silence this warning.\n",
      "  s = pd.Series(data, index=index, name=name, **kwargs)\n",
      "\r",
      "12it [04:21, 26.18s/it]"
     ]
    },
    {
     "name": "stdout",
     "output_type": "stream",
     "text": [
      "Saved 11126 rows.\n",
      "\n",
      "Read file 12.\n"
     ]
    },
    {
     "name": "stderr",
     "output_type": "stream",
     "text": [
      "/Users/julialromero/miniconda3/envs/myenv/lib/python3.9/site-packages/geopandas/geoseries.py:207: FutureWarning: The default dtype for empty Series will be 'object' instead of 'float64' in a future version. Specify a dtype explicitly to silence this warning.\n",
      "  s = pd.Series(data, index=index, name=name, **kwargs)\n",
      "\r",
      "13it [04:41, 24.22s/it]"
     ]
    },
    {
     "name": "stdout",
     "output_type": "stream",
     "text": [
      "Saved 11620 rows.\n",
      "\n",
      "Read file 13.\n"
     ]
    },
    {
     "name": "stderr",
     "output_type": "stream",
     "text": [
      "/Users/julialromero/miniconda3/envs/myenv/lib/python3.9/site-packages/geopandas/geoseries.py:207: FutureWarning: The default dtype for empty Series will be 'object' instead of 'float64' in a future version. Specify a dtype explicitly to silence this warning.\n",
      "  s = pd.Series(data, index=index, name=name, **kwargs)\n",
      "\r",
      "14it [05:01, 22.76s/it]"
     ]
    },
    {
     "name": "stdout",
     "output_type": "stream",
     "text": [
      "Saved 11324 rows.\n",
      "\n",
      "Read file 14.\n"
     ]
    },
    {
     "name": "stderr",
     "output_type": "stream",
     "text": [
      "/Users/julialromero/miniconda3/envs/myenv/lib/python3.9/site-packages/geopandas/geoseries.py:207: FutureWarning: The default dtype for empty Series will be 'object' instead of 'float64' in a future version. Specify a dtype explicitly to silence this warning.\n",
      "  s = pd.Series(data, index=index, name=name, **kwargs)\n",
      "15it [05:20, 21.85s/it]"
     ]
    },
    {
     "name": "stdout",
     "output_type": "stream",
     "text": [
      "Saved 11362 rows.\n",
      "\n",
      "Read file 15.\n"
     ]
    },
    {
     "name": "stderr",
     "output_type": "stream",
     "text": [
      "/Users/julialromero/miniconda3/envs/myenv/lib/python3.9/site-packages/geopandas/geoseries.py:207: FutureWarning: The default dtype for empty Series will be 'object' instead of 'float64' in a future version. Specify a dtype explicitly to silence this warning.\n",
      "  s = pd.Series(data, index=index, name=name, **kwargs)\n",
      "\r",
      "16it [05:41, 21.37s/it]"
     ]
    },
    {
     "name": "stdout",
     "output_type": "stream",
     "text": [
      "Saved 11551 rows.\n",
      "\n",
      "Read file 16.\n"
     ]
    },
    {
     "name": "stderr",
     "output_type": "stream",
     "text": [
      "/Users/julialromero/miniconda3/envs/myenv/lib/python3.9/site-packages/geopandas/geoseries.py:207: FutureWarning: The default dtype for empty Series will be 'object' instead of 'float64' in a future version. Specify a dtype explicitly to silence this warning.\n",
      "  s = pd.Series(data, index=index, name=name, **kwargs)\n",
      "\r",
      "17it [06:04, 22.05s/it]"
     ]
    },
    {
     "name": "stdout",
     "output_type": "stream",
     "text": [
      "Saved 11656 rows.\n",
      "\n",
      "Read file 17.\n"
     ]
    },
    {
     "name": "stderr",
     "output_type": "stream",
     "text": [
      "/Users/julialromero/miniconda3/envs/myenv/lib/python3.9/site-packages/geopandas/geoseries.py:207: FutureWarning: The default dtype for empty Series will be 'object' instead of 'float64' in a future version. Specify a dtype explicitly to silence this warning.\n",
      "  s = pd.Series(data, index=index, name=name, **kwargs)\n",
      "\r",
      "18it [06:22, 20.90s/it]"
     ]
    },
    {
     "name": "stdout",
     "output_type": "stream",
     "text": [
      "Saved 11449 rows.\n",
      "\n",
      "Read file 18.\n"
     ]
    },
    {
     "name": "stderr",
     "output_type": "stream",
     "text": [
      "/Users/julialromero/miniconda3/envs/myenv/lib/python3.9/site-packages/geopandas/geoseries.py:207: FutureWarning: The default dtype for empty Series will be 'object' instead of 'float64' in a future version. Specify a dtype explicitly to silence this warning.\n",
      "  s = pd.Series(data, index=index, name=name, **kwargs)\n",
      "\r",
      "19it [06:40, 19.88s/it]"
     ]
    },
    {
     "name": "stdout",
     "output_type": "stream",
     "text": [
      "Saved 11452 rows.\n",
      "\n",
      "Read file 19.\n"
     ]
    },
    {
     "name": "stderr",
     "output_type": "stream",
     "text": [
      "/Users/julialromero/miniconda3/envs/myenv/lib/python3.9/site-packages/geopandas/geoseries.py:207: FutureWarning: The default dtype for empty Series will be 'object' instead of 'float64' in a future version. Specify a dtype explicitly to silence this warning.\n",
      "  s = pd.Series(data, index=index, name=name, **kwargs)\n",
      "\r",
      "20it [06:58, 19.39s/it]"
     ]
    },
    {
     "name": "stdout",
     "output_type": "stream",
     "text": [
      "Saved 11270 rows.\n",
      "\n",
      "Read file 20.\n"
     ]
    },
    {
     "name": "stderr",
     "output_type": "stream",
     "text": [
      "/Users/julialromero/miniconda3/envs/myenv/lib/python3.9/site-packages/geopandas/geoseries.py:207: FutureWarning: The default dtype for empty Series will be 'object' instead of 'float64' in a future version. Specify a dtype explicitly to silence this warning.\n",
      "  s = pd.Series(data, index=index, name=name, **kwargs)\n",
      "\r",
      "21it [07:23, 21.01s/it]"
     ]
    },
    {
     "name": "stdout",
     "output_type": "stream",
     "text": [
      "Saved 11310 rows.\n",
      "\n",
      "Read file 21.\n"
     ]
    },
    {
     "name": "stderr",
     "output_type": "stream",
     "text": [
      "/Users/julialromero/miniconda3/envs/myenv/lib/python3.9/site-packages/geopandas/geoseries.py:207: FutureWarning: The default dtype for empty Series will be 'object' instead of 'float64' in a future version. Specify a dtype explicitly to silence this warning.\n",
      "  s = pd.Series(data, index=index, name=name, **kwargs)\n",
      "\r",
      "22it [07:43, 20.69s/it]"
     ]
    },
    {
     "name": "stdout",
     "output_type": "stream",
     "text": [
      "Saved 11425 rows.\n",
      "\n",
      "Read file 22.\n"
     ]
    },
    {
     "name": "stderr",
     "output_type": "stream",
     "text": [
      "/Users/julialromero/miniconda3/envs/myenv/lib/python3.9/site-packages/geopandas/geoseries.py:207: FutureWarning: The default dtype for empty Series will be 'object' instead of 'float64' in a future version. Specify a dtype explicitly to silence this warning.\n",
      "  s = pd.Series(data, index=index, name=name, **kwargs)\n",
      "\r",
      "23it [08:02, 20.23s/it]"
     ]
    },
    {
     "name": "stdout",
     "output_type": "stream",
     "text": [
      "Saved 11486 rows.\n",
      "\n",
      "Read file 23.\n"
     ]
    },
    {
     "name": "stderr",
     "output_type": "stream",
     "text": [
      "/Users/julialromero/miniconda3/envs/myenv/lib/python3.9/site-packages/geopandas/geoseries.py:207: FutureWarning: The default dtype for empty Series will be 'object' instead of 'float64' in a future version. Specify a dtype explicitly to silence this warning.\n",
      "  s = pd.Series(data, index=index, name=name, **kwargs)\n",
      "\r",
      "24it [08:23, 20.35s/it]"
     ]
    },
    {
     "name": "stdout",
     "output_type": "stream",
     "text": [
      "Saved 11372 rows.\n",
      "\n",
      "Read file 24.\n"
     ]
    },
    {
     "name": "stderr",
     "output_type": "stream",
     "text": [
      "/Users/julialromero/miniconda3/envs/myenv/lib/python3.9/site-packages/geopandas/geoseries.py:207: FutureWarning: The default dtype for empty Series will be 'object' instead of 'float64' in a future version. Specify a dtype explicitly to silence this warning.\n",
      "  s = pd.Series(data, index=index, name=name, **kwargs)\n",
      "25it [08:43, 20.42s/it]"
     ]
    },
    {
     "name": "stdout",
     "output_type": "stream",
     "text": [
      "Saved 11253 rows.\n",
      "\n",
      "Read file 25.\n"
     ]
    },
    {
     "name": "stderr",
     "output_type": "stream",
     "text": [
      "/Users/julialromero/miniconda3/envs/myenv/lib/python3.9/site-packages/geopandas/geoseries.py:207: FutureWarning: The default dtype for empty Series will be 'object' instead of 'float64' in a future version. Specify a dtype explicitly to silence this warning.\n",
      "  s = pd.Series(data, index=index, name=name, **kwargs)\n",
      "\r",
      "26it [09:04, 20.64s/it]"
     ]
    },
    {
     "name": "stdout",
     "output_type": "stream",
     "text": [
      "Saved 11247 rows.\n",
      "\n",
      "Read file 26.\n"
     ]
    },
    {
     "name": "stderr",
     "output_type": "stream",
     "text": [
      "/Users/julialromero/miniconda3/envs/myenv/lib/python3.9/site-packages/geopandas/geoseries.py:207: FutureWarning: The default dtype for empty Series will be 'object' instead of 'float64' in a future version. Specify a dtype explicitly to silence this warning.\n",
      "  s = pd.Series(data, index=index, name=name, **kwargs)\n",
      "\r",
      "27it [09:24, 20.21s/it]"
     ]
    },
    {
     "name": "stdout",
     "output_type": "stream",
     "text": [
      "Saved 11371 rows.\n",
      "\n",
      "Read file 27.\n"
     ]
    },
    {
     "name": "stderr",
     "output_type": "stream",
     "text": [
      "/Users/julialromero/miniconda3/envs/myenv/lib/python3.9/site-packages/geopandas/geoseries.py:207: FutureWarning: The default dtype for empty Series will be 'object' instead of 'float64' in a future version. Specify a dtype explicitly to silence this warning.\n",
      "  s = pd.Series(data, index=index, name=name, **kwargs)\n",
      "\r",
      "28it [09:42, 19.63s/it]"
     ]
    },
    {
     "name": "stdout",
     "output_type": "stream",
     "text": [
      "Saved 11180 rows.\n",
      "\n",
      "Read file 28.\n"
     ]
    },
    {
     "name": "stderr",
     "output_type": "stream",
     "text": [
      "/Users/julialromero/miniconda3/envs/myenv/lib/python3.9/site-packages/geopandas/geoseries.py:207: FutureWarning: The default dtype for empty Series will be 'object' instead of 'float64' in a future version. Specify a dtype explicitly to silence this warning.\n",
      "  s = pd.Series(data, index=index, name=name, **kwargs)\n",
      "\r",
      "29it [10:00, 19.25s/it]"
     ]
    },
    {
     "name": "stdout",
     "output_type": "stream",
     "text": [
      "Saved 11469 rows.\n",
      "\n",
      "Read file 29.\n"
     ]
    },
    {
     "name": "stderr",
     "output_type": "stream",
     "text": [
      "/Users/julialromero/miniconda3/envs/myenv/lib/python3.9/site-packages/geopandas/geoseries.py:207: FutureWarning: The default dtype for empty Series will be 'object' instead of 'float64' in a future version. Specify a dtype explicitly to silence this warning.\n",
      "  s = pd.Series(data, index=index, name=name, **kwargs)\n",
      "\r",
      "30it [10:18, 18.89s/it]"
     ]
    },
    {
     "name": "stdout",
     "output_type": "stream",
     "text": [
      "Saved 11353 rows.\n",
      "\n",
      "Read file 30.\n"
     ]
    },
    {
     "name": "stderr",
     "output_type": "stream",
     "text": [
      "/Users/julialromero/miniconda3/envs/myenv/lib/python3.9/site-packages/geopandas/geoseries.py:207: FutureWarning: The default dtype for empty Series will be 'object' instead of 'float64' in a future version. Specify a dtype explicitly to silence this warning.\n",
      "  s = pd.Series(data, index=index, name=name, **kwargs)\n",
      "\r",
      "31it [10:36, 18.48s/it]"
     ]
    },
    {
     "name": "stdout",
     "output_type": "stream",
     "text": [
      "Saved 11734 rows.\n",
      "\n",
      "Read file 31.\n"
     ]
    },
    {
     "name": "stderr",
     "output_type": "stream",
     "text": [
      "/Users/julialromero/miniconda3/envs/myenv/lib/python3.9/site-packages/geopandas/geoseries.py:207: FutureWarning: The default dtype for empty Series will be 'object' instead of 'float64' in a future version. Specify a dtype explicitly to silence this warning.\n",
      "  s = pd.Series(data, index=index, name=name, **kwargs)\n",
      "\r",
      "32it [11:00, 20.20s/it]"
     ]
    },
    {
     "name": "stdout",
     "output_type": "stream",
     "text": [
      "Saved 11493 rows.\n",
      "\n",
      "Read file 32.\n",
      "CBG length incorrect: CA:59150078\n"
     ]
    },
    {
     "name": "stderr",
     "output_type": "stream",
     "text": [
      "/Users/julialromero/miniconda3/envs/myenv/lib/python3.9/site-packages/geopandas/geoseries.py:207: FutureWarning: The default dtype for empty Series will be 'object' instead of 'float64' in a future version. Specify a dtype explicitly to silence this warning.\n",
      "  s = pd.Series(data, index=index, name=name, **kwargs)\n",
      "\r",
      "33it [11:27, 22.13s/it]"
     ]
    },
    {
     "name": "stdout",
     "output_type": "stream",
     "text": [
      "Saved 15640 rows.\n",
      "\n",
      "Read file 33.\n"
     ]
    },
    {
     "name": "stderr",
     "output_type": "stream",
     "text": [
      "/Users/julialromero/miniconda3/envs/myenv/lib/python3.9/site-packages/geopandas/geoseries.py:207: FutureWarning: The default dtype for empty Series will be 'object' instead of 'float64' in a future version. Specify a dtype explicitly to silence this warning.\n",
      "  s = pd.Series(data, index=index, name=name, **kwargs)\n",
      "\r",
      "34it [11:58, 25.00s/it]"
     ]
    },
    {
     "name": "stdout",
     "output_type": "stream",
     "text": [
      "Saved 11469 rows.\n",
      "\n",
      "Read file 34.\n"
     ]
    },
    {
     "name": "stderr",
     "output_type": "stream",
     "text": [
      "/Users/julialromero/miniconda3/envs/myenv/lib/python3.9/site-packages/geopandas/geoseries.py:207: FutureWarning: The default dtype for empty Series will be 'object' instead of 'float64' in a future version. Specify a dtype explicitly to silence this warning.\n",
      "  s = pd.Series(data, index=index, name=name, **kwargs)\n",
      "\r",
      "35it [12:16, 22.95s/it]"
     ]
    },
    {
     "name": "stdout",
     "output_type": "stream",
     "text": [
      "Saved 11415 rows.\n",
      "\n",
      "Read file 35.\n"
     ]
    },
    {
     "name": "stderr",
     "output_type": "stream",
     "text": [
      "/Users/julialromero/miniconda3/envs/myenv/lib/python3.9/site-packages/geopandas/geoseries.py:207: FutureWarning: The default dtype for empty Series will be 'object' instead of 'float64' in a future version. Specify a dtype explicitly to silence this warning.\n",
      "  s = pd.Series(data, index=index, name=name, **kwargs)\n",
      "\r",
      "36it [12:47, 25.25s/it]"
     ]
    },
    {
     "name": "stdout",
     "output_type": "stream",
     "text": [
      "Saved 11061 rows.\n",
      "\n",
      "Read file 36.\n"
     ]
    },
    {
     "name": "stderr",
     "output_type": "stream",
     "text": [
      "/Users/julialromero/miniconda3/envs/myenv/lib/python3.9/site-packages/geopandas/geoseries.py:207: FutureWarning: The default dtype for empty Series will be 'object' instead of 'float64' in a future version. Specify a dtype explicitly to silence this warning.\n",
      "  s = pd.Series(data, index=index, name=name, **kwargs)\n",
      "\r",
      "37it [13:11, 24.70s/it]"
     ]
    },
    {
     "name": "stdout",
     "output_type": "stream",
     "text": [
      "Saved 11501 rows.\n",
      "\n",
      "Read file 37.\n"
     ]
    },
    {
     "name": "stderr",
     "output_type": "stream",
     "text": [
      "/Users/julialromero/miniconda3/envs/myenv/lib/python3.9/site-packages/geopandas/geoseries.py:207: FutureWarning: The default dtype for empty Series will be 'object' instead of 'float64' in a future version. Specify a dtype explicitly to silence this warning.\n",
      "  s = pd.Series(data, index=index, name=name, **kwargs)\n",
      "\r",
      "38it [13:40, 26.20s/it]"
     ]
    },
    {
     "name": "stdout",
     "output_type": "stream",
     "text": [
      "Saved 11178 rows.\n",
      "\n",
      "Read file 38.\n"
     ]
    },
    {
     "name": "stderr",
     "output_type": "stream",
     "text": [
      "/Users/julialromero/miniconda3/envs/myenv/lib/python3.9/site-packages/geopandas/geoseries.py:207: FutureWarning: The default dtype for empty Series will be 'object' instead of 'float64' in a future version. Specify a dtype explicitly to silence this warning.\n",
      "  s = pd.Series(data, index=index, name=name, **kwargs)\n",
      "\r",
      "39it [14:10, 27.32s/it]"
     ]
    },
    {
     "name": "stdout",
     "output_type": "stream",
     "text": [
      "Saved 11288 rows.\n",
      "\n",
      "Read file 39.\n"
     ]
    },
    {
     "name": "stderr",
     "output_type": "stream",
     "text": [
      "/Users/julialromero/miniconda3/envs/myenv/lib/python3.9/site-packages/geopandas/geoseries.py:207: FutureWarning: The default dtype for empty Series will be 'object' instead of 'float64' in a future version. Specify a dtype explicitly to silence this warning.\n",
      "  s = pd.Series(data, index=index, name=name, **kwargs)\n",
      "\r",
      "40it [14:27, 24.11s/it]"
     ]
    },
    {
     "name": "stdout",
     "output_type": "stream",
     "text": [
      "Saved 11486 rows.\n",
      "\n",
      "Read file 40.\n"
     ]
    },
    {
     "name": "stderr",
     "output_type": "stream",
     "text": [
      "/Users/julialromero/miniconda3/envs/myenv/lib/python3.9/site-packages/geopandas/geoseries.py:207: FutureWarning: The default dtype for empty Series will be 'object' instead of 'float64' in a future version. Specify a dtype explicitly to silence this warning.\n",
      "  s = pd.Series(data, index=index, name=name, **kwargs)\n",
      "\r",
      "41it [14:44, 22.14s/it]"
     ]
    },
    {
     "name": "stdout",
     "output_type": "stream",
     "text": [
      "Saved 11557 rows.\n",
      "\n",
      "Read file 41.\n"
     ]
    },
    {
     "name": "stderr",
     "output_type": "stream",
     "text": [
      "/Users/julialromero/miniconda3/envs/myenv/lib/python3.9/site-packages/geopandas/geoseries.py:207: FutureWarning: The default dtype for empty Series will be 'object' instead of 'float64' in a future version. Specify a dtype explicitly to silence this warning.\n",
      "  s = pd.Series(data, index=index, name=name, **kwargs)\n",
      "\r",
      "42it [15:01, 20.60s/it]"
     ]
    },
    {
     "name": "stdout",
     "output_type": "stream",
     "text": [
      "Saved 11357 rows.\n",
      "\n",
      "Read file 42.\n"
     ]
    },
    {
     "name": "stderr",
     "output_type": "stream",
     "text": [
      "/Users/julialromero/miniconda3/envs/myenv/lib/python3.9/site-packages/geopandas/geoseries.py:207: FutureWarning: The default dtype for empty Series will be 'object' instead of 'float64' in a future version. Specify a dtype explicitly to silence this warning.\n",
      "  s = pd.Series(data, index=index, name=name, **kwargs)\n",
      "\r",
      "43it [15:17, 19.18s/it]"
     ]
    },
    {
     "name": "stdout",
     "output_type": "stream",
     "text": [
      "Saved 11396 rows.\n",
      "\n",
      "Read file 43.\n"
     ]
    },
    {
     "name": "stderr",
     "output_type": "stream",
     "text": [
      "/Users/julialromero/miniconda3/envs/myenv/lib/python3.9/site-packages/geopandas/geoseries.py:207: FutureWarning: The default dtype for empty Series will be 'object' instead of 'float64' in a future version. Specify a dtype explicitly to silence this warning.\n",
      "  s = pd.Series(data, index=index, name=name, **kwargs)\n",
      "\r",
      "44it [15:33, 18.14s/it]"
     ]
    },
    {
     "name": "stdout",
     "output_type": "stream",
     "text": [
      "Saved 11232 rows.\n",
      "\n",
      "Read file 44.\n"
     ]
    },
    {
     "name": "stderr",
     "output_type": "stream",
     "text": [
      "/Users/julialromero/miniconda3/envs/myenv/lib/python3.9/site-packages/geopandas/geoseries.py:207: FutureWarning: The default dtype for empty Series will be 'object' instead of 'float64' in a future version. Specify a dtype explicitly to silence this warning.\n",
      "  s = pd.Series(data, index=index, name=name, **kwargs)\n",
      "\r",
      "45it [15:51, 18.19s/it]"
     ]
    },
    {
     "name": "stdout",
     "output_type": "stream",
     "text": [
      "Saved 11250 rows.\n",
      "\n",
      "Read file 45.\n"
     ]
    },
    {
     "name": "stderr",
     "output_type": "stream",
     "text": [
      "/Users/julialromero/miniconda3/envs/myenv/lib/python3.9/site-packages/geopandas/geoseries.py:207: FutureWarning: The default dtype for empty Series will be 'object' instead of 'float64' in a future version. Specify a dtype explicitly to silence this warning.\n",
      "  s = pd.Series(data, index=index, name=name, **kwargs)\n",
      "\r",
      "46it [16:09, 17.96s/it]"
     ]
    },
    {
     "name": "stdout",
     "output_type": "stream",
     "text": [
      "Saved 11294 rows.\n",
      "\n",
      "Read file 46.\n"
     ]
    },
    {
     "name": "stderr",
     "output_type": "stream",
     "text": [
      "/Users/julialromero/miniconda3/envs/myenv/lib/python3.9/site-packages/geopandas/geoseries.py:207: FutureWarning: The default dtype for empty Series will be 'object' instead of 'float64' in a future version. Specify a dtype explicitly to silence this warning.\n",
      "  s = pd.Series(data, index=index, name=name, **kwargs)\n",
      "\r",
      "47it [16:25, 17.43s/it]"
     ]
    },
    {
     "name": "stdout",
     "output_type": "stream",
     "text": [
      "Saved 11370 rows.\n",
      "\n",
      "Read file 47.\n"
     ]
    },
    {
     "name": "stderr",
     "output_type": "stream",
     "text": [
      "/Users/julialromero/miniconda3/envs/myenv/lib/python3.9/site-packages/geopandas/geoseries.py:207: FutureWarning: The default dtype for empty Series will be 'object' instead of 'float64' in a future version. Specify a dtype explicitly to silence this warning.\n",
      "  s = pd.Series(data, index=index, name=name, **kwargs)\n",
      "\r",
      "48it [16:43, 17.68s/it]"
     ]
    },
    {
     "name": "stdout",
     "output_type": "stream",
     "text": [
      "Saved 11346 rows.\n",
      "\n",
      "Read file 48.\n"
     ]
    },
    {
     "name": "stderr",
     "output_type": "stream",
     "text": [
      "/Users/julialromero/miniconda3/envs/myenv/lib/python3.9/site-packages/geopandas/geoseries.py:207: FutureWarning: The default dtype for empty Series will be 'object' instead of 'float64' in a future version. Specify a dtype explicitly to silence this warning.\n",
      "  s = pd.Series(data, index=index, name=name, **kwargs)\n",
      "\r",
      "49it [17:01, 17.65s/it]"
     ]
    },
    {
     "name": "stdout",
     "output_type": "stream",
     "text": [
      "Saved 11285 rows.\n",
      "\n",
      "Read file 49.\n"
     ]
    },
    {
     "name": "stderr",
     "output_type": "stream",
     "text": [
      "/Users/julialromero/miniconda3/envs/myenv/lib/python3.9/site-packages/geopandas/geoseries.py:207: FutureWarning: The default dtype for empty Series will be 'object' instead of 'float64' in a future version. Specify a dtype explicitly to silence this warning.\n",
      "  s = pd.Series(data, index=index, name=name, **kwargs)\n",
      "\r",
      "50it [17:22, 18.61s/it]"
     ]
    },
    {
     "name": "stdout",
     "output_type": "stream",
     "text": [
      "Saved 11282 rows.\n",
      "\n",
      "Read file 50.\n"
     ]
    },
    {
     "name": "stderr",
     "output_type": "stream",
     "text": [
      "/Users/julialromero/miniconda3/envs/myenv/lib/python3.9/site-packages/geopandas/geoseries.py:207: FutureWarning: The default dtype for empty Series will be 'object' instead of 'float64' in a future version. Specify a dtype explicitly to silence this warning.\n",
      "  s = pd.Series(data, index=index, name=name, **kwargs)\n",
      "\r",
      "51it [17:38, 18.01s/it]"
     ]
    },
    {
     "name": "stdout",
     "output_type": "stream",
     "text": [
      "Saved 11149 rows.\n",
      "\n",
      "Read file 51.\n"
     ]
    },
    {
     "name": "stderr",
     "output_type": "stream",
     "text": [
      "/Users/julialromero/miniconda3/envs/myenv/lib/python3.9/site-packages/geopandas/geoseries.py:207: FutureWarning: The default dtype for empty Series will be 'object' instead of 'float64' in a future version. Specify a dtype explicitly to silence this warning.\n",
      "  s = pd.Series(data, index=index, name=name, **kwargs)\n",
      "\r",
      "52it [17:56, 18.01s/it]"
     ]
    },
    {
     "name": "stdout",
     "output_type": "stream",
     "text": [
      "Saved 11305 rows.\n",
      "\n",
      "Read file 52.\n"
     ]
    },
    {
     "name": "stderr",
     "output_type": "stream",
     "text": [
      "/Users/julialromero/miniconda3/envs/myenv/lib/python3.9/site-packages/geopandas/geoseries.py:207: FutureWarning: The default dtype for empty Series will be 'object' instead of 'float64' in a future version. Specify a dtype explicitly to silence this warning.\n",
      "  s = pd.Series(data, index=index, name=name, **kwargs)\n",
      "\r",
      "53it [18:16, 18.54s/it]"
     ]
    },
    {
     "name": "stdout",
     "output_type": "stream",
     "text": [
      "Saved 11415 rows.\n",
      "\n",
      "Read file 53.\n"
     ]
    },
    {
     "name": "stderr",
     "output_type": "stream",
     "text": [
      "/Users/julialromero/miniconda3/envs/myenv/lib/python3.9/site-packages/geopandas/geoseries.py:207: FutureWarning: The default dtype for empty Series will be 'object' instead of 'float64' in a future version. Specify a dtype explicitly to silence this warning.\n",
      "  s = pd.Series(data, index=index, name=name, **kwargs)\n",
      "\r",
      "54it [18:37, 19.15s/it]"
     ]
    },
    {
     "name": "stdout",
     "output_type": "stream",
     "text": [
      "Saved 11390 rows.\n",
      "\n",
      "Read file 54.\n"
     ]
    },
    {
     "name": "stderr",
     "output_type": "stream",
     "text": [
      "/Users/julialromero/miniconda3/envs/myenv/lib/python3.9/site-packages/geopandas/geoseries.py:207: FutureWarning: The default dtype for empty Series will be 'object' instead of 'float64' in a future version. Specify a dtype explicitly to silence this warning.\n",
      "  s = pd.Series(data, index=index, name=name, **kwargs)\n",
      "\r",
      "55it [18:56, 19.35s/it]"
     ]
    },
    {
     "name": "stdout",
     "output_type": "stream",
     "text": [
      "Saved 11700 rows.\n",
      "\n",
      "Read file 55.\n"
     ]
    },
    {
     "name": "stderr",
     "output_type": "stream",
     "text": [
      "/Users/julialromero/miniconda3/envs/myenv/lib/python3.9/site-packages/geopandas/geoseries.py:207: FutureWarning: The default dtype for empty Series will be 'object' instead of 'float64' in a future version. Specify a dtype explicitly to silence this warning.\n",
      "  s = pd.Series(data, index=index, name=name, **kwargs)\n",
      "\r",
      "56it [19:15, 19.01s/it]"
     ]
    },
    {
     "name": "stdout",
     "output_type": "stream",
     "text": [
      "Saved 11309 rows.\n",
      "\n",
      "Read file 56.\n",
      "CBG length incorrect: CA:59150078\n"
     ]
    },
    {
     "name": "stderr",
     "output_type": "stream",
     "text": [
      "/Users/julialromero/miniconda3/envs/myenv/lib/python3.9/site-packages/geopandas/geoseries.py:207: FutureWarning: The default dtype for empty Series will be 'object' instead of 'float64' in a future version. Specify a dtype explicitly to silence this warning.\n",
      "  s = pd.Series(data, index=index, name=name, **kwargs)\n",
      "\r",
      "57it [20:11, 30.17s/it]"
     ]
    },
    {
     "name": "stdout",
     "output_type": "stream",
     "text": [
      "Saved 16304 rows.\n",
      "\n",
      "Read file 57.\n"
     ]
    },
    {
     "name": "stderr",
     "output_type": "stream",
     "text": [
      "/Users/julialromero/miniconda3/envs/myenv/lib/python3.9/site-packages/geopandas/geoseries.py:207: FutureWarning: The default dtype for empty Series will be 'object' instead of 'float64' in a future version. Specify a dtype explicitly to silence this warning.\n",
      "  s = pd.Series(data, index=index, name=name, **kwargs)\n",
      "\r",
      "58it [20:31, 27.07s/it]"
     ]
    },
    {
     "name": "stdout",
     "output_type": "stream",
     "text": [
      "Saved 11501 rows.\n",
      "\n",
      "Read file 58.\n"
     ]
    },
    {
     "name": "stderr",
     "output_type": "stream",
     "text": [
      "/Users/julialromero/miniconda3/envs/myenv/lib/python3.9/site-packages/geopandas/geoseries.py:207: FutureWarning: The default dtype for empty Series will be 'object' instead of 'float64' in a future version. Specify a dtype explicitly to silence this warning.\n",
      "  s = pd.Series(data, index=index, name=name, **kwargs)\n",
      "\r",
      "59it [20:48, 24.15s/it]"
     ]
    },
    {
     "name": "stdout",
     "output_type": "stream",
     "text": [
      "Saved 11431 rows.\n",
      "\n",
      "Read file 59.\n"
     ]
    },
    {
     "name": "stderr",
     "output_type": "stream",
     "text": [
      "/Users/julialromero/miniconda3/envs/myenv/lib/python3.9/site-packages/geopandas/geoseries.py:207: FutureWarning: The default dtype for empty Series will be 'object' instead of 'float64' in a future version. Specify a dtype explicitly to silence this warning.\n",
      "  s = pd.Series(data, index=index, name=name, **kwargs)\n",
      "\r",
      "60it [21:06, 22.30s/it]"
     ]
    },
    {
     "name": "stdout",
     "output_type": "stream",
     "text": [
      "Saved 11089 rows.\n",
      "\n",
      "Read file 60.\n"
     ]
    },
    {
     "name": "stderr",
     "output_type": "stream",
     "text": [
      "/Users/julialromero/miniconda3/envs/myenv/lib/python3.9/site-packages/geopandas/geoseries.py:207: FutureWarning: The default dtype for empty Series will be 'object' instead of 'float64' in a future version. Specify a dtype explicitly to silence this warning.\n",
      "  s = pd.Series(data, index=index, name=name, **kwargs)\n",
      "\r",
      "61it [21:24, 21.12s/it]"
     ]
    },
    {
     "name": "stdout",
     "output_type": "stream",
     "text": [
      "Saved 11508 rows.\n",
      "\n",
      "Read file 61.\n"
     ]
    },
    {
     "name": "stderr",
     "output_type": "stream",
     "text": [
      "/Users/julialromero/miniconda3/envs/myenv/lib/python3.9/site-packages/geopandas/geoseries.py:207: FutureWarning: The default dtype for empty Series will be 'object' instead of 'float64' in a future version. Specify a dtype explicitly to silence this warning.\n",
      "  s = pd.Series(data, index=index, name=name, **kwargs)\n",
      "\r",
      "62it [21:43, 20.40s/it]"
     ]
    },
    {
     "name": "stdout",
     "output_type": "stream",
     "text": [
      "Saved 11211 rows.\n",
      "\n",
      "Read file 62.\n"
     ]
    },
    {
     "name": "stderr",
     "output_type": "stream",
     "text": [
      "/Users/julialromero/miniconda3/envs/myenv/lib/python3.9/site-packages/geopandas/geoseries.py:207: FutureWarning: The default dtype for empty Series will be 'object' instead of 'float64' in a future version. Specify a dtype explicitly to silence this warning.\n",
      "  s = pd.Series(data, index=index, name=name, **kwargs)\n",
      "\r",
      "63it [22:02, 20.10s/it]"
     ]
    },
    {
     "name": "stdout",
     "output_type": "stream",
     "text": [
      "Saved 11280 rows.\n",
      "\n",
      "Read file 63.\n"
     ]
    },
    {
     "name": "stderr",
     "output_type": "stream",
     "text": [
      "/Users/julialromero/miniconda3/envs/myenv/lib/python3.9/site-packages/geopandas/geoseries.py:207: FutureWarning: The default dtype for empty Series will be 'object' instead of 'float64' in a future version. Specify a dtype explicitly to silence this warning.\n",
      "  s = pd.Series(data, index=index, name=name, **kwargs)\n",
      "\r",
      "64it [22:21, 19.71s/it]"
     ]
    },
    {
     "name": "stdout",
     "output_type": "stream",
     "text": [
      "Saved 11322 rows.\n",
      "\n",
      "Read file 64.\n"
     ]
    },
    {
     "name": "stderr",
     "output_type": "stream",
     "text": [
      "/Users/julialromero/miniconda3/envs/myenv/lib/python3.9/site-packages/geopandas/geoseries.py:207: FutureWarning: The default dtype for empty Series will be 'object' instead of 'float64' in a future version. Specify a dtype explicitly to silence this warning.\n",
      "  s = pd.Series(data, index=index, name=name, **kwargs)\n",
      "\r",
      "65it [22:43, 20.36s/it]"
     ]
    },
    {
     "name": "stdout",
     "output_type": "stream",
     "text": [
      "Saved 11547 rows.\n",
      "\n",
      "Read file 65.\n"
     ]
    },
    {
     "name": "stderr",
     "output_type": "stream",
     "text": [
      "/Users/julialromero/miniconda3/envs/myenv/lib/python3.9/site-packages/geopandas/geoseries.py:207: FutureWarning: The default dtype for empty Series will be 'object' instead of 'float64' in a future version. Specify a dtype explicitly to silence this warning.\n",
      "  s = pd.Series(data, index=index, name=name, **kwargs)\n",
      "\r",
      "66it [23:01, 19.71s/it]"
     ]
    },
    {
     "name": "stdout",
     "output_type": "stream",
     "text": [
      "Saved 11346 rows.\n",
      "\n",
      "Read file 66.\n"
     ]
    },
    {
     "name": "stderr",
     "output_type": "stream",
     "text": [
      "/Users/julialromero/miniconda3/envs/myenv/lib/python3.9/site-packages/geopandas/geoseries.py:207: FutureWarning: The default dtype for empty Series will be 'object' instead of 'float64' in a future version. Specify a dtype explicitly to silence this warning.\n",
      "  s = pd.Series(data, index=index, name=name, **kwargs)\n",
      "\r",
      "67it [23:22, 19.97s/it]"
     ]
    },
    {
     "name": "stdout",
     "output_type": "stream",
     "text": [
      "Saved 11336 rows.\n",
      "\n",
      "Read file 67.\n"
     ]
    },
    {
     "name": "stderr",
     "output_type": "stream",
     "text": [
      "/Users/julialromero/miniconda3/envs/myenv/lib/python3.9/site-packages/geopandas/geoseries.py:207: FutureWarning: The default dtype for empty Series will be 'object' instead of 'float64' in a future version. Specify a dtype explicitly to silence this warning.\n",
      "  s = pd.Series(data, index=index, name=name, **kwargs)\n",
      "\r",
      "68it [23:39, 19.21s/it]"
     ]
    },
    {
     "name": "stdout",
     "output_type": "stream",
     "text": [
      "Saved 11255 rows.\n",
      "\n",
      "Read file 68.\n"
     ]
    },
    {
     "name": "stderr",
     "output_type": "stream",
     "text": [
      "/Users/julialromero/miniconda3/envs/myenv/lib/python3.9/site-packages/geopandas/geoseries.py:207: FutureWarning: The default dtype for empty Series will be 'object' instead of 'float64' in a future version. Specify a dtype explicitly to silence this warning.\n",
      "  s = pd.Series(data, index=index, name=name, **kwargs)\n",
      "\r",
      "69it [23:59, 19.22s/it]"
     ]
    },
    {
     "name": "stdout",
     "output_type": "stream",
     "text": [
      "Saved 11247 rows.\n",
      "\n",
      "Read file 69.\n"
     ]
    },
    {
     "name": "stderr",
     "output_type": "stream",
     "text": [
      "/Users/julialromero/miniconda3/envs/myenv/lib/python3.9/site-packages/geopandas/geoseries.py:207: FutureWarning: The default dtype for empty Series will be 'object' instead of 'float64' in a future version. Specify a dtype explicitly to silence this warning.\n",
      "  s = pd.Series(data, index=index, name=name, **kwargs)\n",
      "\r",
      "70it [24:24, 21.10s/it]"
     ]
    },
    {
     "name": "stdout",
     "output_type": "stream",
     "text": [
      "Saved 11114 rows.\n",
      "\n",
      "Read file 70.\n"
     ]
    },
    {
     "name": "stderr",
     "output_type": "stream",
     "text": [
      "/Users/julialromero/miniconda3/envs/myenv/lib/python3.9/site-packages/geopandas/geoseries.py:207: FutureWarning: The default dtype for empty Series will be 'object' instead of 'float64' in a future version. Specify a dtype explicitly to silence this warning.\n",
      "  s = pd.Series(data, index=index, name=name, **kwargs)\n",
      "\r",
      "71it [24:45, 21.14s/it]"
     ]
    },
    {
     "name": "stdout",
     "output_type": "stream",
     "text": [
      "Saved 11407 rows.\n",
      "\n",
      "Read file 71.\n"
     ]
    },
    {
     "name": "stderr",
     "output_type": "stream",
     "text": [
      "/Users/julialromero/miniconda3/envs/myenv/lib/python3.9/site-packages/geopandas/geoseries.py:207: FutureWarning: The default dtype for empty Series will be 'object' instead of 'float64' in a future version. Specify a dtype explicitly to silence this warning.\n",
      "  s = pd.Series(data, index=index, name=name, **kwargs)\n",
      "\r",
      "72it [25:04, 20.41s/it]"
     ]
    },
    {
     "name": "stdout",
     "output_type": "stream",
     "text": [
      "Saved 11326 rows.\n",
      "\n",
      "Read file 72.\n"
     ]
    },
    {
     "name": "stderr",
     "output_type": "stream",
     "text": [
      "/Users/julialromero/miniconda3/envs/myenv/lib/python3.9/site-packages/geopandas/geoseries.py:207: FutureWarning: The default dtype for empty Series will be 'object' instead of 'float64' in a future version. Specify a dtype explicitly to silence this warning.\n",
      "  s = pd.Series(data, index=index, name=name, **kwargs)\n",
      "\r",
      "73it [25:24, 20.28s/it]"
     ]
    },
    {
     "name": "stdout",
     "output_type": "stream",
     "text": [
      "Saved 11345 rows.\n",
      "\n",
      "Read file 73.\n"
     ]
    },
    {
     "name": "stderr",
     "output_type": "stream",
     "text": [
      "/Users/julialromero/miniconda3/envs/myenv/lib/python3.9/site-packages/geopandas/geoseries.py:207: FutureWarning: The default dtype for empty Series will be 'object' instead of 'float64' in a future version. Specify a dtype explicitly to silence this warning.\n",
      "  s = pd.Series(data, index=index, name=name, **kwargs)\n",
      "\r",
      "74it [25:42, 19.68s/it]"
     ]
    },
    {
     "name": "stdout",
     "output_type": "stream",
     "text": [
      "Saved 11209 rows.\n",
      "\n",
      "Read file 74.\n"
     ]
    },
    {
     "name": "stderr",
     "output_type": "stream",
     "text": [
      "/Users/julialromero/miniconda3/envs/myenv/lib/python3.9/site-packages/geopandas/geoseries.py:207: FutureWarning: The default dtype for empty Series will be 'object' instead of 'float64' in a future version. Specify a dtype explicitly to silence this warning.\n",
      "  s = pd.Series(data, index=index, name=name, **kwargs)\n",
      "\r",
      "75it [26:12, 22.85s/it]"
     ]
    },
    {
     "name": "stdout",
     "output_type": "stream",
     "text": [
      "Saved 11306 rows.\n",
      "\n",
      "Read file 75.\n"
     ]
    },
    {
     "name": "stderr",
     "output_type": "stream",
     "text": [
      "/Users/julialromero/miniconda3/envs/myenv/lib/python3.9/site-packages/geopandas/geoseries.py:207: FutureWarning: The default dtype for empty Series will be 'object' instead of 'float64' in a future version. Specify a dtype explicitly to silence this warning.\n",
      "  s = pd.Series(data, index=index, name=name, **kwargs)\n",
      "\r",
      "76it [26:31, 21.46s/it]"
     ]
    },
    {
     "name": "stdout",
     "output_type": "stream",
     "text": [
      "Saved 11349 rows.\n",
      "\n",
      "Read file 76.\n"
     ]
    },
    {
     "name": "stderr",
     "output_type": "stream",
     "text": [
      "/Users/julialromero/miniconda3/envs/myenv/lib/python3.9/site-packages/geopandas/geoseries.py:207: FutureWarning: The default dtype for empty Series will be 'object' instead of 'float64' in a future version. Specify a dtype explicitly to silence this warning.\n",
      "  s = pd.Series(data, index=index, name=name, **kwargs)\n",
      "\r",
      "77it [26:50, 20.84s/it]"
     ]
    },
    {
     "name": "stdout",
     "output_type": "stream",
     "text": [
      "Saved 11380 rows.\n",
      "\n",
      "Read file 77.\n"
     ]
    },
    {
     "name": "stderr",
     "output_type": "stream",
     "text": [
      "/Users/julialromero/miniconda3/envs/myenv/lib/python3.9/site-packages/geopandas/geoseries.py:207: FutureWarning: The default dtype for empty Series will be 'object' instead of 'float64' in a future version. Specify a dtype explicitly to silence this warning.\n",
      "  s = pd.Series(data, index=index, name=name, **kwargs)\n",
      "\r",
      "78it [27:13, 21.54s/it]"
     ]
    },
    {
     "name": "stdout",
     "output_type": "stream",
     "text": [
      "Saved 11310 rows.\n",
      "\n",
      "Read file 78.\n"
     ]
    },
    {
     "name": "stderr",
     "output_type": "stream",
     "text": [
      "/Users/julialromero/miniconda3/envs/myenv/lib/python3.9/site-packages/geopandas/geoseries.py:207: FutureWarning: The default dtype for empty Series will be 'object' instead of 'float64' in a future version. Specify a dtype explicitly to silence this warning.\n",
      "  s = pd.Series(data, index=index, name=name, **kwargs)\n",
      "\r",
      "79it [27:35, 21.75s/it]"
     ]
    },
    {
     "name": "stdout",
     "output_type": "stream",
     "text": [
      "Saved 11624 rows.\n",
      "\n",
      "Read file 79.\n"
     ]
    },
    {
     "name": "stderr",
     "output_type": "stream",
     "text": [
      "/Users/julialromero/miniconda3/envs/myenv/lib/python3.9/site-packages/geopandas/geoseries.py:207: FutureWarning: The default dtype for empty Series will be 'object' instead of 'float64' in a future version. Specify a dtype explicitly to silence this warning.\n",
      "  s = pd.Series(data, index=index, name=name, **kwargs)\n",
      "\r",
      "80it [28:00, 22.68s/it]"
     ]
    },
    {
     "name": "stdout",
     "output_type": "stream",
     "text": [
      "Saved 11424 rows.\n",
      "\n",
      "Read file 80.\n"
     ]
    },
    {
     "name": "stderr",
     "output_type": "stream",
     "text": [
      "/Users/julialromero/miniconda3/envs/myenv/lib/python3.9/site-packages/geopandas/geoseries.py:207: FutureWarning: The default dtype for empty Series will be 'object' instead of 'float64' in a future version. Specify a dtype explicitly to silence this warning.\n",
      "  s = pd.Series(data, index=index, name=name, **kwargs)\n",
      "\r",
      "81it [28:27, 24.00s/it]"
     ]
    },
    {
     "name": "stdout",
     "output_type": "stream",
     "text": [
      "CBG length incorrect: CA:59150078\n",
      "Saved 14331 rows.\n",
      "\n",
      "Read file 81.\n"
     ]
    },
    {
     "name": "stderr",
     "output_type": "stream",
     "text": [
      "/Users/julialromero/miniconda3/envs/myenv/lib/python3.9/site-packages/geopandas/geoseries.py:207: FutureWarning: The default dtype for empty Series will be 'object' instead of 'float64' in a future version. Specify a dtype explicitly to silence this warning.\n",
      "  s = pd.Series(data, index=index, name=name, **kwargs)\n",
      "\r",
      "82it [28:48, 22.92s/it]"
     ]
    },
    {
     "name": "stdout",
     "output_type": "stream",
     "text": [
      "Saved 11363 rows.\n",
      "\n",
      "Read file 82.\n"
     ]
    },
    {
     "name": "stderr",
     "output_type": "stream",
     "text": [
      "/Users/julialromero/miniconda3/envs/myenv/lib/python3.9/site-packages/geopandas/geoseries.py:207: FutureWarning: The default dtype for empty Series will be 'object' instead of 'float64' in a future version. Specify a dtype explicitly to silence this warning.\n",
      "  s = pd.Series(data, index=index, name=name, **kwargs)\n",
      "\r",
      "83it [29:16, 24.56s/it]"
     ]
    },
    {
     "name": "stdout",
     "output_type": "stream",
     "text": [
      "Saved 11400 rows.\n",
      "\n",
      "Read file 83.\n"
     ]
    },
    {
     "name": "stderr",
     "output_type": "stream",
     "text": [
      "/Users/julialromero/miniconda3/envs/myenv/lib/python3.9/site-packages/geopandas/geoseries.py:207: FutureWarning: The default dtype for empty Series will be 'object' instead of 'float64' in a future version. Specify a dtype explicitly to silence this warning.\n",
      "  s = pd.Series(data, index=index, name=name, **kwargs)\n",
      "\r",
      "84it [29:40, 24.46s/it]"
     ]
    },
    {
     "name": "stdout",
     "output_type": "stream",
     "text": [
      "Saved 11117 rows.\n",
      "\n",
      "Read file 84.\n"
     ]
    },
    {
     "name": "stderr",
     "output_type": "stream",
     "text": [
      "/Users/julialromero/miniconda3/envs/myenv/lib/python3.9/site-packages/geopandas/geoseries.py:207: FutureWarning: The default dtype for empty Series will be 'object' instead of 'float64' in a future version. Specify a dtype explicitly to silence this warning.\n",
      "  s = pd.Series(data, index=index, name=name, **kwargs)\n",
      "\r",
      "85it [29:59, 22.80s/it]"
     ]
    },
    {
     "name": "stdout",
     "output_type": "stream",
     "text": [
      "Saved 11402 rows.\n",
      "\n",
      "Read file 85.\n"
     ]
    },
    {
     "name": "stderr",
     "output_type": "stream",
     "text": [
      "/Users/julialromero/miniconda3/envs/myenv/lib/python3.9/site-packages/geopandas/geoseries.py:207: FutureWarning: The default dtype for empty Series will be 'object' instead of 'float64' in a future version. Specify a dtype explicitly to silence this warning.\n",
      "  s = pd.Series(data, index=index, name=name, **kwargs)\n",
      "\r",
      "86it [30:54, 32.33s/it]"
     ]
    },
    {
     "name": "stdout",
     "output_type": "stream",
     "text": [
      "Saved 11181 rows.\n",
      "\n",
      "Read file 86.\n"
     ]
    },
    {
     "name": "stderr",
     "output_type": "stream",
     "text": [
      "/Users/julialromero/miniconda3/envs/myenv/lib/python3.9/site-packages/geopandas/array.py:275: ShapelyDeprecationWarning: The array interface is deprecated and will no longer work in Shapely 2.0. Convert the '.coords' to a numpy array instead.\n",
      "  return GeometryArray(vectorized.points_from_xy(x, y, z), crs=crs)\n",
      "/var/folders/b6/qqcnr7cj16sd1r0nn3p4f_sw0000gn/T/ipykernel_89502/3658352350.py:20: SettingWithCopyWarning: \n",
      "A value is trying to be set on a copy of a slice from a DataFrame.\n",
      "Try using .loc[row_indexer,col_indexer] = value instead\n",
      "\n",
      "See the caveats in the documentation: https://pandas.pydata.org/pandas-docs/stable/user_guide/indexing.html#returning-a-view-versus-a-copy\n",
      "  cp['GEOID'] = points.apply(lambda p: get_tract_num(tract_data, p))\n",
      "87it [31:11, 27.68s/it]"
     ]
    },
    {
     "name": "stdout",
     "output_type": "stream",
     "text": [
      "Saved 11240 rows.\n",
      "\n",
      "Read file 87.\n"
     ]
    },
    {
     "name": "stderr",
     "output_type": "stream",
     "text": [
      "/Users/julialromero/miniconda3/envs/myenv/lib/python3.9/site-packages/geopandas/geoseries.py:207: FutureWarning: The default dtype for empty Series will be 'object' instead of 'float64' in a future version. Specify a dtype explicitly to silence this warning.\n",
      "  s = pd.Series(data, index=index, name=name, **kwargs)\n",
      "\r",
      "88it [31:28, 24.53s/it]"
     ]
    },
    {
     "name": "stdout",
     "output_type": "stream",
     "text": [
      "Saved 11399 rows.\n",
      "\n",
      "Read file 88.\n"
     ]
    },
    {
     "name": "stderr",
     "output_type": "stream",
     "text": [
      "/Users/julialromero/miniconda3/envs/myenv/lib/python3.9/site-packages/geopandas/geoseries.py:207: FutureWarning: The default dtype for empty Series will be 'object' instead of 'float64' in a future version. Specify a dtype explicitly to silence this warning.\n",
      "  s = pd.Series(data, index=index, name=name, **kwargs)\n",
      "\r",
      "89it [31:46, 22.61s/it]"
     ]
    },
    {
     "name": "stdout",
     "output_type": "stream",
     "text": [
      "Saved 11490 rows.\n",
      "\n",
      "Read file 89.\n"
     ]
    },
    {
     "name": "stderr",
     "output_type": "stream",
     "text": [
      "/Users/julialromero/miniconda3/envs/myenv/lib/python3.9/site-packages/geopandas/geoseries.py:207: FutureWarning: The default dtype for empty Series will be 'object' instead of 'float64' in a future version. Specify a dtype explicitly to silence this warning.\n",
      "  s = pd.Series(data, index=index, name=name, **kwargs)\n",
      "\r",
      "90it [32:03, 21.02s/it]"
     ]
    },
    {
     "name": "stdout",
     "output_type": "stream",
     "text": [
      "Saved 11317 rows.\n",
      "\n",
      "Read file 90.\n"
     ]
    },
    {
     "name": "stderr",
     "output_type": "stream",
     "text": [
      "/Users/julialromero/miniconda3/envs/myenv/lib/python3.9/site-packages/geopandas/geoseries.py:207: FutureWarning: The default dtype for empty Series will be 'object' instead of 'float64' in a future version. Specify a dtype explicitly to silence this warning.\n",
      "  s = pd.Series(data, index=index, name=name, **kwargs)\n",
      "\r",
      "91it [32:20, 19.75s/it]"
     ]
    },
    {
     "name": "stdout",
     "output_type": "stream",
     "text": [
      "Saved 11494 rows.\n",
      "\n",
      "Read file 91.\n"
     ]
    },
    {
     "name": "stderr",
     "output_type": "stream",
     "text": [
      "/Users/julialromero/miniconda3/envs/myenv/lib/python3.9/site-packages/geopandas/geoseries.py:207: FutureWarning: The default dtype for empty Series will be 'object' instead of 'float64' in a future version. Specify a dtype explicitly to silence this warning.\n",
      "  s = pd.Series(data, index=index, name=name, **kwargs)\n",
      "\r",
      "92it [32:38, 19.07s/it]"
     ]
    },
    {
     "name": "stdout",
     "output_type": "stream",
     "text": [
      "Saved 11366 rows.\n",
      "\n",
      "Read file 92.\n"
     ]
    },
    {
     "name": "stderr",
     "output_type": "stream",
     "text": [
      "/Users/julialromero/miniconda3/envs/myenv/lib/python3.9/site-packages/geopandas/geoseries.py:207: FutureWarning: The default dtype for empty Series will be 'object' instead of 'float64' in a future version. Specify a dtype explicitly to silence this warning.\n",
      "  s = pd.Series(data, index=index, name=name, **kwargs)\n",
      "\r",
      "93it [32:56, 18.98s/it]"
     ]
    },
    {
     "name": "stdout",
     "output_type": "stream",
     "text": [
      "Saved 11297 rows.\n",
      "\n",
      "Read file 93.\n"
     ]
    },
    {
     "name": "stderr",
     "output_type": "stream",
     "text": [
      "/Users/julialromero/miniconda3/envs/myenv/lib/python3.9/site-packages/geopandas/geoseries.py:207: FutureWarning: The default dtype for empty Series will be 'object' instead of 'float64' in a future version. Specify a dtype explicitly to silence this warning.\n",
      "  s = pd.Series(data, index=index, name=name, **kwargs)\n",
      "\r",
      "94it [33:12, 18.02s/it]"
     ]
    },
    {
     "name": "stdout",
     "output_type": "stream",
     "text": [
      "Saved 11263 rows.\n",
      "\n",
      "Read file 94.\n"
     ]
    },
    {
     "name": "stderr",
     "output_type": "stream",
     "text": [
      "/Users/julialromero/miniconda3/envs/myenv/lib/python3.9/site-packages/geopandas/geoseries.py:207: FutureWarning: The default dtype for empty Series will be 'object' instead of 'float64' in a future version. Specify a dtype explicitly to silence this warning.\n",
      "  s = pd.Series(data, index=index, name=name, **kwargs)\n",
      "\r",
      "95it [33:34, 19.06s/it]"
     ]
    },
    {
     "name": "stdout",
     "output_type": "stream",
     "text": [
      "Saved 11341 rows.\n",
      "\n",
      "Read file 95.\n"
     ]
    },
    {
     "name": "stderr",
     "output_type": "stream",
     "text": [
      "/Users/julialromero/miniconda3/envs/myenv/lib/python3.9/site-packages/geopandas/geoseries.py:207: FutureWarning: The default dtype for empty Series will be 'object' instead of 'float64' in a future version. Specify a dtype explicitly to silence this warning.\n",
      "  s = pd.Series(data, index=index, name=name, **kwargs)\n",
      "96it [33:53, 21.18s/it]\n",
      "0it [00:00, ?it/s]"
     ]
    },
    {
     "name": "stdout",
     "output_type": "stream",
     "text": [
      "Saved 11431 rows.\n",
      "--------done: month 07--------\n",
      "\n",
      "Read file 0.\n"
     ]
    },
    {
     "name": "stderr",
     "output_type": "stream",
     "text": [
      "/Users/julialromero/miniconda3/envs/myenv/lib/python3.9/site-packages/geopandas/geoseries.py:207: FutureWarning: The default dtype for empty Series will be 'object' instead of 'float64' in a future version. Specify a dtype explicitly to silence this warning.\n",
      "  s = pd.Series(data, index=index, name=name, **kwargs)\n",
      "\r",
      "1it [00:17, 17.20s/it]"
     ]
    },
    {
     "name": "stdout",
     "output_type": "stream",
     "text": [
      "Saved 11563 rows.\n",
      "\n",
      "Read file 1.\n"
     ]
    },
    {
     "name": "stderr",
     "output_type": "stream",
     "text": [
      "/Users/julialromero/miniconda3/envs/myenv/lib/python3.9/site-packages/geopandas/geoseries.py:207: FutureWarning: The default dtype for empty Series will be 'object' instead of 'float64' in a future version. Specify a dtype explicitly to silence this warning.\n",
      "  s = pd.Series(data, index=index, name=name, **kwargs)\n",
      "\r",
      "2it [00:35, 17.86s/it]"
     ]
    },
    {
     "name": "stdout",
     "output_type": "stream",
     "text": [
      "Saved 11560 rows.\n",
      "\n",
      "Read file 2.\n"
     ]
    },
    {
     "name": "stderr",
     "output_type": "stream",
     "text": [
      "/Users/julialromero/miniconda3/envs/myenv/lib/python3.9/site-packages/geopandas/geoseries.py:207: FutureWarning: The default dtype for empty Series will be 'object' instead of 'float64' in a future version. Specify a dtype explicitly to silence this warning.\n",
      "  s = pd.Series(data, index=index, name=name, **kwargs)\n",
      "\r",
      "3it [00:53, 17.71s/it]"
     ]
    },
    {
     "name": "stdout",
     "output_type": "stream",
     "text": [
      "Saved 11417 rows.\n",
      "\n",
      "Read file 3.\n"
     ]
    },
    {
     "name": "stderr",
     "output_type": "stream",
     "text": [
      "/Users/julialromero/miniconda3/envs/myenv/lib/python3.9/site-packages/geopandas/geoseries.py:207: FutureWarning: The default dtype for empty Series will be 'object' instead of 'float64' in a future version. Specify a dtype explicitly to silence this warning.\n",
      "  s = pd.Series(data, index=index, name=name, **kwargs)\n",
      "\r",
      "4it [01:11, 17.90s/it]"
     ]
    },
    {
     "name": "stdout",
     "output_type": "stream",
     "text": [
      "Saved 11582 rows.\n",
      "\n",
      "Read file 4.\n"
     ]
    },
    {
     "name": "stderr",
     "output_type": "stream",
     "text": [
      "/Users/julialromero/miniconda3/envs/myenv/lib/python3.9/site-packages/geopandas/geoseries.py:207: FutureWarning: The default dtype for empty Series will be 'object' instead of 'float64' in a future version. Specify a dtype explicitly to silence this warning.\n",
      "  s = pd.Series(data, index=index, name=name, **kwargs)\n",
      "\r",
      "5it [01:31, 18.60s/it]"
     ]
    },
    {
     "name": "stdout",
     "output_type": "stream",
     "text": [
      "Saved 11499 rows.\n",
      "\n",
      "Read file 5.\n"
     ]
    },
    {
     "name": "stderr",
     "output_type": "stream",
     "text": [
      "/Users/julialromero/miniconda3/envs/myenv/lib/python3.9/site-packages/geopandas/geoseries.py:207: FutureWarning: The default dtype for empty Series will be 'object' instead of 'float64' in a future version. Specify a dtype explicitly to silence this warning.\n",
      "  s = pd.Series(data, index=index, name=name, **kwargs)\n",
      "\r",
      "6it [01:51, 19.05s/it]"
     ]
    },
    {
     "name": "stdout",
     "output_type": "stream",
     "text": [
      "Saved 11483 rows.\n",
      "\n",
      "Read file 6.\n"
     ]
    },
    {
     "name": "stderr",
     "output_type": "stream",
     "text": [
      "/Users/julialromero/miniconda3/envs/myenv/lib/python3.9/site-packages/geopandas/geoseries.py:207: FutureWarning: The default dtype for empty Series will be 'object' instead of 'float64' in a future version. Specify a dtype explicitly to silence this warning.\n",
      "  s = pd.Series(data, index=index, name=name, **kwargs)\n",
      "\r",
      "7it [02:19, 22.03s/it]"
     ]
    },
    {
     "name": "stdout",
     "output_type": "stream",
     "text": [
      "Saved 11869 rows.\n",
      "\n",
      "Read file 7.\n"
     ]
    },
    {
     "name": "stderr",
     "output_type": "stream",
     "text": [
      "/Users/julialromero/miniconda3/envs/myenv/lib/python3.9/site-packages/geopandas/geoseries.py:207: FutureWarning: The default dtype for empty Series will be 'object' instead of 'float64' in a future version. Specify a dtype explicitly to silence this warning.\n",
      "  s = pd.Series(data, index=index, name=name, **kwargs)\n",
      "\r",
      "8it [02:36, 20.43s/it]"
     ]
    },
    {
     "name": "stdout",
     "output_type": "stream",
     "text": [
      "Saved 11601 rows.\n",
      "\n",
      "Read file 8.\n",
      "CBG length incorrect: CA:59150078\n"
     ]
    },
    {
     "name": "stderr",
     "output_type": "stream",
     "text": [
      "/Users/julialromero/miniconda3/envs/myenv/lib/python3.9/site-packages/geopandas/geoseries.py:207: FutureWarning: The default dtype for empty Series will be 'object' instead of 'float64' in a future version. Specify a dtype explicitly to silence this warning.\n",
      "  s = pd.Series(data, index=index, name=name, **kwargs)\n",
      "9it [03:06, 23.61s/it]"
     ]
    },
    {
     "name": "stdout",
     "output_type": "stream",
     "text": [
      "Saved 18413 rows.\n",
      "\n",
      "Read file 9.\n"
     ]
    },
    {
     "name": "stderr",
     "output_type": "stream",
     "text": [
      "/Users/julialromero/miniconda3/envs/myenv/lib/python3.9/site-packages/geopandas/geoseries.py:207: FutureWarning: The default dtype for empty Series will be 'object' instead of 'float64' in a future version. Specify a dtype explicitly to silence this warning.\n",
      "  s = pd.Series(data, index=index, name=name, **kwargs)\n",
      "\r",
      "10it [03:23, 21.59s/it]"
     ]
    },
    {
     "name": "stdout",
     "output_type": "stream",
     "text": [
      "Saved 11834 rows.\n",
      "\n",
      "Read file 10.\n"
     ]
    },
    {
     "name": "stderr",
     "output_type": "stream",
     "text": [
      "/Users/julialromero/miniconda3/envs/myenv/lib/python3.9/site-packages/geopandas/geoseries.py:207: FutureWarning: The default dtype for empty Series will be 'object' instead of 'float64' in a future version. Specify a dtype explicitly to silence this warning.\n",
      "  s = pd.Series(data, index=index, name=name, **kwargs)\n",
      "\r",
      "11it [03:40, 20.19s/it]"
     ]
    },
    {
     "name": "stdout",
     "output_type": "stream",
     "text": [
      "Saved 11542 rows.\n",
      "\n",
      "Read file 11.\n"
     ]
    },
    {
     "name": "stderr",
     "output_type": "stream",
     "text": [
      "/Users/julialromero/miniconda3/envs/myenv/lib/python3.9/site-packages/geopandas/geoseries.py:207: FutureWarning: The default dtype for empty Series will be 'object' instead of 'float64' in a future version. Specify a dtype explicitly to silence this warning.\n",
      "  s = pd.Series(data, index=index, name=name, **kwargs)\n",
      "\r",
      "12it [03:58, 19.32s/it]"
     ]
    },
    {
     "name": "stdout",
     "output_type": "stream",
     "text": [
      "Saved 11460 rows.\n",
      "\n",
      "Read file 12.\n"
     ]
    },
    {
     "name": "stderr",
     "output_type": "stream",
     "text": [
      "/Users/julialromero/miniconda3/envs/myenv/lib/python3.9/site-packages/geopandas/geoseries.py:207: FutureWarning: The default dtype for empty Series will be 'object' instead of 'float64' in a future version. Specify a dtype explicitly to silence this warning.\n",
      "  s = pd.Series(data, index=index, name=name, **kwargs)\n",
      "\r",
      "13it [04:15, 18.72s/it]"
     ]
    },
    {
     "name": "stdout",
     "output_type": "stream",
     "text": [
      "Saved 11584 rows.\n",
      "\n",
      "Read file 13.\n"
     ]
    },
    {
     "name": "stderr",
     "output_type": "stream",
     "text": [
      "/Users/julialromero/miniconda3/envs/myenv/lib/python3.9/site-packages/geopandas/geoseries.py:207: FutureWarning: The default dtype for empty Series will be 'object' instead of 'float64' in a future version. Specify a dtype explicitly to silence this warning.\n",
      "  s = pd.Series(data, index=index, name=name, **kwargs)\n",
      "\r",
      "14it [04:35, 19.13s/it]"
     ]
    },
    {
     "name": "stdout",
     "output_type": "stream",
     "text": [
      "Saved 11365 rows.\n",
      "\n",
      "Read file 14.\n"
     ]
    },
    {
     "name": "stderr",
     "output_type": "stream",
     "text": [
      "/Users/julialromero/miniconda3/envs/myenv/lib/python3.9/site-packages/geopandas/array.py:275: ShapelyDeprecationWarning: The array interface is deprecated and will no longer work in Shapely 2.0. Convert the '.coords' to a numpy array instead.\n",
      "  return GeometryArray(vectorized.points_from_xy(x, y, z), crs=crs)\n",
      "/var/folders/b6/qqcnr7cj16sd1r0nn3p4f_sw0000gn/T/ipykernel_89502/3658352350.py:20: SettingWithCopyWarning: \n",
      "A value is trying to be set on a copy of a slice from a DataFrame.\n",
      "Try using .loc[row_indexer,col_indexer] = value instead\n",
      "\n",
      "See the caveats in the documentation: https://pandas.pydata.org/pandas-docs/stable/user_guide/indexing.html#returning-a-view-versus-a-copy\n",
      "  cp['GEOID'] = points.apply(lambda p: get_tract_num(tract_data, p))\n",
      "\r",
      "15it [05:05, 22.45s/it]"
     ]
    },
    {
     "name": "stdout",
     "output_type": "stream",
     "text": [
      "Saved 11589 rows.\n",
      "\n",
      "Read file 15.\n"
     ]
    },
    {
     "name": "stderr",
     "output_type": "stream",
     "text": [
      "/Users/julialromero/miniconda3/envs/myenv/lib/python3.9/site-packages/geopandas/geoseries.py:207: FutureWarning: The default dtype for empty Series will be 'object' instead of 'float64' in a future version. Specify a dtype explicitly to silence this warning.\n",
      "  s = pd.Series(data, index=index, name=name, **kwargs)\n",
      "\r",
      "16it [05:23, 20.99s/it]"
     ]
    },
    {
     "name": "stdout",
     "output_type": "stream",
     "text": [
      "Saved 11658 rows.\n",
      "\n",
      "Read file 16.\n"
     ]
    },
    {
     "name": "stderr",
     "output_type": "stream",
     "text": [
      "/Users/julialromero/miniconda3/envs/myenv/lib/python3.9/site-packages/geopandas/geoseries.py:207: FutureWarning: The default dtype for empty Series will be 'object' instead of 'float64' in a future version. Specify a dtype explicitly to silence this warning.\n",
      "  s = pd.Series(data, index=index, name=name, **kwargs)\n",
      "\r",
      "17it [05:41, 20.08s/it]"
     ]
    },
    {
     "name": "stdout",
     "output_type": "stream",
     "text": [
      "Saved 11737 rows.\n",
      "\n",
      "Read file 17.\n"
     ]
    },
    {
     "name": "stderr",
     "output_type": "stream",
     "text": [
      "/Users/julialromero/miniconda3/envs/myenv/lib/python3.9/site-packages/geopandas/geoseries.py:207: FutureWarning: The default dtype for empty Series will be 'object' instead of 'float64' in a future version. Specify a dtype explicitly to silence this warning.\n",
      "  s = pd.Series(data, index=index, name=name, **kwargs)\n",
      "\r",
      "18it [05:58, 19.17s/it]"
     ]
    },
    {
     "name": "stdout",
     "output_type": "stream",
     "text": [
      "Saved 11789 rows.\n",
      "\n",
      "Read file 18.\n"
     ]
    },
    {
     "name": "stderr",
     "output_type": "stream",
     "text": [
      "/Users/julialromero/miniconda3/envs/myenv/lib/python3.9/site-packages/geopandas/geoseries.py:207: FutureWarning: The default dtype for empty Series will be 'object' instead of 'float64' in a future version. Specify a dtype explicitly to silence this warning.\n",
      "  s = pd.Series(data, index=index, name=name, **kwargs)\n",
      "\r",
      "19it [06:16, 18.98s/it]"
     ]
    },
    {
     "name": "stdout",
     "output_type": "stream",
     "text": [
      "Saved 11659 rows.\n",
      "\n",
      "Read file 19.\n"
     ]
    },
    {
     "name": "stderr",
     "output_type": "stream",
     "text": [
      "/Users/julialromero/miniconda3/envs/myenv/lib/python3.9/site-packages/geopandas/geoseries.py:207: FutureWarning: The default dtype for empty Series will be 'object' instead of 'float64' in a future version. Specify a dtype explicitly to silence this warning.\n",
      "  s = pd.Series(data, index=index, name=name, **kwargs)\n",
      "\r",
      "20it [06:34, 18.52s/it]"
     ]
    },
    {
     "name": "stdout",
     "output_type": "stream",
     "text": [
      "Saved 11622 rows.\n",
      "\n",
      "Read file 20.\n"
     ]
    },
    {
     "name": "stderr",
     "output_type": "stream",
     "text": [
      "/Users/julialromero/miniconda3/envs/myenv/lib/python3.9/site-packages/geopandas/geoseries.py:207: FutureWarning: The default dtype for empty Series will be 'object' instead of 'float64' in a future version. Specify a dtype explicitly to silence this warning.\n",
      "  s = pd.Series(data, index=index, name=name, **kwargs)\n",
      "\r",
      "21it [06:53, 18.63s/it]"
     ]
    },
    {
     "name": "stdout",
     "output_type": "stream",
     "text": [
      "Saved 11513 rows.\n",
      "\n",
      "Read file 21.\n"
     ]
    },
    {
     "name": "stderr",
     "output_type": "stream",
     "text": [
      "/Users/julialromero/miniconda3/envs/myenv/lib/python3.9/site-packages/geopandas/geoseries.py:207: FutureWarning: The default dtype for empty Series will be 'object' instead of 'float64' in a future version. Specify a dtype explicitly to silence this warning.\n",
      "  s = pd.Series(data, index=index, name=name, **kwargs)\n",
      "\r",
      "22it [07:11, 18.47s/it]"
     ]
    },
    {
     "name": "stdout",
     "output_type": "stream",
     "text": [
      "Saved 11546 rows.\n",
      "\n",
      "Read file 22.\n"
     ]
    },
    {
     "name": "stderr",
     "output_type": "stream",
     "text": [
      "/Users/julialromero/miniconda3/envs/myenv/lib/python3.9/site-packages/geopandas/geoseries.py:207: FutureWarning: The default dtype for empty Series will be 'object' instead of 'float64' in a future version. Specify a dtype explicitly to silence this warning.\n",
      "  s = pd.Series(data, index=index, name=name, **kwargs)\n",
      "\r",
      "23it [07:42, 22.29s/it]"
     ]
    },
    {
     "name": "stdout",
     "output_type": "stream",
     "text": [
      "Saved 11477 rows.\n",
      "\n",
      "Read file 23.\n"
     ]
    },
    {
     "name": "stderr",
     "output_type": "stream",
     "text": [
      "/Users/julialromero/miniconda3/envs/myenv/lib/python3.9/site-packages/geopandas/geoseries.py:207: FutureWarning: The default dtype for empty Series will be 'object' instead of 'float64' in a future version. Specify a dtype explicitly to silence this warning.\n",
      "  s = pd.Series(data, index=index, name=name, **kwargs)\n",
      "\r",
      "24it [08:10, 23.96s/it]"
     ]
    },
    {
     "name": "stdout",
     "output_type": "stream",
     "text": [
      "Saved 11556 rows.\n",
      "\n",
      "Read file 24.\n"
     ]
    },
    {
     "name": "stderr",
     "output_type": "stream",
     "text": [
      "/Users/julialromero/miniconda3/envs/myenv/lib/python3.9/site-packages/geopandas/geoseries.py:207: FutureWarning: The default dtype for empty Series will be 'object' instead of 'float64' in a future version. Specify a dtype explicitly to silence this warning.\n",
      "  s = pd.Series(data, index=index, name=name, **kwargs)\n",
      "\r",
      "25it [08:30, 22.78s/it]"
     ]
    },
    {
     "name": "stdout",
     "output_type": "stream",
     "text": [
      "Saved 11356 rows.\n",
      "\n",
      "Read file 25.\n"
     ]
    },
    {
     "name": "stderr",
     "output_type": "stream",
     "text": [
      "/Users/julialromero/miniconda3/envs/myenv/lib/python3.9/site-packages/geopandas/geoseries.py:207: FutureWarning: The default dtype for empty Series will be 'object' instead of 'float64' in a future version. Specify a dtype explicitly to silence this warning.\n",
      "  s = pd.Series(data, index=index, name=name, **kwargs)\n",
      "\r",
      "26it [08:49, 21.53s/it]"
     ]
    },
    {
     "name": "stdout",
     "output_type": "stream",
     "text": [
      "Saved 11425 rows.\n",
      "\n",
      "Read file 26.\n"
     ]
    },
    {
     "name": "stderr",
     "output_type": "stream",
     "text": [
      "/Users/julialromero/miniconda3/envs/myenv/lib/python3.9/site-packages/geopandas/geoseries.py:207: FutureWarning: The default dtype for empty Series will be 'object' instead of 'float64' in a future version. Specify a dtype explicitly to silence this warning.\n",
      "  s = pd.Series(data, index=index, name=name, **kwargs)\n",
      "\r",
      "27it [09:13, 22.35s/it]"
     ]
    },
    {
     "name": "stdout",
     "output_type": "stream",
     "text": [
      "Saved 11470 rows.\n",
      "\n",
      "Read file 27.\n"
     ]
    },
    {
     "name": "stderr",
     "output_type": "stream",
     "text": [
      "/Users/julialromero/miniconda3/envs/myenv/lib/python3.9/site-packages/geopandas/geoseries.py:207: FutureWarning: The default dtype for empty Series will be 'object' instead of 'float64' in a future version. Specify a dtype explicitly to silence this warning.\n",
      "  s = pd.Series(data, index=index, name=name, **kwargs)\n",
      "\r",
      "28it [09:39, 23.57s/it]"
     ]
    },
    {
     "name": "stdout",
     "output_type": "stream",
     "text": [
      "Saved 11265 rows.\n",
      "\n",
      "Read file 28.\n"
     ]
    },
    {
     "name": "stderr",
     "output_type": "stream",
     "text": [
      "/Users/julialromero/miniconda3/envs/myenv/lib/python3.9/site-packages/geopandas/geoseries.py:207: FutureWarning: The default dtype for empty Series will be 'object' instead of 'float64' in a future version. Specify a dtype explicitly to silence this warning.\n",
      "  s = pd.Series(data, index=index, name=name, **kwargs)\n",
      "\r",
      "29it [09:57, 21.84s/it]"
     ]
    },
    {
     "name": "stdout",
     "output_type": "stream",
     "text": [
      "Saved 11528 rows.\n",
      "\n",
      "Read file 29.\n"
     ]
    },
    {
     "name": "stderr",
     "output_type": "stream",
     "text": [
      "/Users/julialromero/miniconda3/envs/myenv/lib/python3.9/site-packages/geopandas/geoseries.py:207: FutureWarning: The default dtype for empty Series will be 'object' instead of 'float64' in a future version. Specify a dtype explicitly to silence this warning.\n",
      "  s = pd.Series(data, index=index, name=name, **kwargs)\n",
      "\r",
      "30it [10:16, 20.88s/it]"
     ]
    },
    {
     "name": "stdout",
     "output_type": "stream",
     "text": [
      "Saved 11385 rows.\n",
      "\n",
      "Read file 30.\n"
     ]
    },
    {
     "name": "stderr",
     "output_type": "stream",
     "text": [
      "/Users/julialromero/miniconda3/envs/myenv/lib/python3.9/site-packages/geopandas/geoseries.py:207: FutureWarning: The default dtype for empty Series will be 'object' instead of 'float64' in a future version. Specify a dtype explicitly to silence this warning.\n",
      "  s = pd.Series(data, index=index, name=name, **kwargs)\n",
      "\r",
      "31it [10:34, 20.13s/it]"
     ]
    },
    {
     "name": "stdout",
     "output_type": "stream",
     "text": [
      "Saved 11778 rows.\n",
      "\n",
      "Read file 31.\n"
     ]
    },
    {
     "name": "stderr",
     "output_type": "stream",
     "text": [
      "/Users/julialromero/miniconda3/envs/myenv/lib/python3.9/site-packages/geopandas/geoseries.py:207: FutureWarning: The default dtype for empty Series will be 'object' instead of 'float64' in a future version. Specify a dtype explicitly to silence this warning.\n",
      "  s = pd.Series(data, index=index, name=name, **kwargs)\n",
      "\r",
      "32it [10:55, 20.48s/it]"
     ]
    },
    {
     "name": "stdout",
     "output_type": "stream",
     "text": [
      "Saved 11549 rows.\n",
      "\n",
      "Read file 32.\n"
     ]
    },
    {
     "name": "stderr",
     "output_type": "stream",
     "text": [
      "/Users/julialromero/miniconda3/envs/myenv/lib/python3.9/site-packages/geopandas/geoseries.py:207: FutureWarning: The default dtype for empty Series will be 'object' instead of 'float64' in a future version. Specify a dtype explicitly to silence this warning.\n",
      "  s = pd.Series(data, index=index, name=name, **kwargs)\n",
      "\r",
      "33it [11:21, 21.93s/it]"
     ]
    },
    {
     "name": "stdout",
     "output_type": "stream",
     "text": [
      "CBG length incorrect: CA:59150078\n",
      "Saved 15540 rows.\n",
      "\n",
      "Read file 33.\n"
     ]
    },
    {
     "name": "stderr",
     "output_type": "stream",
     "text": [
      "/Users/julialromero/miniconda3/envs/myenv/lib/python3.9/site-packages/geopandas/geoseries.py:207: FutureWarning: The default dtype for empty Series will be 'object' instead of 'float64' in a future version. Specify a dtype explicitly to silence this warning.\n",
      "  s = pd.Series(data, index=index, name=name, **kwargs)\n",
      "\r",
      "34it [11:38, 20.44s/it]"
     ]
    },
    {
     "name": "stdout",
     "output_type": "stream",
     "text": [
      "Saved 11557 rows.\n",
      "\n",
      "Read file 34.\n"
     ]
    },
    {
     "name": "stderr",
     "output_type": "stream",
     "text": [
      "/Users/julialromero/miniconda3/envs/myenv/lib/python3.9/site-packages/geopandas/geoseries.py:207: FutureWarning: The default dtype for empty Series will be 'object' instead of 'float64' in a future version. Specify a dtype explicitly to silence this warning.\n",
      "  s = pd.Series(data, index=index, name=name, **kwargs)\n",
      "\r",
      "35it [11:56, 19.70s/it]"
     ]
    },
    {
     "name": "stdout",
     "output_type": "stream",
     "text": [
      "Saved 11572 rows.\n",
      "\n",
      "Read file 35.\n"
     ]
    },
    {
     "name": "stderr",
     "output_type": "stream",
     "text": [
      "/Users/julialromero/miniconda3/envs/myenv/lib/python3.9/site-packages/geopandas/geoseries.py:207: FutureWarning: The default dtype for empty Series will be 'object' instead of 'float64' in a future version. Specify a dtype explicitly to silence this warning.\n",
      "  s = pd.Series(data, index=index, name=name, **kwargs)\n",
      "\r",
      "36it [12:15, 19.67s/it]"
     ]
    },
    {
     "name": "stdout",
     "output_type": "stream",
     "text": [
      "Saved 11292 rows.\n",
      "\n",
      "Read file 36.\n"
     ]
    },
    {
     "name": "stderr",
     "output_type": "stream",
     "text": [
      "/Users/julialromero/miniconda3/envs/myenv/lib/python3.9/site-packages/geopandas/geoseries.py:207: FutureWarning: The default dtype for empty Series will be 'object' instead of 'float64' in a future version. Specify a dtype explicitly to silence this warning.\n",
      "  s = pd.Series(data, index=index, name=name, **kwargs)\n",
      "\r",
      "37it [12:38, 20.62s/it]"
     ]
    },
    {
     "name": "stdout",
     "output_type": "stream",
     "text": [
      "Saved 11594 rows.\n",
      "\n",
      "Read file 37.\n"
     ]
    },
    {
     "name": "stderr",
     "output_type": "stream",
     "text": [
      "/Users/julialromero/miniconda3/envs/myenv/lib/python3.9/site-packages/geopandas/geoseries.py:207: FutureWarning: The default dtype for empty Series will be 'object' instead of 'float64' in a future version. Specify a dtype explicitly to silence this warning.\n",
      "  s = pd.Series(data, index=index, name=name, **kwargs)\n",
      "\r",
      "38it [12:56, 19.88s/it]"
     ]
    },
    {
     "name": "stdout",
     "output_type": "stream",
     "text": [
      "Saved 11300 rows.\n",
      "\n",
      "Read file 38.\n"
     ]
    },
    {
     "name": "stderr",
     "output_type": "stream",
     "text": [
      "/Users/julialromero/miniconda3/envs/myenv/lib/python3.9/site-packages/geopandas/array.py:275: ShapelyDeprecationWarning: The array interface is deprecated and will no longer work in Shapely 2.0. Convert the '.coords' to a numpy array instead.\n",
      "  return GeometryArray(vectorized.points_from_xy(x, y, z), crs=crs)\n",
      "/var/folders/b6/qqcnr7cj16sd1r0nn3p4f_sw0000gn/T/ipykernel_89502/3658352350.py:20: SettingWithCopyWarning: \n",
      "A value is trying to be set on a copy of a slice from a DataFrame.\n",
      "Try using .loc[row_indexer,col_indexer] = value instead\n",
      "\n",
      "See the caveats in the documentation: https://pandas.pydata.org/pandas-docs/stable/user_guide/indexing.html#returning-a-view-versus-a-copy\n",
      "  cp['GEOID'] = points.apply(lambda p: get_tract_num(tract_data, p))\n",
      "\r",
      "39it [13:15, 19.46s/it]"
     ]
    },
    {
     "name": "stdout",
     "output_type": "stream",
     "text": [
      "Saved 11455 rows.\n",
      "\n",
      "Read file 39.\n"
     ]
    },
    {
     "name": "stderr",
     "output_type": "stream",
     "text": [
      "/Users/julialromero/miniconda3/envs/myenv/lib/python3.9/site-packages/geopandas/geoseries.py:207: FutureWarning: The default dtype for empty Series will be 'object' instead of 'float64' in a future version. Specify a dtype explicitly to silence this warning.\n",
      "  s = pd.Series(data, index=index, name=name, **kwargs)\n",
      "\r",
      "40it [13:32, 18.84s/it]"
     ]
    },
    {
     "name": "stdout",
     "output_type": "stream",
     "text": [
      "Saved 11553 rows.\n",
      "\n",
      "Read file 40.\n"
     ]
    },
    {
     "name": "stderr",
     "output_type": "stream",
     "text": [
      "/Users/julialromero/miniconda3/envs/myenv/lib/python3.9/site-packages/geopandas/geoseries.py:207: FutureWarning: The default dtype for empty Series will be 'object' instead of 'float64' in a future version. Specify a dtype explicitly to silence this warning.\n",
      "  s = pd.Series(data, index=index, name=name, **kwargs)\n",
      "\r",
      "41it [13:50, 18.72s/it]"
     ]
    },
    {
     "name": "stdout",
     "output_type": "stream",
     "text": [
      "Saved 11713 rows.\n",
      "\n",
      "Read file 41.\n"
     ]
    },
    {
     "name": "stderr",
     "output_type": "stream",
     "text": [
      "/Users/julialromero/miniconda3/envs/myenv/lib/python3.9/site-packages/geopandas/geoseries.py:207: FutureWarning: The default dtype for empty Series will be 'object' instead of 'float64' in a future version. Specify a dtype explicitly to silence this warning.\n",
      "  s = pd.Series(data, index=index, name=name, **kwargs)\n",
      "\r",
      "42it [14:09, 18.67s/it]"
     ]
    },
    {
     "name": "stdout",
     "output_type": "stream",
     "text": [
      "Saved 11441 rows.\n",
      "\n",
      "Read file 42.\n"
     ]
    },
    {
     "name": "stderr",
     "output_type": "stream",
     "text": [
      "/Users/julialromero/miniconda3/envs/myenv/lib/python3.9/site-packages/geopandas/geoseries.py:207: FutureWarning: The default dtype for empty Series will be 'object' instead of 'float64' in a future version. Specify a dtype explicitly to silence this warning.\n",
      "  s = pd.Series(data, index=index, name=name, **kwargs)\n",
      "\r",
      "43it [14:28, 18.70s/it]"
     ]
    },
    {
     "name": "stdout",
     "output_type": "stream",
     "text": [
      "Saved 11469 rows.\n",
      "\n",
      "Read file 43.\n"
     ]
    },
    {
     "name": "stderr",
     "output_type": "stream",
     "text": [
      "/Users/julialromero/miniconda3/envs/myenv/lib/python3.9/site-packages/geopandas/geoseries.py:207: FutureWarning: The default dtype for empty Series will be 'object' instead of 'float64' in a future version. Specify a dtype explicitly to silence this warning.\n",
      "  s = pd.Series(data, index=index, name=name, **kwargs)\n",
      "\r",
      "44it [14:46, 18.61s/it]"
     ]
    },
    {
     "name": "stdout",
     "output_type": "stream",
     "text": [
      "Saved 11301 rows.\n",
      "\n",
      "Read file 44.\n"
     ]
    },
    {
     "name": "stderr",
     "output_type": "stream",
     "text": [
      "/Users/julialromero/miniconda3/envs/myenv/lib/python3.9/site-packages/geopandas/geoseries.py:207: FutureWarning: The default dtype for empty Series will be 'object' instead of 'float64' in a future version. Specify a dtype explicitly to silence this warning.\n",
      "  s = pd.Series(data, index=index, name=name, **kwargs)\n",
      "\r",
      "45it [15:04, 18.43s/it]"
     ]
    },
    {
     "name": "stdout",
     "output_type": "stream",
     "text": [
      "Saved 11298 rows.\n",
      "\n",
      "Read file 45.\n"
     ]
    },
    {
     "name": "stderr",
     "output_type": "stream",
     "text": [
      "/Users/julialromero/miniconda3/envs/myenv/lib/python3.9/site-packages/geopandas/geoseries.py:207: FutureWarning: The default dtype for empty Series will be 'object' instead of 'float64' in a future version. Specify a dtype explicitly to silence this warning.\n",
      "  s = pd.Series(data, index=index, name=name, **kwargs)\n",
      "\r",
      "46it [15:24, 18.77s/it]"
     ]
    },
    {
     "name": "stdout",
     "output_type": "stream",
     "text": [
      "Saved 11463 rows.\n",
      "\n",
      "Read file 46.\n"
     ]
    },
    {
     "name": "stderr",
     "output_type": "stream",
     "text": [
      "/Users/julialromero/miniconda3/envs/myenv/lib/python3.9/site-packages/geopandas/geoseries.py:207: FutureWarning: The default dtype for empty Series will be 'object' instead of 'float64' in a future version. Specify a dtype explicitly to silence this warning.\n",
      "  s = pd.Series(data, index=index, name=name, **kwargs)\n",
      "\r",
      "47it [15:43, 18.93s/it]"
     ]
    },
    {
     "name": "stdout",
     "output_type": "stream",
     "text": [
      "Saved 11504 rows.\n",
      "\n",
      "Read file 47.\n"
     ]
    },
    {
     "name": "stderr",
     "output_type": "stream",
     "text": [
      "/Users/julialromero/miniconda3/envs/myenv/lib/python3.9/site-packages/geopandas/geoseries.py:207: FutureWarning: The default dtype for empty Series will be 'object' instead of 'float64' in a future version. Specify a dtype explicitly to silence this warning.\n",
      "  s = pd.Series(data, index=index, name=name, **kwargs)\n",
      "\r",
      "48it [16:02, 19.01s/it]"
     ]
    },
    {
     "name": "stdout",
     "output_type": "stream",
     "text": [
      "Saved 11438 rows.\n",
      "\n",
      "Read file 48.\n"
     ]
    },
    {
     "name": "stderr",
     "output_type": "stream",
     "text": [
      "/Users/julialromero/miniconda3/envs/myenv/lib/python3.9/site-packages/geopandas/geoseries.py:207: FutureWarning: The default dtype for empty Series will be 'object' instead of 'float64' in a future version. Specify a dtype explicitly to silence this warning.\n",
      "  s = pd.Series(data, index=index, name=name, **kwargs)\n",
      "\r",
      "49it [16:20, 18.52s/it]"
     ]
    },
    {
     "name": "stdout",
     "output_type": "stream",
     "text": [
      "Saved 11356 rows.\n",
      "\n",
      "Read file 49.\n"
     ]
    },
    {
     "name": "stderr",
     "output_type": "stream",
     "text": [
      "/Users/julialromero/miniconda3/envs/myenv/lib/python3.9/site-packages/geopandas/geoseries.py:207: FutureWarning: The default dtype for empty Series will be 'object' instead of 'float64' in a future version. Specify a dtype explicitly to silence this warning.\n",
      "  s = pd.Series(data, index=index, name=name, **kwargs)\n",
      "\r",
      "50it [16:50, 22.09s/it]"
     ]
    },
    {
     "name": "stdout",
     "output_type": "stream",
     "text": [
      "Saved 11337 rows.\n",
      "\n",
      "Read file 50.\n"
     ]
    },
    {
     "name": "stderr",
     "output_type": "stream",
     "text": [
      "/Users/julialromero/miniconda3/envs/myenv/lib/python3.9/site-packages/geopandas/geoseries.py:207: FutureWarning: The default dtype for empty Series will be 'object' instead of 'float64' in a future version. Specify a dtype explicitly to silence this warning.\n",
      "  s = pd.Series(data, index=index, name=name, **kwargs)\n",
      "\r",
      "51it [17:08, 20.93s/it]"
     ]
    },
    {
     "name": "stdout",
     "output_type": "stream",
     "text": [
      "Saved 11379 rows.\n",
      "\n",
      "Read file 51.\n"
     ]
    },
    {
     "name": "stderr",
     "output_type": "stream",
     "text": [
      "/Users/julialromero/miniconda3/envs/myenv/lib/python3.9/site-packages/geopandas/geoseries.py:207: FutureWarning: The default dtype for empty Series will be 'object' instead of 'float64' in a future version. Specify a dtype explicitly to silence this warning.\n",
      "  s = pd.Series(data, index=index, name=name, **kwargs)\n",
      "\r",
      "52it [17:26, 20.02s/it]"
     ]
    },
    {
     "name": "stdout",
     "output_type": "stream",
     "text": [
      "Saved 11315 rows.\n",
      "\n",
      "Read file 52.\n"
     ]
    },
    {
     "name": "stderr",
     "output_type": "stream",
     "text": [
      "/Users/julialromero/miniconda3/envs/myenv/lib/python3.9/site-packages/geopandas/geoseries.py:207: FutureWarning: The default dtype for empty Series will be 'object' instead of 'float64' in a future version. Specify a dtype explicitly to silence this warning.\n",
      "  s = pd.Series(data, index=index, name=name, **kwargs)\n",
      "\r",
      "53it [17:46, 20.07s/it]"
     ]
    },
    {
     "name": "stdout",
     "output_type": "stream",
     "text": [
      "Saved 11518 rows.\n",
      "\n",
      "Read file 53.\n"
     ]
    },
    {
     "name": "stderr",
     "output_type": "stream",
     "text": [
      "/Users/julialromero/miniconda3/envs/myenv/lib/python3.9/site-packages/geopandas/geoseries.py:207: FutureWarning: The default dtype for empty Series will be 'object' instead of 'float64' in a future version. Specify a dtype explicitly to silence this warning.\n",
      "  s = pd.Series(data, index=index, name=name, **kwargs)\n",
      "\r",
      "54it [18:07, 20.22s/it]"
     ]
    },
    {
     "name": "stdout",
     "output_type": "stream",
     "text": [
      "Saved 11432 rows.\n",
      "\n",
      "Read file 54.\n"
     ]
    },
    {
     "name": "stderr",
     "output_type": "stream",
     "text": [
      "/Users/julialromero/miniconda3/envs/myenv/lib/python3.9/site-packages/geopandas/geoseries.py:207: FutureWarning: The default dtype for empty Series will be 'object' instead of 'float64' in a future version. Specify a dtype explicitly to silence this warning.\n",
      "  s = pd.Series(data, index=index, name=name, **kwargs)\n",
      "\r",
      "55it [18:27, 20.11s/it]"
     ]
    },
    {
     "name": "stdout",
     "output_type": "stream",
     "text": [
      "Saved 11777 rows.\n",
      "\n",
      "Read file 55.\n"
     ]
    },
    {
     "name": "stderr",
     "output_type": "stream",
     "text": [
      "/Users/julialromero/miniconda3/envs/myenv/lib/python3.9/site-packages/geopandas/geoseries.py:207: FutureWarning: The default dtype for empty Series will be 'object' instead of 'float64' in a future version. Specify a dtype explicitly to silence this warning.\n",
      "  s = pd.Series(data, index=index, name=name, **kwargs)\n",
      "\r",
      "56it [18:45, 19.63s/it]"
     ]
    },
    {
     "name": "stdout",
     "output_type": "stream",
     "text": [
      "Saved 11408 rows.\n",
      "\n",
      "Read file 56.\n"
     ]
    },
    {
     "name": "stderr",
     "output_type": "stream",
     "text": [
      "/Users/julialromero/miniconda3/envs/myenv/lib/python3.9/site-packages/geopandas/geoseries.py:207: FutureWarning: The default dtype for empty Series will be 'object' instead of 'float64' in a future version. Specify a dtype explicitly to silence this warning.\n",
      "  s = pd.Series(data, index=index, name=name, **kwargs)\n",
      "\r",
      "57it [19:11, 21.57s/it]"
     ]
    },
    {
     "name": "stdout",
     "output_type": "stream",
     "text": [
      "CBG length incorrect: CA:59150078\n",
      "Saved 16243 rows.\n",
      "\n",
      "Read file 57.\n"
     ]
    },
    {
     "name": "stderr",
     "output_type": "stream",
     "text": [
      "/Users/julialromero/miniconda3/envs/myenv/lib/python3.9/site-packages/geopandas/geoseries.py:207: FutureWarning: The default dtype for empty Series will be 'object' instead of 'float64' in a future version. Specify a dtype explicitly to silence this warning.\n",
      "  s = pd.Series(data, index=index, name=name, **kwargs)\n",
      "\r",
      "58it [19:32, 21.40s/it]"
     ]
    },
    {
     "name": "stdout",
     "output_type": "stream",
     "text": [
      "Saved 11516 rows.\n",
      "\n",
      "Read file 58.\n"
     ]
    },
    {
     "name": "stderr",
     "output_type": "stream",
     "text": [
      "/Users/julialromero/miniconda3/envs/myenv/lib/python3.9/site-packages/geopandas/geoseries.py:207: FutureWarning: The default dtype for empty Series will be 'object' instead of 'float64' in a future version. Specify a dtype explicitly to silence this warning.\n",
      "  s = pd.Series(data, index=index, name=name, **kwargs)\n",
      "\r",
      "59it [19:52, 20.94s/it]"
     ]
    },
    {
     "name": "stdout",
     "output_type": "stream",
     "text": [
      "Saved 11499 rows.\n",
      "\n",
      "Read file 59.\n"
     ]
    },
    {
     "name": "stderr",
     "output_type": "stream",
     "text": [
      "/Users/julialromero/miniconda3/envs/myenv/lib/python3.9/site-packages/geopandas/geoseries.py:207: FutureWarning: The default dtype for empty Series will be 'object' instead of 'float64' in a future version. Specify a dtype explicitly to silence this warning.\n",
      "  s = pd.Series(data, index=index, name=name, **kwargs)\n",
      "\r",
      "60it [20:11, 20.42s/it]"
     ]
    },
    {
     "name": "stdout",
     "output_type": "stream",
     "text": [
      "Saved 11135 rows.\n",
      "\n",
      "Read file 60.\n"
     ]
    },
    {
     "name": "stderr",
     "output_type": "stream",
     "text": [
      "/Users/julialromero/miniconda3/envs/myenv/lib/python3.9/site-packages/geopandas/geoseries.py:207: FutureWarning: The default dtype for empty Series will be 'object' instead of 'float64' in a future version. Specify a dtype explicitly to silence this warning.\n",
      "  s = pd.Series(data, index=index, name=name, **kwargs)\n",
      "\r",
      "61it [20:31, 20.18s/it]"
     ]
    },
    {
     "name": "stdout",
     "output_type": "stream",
     "text": [
      "Saved 11601 rows.\n",
      "\n",
      "Read file 61.\n"
     ]
    },
    {
     "name": "stderr",
     "output_type": "stream",
     "text": [
      "/Users/julialromero/miniconda3/envs/myenv/lib/python3.9/site-packages/geopandas/geoseries.py:207: FutureWarning: The default dtype for empty Series will be 'object' instead of 'float64' in a future version. Specify a dtype explicitly to silence this warning.\n",
      "  s = pd.Series(data, index=index, name=name, **kwargs)\n",
      "\r",
      "62it [20:51, 20.16s/it]"
     ]
    },
    {
     "name": "stdout",
     "output_type": "stream",
     "text": [
      "Saved 11300 rows.\n",
      "\n",
      "Read file 62.\n"
     ]
    },
    {
     "name": "stderr",
     "output_type": "stream",
     "text": [
      "/Users/julialromero/miniconda3/envs/myenv/lib/python3.9/site-packages/geopandas/array.py:275: ShapelyDeprecationWarning: The array interface is deprecated and will no longer work in Shapely 2.0. Convert the '.coords' to a numpy array instead.\n",
      "  return GeometryArray(vectorized.points_from_xy(x, y, z), crs=crs)\n",
      "/var/folders/b6/qqcnr7cj16sd1r0nn3p4f_sw0000gn/T/ipykernel_89502/3658352350.py:20: SettingWithCopyWarning: \n",
      "A value is trying to be set on a copy of a slice from a DataFrame.\n",
      "Try using .loc[row_indexer,col_indexer] = value instead\n",
      "\n",
      "See the caveats in the documentation: https://pandas.pydata.org/pandas-docs/stable/user_guide/indexing.html#returning-a-view-versus-a-copy\n",
      "  cp['GEOID'] = points.apply(lambda p: get_tract_num(tract_data, p))\n",
      "\r",
      "63it [21:10, 19.79s/it]"
     ]
    },
    {
     "name": "stdout",
     "output_type": "stream",
     "text": [
      "Saved 11287 rows.\n",
      "\n",
      "Read file 63.\n"
     ]
    },
    {
     "name": "stderr",
     "output_type": "stream",
     "text": [
      "/Users/julialromero/miniconda3/envs/myenv/lib/python3.9/site-packages/geopandas/geoseries.py:207: FutureWarning: The default dtype for empty Series will be 'object' instead of 'float64' in a future version. Specify a dtype explicitly to silence this warning.\n",
      "  s = pd.Series(data, index=index, name=name, **kwargs)\n",
      "\r",
      "64it [21:28, 19.18s/it]"
     ]
    },
    {
     "name": "stdout",
     "output_type": "stream",
     "text": [
      "Saved 11356 rows.\n",
      "\n",
      "Read file 64.\n"
     ]
    },
    {
     "name": "stderr",
     "output_type": "stream",
     "text": [
      "/Users/julialromero/miniconda3/envs/myenv/lib/python3.9/site-packages/geopandas/geoseries.py:207: FutureWarning: The default dtype for empty Series will be 'object' instead of 'float64' in a future version. Specify a dtype explicitly to silence this warning.\n",
      "  s = pd.Series(data, index=index, name=name, **kwargs)\n",
      "\r",
      "65it [21:46, 18.91s/it]"
     ]
    },
    {
     "name": "stdout",
     "output_type": "stream",
     "text": [
      "Saved 11681 rows.\n",
      "\n",
      "Read file 65.\n"
     ]
    },
    {
     "name": "stderr",
     "output_type": "stream",
     "text": [
      "/Users/julialromero/miniconda3/envs/myenv/lib/python3.9/site-packages/geopandas/geoseries.py:207: FutureWarning: The default dtype for empty Series will be 'object' instead of 'float64' in a future version. Specify a dtype explicitly to silence this warning.\n",
      "  s = pd.Series(data, index=index, name=name, **kwargs)\n",
      "\r",
      "66it [22:07, 19.46s/it]"
     ]
    },
    {
     "name": "stdout",
     "output_type": "stream",
     "text": [
      "Saved 11442 rows.\n",
      "\n",
      "Read file 66.\n"
     ]
    },
    {
     "name": "stderr",
     "output_type": "stream",
     "text": [
      "/Users/julialromero/miniconda3/envs/myenv/lib/python3.9/site-packages/geopandas/geoseries.py:207: FutureWarning: The default dtype for empty Series will be 'object' instead of 'float64' in a future version. Specify a dtype explicitly to silence this warning.\n",
      "  s = pd.Series(data, index=index, name=name, **kwargs)\n",
      "\r",
      "67it [22:28, 20.05s/it]"
     ]
    },
    {
     "name": "stdout",
     "output_type": "stream",
     "text": [
      "Saved 11476 rows.\n",
      "\n",
      "Read file 67.\n"
     ]
    },
    {
     "name": "stderr",
     "output_type": "stream",
     "text": [
      "/Users/julialromero/miniconda3/envs/myenv/lib/python3.9/site-packages/geopandas/geoseries.py:207: FutureWarning: The default dtype for empty Series will be 'object' instead of 'float64' in a future version. Specify a dtype explicitly to silence this warning.\n",
      "  s = pd.Series(data, index=index, name=name, **kwargs)\n",
      "\r",
      "68it [22:50, 20.43s/it]"
     ]
    },
    {
     "name": "stdout",
     "output_type": "stream",
     "text": [
      "Saved 11262 rows.\n",
      "\n",
      "Read file 68.\n"
     ]
    },
    {
     "name": "stderr",
     "output_type": "stream",
     "text": [
      "/Users/julialromero/miniconda3/envs/myenv/lib/python3.9/site-packages/geopandas/geoseries.py:207: FutureWarning: The default dtype for empty Series will be 'object' instead of 'float64' in a future version. Specify a dtype explicitly to silence this warning.\n",
      "  s = pd.Series(data, index=index, name=name, **kwargs)\n",
      "\r",
      "69it [23:20, 23.29s/it]"
     ]
    },
    {
     "name": "stdout",
     "output_type": "stream",
     "text": [
      "Saved 11311 rows.\n",
      "\n",
      "Read file 69.\n"
     ]
    },
    {
     "name": "stderr",
     "output_type": "stream",
     "text": [
      "/Users/julialromero/miniconda3/envs/myenv/lib/python3.9/site-packages/geopandas/geoseries.py:207: FutureWarning: The default dtype for empty Series will be 'object' instead of 'float64' in a future version. Specify a dtype explicitly to silence this warning.\n",
      "  s = pd.Series(data, index=index, name=name, **kwargs)\n",
      "\r",
      "70it [23:37, 21.59s/it]"
     ]
    },
    {
     "name": "stdout",
     "output_type": "stream",
     "text": [
      "Saved 11248 rows.\n",
      "\n",
      "Read file 70.\n"
     ]
    },
    {
     "name": "stderr",
     "output_type": "stream",
     "text": [
      "/Users/julialromero/miniconda3/envs/myenv/lib/python3.9/site-packages/geopandas/geoseries.py:207: FutureWarning: The default dtype for empty Series will be 'object' instead of 'float64' in a future version. Specify a dtype explicitly to silence this warning.\n",
      "  s = pd.Series(data, index=index, name=name, **kwargs)\n",
      "\r",
      "71it [23:58, 21.26s/it]"
     ]
    },
    {
     "name": "stdout",
     "output_type": "stream",
     "text": [
      "Saved 11472 rows.\n",
      "\n",
      "Read file 71.\n"
     ]
    },
    {
     "name": "stderr",
     "output_type": "stream",
     "text": [
      "/Users/julialromero/miniconda3/envs/myenv/lib/python3.9/site-packages/geopandas/geoseries.py:207: FutureWarning: The default dtype for empty Series will be 'object' instead of 'float64' in a future version. Specify a dtype explicitly to silence this warning.\n",
      "  s = pd.Series(data, index=index, name=name, **kwargs)\n",
      "\r",
      "72it [24:16, 20.35s/it]"
     ]
    },
    {
     "name": "stdout",
     "output_type": "stream",
     "text": [
      "Saved 11361 rows.\n",
      "\n",
      "Read file 72.\n"
     ]
    },
    {
     "name": "stderr",
     "output_type": "stream",
     "text": [
      "/Users/julialromero/miniconda3/envs/myenv/lib/python3.9/site-packages/geopandas/geoseries.py:207: FutureWarning: The default dtype for empty Series will be 'object' instead of 'float64' in a future version. Specify a dtype explicitly to silence this warning.\n",
      "  s = pd.Series(data, index=index, name=name, **kwargs)\n",
      "\r",
      "73it [24:36, 20.38s/it]"
     ]
    },
    {
     "name": "stdout",
     "output_type": "stream",
     "text": [
      "Saved 11370 rows.\n",
      "\n",
      "Read file 73.\n"
     ]
    },
    {
     "name": "stderr",
     "output_type": "stream",
     "text": [
      "/Users/julialromero/miniconda3/envs/myenv/lib/python3.9/site-packages/geopandas/geoseries.py:207: FutureWarning: The default dtype for empty Series will be 'object' instead of 'float64' in a future version. Specify a dtype explicitly to silence this warning.\n",
      "  s = pd.Series(data, index=index, name=name, **kwargs)\n",
      "\r",
      "74it [24:53, 19.36s/it]"
     ]
    },
    {
     "name": "stdout",
     "output_type": "stream",
     "text": [
      "Saved 11243 rows.\n",
      "\n",
      "Read file 74.\n"
     ]
    },
    {
     "name": "stderr",
     "output_type": "stream",
     "text": [
      "/Users/julialromero/miniconda3/envs/myenv/lib/python3.9/site-packages/geopandas/geoseries.py:207: FutureWarning: The default dtype for empty Series will be 'object' instead of 'float64' in a future version. Specify a dtype explicitly to silence this warning.\n",
      "  s = pd.Series(data, index=index, name=name, **kwargs)\n",
      "\r",
      "75it [25:12, 19.08s/it]"
     ]
    },
    {
     "name": "stdout",
     "output_type": "stream",
     "text": [
      "Saved 11256 rows.\n",
      "\n",
      "Read file 75.\n"
     ]
    },
    {
     "name": "stderr",
     "output_type": "stream",
     "text": [
      "/Users/julialromero/miniconda3/envs/myenv/lib/python3.9/site-packages/geopandas/geoseries.py:207: FutureWarning: The default dtype for empty Series will be 'object' instead of 'float64' in a future version. Specify a dtype explicitly to silence this warning.\n",
      "  s = pd.Series(data, index=index, name=name, **kwargs)\n",
      "\r",
      "76it [25:30, 18.69s/it]"
     ]
    },
    {
     "name": "stdout",
     "output_type": "stream",
     "text": [
      "Saved 11334 rows.\n",
      "\n",
      "Read file 76.\n"
     ]
    },
    {
     "name": "stderr",
     "output_type": "stream",
     "text": [
      "/Users/julialromero/miniconda3/envs/myenv/lib/python3.9/site-packages/geopandas/geoseries.py:207: FutureWarning: The default dtype for empty Series will be 'object' instead of 'float64' in a future version. Specify a dtype explicitly to silence this warning.\n",
      "  s = pd.Series(data, index=index, name=name, **kwargs)\n",
      "\r",
      "77it [26:00, 22.31s/it]"
     ]
    },
    {
     "name": "stdout",
     "output_type": "stream",
     "text": [
      "Saved 11539 rows.\n",
      "\n",
      "Read file 77.\n"
     ]
    },
    {
     "name": "stderr",
     "output_type": "stream",
     "text": [
      "/Users/julialromero/miniconda3/envs/myenv/lib/python3.9/site-packages/geopandas/geoseries.py:207: FutureWarning: The default dtype for empty Series will be 'object' instead of 'float64' in a future version. Specify a dtype explicitly to silence this warning.\n",
      "  s = pd.Series(data, index=index, name=name, **kwargs)\n",
      "\r",
      "78it [26:18, 21.04s/it]"
     ]
    },
    {
     "name": "stdout",
     "output_type": "stream",
     "text": [
      "Saved 11444 rows.\n",
      "\n",
      "Read file 78.\n"
     ]
    },
    {
     "name": "stderr",
     "output_type": "stream",
     "text": [
      "/Users/julialromero/miniconda3/envs/myenv/lib/python3.9/site-packages/geopandas/geoseries.py:207: FutureWarning: The default dtype for empty Series will be 'object' instead of 'float64' in a future version. Specify a dtype explicitly to silence this warning.\n",
      "  s = pd.Series(data, index=index, name=name, **kwargs)\n",
      "\r",
      "79it [26:36, 19.91s/it]"
     ]
    },
    {
     "name": "stdout",
     "output_type": "stream",
     "text": [
      "Saved 11765 rows.\n",
      "\n",
      "Read file 79.\n"
     ]
    },
    {
     "name": "stderr",
     "output_type": "stream",
     "text": [
      "/Users/julialromero/miniconda3/envs/myenv/lib/python3.9/site-packages/geopandas/geoseries.py:207: FutureWarning: The default dtype for empty Series will be 'object' instead of 'float64' in a future version. Specify a dtype explicitly to silence this warning.\n",
      "  s = pd.Series(data, index=index, name=name, **kwargs)\n",
      "\r",
      "80it [26:54, 19.34s/it]"
     ]
    },
    {
     "name": "stdout",
     "output_type": "stream",
     "text": [
      "Saved 11420 rows.\n",
      "\n",
      "Read file 80.\n",
      "CBG length incorrect: CA:59150078\n"
     ]
    },
    {
     "name": "stderr",
     "output_type": "stream",
     "text": [
      "/Users/julialromero/miniconda3/envs/myenv/lib/python3.9/site-packages/geopandas/geoseries.py:207: FutureWarning: The default dtype for empty Series will be 'object' instead of 'float64' in a future version. Specify a dtype explicitly to silence this warning.\n",
      "  s = pd.Series(data, index=index, name=name, **kwargs)\n",
      "\r",
      "81it [27:21, 21.71s/it]"
     ]
    },
    {
     "name": "stdout",
     "output_type": "stream",
     "text": [
      "Saved 17167 rows.\n",
      "\n",
      "Read file 81.\n"
     ]
    },
    {
     "name": "stderr",
     "output_type": "stream",
     "text": [
      "/Users/julialromero/miniconda3/envs/myenv/lib/python3.9/site-packages/geopandas/geoseries.py:207: FutureWarning: The default dtype for empty Series will be 'object' instead of 'float64' in a future version. Specify a dtype explicitly to silence this warning.\n",
      "  s = pd.Series(data, index=index, name=name, **kwargs)\n",
      "\r",
      "82it [27:47, 22.96s/it]"
     ]
    },
    {
     "name": "stdout",
     "output_type": "stream",
     "text": [
      "Saved 11661 rows.\n",
      "\n",
      "Read file 82.\n"
     ]
    },
    {
     "name": "stderr",
     "output_type": "stream",
     "text": [
      "/Users/julialromero/miniconda3/envs/myenv/lib/python3.9/site-packages/geopandas/geoseries.py:207: FutureWarning: The default dtype for empty Series will be 'object' instead of 'float64' in a future version. Specify a dtype explicitly to silence this warning.\n",
      "  s = pd.Series(data, index=index, name=name, **kwargs)\n",
      "\r",
      "83it [28:05, 21.60s/it]"
     ]
    },
    {
     "name": "stdout",
     "output_type": "stream",
     "text": [
      "Saved 11425 rows.\n",
      "\n",
      "Read file 83.\n"
     ]
    },
    {
     "name": "stderr",
     "output_type": "stream",
     "text": [
      "/Users/julialromero/miniconda3/envs/myenv/lib/python3.9/site-packages/geopandas/geoseries.py:207: FutureWarning: The default dtype for empty Series will be 'object' instead of 'float64' in a future version. Specify a dtype explicitly to silence this warning.\n",
      "  s = pd.Series(data, index=index, name=name, **kwargs)\n",
      "\r",
      "84it [28:25, 20.98s/it]"
     ]
    },
    {
     "name": "stdout",
     "output_type": "stream",
     "text": [
      "Saved 11177 rows.\n",
      "\n",
      "Read file 84.\n"
     ]
    },
    {
     "name": "stderr",
     "output_type": "stream",
     "text": [
      "/Users/julialromero/miniconda3/envs/myenv/lib/python3.9/site-packages/geopandas/geoseries.py:207: FutureWarning: The default dtype for empty Series will be 'object' instead of 'float64' in a future version. Specify a dtype explicitly to silence this warning.\n",
      "  s = pd.Series(data, index=index, name=name, **kwargs)\n",
      "\r",
      "85it [28:44, 20.47s/it]"
     ]
    },
    {
     "name": "stdout",
     "output_type": "stream",
     "text": [
      "Saved 11372 rows.\n",
      "\n",
      "Read file 85.\n"
     ]
    },
    {
     "name": "stderr",
     "output_type": "stream",
     "text": [
      "/Users/julialromero/miniconda3/envs/myenv/lib/python3.9/site-packages/geopandas/geoseries.py:207: FutureWarning: The default dtype for empty Series will be 'object' instead of 'float64' in a future version. Specify a dtype explicitly to silence this warning.\n",
      "  s = pd.Series(data, index=index, name=name, **kwargs)\n",
      "\r",
      "86it [29:03, 19.88s/it]"
     ]
    },
    {
     "name": "stdout",
     "output_type": "stream",
     "text": [
      "Saved 11136 rows.\n",
      "\n",
      "Read file 86.\n"
     ]
    },
    {
     "name": "stderr",
     "output_type": "stream",
     "text": [
      "/Users/julialromero/miniconda3/envs/myenv/lib/python3.9/site-packages/geopandas/array.py:275: ShapelyDeprecationWarning: The array interface is deprecated and will no longer work in Shapely 2.0. Convert the '.coords' to a numpy array instead.\n",
      "  return GeometryArray(vectorized.points_from_xy(x, y, z), crs=crs)\n",
      "/var/folders/b6/qqcnr7cj16sd1r0nn3p4f_sw0000gn/T/ipykernel_89502/3658352350.py:20: SettingWithCopyWarning: \n",
      "A value is trying to be set on a copy of a slice from a DataFrame.\n",
      "Try using .loc[row_indexer,col_indexer] = value instead\n",
      "\n",
      "See the caveats in the documentation: https://pandas.pydata.org/pandas-docs/stable/user_guide/indexing.html#returning-a-view-versus-a-copy\n",
      "  cp['GEOID'] = points.apply(lambda p: get_tract_num(tract_data, p))\n",
      "\r",
      "87it [29:27, 21.25s/it]"
     ]
    },
    {
     "name": "stdout",
     "output_type": "stream",
     "text": [
      "Saved 11399 rows.\n",
      "\n",
      "Read file 87.\n"
     ]
    },
    {
     "name": "stderr",
     "output_type": "stream",
     "text": [
      "/Users/julialromero/miniconda3/envs/myenv/lib/python3.9/site-packages/geopandas/geoseries.py:207: FutureWarning: The default dtype for empty Series will be 'object' instead of 'float64' in a future version. Specify a dtype explicitly to silence this warning.\n",
      "  s = pd.Series(data, index=index, name=name, **kwargs)\n",
      "\r",
      "88it [29:45, 20.28s/it]"
     ]
    },
    {
     "name": "stdout",
     "output_type": "stream",
     "text": [
      "Saved 11411 rows.\n",
      "\n",
      "Read file 88.\n"
     ]
    },
    {
     "name": "stderr",
     "output_type": "stream",
     "text": [
      "/Users/julialromero/miniconda3/envs/myenv/lib/python3.9/site-packages/geopandas/geoseries.py:207: FutureWarning: The default dtype for empty Series will be 'object' instead of 'float64' in a future version. Specify a dtype explicitly to silence this warning.\n",
      "  s = pd.Series(data, index=index, name=name, **kwargs)\n",
      "\r",
      "89it [30:05, 20.10s/it]"
     ]
    },
    {
     "name": "stdout",
     "output_type": "stream",
     "text": [
      "Saved 11495 rows.\n",
      "\n",
      "Read file 89.\n"
     ]
    },
    {
     "name": "stderr",
     "output_type": "stream",
     "text": [
      "/Users/julialromero/miniconda3/envs/myenv/lib/python3.9/site-packages/geopandas/geoseries.py:207: FutureWarning: The default dtype for empty Series will be 'object' instead of 'float64' in a future version. Specify a dtype explicitly to silence this warning.\n",
      "  s = pd.Series(data, index=index, name=name, **kwargs)\n",
      "\r",
      "90it [30:24, 19.95s/it]"
     ]
    },
    {
     "name": "stdout",
     "output_type": "stream",
     "text": [
      "Saved 11511 rows.\n",
      "\n",
      "Read file 90.\n"
     ]
    },
    {
     "name": "stderr",
     "output_type": "stream",
     "text": [
      "/Users/julialromero/miniconda3/envs/myenv/lib/python3.9/site-packages/geopandas/geoseries.py:207: FutureWarning: The default dtype for empty Series will be 'object' instead of 'float64' in a future version. Specify a dtype explicitly to silence this warning.\n",
      "  s = pd.Series(data, index=index, name=name, **kwargs)\n",
      "\r",
      "91it [30:43, 19.47s/it]"
     ]
    },
    {
     "name": "stdout",
     "output_type": "stream",
     "text": [
      "Saved 11376 rows.\n",
      "\n",
      "Read file 91.\n"
     ]
    },
    {
     "name": "stderr",
     "output_type": "stream",
     "text": [
      "/Users/julialromero/miniconda3/envs/myenv/lib/python3.9/site-packages/geopandas/geoseries.py:207: FutureWarning: The default dtype for empty Series will be 'object' instead of 'float64' in a future version. Specify a dtype explicitly to silence this warning.\n",
      "  s = pd.Series(data, index=index, name=name, **kwargs)\n",
      "\r",
      "92it [31:11, 22.25s/it]"
     ]
    },
    {
     "name": "stdout",
     "output_type": "stream",
     "text": [
      "Saved 11320 rows.\n",
      "\n",
      "Read file 92.\n"
     ]
    },
    {
     "name": "stderr",
     "output_type": "stream",
     "text": [
      "/Users/julialromero/miniconda3/envs/myenv/lib/python3.9/site-packages/geopandas/geoseries.py:207: FutureWarning: The default dtype for empty Series will be 'object' instead of 'float64' in a future version. Specify a dtype explicitly to silence this warning.\n",
      "  s = pd.Series(data, index=index, name=name, **kwargs)\n",
      "\r",
      "93it [31:30, 21.12s/it]"
     ]
    },
    {
     "name": "stdout",
     "output_type": "stream",
     "text": [
      "Saved 11373 rows.\n",
      "\n",
      "Read file 93.\n"
     ]
    },
    {
     "name": "stderr",
     "output_type": "stream",
     "text": [
      "/Users/julialromero/miniconda3/envs/myenv/lib/python3.9/site-packages/geopandas/geoseries.py:207: FutureWarning: The default dtype for empty Series will be 'object' instead of 'float64' in a future version. Specify a dtype explicitly to silence this warning.\n",
      "  s = pd.Series(data, index=index, name=name, **kwargs)\n",
      "\r",
      "94it [31:48, 20.31s/it]"
     ]
    },
    {
     "name": "stdout",
     "output_type": "stream",
     "text": [
      "Saved 11244 rows.\n",
      "\n",
      "Read file 94.\n"
     ]
    },
    {
     "name": "stderr",
     "output_type": "stream",
     "text": [
      "/Users/julialromero/miniconda3/envs/myenv/lib/python3.9/site-packages/geopandas/geoseries.py:207: FutureWarning: The default dtype for empty Series will be 'object' instead of 'float64' in a future version. Specify a dtype explicitly to silence this warning.\n",
      "  s = pd.Series(data, index=index, name=name, **kwargs)\n",
      "\r",
      "95it [32:06, 19.60s/it]"
     ]
    },
    {
     "name": "stdout",
     "output_type": "stream",
     "text": [
      "Saved 11495 rows.\n",
      "\n",
      "Read file 95.\n"
     ]
    },
    {
     "name": "stderr",
     "output_type": "stream",
     "text": [
      "/Users/julialromero/miniconda3/envs/myenv/lib/python3.9/site-packages/geopandas/geoseries.py:207: FutureWarning: The default dtype for empty Series will be 'object' instead of 'float64' in a future version. Specify a dtype explicitly to silence this warning.\n",
      "  s = pd.Series(data, index=index, name=name, **kwargs)\n",
      "\r",
      "96it [32:32, 21.45s/it]"
     ]
    },
    {
     "name": "stdout",
     "output_type": "stream",
     "text": [
      "Saved 11438 rows.\n",
      "\n",
      "Read file 96.\n"
     ]
    },
    {
     "name": "stderr",
     "output_type": "stream",
     "text": [
      "/Users/julialromero/miniconda3/envs/myenv/lib/python3.9/site-packages/geopandas/geoseries.py:207: FutureWarning: The default dtype for empty Series will be 'object' instead of 'float64' in a future version. Specify a dtype explicitly to silence this warning.\n",
      "  s = pd.Series(data, index=index, name=name, **kwargs)\n",
      "\r",
      "97it [32:51, 20.80s/it]"
     ]
    },
    {
     "name": "stdout",
     "output_type": "stream",
     "text": [
      "Saved 11337 rows.\n",
      "\n",
      "Read file 97.\n"
     ]
    },
    {
     "name": "stderr",
     "output_type": "stream",
     "text": [
      "/Users/julialromero/miniconda3/envs/myenv/lib/python3.9/site-packages/geopandas/geoseries.py:207: FutureWarning: The default dtype for empty Series will be 'object' instead of 'float64' in a future version. Specify a dtype explicitly to silence this warning.\n",
      "  s = pd.Series(data, index=index, name=name, **kwargs)\n",
      "\r",
      "98it [33:20, 23.23s/it]"
     ]
    },
    {
     "name": "stdout",
     "output_type": "stream",
     "text": [
      "Saved 11278 rows.\n",
      "\n",
      "Read file 98.\n"
     ]
    },
    {
     "name": "stderr",
     "output_type": "stream",
     "text": [
      "/Users/julialromero/miniconda3/envs/myenv/lib/python3.9/site-packages/geopandas/geoseries.py:207: FutureWarning: The default dtype for empty Series will be 'object' instead of 'float64' in a future version. Specify a dtype explicitly to silence this warning.\n",
      "  s = pd.Series(data, index=index, name=name, **kwargs)\n",
      "\r",
      "99it [33:37, 21.45s/it]"
     ]
    },
    {
     "name": "stdout",
     "output_type": "stream",
     "text": [
      "Saved 11238 rows.\n",
      "\n",
      "Read file 99.\n"
     ]
    },
    {
     "name": "stderr",
     "output_type": "stream",
     "text": [
      "/Users/julialromero/miniconda3/envs/myenv/lib/python3.9/site-packages/geopandas/geoseries.py:207: FutureWarning: The default dtype for empty Series will be 'object' instead of 'float64' in a future version. Specify a dtype explicitly to silence this warning.\n",
      "  s = pd.Series(data, index=index, name=name, **kwargs)\n",
      "\r",
      "100it [33:56, 20.51s/it]"
     ]
    },
    {
     "name": "stdout",
     "output_type": "stream",
     "text": [
      "Saved 11286 rows.\n",
      "\n",
      "Read file 100.\n"
     ]
    },
    {
     "name": "stderr",
     "output_type": "stream",
     "text": [
      "/Users/julialromero/miniconda3/envs/myenv/lib/python3.9/site-packages/geopandas/geoseries.py:207: FutureWarning: The default dtype for empty Series will be 'object' instead of 'float64' in a future version. Specify a dtype explicitly to silence this warning.\n",
      "  s = pd.Series(data, index=index, name=name, **kwargs)\n",
      "\r",
      "101it [34:27, 23.72s/it]"
     ]
    },
    {
     "name": "stdout",
     "output_type": "stream",
     "text": [
      "Saved 11508 rows.\n",
      "\n",
      "Read file 101.\n"
     ]
    },
    {
     "name": "stderr",
     "output_type": "stream",
     "text": [
      "/Users/julialromero/miniconda3/envs/myenv/lib/python3.9/site-packages/geopandas/geoseries.py:207: FutureWarning: The default dtype for empty Series will be 'object' instead of 'float64' in a future version. Specify a dtype explicitly to silence this warning.\n",
      "  s = pd.Series(data, index=index, name=name, **kwargs)\n",
      "\r",
      "102it [35:02, 27.03s/it]"
     ]
    },
    {
     "name": "stdout",
     "output_type": "stream",
     "text": [
      "Saved 11482 rows.\n",
      "\n",
      "Read file 102.\n"
     ]
    },
    {
     "name": "stderr",
     "output_type": "stream",
     "text": [
      "/Users/julialromero/miniconda3/envs/myenv/lib/python3.9/site-packages/geopandas/geoseries.py:207: FutureWarning: The default dtype for empty Series will be 'object' instead of 'float64' in a future version. Specify a dtype explicitly to silence this warning.\n",
      "  s = pd.Series(data, index=index, name=name, **kwargs)\n",
      "\r",
      "103it [35:26, 26.24s/it]"
     ]
    },
    {
     "name": "stdout",
     "output_type": "stream",
     "text": [
      "Saved 11769 rows.\n",
      "\n",
      "Read file 103.\n"
     ]
    },
    {
     "name": "stderr",
     "output_type": "stream",
     "text": [
      "/Users/julialromero/miniconda3/envs/myenv/lib/python3.9/site-packages/geopandas/geoseries.py:207: FutureWarning: The default dtype for empty Series will be 'object' instead of 'float64' in a future version. Specify a dtype explicitly to silence this warning.\n",
      "  s = pd.Series(data, index=index, name=name, **kwargs)\n",
      "\r",
      "104it [35:44, 23.80s/it]"
     ]
    },
    {
     "name": "stdout",
     "output_type": "stream",
     "text": [
      "Saved 11444 rows.\n",
      "\n",
      "Read file 104.\n",
      "CBG length incorrect: CA:59150078\n"
     ]
    },
    {
     "name": "stderr",
     "output_type": "stream",
     "text": [
      "/Users/julialromero/miniconda3/envs/myenv/lib/python3.9/site-packages/geopandas/geoseries.py:207: FutureWarning: The default dtype for empty Series will be 'object' instead of 'float64' in a future version. Specify a dtype explicitly to silence this warning.\n",
      "  s = pd.Series(data, index=index, name=name, **kwargs)\n",
      "\r",
      "105it [36:16, 26.13s/it]"
     ]
    },
    {
     "name": "stdout",
     "output_type": "stream",
     "text": [
      "Saved 17138 rows.\n",
      "\n",
      "Read file 105.\n"
     ]
    },
    {
     "name": "stderr",
     "output_type": "stream",
     "text": [
      "/Users/julialromero/miniconda3/envs/myenv/lib/python3.9/site-packages/geopandas/geoseries.py:207: FutureWarning: The default dtype for empty Series will be 'object' instead of 'float64' in a future version. Specify a dtype explicitly to silence this warning.\n",
      "  s = pd.Series(data, index=index, name=name, **kwargs)\n",
      "\r",
      "106it [36:36, 24.27s/it]"
     ]
    },
    {
     "name": "stdout",
     "output_type": "stream",
     "text": [
      "Saved 11712 rows.\n",
      "\n",
      "Read file 106.\n"
     ]
    },
    {
     "name": "stderr",
     "output_type": "stream",
     "text": [
      "/Users/julialromero/miniconda3/envs/myenv/lib/python3.9/site-packages/geopandas/geoseries.py:207: FutureWarning: The default dtype for empty Series will be 'object' instead of 'float64' in a future version. Specify a dtype explicitly to silence this warning.\n",
      "  s = pd.Series(data, index=index, name=name, **kwargs)\n",
      "\r",
      "107it [36:55, 22.86s/it]"
     ]
    },
    {
     "name": "stdout",
     "output_type": "stream",
     "text": [
      "Saved 11451 rows.\n",
      "\n",
      "Read file 107.\n"
     ]
    },
    {
     "name": "stderr",
     "output_type": "stream",
     "text": [
      "/Users/julialromero/miniconda3/envs/myenv/lib/python3.9/site-packages/geopandas/geoseries.py:207: FutureWarning: The default dtype for empty Series will be 'object' instead of 'float64' in a future version. Specify a dtype explicitly to silence this warning.\n",
      "  s = pd.Series(data, index=index, name=name, **kwargs)\n",
      "\r",
      "108it [37:13, 21.42s/it]"
     ]
    },
    {
     "name": "stdout",
     "output_type": "stream",
     "text": [
      "Saved 11174 rows.\n",
      "\n",
      "Read file 108.\n"
     ]
    },
    {
     "name": "stderr",
     "output_type": "stream",
     "text": [
      "/Users/julialromero/miniconda3/envs/myenv/lib/python3.9/site-packages/geopandas/geoseries.py:207: FutureWarning: The default dtype for empty Series will be 'object' instead of 'float64' in a future version. Specify a dtype explicitly to silence this warning.\n",
      "  s = pd.Series(data, index=index, name=name, **kwargs)\n",
      "\r",
      "109it [37:36, 21.88s/it]"
     ]
    },
    {
     "name": "stdout",
     "output_type": "stream",
     "text": [
      "Saved 11424 rows.\n",
      "\n",
      "Read file 109.\n"
     ]
    },
    {
     "name": "stderr",
     "output_type": "stream",
     "text": [
      "/Users/julialromero/miniconda3/envs/myenv/lib/python3.9/site-packages/geopandas/geoseries.py:207: FutureWarning: The default dtype for empty Series will be 'object' instead of 'float64' in a future version. Specify a dtype explicitly to silence this warning.\n",
      "  s = pd.Series(data, index=index, name=name, **kwargs)\n",
      "\r",
      "110it [38:03, 23.29s/it]"
     ]
    },
    {
     "name": "stdout",
     "output_type": "stream",
     "text": [
      "Saved 11151 rows.\n",
      "\n",
      "Read file 110.\n"
     ]
    },
    {
     "name": "stderr",
     "output_type": "stream",
     "text": [
      "/Users/julialromero/miniconda3/envs/myenv/lib/python3.9/site-packages/geopandas/array.py:275: ShapelyDeprecationWarning: The array interface is deprecated and will no longer work in Shapely 2.0. Convert the '.coords' to a numpy array instead.\n",
      "  return GeometryArray(vectorized.points_from_xy(x, y, z), crs=crs)\n",
      "/var/folders/b6/qqcnr7cj16sd1r0nn3p4f_sw0000gn/T/ipykernel_89502/3658352350.py:20: SettingWithCopyWarning: \n",
      "A value is trying to be set on a copy of a slice from a DataFrame.\n",
      "Try using .loc[row_indexer,col_indexer] = value instead\n",
      "\n",
      "See the caveats in the documentation: https://pandas.pydata.org/pandas-docs/stable/user_guide/indexing.html#returning-a-view-versus-a-copy\n",
      "  cp['GEOID'] = points.apply(lambda p: get_tract_num(tract_data, p))\n",
      "\r",
      "111it [38:21, 21.72s/it]"
     ]
    },
    {
     "name": "stdout",
     "output_type": "stream",
     "text": [
      "Saved 11455 rows.\n",
      "\n",
      "Read file 111.\n"
     ]
    },
    {
     "name": "stderr",
     "output_type": "stream",
     "text": [
      "/Users/julialromero/miniconda3/envs/myenv/lib/python3.9/site-packages/geopandas/geoseries.py:207: FutureWarning: The default dtype for empty Series will be 'object' instead of 'float64' in a future version. Specify a dtype explicitly to silence this warning.\n",
      "  s = pd.Series(data, index=index, name=name, **kwargs)\n",
      "\r",
      "112it [38:51, 24.18s/it]"
     ]
    },
    {
     "name": "stdout",
     "output_type": "stream",
     "text": [
      "Saved 11387 rows.\n",
      "\n",
      "Read file 112.\n"
     ]
    },
    {
     "name": "stderr",
     "output_type": "stream",
     "text": [
      "/Users/julialromero/miniconda3/envs/myenv/lib/python3.9/site-packages/geopandas/geoseries.py:207: FutureWarning: The default dtype for empty Series will be 'object' instead of 'float64' in a future version. Specify a dtype explicitly to silence this warning.\n",
      "  s = pd.Series(data, index=index, name=name, **kwargs)\n",
      "\r",
      "113it [39:11, 22.99s/it]"
     ]
    },
    {
     "name": "stdout",
     "output_type": "stream",
     "text": [
      "Saved 11478 rows.\n",
      "\n",
      "Read file 113.\n"
     ]
    },
    {
     "name": "stderr",
     "output_type": "stream",
     "text": [
      "/Users/julialromero/miniconda3/envs/myenv/lib/python3.9/site-packages/geopandas/geoseries.py:207: FutureWarning: The default dtype for empty Series will be 'object' instead of 'float64' in a future version. Specify a dtype explicitly to silence this warning.\n",
      "  s = pd.Series(data, index=index, name=name, **kwargs)\n",
      "\r",
      "114it [39:31, 22.04s/it]"
     ]
    },
    {
     "name": "stdout",
     "output_type": "stream",
     "text": [
      "Saved 11523 rows.\n",
      "\n",
      "Read file 114.\n"
     ]
    },
    {
     "name": "stderr",
     "output_type": "stream",
     "text": [
      "/Users/julialromero/miniconda3/envs/myenv/lib/python3.9/site-packages/geopandas/geoseries.py:207: FutureWarning: The default dtype for empty Series will be 'object' instead of 'float64' in a future version. Specify a dtype explicitly to silence this warning.\n",
      "  s = pd.Series(data, index=index, name=name, **kwargs)\n",
      "\r",
      "115it [39:50, 21.24s/it]"
     ]
    },
    {
     "name": "stdout",
     "output_type": "stream",
     "text": [
      "Saved 11399 rows.\n",
      "\n",
      "Read file 115.\n"
     ]
    },
    {
     "name": "stderr",
     "output_type": "stream",
     "text": [
      "/Users/julialromero/miniconda3/envs/myenv/lib/python3.9/site-packages/geopandas/geoseries.py:207: FutureWarning: The default dtype for empty Series will be 'object' instead of 'float64' in a future version. Specify a dtype explicitly to silence this warning.\n",
      "  s = pd.Series(data, index=index, name=name, **kwargs)\n",
      "\r",
      "116it [40:23, 24.54s/it]"
     ]
    },
    {
     "name": "stdout",
     "output_type": "stream",
     "text": [
      "Saved 11306 rows.\n",
      "\n",
      "Read file 116.\n"
     ]
    },
    {
     "name": "stderr",
     "output_type": "stream",
     "text": [
      "/Users/julialromero/miniconda3/envs/myenv/lib/python3.9/site-packages/geopandas/geoseries.py:207: FutureWarning: The default dtype for empty Series will be 'object' instead of 'float64' in a future version. Specify a dtype explicitly to silence this warning.\n",
      "  s = pd.Series(data, index=index, name=name, **kwargs)\n",
      "\r",
      "117it [40:43, 23.28s/it]"
     ]
    },
    {
     "name": "stdout",
     "output_type": "stream",
     "text": [
      "Saved 11356 rows.\n",
      "\n",
      "Read file 117.\n"
     ]
    },
    {
     "name": "stderr",
     "output_type": "stream",
     "text": [
      "/Users/julialromero/miniconda3/envs/myenv/lib/python3.9/site-packages/geopandas/geoseries.py:207: FutureWarning: The default dtype for empty Series will be 'object' instead of 'float64' in a future version. Specify a dtype explicitly to silence this warning.\n",
      "  s = pd.Series(data, index=index, name=name, **kwargs)\n",
      "\r",
      "118it [41:04, 22.53s/it]"
     ]
    },
    {
     "name": "stdout",
     "output_type": "stream",
     "text": [
      "Saved 11242 rows.\n",
      "\n",
      "Read file 118.\n"
     ]
    },
    {
     "name": "stderr",
     "output_type": "stream",
     "text": [
      "/Users/julialromero/miniconda3/envs/myenv/lib/python3.9/site-packages/geopandas/geoseries.py:207: FutureWarning: The default dtype for empty Series will be 'object' instead of 'float64' in a future version. Specify a dtype explicitly to silence this warning.\n",
      "  s = pd.Series(data, index=index, name=name, **kwargs)\n",
      "\r",
      "119it [41:44, 27.79s/it]"
     ]
    },
    {
     "name": "stdout",
     "output_type": "stream",
     "text": [
      "Saved 11512 rows.\n",
      "\n",
      "Read file 119.\n"
     ]
    },
    {
     "name": "stderr",
     "output_type": "stream",
     "text": [
      "/Users/julialromero/miniconda3/envs/myenv/lib/python3.9/site-packages/geopandas/geoseries.py:207: FutureWarning: The default dtype for empty Series will be 'object' instead of 'float64' in a future version. Specify a dtype explicitly to silence this warning.\n",
      "  s = pd.Series(data, index=index, name=name, **kwargs)\n",
      "120it [42:07, 21.06s/it]\n",
      "0it [00:00, ?it/s]"
     ]
    },
    {
     "name": "stdout",
     "output_type": "stream",
     "text": [
      "Saved 11390 rows.\n",
      "--------done: month 08--------\n",
      "\n",
      "Read file 0.\n"
     ]
    },
    {
     "name": "stderr",
     "output_type": "stream",
     "text": [
      "/Users/julialromero/miniconda3/envs/myenv/lib/python3.9/site-packages/geopandas/geoseries.py:207: FutureWarning: The default dtype for empty Series will be 'object' instead of 'float64' in a future version. Specify a dtype explicitly to silence this warning.\n",
      "  s = pd.Series(data, index=index, name=name, **kwargs)\n",
      "\r",
      "1it [00:21, 21.56s/it]"
     ]
    },
    {
     "name": "stdout",
     "output_type": "stream",
     "text": [
      "Saved 11866 rows.\n",
      "\n",
      "Read file 1.\n"
     ]
    },
    {
     "name": "stderr",
     "output_type": "stream",
     "text": [
      "/Users/julialromero/miniconda3/envs/myenv/lib/python3.9/site-packages/geopandas/geoseries.py:207: FutureWarning: The default dtype for empty Series will be 'object' instead of 'float64' in a future version. Specify a dtype explicitly to silence this warning.\n",
      "  s = pd.Series(data, index=index, name=name, **kwargs)\n",
      "\r",
      "2it [00:52, 27.34s/it]"
     ]
    },
    {
     "name": "stdout",
     "output_type": "stream",
     "text": [
      "Saved 11757 rows.\n",
      "\n",
      "Read file 2.\n"
     ]
    },
    {
     "name": "stderr",
     "output_type": "stream",
     "text": [
      "/Users/julialromero/miniconda3/envs/myenv/lib/python3.9/site-packages/geopandas/geoseries.py:207: FutureWarning: The default dtype for empty Series will be 'object' instead of 'float64' in a future version. Specify a dtype explicitly to silence this warning.\n",
      "  s = pd.Series(data, index=index, name=name, **kwargs)\n",
      "\r",
      "3it [01:11, 23.34s/it]"
     ]
    },
    {
     "name": "stdout",
     "output_type": "stream",
     "text": [
      "Saved 11681 rows.\n",
      "\n",
      "Read file 3.\n"
     ]
    },
    {
     "name": "stderr",
     "output_type": "stream",
     "text": [
      "/Users/julialromero/miniconda3/envs/myenv/lib/python3.9/site-packages/geopandas/geoseries.py:207: FutureWarning: The default dtype for empty Series will be 'object' instead of 'float64' in a future version. Specify a dtype explicitly to silence this warning.\n",
      "  s = pd.Series(data, index=index, name=name, **kwargs)\n",
      "\r",
      "4it [01:29, 21.19s/it]"
     ]
    },
    {
     "name": "stdout",
     "output_type": "stream",
     "text": [
      "Saved 11825 rows.\n",
      "\n",
      "Read file 4.\n"
     ]
    },
    {
     "name": "stderr",
     "output_type": "stream",
     "text": [
      "/Users/julialromero/miniconda3/envs/myenv/lib/python3.9/site-packages/geopandas/geoseries.py:207: FutureWarning: The default dtype for empty Series will be 'object' instead of 'float64' in a future version. Specify a dtype explicitly to silence this warning.\n",
      "  s = pd.Series(data, index=index, name=name, **kwargs)\n",
      "\r",
      "5it [01:51, 21.33s/it]"
     ]
    },
    {
     "name": "stdout",
     "output_type": "stream",
     "text": [
      "Saved 11808 rows.\n",
      "\n",
      "Read file 5.\n"
     ]
    },
    {
     "name": "stderr",
     "output_type": "stream",
     "text": [
      "/Users/julialromero/miniconda3/envs/myenv/lib/python3.9/site-packages/geopandas/geoseries.py:207: FutureWarning: The default dtype for empty Series will be 'object' instead of 'float64' in a future version. Specify a dtype explicitly to silence this warning.\n",
      "  s = pd.Series(data, index=index, name=name, **kwargs)\n",
      "\r",
      "6it [02:21, 24.61s/it]"
     ]
    },
    {
     "name": "stdout",
     "output_type": "stream",
     "text": [
      "Saved 11801 rows.\n",
      "\n",
      "Read file 6.\n"
     ]
    },
    {
     "name": "stderr",
     "output_type": "stream",
     "text": [
      "/Users/julialromero/miniconda3/envs/myenv/lib/python3.9/site-packages/geopandas/geoseries.py:207: FutureWarning: The default dtype for empty Series will be 'object' instead of 'float64' in a future version. Specify a dtype explicitly to silence this warning.\n",
      "  s = pd.Series(data, index=index, name=name, **kwargs)\n",
      "\r",
      "7it [02:40, 22.70s/it]"
     ]
    },
    {
     "name": "stdout",
     "output_type": "stream",
     "text": [
      "Saved 12127 rows.\n",
      "\n",
      "Read file 7.\n"
     ]
    },
    {
     "name": "stderr",
     "output_type": "stream",
     "text": [
      "/Users/julialromero/miniconda3/envs/myenv/lib/python3.9/site-packages/geopandas/geoseries.py:207: FutureWarning: The default dtype for empty Series will be 'object' instead of 'float64' in a future version. Specify a dtype explicitly to silence this warning.\n",
      "  s = pd.Series(data, index=index, name=name, **kwargs)\n",
      "\r",
      "8it [03:10, 25.01s/it]"
     ]
    },
    {
     "name": "stdout",
     "output_type": "stream",
     "text": [
      "Saved 11908 rows.\n",
      "\n",
      "Read file 8.\n",
      "CBG length incorrect: CA:59150078\n"
     ]
    },
    {
     "name": "stderr",
     "output_type": "stream",
     "text": [
      "/Users/julialromero/miniconda3/envs/myenv/lib/python3.9/site-packages/geopandas/geoseries.py:207: FutureWarning: The default dtype for empty Series will be 'object' instead of 'float64' in a future version. Specify a dtype explicitly to silence this warning.\n",
      "  s = pd.Series(data, index=index, name=name, **kwargs)\n",
      "9it [03:52, 30.30s/it]"
     ]
    },
    {
     "name": "stdout",
     "output_type": "stream",
     "text": [
      "Saved 18761 rows.\n",
      "\n",
      "Read file 9.\n"
     ]
    },
    {
     "name": "stderr",
     "output_type": "stream",
     "text": [
      "/Users/julialromero/miniconda3/envs/myenv/lib/python3.9/site-packages/geopandas/geoseries.py:207: FutureWarning: The default dtype for empty Series will be 'object' instead of 'float64' in a future version. Specify a dtype explicitly to silence this warning.\n",
      "  s = pd.Series(data, index=index, name=name, **kwargs)\n",
      "\r",
      "10it [04:12, 27.23s/it]"
     ]
    },
    {
     "name": "stdout",
     "output_type": "stream",
     "text": [
      "Saved 12113 rows.\n",
      "\n",
      "Read file 10.\n"
     ]
    },
    {
     "name": "stderr",
     "output_type": "stream",
     "text": [
      "/Users/julialromero/miniconda3/envs/myenv/lib/python3.9/site-packages/geopandas/geoseries.py:207: FutureWarning: The default dtype for empty Series will be 'object' instead of 'float64' in a future version. Specify a dtype explicitly to silence this warning.\n",
      "  s = pd.Series(data, index=index, name=name, **kwargs)\n",
      "\r",
      "11it [04:31, 24.67s/it]"
     ]
    },
    {
     "name": "stdout",
     "output_type": "stream",
     "text": [
      "Saved 11742 rows.\n",
      "\n",
      "Read file 11.\n"
     ]
    },
    {
     "name": "stderr",
     "output_type": "stream",
     "text": [
      "/Users/julialromero/miniconda3/envs/myenv/lib/python3.9/site-packages/geopandas/geoseries.py:207: FutureWarning: The default dtype for empty Series will be 'object' instead of 'float64' in a future version. Specify a dtype explicitly to silence this warning.\n",
      "  s = pd.Series(data, index=index, name=name, **kwargs)\n",
      "\r",
      "12it [04:50, 22.80s/it]"
     ]
    },
    {
     "name": "stdout",
     "output_type": "stream",
     "text": [
      "Saved 11642 rows.\n",
      "\n",
      "Read file 12.\n"
     ]
    },
    {
     "name": "stderr",
     "output_type": "stream",
     "text": [
      "/Users/julialromero/miniconda3/envs/myenv/lib/python3.9/site-packages/geopandas/geoseries.py:207: FutureWarning: The default dtype for empty Series will be 'object' instead of 'float64' in a future version. Specify a dtype explicitly to silence this warning.\n",
      "  s = pd.Series(data, index=index, name=name, **kwargs)\n",
      "\r",
      "13it [05:09, 21.62s/it]"
     ]
    },
    {
     "name": "stdout",
     "output_type": "stream",
     "text": [
      "Saved 11901 rows.\n",
      "\n",
      "Read file 13.\n"
     ]
    },
    {
     "name": "stderr",
     "output_type": "stream",
     "text": [
      "/Users/julialromero/miniconda3/envs/myenv/lib/python3.9/site-packages/geopandas/geoseries.py:207: FutureWarning: The default dtype for empty Series will be 'object' instead of 'float64' in a future version. Specify a dtype explicitly to silence this warning.\n",
      "  s = pd.Series(data, index=index, name=name, **kwargs)\n",
      "\r",
      "14it [05:27, 20.65s/it]"
     ]
    },
    {
     "name": "stdout",
     "output_type": "stream",
     "text": [
      "Saved 11562 rows.\n",
      "\n",
      "Read file 14.\n"
     ]
    },
    {
     "name": "stderr",
     "output_type": "stream",
     "text": [
      "/Users/julialromero/miniconda3/envs/myenv/lib/python3.9/site-packages/geopandas/array.py:275: ShapelyDeprecationWarning: The array interface is deprecated and will no longer work in Shapely 2.0. Convert the '.coords' to a numpy array instead.\n",
      "  return GeometryArray(vectorized.points_from_xy(x, y, z), crs=crs)\n",
      "/var/folders/b6/qqcnr7cj16sd1r0nn3p4f_sw0000gn/T/ipykernel_89502/3658352350.py:20: SettingWithCopyWarning: \n",
      "A value is trying to be set on a copy of a slice from a DataFrame.\n",
      "Try using .loc[row_indexer,col_indexer] = value instead\n",
      "\n",
      "See the caveats in the documentation: https://pandas.pydata.org/pandas-docs/stable/user_guide/indexing.html#returning-a-view-versus-a-copy\n",
      "  cp['GEOID'] = points.apply(lambda p: get_tract_num(tract_data, p))\n",
      "\r",
      "15it [05:48, 20.83s/it]"
     ]
    },
    {
     "name": "stdout",
     "output_type": "stream",
     "text": [
      "Saved 11871 rows.\n",
      "\n",
      "Read file 15.\n"
     ]
    },
    {
     "name": "stderr",
     "output_type": "stream",
     "text": [
      "/Users/julialromero/miniconda3/envs/myenv/lib/python3.9/site-packages/geopandas/geoseries.py:207: FutureWarning: The default dtype for empty Series will be 'object' instead of 'float64' in a future version. Specify a dtype explicitly to silence this warning.\n",
      "  s = pd.Series(data, index=index, name=name, **kwargs)\n",
      "\r",
      "16it [06:06, 19.99s/it]"
     ]
    },
    {
     "name": "stdout",
     "output_type": "stream",
     "text": [
      "Saved 11902 rows.\n",
      "\n",
      "Read file 16.\n"
     ]
    },
    {
     "name": "stderr",
     "output_type": "stream",
     "text": [
      "/Users/julialromero/miniconda3/envs/myenv/lib/python3.9/site-packages/geopandas/geoseries.py:207: FutureWarning: The default dtype for empty Series will be 'object' instead of 'float64' in a future version. Specify a dtype explicitly to silence this warning.\n",
      "  s = pd.Series(data, index=index, name=name, **kwargs)\n",
      "\r",
      "17it [06:26, 19.82s/it]"
     ]
    },
    {
     "name": "stdout",
     "output_type": "stream",
     "text": [
      "Saved 11950 rows.\n",
      "\n",
      "Read file 17.\n"
     ]
    },
    {
     "name": "stderr",
     "output_type": "stream",
     "text": [
      "/Users/julialromero/miniconda3/envs/myenv/lib/python3.9/site-packages/geopandas/geoseries.py:207: FutureWarning: The default dtype for empty Series will be 'object' instead of 'float64' in a future version. Specify a dtype explicitly to silence this warning.\n",
      "  s = pd.Series(data, index=index, name=name, **kwargs)\n",
      "\r",
      "18it [06:45, 19.65s/it]"
     ]
    },
    {
     "name": "stdout",
     "output_type": "stream",
     "text": [
      "Saved 12023 rows.\n",
      "\n",
      "Read file 18.\n"
     ]
    },
    {
     "name": "stderr",
     "output_type": "stream",
     "text": [
      "/Users/julialromero/miniconda3/envs/myenv/lib/python3.9/site-packages/geopandas/geoseries.py:207: FutureWarning: The default dtype for empty Series will be 'object' instead of 'float64' in a future version. Specify a dtype explicitly to silence this warning.\n",
      "  s = pd.Series(data, index=index, name=name, **kwargs)\n",
      "\r",
      "19it [07:04, 19.40s/it]"
     ]
    },
    {
     "name": "stdout",
     "output_type": "stream",
     "text": [
      "Saved 11821 rows.\n",
      "\n",
      "Read file 19.\n"
     ]
    },
    {
     "name": "stderr",
     "output_type": "stream",
     "text": [
      "/Users/julialromero/miniconda3/envs/myenv/lib/python3.9/site-packages/geopandas/geoseries.py:207: FutureWarning: The default dtype for empty Series will be 'object' instead of 'float64' in a future version. Specify a dtype explicitly to silence this warning.\n",
      "  s = pd.Series(data, index=index, name=name, **kwargs)\n",
      "\r",
      "20it [07:27, 20.52s/it]"
     ]
    },
    {
     "name": "stdout",
     "output_type": "stream",
     "text": [
      "Saved 11860 rows.\n",
      "\n",
      "Read file 20.\n"
     ]
    },
    {
     "name": "stderr",
     "output_type": "stream",
     "text": [
      "/Users/julialromero/miniconda3/envs/myenv/lib/python3.9/site-packages/geopandas/geoseries.py:207: FutureWarning: The default dtype for empty Series will be 'object' instead of 'float64' in a future version. Specify a dtype explicitly to silence this warning.\n",
      "  s = pd.Series(data, index=index, name=name, **kwargs)\n",
      "\r",
      "21it [08:13, 28.15s/it]"
     ]
    },
    {
     "name": "stdout",
     "output_type": "stream",
     "text": [
      "Saved 11740 rows.\n",
      "\n",
      "Read file 21.\n"
     ]
    },
    {
     "name": "stderr",
     "output_type": "stream",
     "text": [
      "/Users/julialromero/miniconda3/envs/myenv/lib/python3.9/site-packages/geopandas/geoseries.py:207: FutureWarning: The default dtype for empty Series will be 'object' instead of 'float64' in a future version. Specify a dtype explicitly to silence this warning.\n",
      "  s = pd.Series(data, index=index, name=name, **kwargs)\n",
      "\r",
      "22it [08:34, 25.89s/it]"
     ]
    },
    {
     "name": "stdout",
     "output_type": "stream",
     "text": [
      "Saved 11800 rows.\n",
      "\n",
      "Read file 22.\n"
     ]
    },
    {
     "name": "stderr",
     "output_type": "stream",
     "text": [
      "/Users/julialromero/miniconda3/envs/myenv/lib/python3.9/site-packages/geopandas/geoseries.py:207: FutureWarning: The default dtype for empty Series will be 'object' instead of 'float64' in a future version. Specify a dtype explicitly to silence this warning.\n",
      "  s = pd.Series(data, index=index, name=name, **kwargs)\n",
      "\r",
      "23it [08:54, 24.22s/it]"
     ]
    },
    {
     "name": "stdout",
     "output_type": "stream",
     "text": [
      "Saved 11794 rows.\n",
      "\n",
      "Read file 23.\n"
     ]
    },
    {
     "name": "stderr",
     "output_type": "stream",
     "text": [
      "/Users/julialromero/miniconda3/envs/myenv/lib/python3.9/site-packages/geopandas/geoseries.py:207: FutureWarning: The default dtype for empty Series will be 'object' instead of 'float64' in a future version. Specify a dtype explicitly to silence this warning.\n",
      "  s = pd.Series(data, index=index, name=name, **kwargs)\n",
      "\r",
      "24it [09:13, 22.51s/it]"
     ]
    },
    {
     "name": "stdout",
     "output_type": "stream",
     "text": [
      "Saved 11905 rows.\n",
      "\n",
      "Read file 24.\n"
     ]
    },
    {
     "name": "stderr",
     "output_type": "stream",
     "text": [
      "/Users/julialromero/miniconda3/envs/myenv/lib/python3.9/site-packages/geopandas/geoseries.py:207: FutureWarning: The default dtype for empty Series will be 'object' instead of 'float64' in a future version. Specify a dtype explicitly to silence this warning.\n",
      "  s = pd.Series(data, index=index, name=name, **kwargs)\n",
      "\r",
      "25it [09:34, 22.27s/it]"
     ]
    },
    {
     "name": "stdout",
     "output_type": "stream",
     "text": [
      "Saved 11524 rows.\n",
      "\n",
      "Read file 25.\n"
     ]
    },
    {
     "name": "stderr",
     "output_type": "stream",
     "text": [
      "/Users/julialromero/miniconda3/envs/myenv/lib/python3.9/site-packages/geopandas/geoseries.py:207: FutureWarning: The default dtype for empty Series will be 'object' instead of 'float64' in a future version. Specify a dtype explicitly to silence this warning.\n",
      "  s = pd.Series(data, index=index, name=name, **kwargs)\n",
      "\r",
      "26it [09:54, 21.42s/it]"
     ]
    },
    {
     "name": "stdout",
     "output_type": "stream",
     "text": [
      "Saved 11442 rows.\n",
      "\n",
      "Read file 26.\n"
     ]
    },
    {
     "name": "stderr",
     "output_type": "stream",
     "text": [
      "/Users/julialromero/miniconda3/envs/myenv/lib/python3.9/site-packages/geopandas/geoseries.py:207: FutureWarning: The default dtype for empty Series will be 'object' instead of 'float64' in a future version. Specify a dtype explicitly to silence this warning.\n",
      "  s = pd.Series(data, index=index, name=name, **kwargs)\n",
      "\r",
      "27it [10:13, 20.80s/it]"
     ]
    },
    {
     "name": "stdout",
     "output_type": "stream",
     "text": [
      "Saved 11455 rows.\n",
      "\n",
      "Read file 27.\n"
     ]
    },
    {
     "name": "stderr",
     "output_type": "stream",
     "text": [
      "/Users/julialromero/miniconda3/envs/myenv/lib/python3.9/site-packages/geopandas/geoseries.py:207: FutureWarning: The default dtype for empty Series will be 'object' instead of 'float64' in a future version. Specify a dtype explicitly to silence this warning.\n",
      "  s = pd.Series(data, index=index, name=name, **kwargs)\n",
      "\r",
      "28it [10:33, 20.42s/it]"
     ]
    },
    {
     "name": "stdout",
     "output_type": "stream",
     "text": [
      "Saved 11550 rows.\n",
      "\n",
      "Read file 28.\n"
     ]
    },
    {
     "name": "stderr",
     "output_type": "stream",
     "text": [
      "/Users/julialromero/miniconda3/envs/myenv/lib/python3.9/site-packages/geopandas/geoseries.py:207: FutureWarning: The default dtype for empty Series will be 'object' instead of 'float64' in a future version. Specify a dtype explicitly to silence this warning.\n",
      "  s = pd.Series(data, index=index, name=name, **kwargs)\n",
      "\r",
      "29it [10:52, 20.04s/it]"
     ]
    },
    {
     "name": "stdout",
     "output_type": "stream",
     "text": [
      "Saved 11560 rows.\n",
      "\n",
      "Read file 29.\n"
     ]
    },
    {
     "name": "stderr",
     "output_type": "stream",
     "text": [
      "/Users/julialromero/miniconda3/envs/myenv/lib/python3.9/site-packages/geopandas/geoseries.py:207: FutureWarning: The default dtype for empty Series will be 'object' instead of 'float64' in a future version. Specify a dtype explicitly to silence this warning.\n",
      "  s = pd.Series(data, index=index, name=name, **kwargs)\n",
      "\r",
      "30it [11:11, 19.94s/it]"
     ]
    },
    {
     "name": "stdout",
     "output_type": "stream",
     "text": [
      "Saved 11496 rows.\n",
      "\n",
      "Read file 30.\n"
     ]
    },
    {
     "name": "stderr",
     "output_type": "stream",
     "text": [
      "/Users/julialromero/miniconda3/envs/myenv/lib/python3.9/site-packages/geopandas/geoseries.py:207: FutureWarning: The default dtype for empty Series will be 'object' instead of 'float64' in a future version. Specify a dtype explicitly to silence this warning.\n",
      "  s = pd.Series(data, index=index, name=name, **kwargs)\n",
      "\r",
      "31it [11:42, 23.14s/it]"
     ]
    },
    {
     "name": "stdout",
     "output_type": "stream",
     "text": [
      "Saved 11997 rows.\n",
      "\n",
      "Read file 31.\n"
     ]
    },
    {
     "name": "stderr",
     "output_type": "stream",
     "text": [
      "/Users/julialromero/miniconda3/envs/myenv/lib/python3.9/site-packages/geopandas/geoseries.py:207: FutureWarning: The default dtype for empty Series will be 'object' instead of 'float64' in a future version. Specify a dtype explicitly to silence this warning.\n",
      "  s = pd.Series(data, index=index, name=name, **kwargs)\n",
      "\r",
      "32it [12:12, 25.10s/it]"
     ]
    },
    {
     "name": "stdout",
     "output_type": "stream",
     "text": [
      "Saved 11551 rows.\n",
      "\n",
      "Read file 32.\n",
      "CBG length incorrect: CA:59150078\n"
     ]
    },
    {
     "name": "stderr",
     "output_type": "stream",
     "text": [
      "/Users/julialromero/miniconda3/envs/myenv/lib/python3.9/site-packages/geopandas/geoseries.py:207: FutureWarning: The default dtype for empty Series will be 'object' instead of 'float64' in a future version. Specify a dtype explicitly to silence this warning.\n",
      "  s = pd.Series(data, index=index, name=name, **kwargs)\n",
      "\r",
      "33it [12:45, 27.45s/it]"
     ]
    },
    {
     "name": "stdout",
     "output_type": "stream",
     "text": [
      "Saved 18122 rows.\n",
      "\n",
      "Read file 33.\n"
     ]
    },
    {
     "name": "stderr",
     "output_type": "stream",
     "text": [
      "/Users/julialromero/miniconda3/envs/myenv/lib/python3.9/site-packages/geopandas/geoseries.py:207: FutureWarning: The default dtype for empty Series will be 'object' instead of 'float64' in a future version. Specify a dtype explicitly to silence this warning.\n",
      "  s = pd.Series(data, index=index, name=name, **kwargs)\n",
      "\r",
      "34it [13:04, 24.89s/it]"
     ]
    },
    {
     "name": "stdout",
     "output_type": "stream",
     "text": [
      "Saved 11818 rows.\n",
      "\n",
      "Read file 34.\n"
     ]
    },
    {
     "name": "stderr",
     "output_type": "stream",
     "text": [
      "/Users/julialromero/miniconda3/envs/myenv/lib/python3.9/site-packages/geopandas/geoseries.py:207: FutureWarning: The default dtype for empty Series will be 'object' instead of 'float64' in a future version. Specify a dtype explicitly to silence this warning.\n",
      "  s = pd.Series(data, index=index, name=name, **kwargs)\n",
      "\r",
      "35it [13:23, 23.19s/it]"
     ]
    },
    {
     "name": "stdout",
     "output_type": "stream",
     "text": [
      "Saved 11496 rows.\n",
      "\n",
      "Read file 35.\n"
     ]
    },
    {
     "name": "stderr",
     "output_type": "stream",
     "text": [
      "/Users/julialromero/miniconda3/envs/myenv/lib/python3.9/site-packages/geopandas/geoseries.py:207: FutureWarning: The default dtype for empty Series will be 'object' instead of 'float64' in a future version. Specify a dtype explicitly to silence this warning.\n",
      "  s = pd.Series(data, index=index, name=name, **kwargs)\n",
      "\r",
      "36it [13:41, 21.78s/it]"
     ]
    },
    {
     "name": "stdout",
     "output_type": "stream",
     "text": [
      "Saved 11385 rows.\n",
      "\n",
      "Read file 36.\n"
     ]
    },
    {
     "name": "stderr",
     "output_type": "stream",
     "text": [
      "/Users/julialromero/miniconda3/envs/myenv/lib/python3.9/site-packages/geopandas/geoseries.py:207: FutureWarning: The default dtype for empty Series will be 'object' instead of 'float64' in a future version. Specify a dtype explicitly to silence this warning.\n",
      "  s = pd.Series(data, index=index, name=name, **kwargs)\n",
      "\r",
      "37it [14:01, 21.30s/it]"
     ]
    },
    {
     "name": "stdout",
     "output_type": "stream",
     "text": [
      "Saved 11624 rows.\n",
      "\n",
      "Read file 37.\n"
     ]
    },
    {
     "name": "stderr",
     "output_type": "stream",
     "text": [
      "/Users/julialromero/miniconda3/envs/myenv/lib/python3.9/site-packages/geopandas/geoseries.py:207: FutureWarning: The default dtype for empty Series will be 'object' instead of 'float64' in a future version. Specify a dtype explicitly to silence this warning.\n",
      "  s = pd.Series(data, index=index, name=name, **kwargs)\n",
      "\r",
      "38it [14:22, 21.03s/it]"
     ]
    },
    {
     "name": "stdout",
     "output_type": "stream",
     "text": [
      "Saved 11319 rows.\n",
      "\n",
      "Read file 38.\n"
     ]
    },
    {
     "name": "stderr",
     "output_type": "stream",
     "text": [
      "/Users/julialromero/miniconda3/envs/myenv/lib/python3.9/site-packages/geopandas/array.py:275: ShapelyDeprecationWarning: The array interface is deprecated and will no longer work in Shapely 2.0. Convert the '.coords' to a numpy array instead.\n",
      "  return GeometryArray(vectorized.points_from_xy(x, y, z), crs=crs)\n",
      "/var/folders/b6/qqcnr7cj16sd1r0nn3p4f_sw0000gn/T/ipykernel_89502/3658352350.py:20: SettingWithCopyWarning: \n",
      "A value is trying to be set on a copy of a slice from a DataFrame.\n",
      "Try using .loc[row_indexer,col_indexer] = value instead\n",
      "\n",
      "See the caveats in the documentation: https://pandas.pydata.org/pandas-docs/stable/user_guide/indexing.html#returning-a-view-versus-a-copy\n",
      "  cp['GEOID'] = points.apply(lambda p: get_tract_num(tract_data, p))\n",
      "39it [14:41, 20.49s/it]"
     ]
    },
    {
     "name": "stdout",
     "output_type": "stream",
     "text": [
      "Saved 11588 rows.\n",
      "\n",
      "Read file 39.\n"
     ]
    },
    {
     "name": "stderr",
     "output_type": "stream",
     "text": [
      "/Users/julialromero/miniconda3/envs/myenv/lib/python3.9/site-packages/geopandas/geoseries.py:207: FutureWarning: The default dtype for empty Series will be 'object' instead of 'float64' in a future version. Specify a dtype explicitly to silence this warning.\n",
      "  s = pd.Series(data, index=index, name=name, **kwargs)\n",
      "\r",
      "40it [15:01, 20.20s/it]"
     ]
    },
    {
     "name": "stdout",
     "output_type": "stream",
     "text": [
      "Saved 11583 rows.\n",
      "\n",
      "Read file 40.\n"
     ]
    },
    {
     "name": "stderr",
     "output_type": "stream",
     "text": [
      "/Users/julialromero/miniconda3/envs/myenv/lib/python3.9/site-packages/geopandas/geoseries.py:207: FutureWarning: The default dtype for empty Series will be 'object' instead of 'float64' in a future version. Specify a dtype explicitly to silence this warning.\n",
      "  s = pd.Series(data, index=index, name=name, **kwargs)\n",
      "\r",
      "41it [15:20, 19.88s/it]"
     ]
    },
    {
     "name": "stdout",
     "output_type": "stream",
     "text": [
      "Saved 11677 rows.\n",
      "\n",
      "Read file 41.\n"
     ]
    },
    {
     "name": "stderr",
     "output_type": "stream",
     "text": [
      "/Users/julialromero/miniconda3/envs/myenv/lib/python3.9/site-packages/geopandas/geoseries.py:207: FutureWarning: The default dtype for empty Series will be 'object' instead of 'float64' in a future version. Specify a dtype explicitly to silence this warning.\n",
      "  s = pd.Series(data, index=index, name=name, **kwargs)\n",
      "\r",
      "42it [15:39, 19.66s/it]"
     ]
    },
    {
     "name": "stdout",
     "output_type": "stream",
     "text": [
      "Saved 11728 rows.\n",
      "\n",
      "Read file 42.\n"
     ]
    },
    {
     "name": "stderr",
     "output_type": "stream",
     "text": [
      "/Users/julialromero/miniconda3/envs/myenv/lib/python3.9/site-packages/geopandas/geoseries.py:207: FutureWarning: The default dtype for empty Series will be 'object' instead of 'float64' in a future version. Specify a dtype explicitly to silence this warning.\n",
      "  s = pd.Series(data, index=index, name=name, **kwargs)\n",
      "\r",
      "43it [15:58, 19.57s/it]"
     ]
    },
    {
     "name": "stdout",
     "output_type": "stream",
     "text": [
      "Saved 11661 rows.\n",
      "\n",
      "Read file 43.\n"
     ]
    },
    {
     "name": "stderr",
     "output_type": "stream",
     "text": [
      "/Users/julialromero/miniconda3/envs/myenv/lib/python3.9/site-packages/geopandas/geoseries.py:207: FutureWarning: The default dtype for empty Series will be 'object' instead of 'float64' in a future version. Specify a dtype explicitly to silence this warning.\n",
      "  s = pd.Series(data, index=index, name=name, **kwargs)\n",
      "\r",
      "44it [16:18, 19.49s/it]"
     ]
    },
    {
     "name": "stdout",
     "output_type": "stream",
     "text": [
      "Saved 11503 rows.\n",
      "\n",
      "Read file 44.\n"
     ]
    },
    {
     "name": "stderr",
     "output_type": "stream",
     "text": [
      "/Users/julialromero/miniconda3/envs/myenv/lib/python3.9/site-packages/geopandas/geoseries.py:207: FutureWarning: The default dtype for empty Series will be 'object' instead of 'float64' in a future version. Specify a dtype explicitly to silence this warning.\n",
      "  s = pd.Series(data, index=index, name=name, **kwargs)\n",
      "\r",
      "45it [16:37, 19.47s/it]"
     ]
    },
    {
     "name": "stdout",
     "output_type": "stream",
     "text": [
      "Saved 11519 rows.\n",
      "\n",
      "Read file 45.\n"
     ]
    },
    {
     "name": "stderr",
     "output_type": "stream",
     "text": [
      "/Users/julialromero/miniconda3/envs/myenv/lib/python3.9/site-packages/geopandas/geoseries.py:207: FutureWarning: The default dtype for empty Series will be 'object' instead of 'float64' in a future version. Specify a dtype explicitly to silence this warning.\n",
      "  s = pd.Series(data, index=index, name=name, **kwargs)\n",
      "\r",
      "46it [16:55, 19.14s/it]"
     ]
    },
    {
     "name": "stdout",
     "output_type": "stream",
     "text": [
      "Saved 11480 rows.\n",
      "\n",
      "Read file 46.\n"
     ]
    },
    {
     "name": "stderr",
     "output_type": "stream",
     "text": [
      "/Users/julialromero/miniconda3/envs/myenv/lib/python3.9/site-packages/geopandas/geoseries.py:207: FutureWarning: The default dtype for empty Series will be 'object' instead of 'float64' in a future version. Specify a dtype explicitly to silence this warning.\n",
      "  s = pd.Series(data, index=index, name=name, **kwargs)\n",
      "\r",
      "47it [17:13, 18.81s/it]"
     ]
    },
    {
     "name": "stdout",
     "output_type": "stream",
     "text": [
      "Saved 11511 rows.\n",
      "\n",
      "Read file 47.\n"
     ]
    },
    {
     "name": "stderr",
     "output_type": "stream",
     "text": [
      "/Users/julialromero/miniconda3/envs/myenv/lib/python3.9/site-packages/geopandas/geoseries.py:207: FutureWarning: The default dtype for empty Series will be 'object' instead of 'float64' in a future version. Specify a dtype explicitly to silence this warning.\n",
      "  s = pd.Series(data, index=index, name=name, **kwargs)\n",
      "\r",
      "48it [17:33, 18.97s/it]"
     ]
    },
    {
     "name": "stdout",
     "output_type": "stream",
     "text": [
      "Saved 11599 rows.\n",
      "\n",
      "Read file 48.\n"
     ]
    },
    {
     "name": "stderr",
     "output_type": "stream",
     "text": [
      "/Users/julialromero/miniconda3/envs/myenv/lib/python3.9/site-packages/geopandas/geoseries.py:207: FutureWarning: The default dtype for empty Series will be 'object' instead of 'float64' in a future version. Specify a dtype explicitly to silence this warning.\n",
      "  s = pd.Series(data, index=index, name=name, **kwargs)\n",
      "\r",
      "49it [18:15, 26.04s/it]"
     ]
    },
    {
     "name": "stdout",
     "output_type": "stream",
     "text": [
      "Saved 11569 rows.\n",
      "\n",
      "Read file 49.\n"
     ]
    },
    {
     "name": "stderr",
     "output_type": "stream",
     "text": [
      "/Users/julialromero/miniconda3/envs/myenv/lib/python3.9/site-packages/geopandas/geoseries.py:207: FutureWarning: The default dtype for empty Series will be 'object' instead of 'float64' in a future version. Specify a dtype explicitly to silence this warning.\n",
      "  s = pd.Series(data, index=index, name=name, **kwargs)\n",
      "\r",
      "50it [18:46, 27.55s/it]"
     ]
    },
    {
     "name": "stdout",
     "output_type": "stream",
     "text": [
      "Saved 11564 rows.\n",
      "\n",
      "Read file 50.\n"
     ]
    },
    {
     "name": "stderr",
     "output_type": "stream",
     "text": [
      "/Users/julialromero/miniconda3/envs/myenv/lib/python3.9/site-packages/geopandas/geoseries.py:207: FutureWarning: The default dtype for empty Series will be 'object' instead of 'float64' in a future version. Specify a dtype explicitly to silence this warning.\n",
      "  s = pd.Series(data, index=index, name=name, **kwargs)\n",
      "\r",
      "51it [19:27, 31.35s/it]"
     ]
    },
    {
     "name": "stdout",
     "output_type": "stream",
     "text": [
      "Saved 11501 rows.\n",
      "\n",
      "Read file 51.\n"
     ]
    },
    {
     "name": "stderr",
     "output_type": "stream",
     "text": [
      "/Users/julialromero/miniconda3/envs/myenv/lib/python3.9/site-packages/geopandas/geoseries.py:207: FutureWarning: The default dtype for empty Series will be 'object' instead of 'float64' in a future version. Specify a dtype explicitly to silence this warning.\n",
      "  s = pd.Series(data, index=index, name=name, **kwargs)\n",
      "\r",
      "52it [19:48, 28.50s/it]"
     ]
    },
    {
     "name": "stdout",
     "output_type": "stream",
     "text": [
      "Saved 11521 rows.\n",
      "\n",
      "Read file 52.\n"
     ]
    },
    {
     "name": "stderr",
     "output_type": "stream",
     "text": [
      "/Users/julialromero/miniconda3/envs/myenv/lib/python3.9/site-packages/geopandas/geoseries.py:207: FutureWarning: The default dtype for empty Series will be 'object' instead of 'float64' in a future version. Specify a dtype explicitly to silence this warning.\n",
      "  s = pd.Series(data, index=index, name=name, **kwargs)\n",
      "\r",
      "53it [20:07, 25.54s/it]"
     ]
    },
    {
     "name": "stdout",
     "output_type": "stream",
     "text": [
      "Saved 11750 rows.\n",
      "\n",
      "Read file 53.\n"
     ]
    },
    {
     "name": "stderr",
     "output_type": "stream",
     "text": [
      "/Users/julialromero/miniconda3/envs/myenv/lib/python3.9/site-packages/geopandas/geoseries.py:207: FutureWarning: The default dtype for empty Series will be 'object' instead of 'float64' in a future version. Specify a dtype explicitly to silence this warning.\n",
      "  s = pd.Series(data, index=index, name=name, **kwargs)\n",
      "\r",
      "54it [20:39, 27.42s/it]"
     ]
    },
    {
     "name": "stdout",
     "output_type": "stream",
     "text": [
      "Saved 11617 rows.\n",
      "\n",
      "Read file 54.\n"
     ]
    },
    {
     "name": "stderr",
     "output_type": "stream",
     "text": [
      "/Users/julialromero/miniconda3/envs/myenv/lib/python3.9/site-packages/geopandas/geoseries.py:207: FutureWarning: The default dtype for empty Series will be 'object' instead of 'float64' in a future version. Specify a dtype explicitly to silence this warning.\n",
      "  s = pd.Series(data, index=index, name=name, **kwargs)\n",
      "\r",
      "55it [20:59, 25.28s/it]"
     ]
    },
    {
     "name": "stdout",
     "output_type": "stream",
     "text": [
      "Saved 12007 rows.\n",
      "\n",
      "Read file 55.\n"
     ]
    },
    {
     "name": "stderr",
     "output_type": "stream",
     "text": [
      "/Users/julialromero/miniconda3/envs/myenv/lib/python3.9/site-packages/geopandas/geoseries.py:207: FutureWarning: The default dtype for empty Series will be 'object' instead of 'float64' in a future version. Specify a dtype explicitly to silence this warning.\n",
      "  s = pd.Series(data, index=index, name=name, **kwargs)\n",
      "\r",
      "56it [21:18, 23.37s/it]"
     ]
    },
    {
     "name": "stdout",
     "output_type": "stream",
     "text": [
      "Saved 11636 rows.\n",
      "\n",
      "Read file 56.\n",
      "CBG length incorrect: CA:59150078\n"
     ]
    },
    {
     "name": "stderr",
     "output_type": "stream",
     "text": [
      "/Users/julialromero/miniconda3/envs/myenv/lib/python3.9/site-packages/geopandas/geoseries.py:207: FutureWarning: The default dtype for empty Series will be 'object' instead of 'float64' in a future version. Specify a dtype explicitly to silence this warning.\n",
      "  s = pd.Series(data, index=index, name=name, **kwargs)\n",
      "\r",
      "57it [21:45, 24.52s/it]"
     ]
    },
    {
     "name": "stdout",
     "output_type": "stream",
     "text": [
      "Saved 16772 rows.\n",
      "\n",
      "Read file 57.\n"
     ]
    },
    {
     "name": "stderr",
     "output_type": "stream",
     "text": [
      "/Users/julialromero/miniconda3/envs/myenv/lib/python3.9/site-packages/geopandas/geoseries.py:207: FutureWarning: The default dtype for empty Series will be 'object' instead of 'float64' in a future version. Specify a dtype explicitly to silence this warning.\n",
      "  s = pd.Series(data, index=index, name=name, **kwargs)\n",
      "\r",
      "58it [22:06, 23.52s/it]"
     ]
    },
    {
     "name": "stdout",
     "output_type": "stream",
     "text": [
      "Saved 11774 rows.\n",
      "\n",
      "Read file 58.\n"
     ]
    },
    {
     "name": "stderr",
     "output_type": "stream",
     "text": [
      "/Users/julialromero/miniconda3/envs/myenv/lib/python3.9/site-packages/geopandas/geoseries.py:207: FutureWarning: The default dtype for empty Series will be 'object' instead of 'float64' in a future version. Specify a dtype explicitly to silence this warning.\n",
      "  s = pd.Series(data, index=index, name=name, **kwargs)\n",
      "\r",
      "59it [22:29, 23.30s/it]"
     ]
    },
    {
     "name": "stdout",
     "output_type": "stream",
     "text": [
      "Saved 11681 rows.\n",
      "\n",
      "Read file 59.\n"
     ]
    },
    {
     "name": "stderr",
     "output_type": "stream",
     "text": [
      "/Users/julialromero/miniconda3/envs/myenv/lib/python3.9/site-packages/geopandas/geoseries.py:207: FutureWarning: The default dtype for empty Series will be 'object' instead of 'float64' in a future version. Specify a dtype explicitly to silence this warning.\n",
      "  s = pd.Series(data, index=index, name=name, **kwargs)\n",
      "\r",
      "60it [23:04, 26.90s/it]"
     ]
    },
    {
     "name": "stdout",
     "output_type": "stream",
     "text": [
      "Saved 11401 rows.\n",
      "\n",
      "Read file 60.\n"
     ]
    },
    {
     "name": "stderr",
     "output_type": "stream",
     "text": [
      "/Users/julialromero/miniconda3/envs/myenv/lib/python3.9/site-packages/geopandas/geoseries.py:207: FutureWarning: The default dtype for empty Series will be 'object' instead of 'float64' in a future version. Specify a dtype explicitly to silence this warning.\n",
      "  s = pd.Series(data, index=index, name=name, **kwargs)\n",
      "\r",
      "61it [23:24, 24.65s/it]"
     ]
    },
    {
     "name": "stdout",
     "output_type": "stream",
     "text": [
      "Saved 11841 rows.\n",
      "\n",
      "Read file 61.\n"
     ]
    },
    {
     "name": "stderr",
     "output_type": "stream",
     "text": [
      "/Users/julialromero/miniconda3/envs/myenv/lib/python3.9/site-packages/geopandas/geoseries.py:207: FutureWarning: The default dtype for empty Series will be 'object' instead of 'float64' in a future version. Specify a dtype explicitly to silence this warning.\n",
      "  s = pd.Series(data, index=index, name=name, **kwargs)\n",
      "\r",
      "62it [23:43, 23.03s/it]"
     ]
    },
    {
     "name": "stdout",
     "output_type": "stream",
     "text": [
      "Saved 11453 rows.\n",
      "\n",
      "Read file 62.\n"
     ]
    },
    {
     "name": "stderr",
     "output_type": "stream",
     "text": [
      "/Users/julialromero/miniconda3/envs/myenv/lib/python3.9/site-packages/geopandas/array.py:275: ShapelyDeprecationWarning: The array interface is deprecated and will no longer work in Shapely 2.0. Convert the '.coords' to a numpy array instead.\n",
      "  return GeometryArray(vectorized.points_from_xy(x, y, z), crs=crs)\n",
      "/var/folders/b6/qqcnr7cj16sd1r0nn3p4f_sw0000gn/T/ipykernel_89502/3658352350.py:20: SettingWithCopyWarning: \n",
      "A value is trying to be set on a copy of a slice from a DataFrame.\n",
      "Try using .loc[row_indexer,col_indexer] = value instead\n",
      "\n",
      "See the caveats in the documentation: https://pandas.pydata.org/pandas-docs/stable/user_guide/indexing.html#returning-a-view-versus-a-copy\n",
      "  cp['GEOID'] = points.apply(lambda p: get_tract_num(tract_data, p))\n",
      "\r",
      "63it [24:02, 21.85s/it]"
     ]
    },
    {
     "name": "stdout",
     "output_type": "stream",
     "text": [
      "Saved 11629 rows.\n",
      "\n",
      "Read file 63.\n"
     ]
    },
    {
     "name": "stderr",
     "output_type": "stream",
     "text": [
      "/Users/julialromero/miniconda3/envs/myenv/lib/python3.9/site-packages/geopandas/geoseries.py:207: FutureWarning: The default dtype for empty Series will be 'object' instead of 'float64' in a future version. Specify a dtype explicitly to silence this warning.\n",
      "  s = pd.Series(data, index=index, name=name, **kwargs)\n",
      "\r",
      "64it [24:21, 20.85s/it]"
     ]
    },
    {
     "name": "stdout",
     "output_type": "stream",
     "text": [
      "Saved 11618 rows.\n",
      "\n",
      "Read file 64.\n"
     ]
    },
    {
     "name": "stderr",
     "output_type": "stream",
     "text": [
      "/Users/julialromero/miniconda3/envs/myenv/lib/python3.9/site-packages/geopandas/geoseries.py:207: FutureWarning: The default dtype for empty Series will be 'object' instead of 'float64' in a future version. Specify a dtype explicitly to silence this warning.\n",
      "  s = pd.Series(data, index=index, name=name, **kwargs)\n",
      "\r",
      "65it [24:41, 20.58s/it]"
     ]
    },
    {
     "name": "stdout",
     "output_type": "stream",
     "text": [
      "Saved 11858 rows.\n",
      "\n",
      "Read file 65.\n"
     ]
    },
    {
     "name": "stderr",
     "output_type": "stream",
     "text": [
      "/Users/julialromero/miniconda3/envs/myenv/lib/python3.9/site-packages/geopandas/geoseries.py:207: FutureWarning: The default dtype for empty Series will be 'object' instead of 'float64' in a future version. Specify a dtype explicitly to silence this warning.\n",
      "  s = pd.Series(data, index=index, name=name, **kwargs)\n",
      "\r",
      "66it [25:01, 20.48s/it]"
     ]
    },
    {
     "name": "stdout",
     "output_type": "stream",
     "text": [
      "Saved 11722 rows.\n",
      "\n",
      "Read file 66.\n"
     ]
    },
    {
     "name": "stderr",
     "output_type": "stream",
     "text": [
      "/Users/julialromero/miniconda3/envs/myenv/lib/python3.9/site-packages/geopandas/geoseries.py:207: FutureWarning: The default dtype for empty Series will be 'object' instead of 'float64' in a future version. Specify a dtype explicitly to silence this warning.\n",
      "  s = pd.Series(data, index=index, name=name, **kwargs)\n",
      "\r",
      "67it [25:26, 21.83s/it]"
     ]
    },
    {
     "name": "stdout",
     "output_type": "stream",
     "text": [
      "Saved 11644 rows.\n",
      "\n",
      "Read file 67.\n"
     ]
    },
    {
     "name": "stderr",
     "output_type": "stream",
     "text": [
      "/Users/julialromero/miniconda3/envs/myenv/lib/python3.9/site-packages/geopandas/geoseries.py:207: FutureWarning: The default dtype for empty Series will be 'object' instead of 'float64' in a future version. Specify a dtype explicitly to silence this warning.\n",
      "  s = pd.Series(data, index=index, name=name, **kwargs)\n",
      "\r",
      "68it [25:45, 21.00s/it]"
     ]
    },
    {
     "name": "stdout",
     "output_type": "stream",
     "text": [
      "Saved 11492 rows.\n",
      "\n",
      "Read file 68.\n"
     ]
    },
    {
     "name": "stderr",
     "output_type": "stream",
     "text": [
      "/Users/julialromero/miniconda3/envs/myenv/lib/python3.9/site-packages/geopandas/geoseries.py:207: FutureWarning: The default dtype for empty Series will be 'object' instead of 'float64' in a future version. Specify a dtype explicitly to silence this warning.\n",
      "  s = pd.Series(data, index=index, name=name, **kwargs)\n",
      "\r",
      "69it [26:03, 20.06s/it]"
     ]
    },
    {
     "name": "stdout",
     "output_type": "stream",
     "text": [
      "Saved 11609 rows.\n",
      "\n",
      "Read file 69.\n"
     ]
    },
    {
     "name": "stderr",
     "output_type": "stream",
     "text": [
      "/Users/julialromero/miniconda3/envs/myenv/lib/python3.9/site-packages/geopandas/geoseries.py:207: FutureWarning: The default dtype for empty Series will be 'object' instead of 'float64' in a future version. Specify a dtype explicitly to silence this warning.\n",
      "  s = pd.Series(data, index=index, name=name, **kwargs)\n",
      "\r",
      "70it [26:35, 23.54s/it]"
     ]
    },
    {
     "name": "stdout",
     "output_type": "stream",
     "text": [
      "Saved 11481 rows.\n",
      "\n",
      "Read file 70.\n"
     ]
    },
    {
     "name": "stderr",
     "output_type": "stream",
     "text": [
      "/Users/julialromero/miniconda3/envs/myenv/lib/python3.9/site-packages/geopandas/geoseries.py:207: FutureWarning: The default dtype for empty Series will be 'object' instead of 'float64' in a future version. Specify a dtype explicitly to silence this warning.\n",
      "  s = pd.Series(data, index=index, name=name, **kwargs)\n",
      "\r",
      "71it [27:08, 26.51s/it]"
     ]
    },
    {
     "name": "stdout",
     "output_type": "stream",
     "text": [
      "Saved 11748 rows.\n",
      "\n",
      "Read file 71.\n"
     ]
    },
    {
     "name": "stderr",
     "output_type": "stream",
     "text": [
      "/Users/julialromero/miniconda3/envs/myenv/lib/python3.9/site-packages/geopandas/geoseries.py:207: FutureWarning: The default dtype for empty Series will be 'object' instead of 'float64' in a future version. Specify a dtype explicitly to silence this warning.\n",
      "  s = pd.Series(data, index=index, name=name, **kwargs)\n",
      "\r",
      "72it [27:27, 24.28s/it]"
     ]
    },
    {
     "name": "stdout",
     "output_type": "stream",
     "text": [
      "Saved 11583 rows.\n",
      "\n",
      "Read file 72.\n"
     ]
    },
    {
     "name": "stderr",
     "output_type": "stream",
     "text": [
      "/Users/julialromero/miniconda3/envs/myenv/lib/python3.9/site-packages/geopandas/geoseries.py:207: FutureWarning: The default dtype for empty Series will be 'object' instead of 'float64' in a future version. Specify a dtype explicitly to silence this warning.\n",
      "  s = pd.Series(data, index=index, name=name, **kwargs)\n",
      "\r",
      "73it [27:58, 26.32s/it]"
     ]
    },
    {
     "name": "stdout",
     "output_type": "stream",
     "text": [
      "Saved 11530 rows.\n",
      "\n",
      "Read file 73.\n"
     ]
    },
    {
     "name": "stderr",
     "output_type": "stream",
     "text": [
      "/Users/julialromero/miniconda3/envs/myenv/lib/python3.9/site-packages/geopandas/geoseries.py:207: FutureWarning: The default dtype for empty Series will be 'object' instead of 'float64' in a future version. Specify a dtype explicitly to silence this warning.\n",
      "  s = pd.Series(data, index=index, name=name, **kwargs)\n",
      "\r",
      "74it [28:19, 24.76s/it]"
     ]
    },
    {
     "name": "stdout",
     "output_type": "stream",
     "text": [
      "Saved 11524 rows.\n",
      "\n",
      "Read file 74.\n"
     ]
    },
    {
     "name": "stderr",
     "output_type": "stream",
     "text": [
      "/Users/julialromero/miniconda3/envs/myenv/lib/python3.9/site-packages/geopandas/geoseries.py:207: FutureWarning: The default dtype for empty Series will be 'object' instead of 'float64' in a future version. Specify a dtype explicitly to silence this warning.\n",
      "  s = pd.Series(data, index=index, name=name, **kwargs)\n",
      "\r",
      "75it [28:38, 22.92s/it]"
     ]
    },
    {
     "name": "stdout",
     "output_type": "stream",
     "text": [
      "Saved 11677 rows.\n",
      "\n",
      "Read file 75.\n"
     ]
    },
    {
     "name": "stderr",
     "output_type": "stream",
     "text": [
      "/Users/julialromero/miniconda3/envs/myenv/lib/python3.9/site-packages/geopandas/geoseries.py:207: FutureWarning: The default dtype for empty Series will be 'object' instead of 'float64' in a future version. Specify a dtype explicitly to silence this warning.\n",
      "  s = pd.Series(data, index=index, name=name, **kwargs)\n",
      "\r",
      "76it [28:57, 21.90s/it]"
     ]
    },
    {
     "name": "stdout",
     "output_type": "stream",
     "text": [
      "Saved 11489 rows.\n",
      "\n",
      "Read file 76.\n"
     ]
    },
    {
     "name": "stderr",
     "output_type": "stream",
     "text": [
      "/Users/julialromero/miniconda3/envs/myenv/lib/python3.9/site-packages/geopandas/geoseries.py:207: FutureWarning: The default dtype for empty Series will be 'object' instead of 'float64' in a future version. Specify a dtype explicitly to silence this warning.\n",
      "  s = pd.Series(data, index=index, name=name, **kwargs)\n",
      "\r",
      "77it [29:16, 20.84s/it]"
     ]
    },
    {
     "name": "stdout",
     "output_type": "stream",
     "text": [
      "Saved 11630 rows.\n",
      "\n",
      "Read file 77.\n"
     ]
    },
    {
     "name": "stderr",
     "output_type": "stream",
     "text": [
      "/Users/julialromero/miniconda3/envs/myenv/lib/python3.9/site-packages/geopandas/geoseries.py:207: FutureWarning: The default dtype for empty Series will be 'object' instead of 'float64' in a future version. Specify a dtype explicitly to silence this warning.\n",
      "  s = pd.Series(data, index=index, name=name, **kwargs)\n",
      "\r",
      "78it [29:34, 20.07s/it]"
     ]
    },
    {
     "name": "stdout",
     "output_type": "stream",
     "text": [
      "Saved 11555 rows.\n",
      "\n",
      "Read file 78.\n"
     ]
    },
    {
     "name": "stderr",
     "output_type": "stream",
     "text": [
      "/Users/julialromero/miniconda3/envs/myenv/lib/python3.9/site-packages/geopandas/geoseries.py:207: FutureWarning: The default dtype for empty Series will be 'object' instead of 'float64' in a future version. Specify a dtype explicitly to silence this warning.\n",
      "  s = pd.Series(data, index=index, name=name, **kwargs)\n",
      "\r",
      "79it [29:52, 19.51s/it]"
     ]
    },
    {
     "name": "stdout",
     "output_type": "stream",
     "text": [
      "Saved 11972 rows.\n",
      "\n",
      "Read file 79.\n"
     ]
    },
    {
     "name": "stderr",
     "output_type": "stream",
     "text": [
      "/Users/julialromero/miniconda3/envs/myenv/lib/python3.9/site-packages/geopandas/geoseries.py:207: FutureWarning: The default dtype for empty Series will be 'object' instead of 'float64' in a future version. Specify a dtype explicitly to silence this warning.\n",
      "  s = pd.Series(data, index=index, name=name, **kwargs)\n",
      "\r",
      "80it [30:10, 19.13s/it]"
     ]
    },
    {
     "name": "stdout",
     "output_type": "stream",
     "text": [
      "Saved 11698 rows.\n",
      "\n",
      "Read file 80.\n",
      "CBG length incorrect: CA:59150078\n"
     ]
    },
    {
     "name": "stderr",
     "output_type": "stream",
     "text": [
      "/Users/julialromero/miniconda3/envs/myenv/lib/python3.9/site-packages/geopandas/geoseries.py:207: FutureWarning: The default dtype for empty Series will be 'object' instead of 'float64' in a future version. Specify a dtype explicitly to silence this warning.\n",
      "  s = pd.Series(data, index=index, name=name, **kwargs)\n",
      "81it [30:42, 22.84s/it]"
     ]
    },
    {
     "name": "stdout",
     "output_type": "stream",
     "text": [
      "Saved 15908 rows.\n",
      "\n",
      "Read file 81.\n"
     ]
    },
    {
     "name": "stderr",
     "output_type": "stream",
     "text": [
      "/Users/julialromero/miniconda3/envs/myenv/lib/python3.9/site-packages/geopandas/geoseries.py:207: FutureWarning: The default dtype for empty Series will be 'object' instead of 'float64' in a future version. Specify a dtype explicitly to silence this warning.\n",
      "  s = pd.Series(data, index=index, name=name, **kwargs)\n",
      "82it [31:06, 23.09s/it]"
     ]
    },
    {
     "name": "stdout",
     "output_type": "stream",
     "text": [
      "Saved 11703 rows.\n",
      "\n",
      "Read file 82.\n"
     ]
    },
    {
     "name": "stderr",
     "output_type": "stream",
     "text": [
      "/Users/julialromero/miniconda3/envs/myenv/lib/python3.9/site-packages/geopandas/geoseries.py:207: FutureWarning: The default dtype for empty Series will be 'object' instead of 'float64' in a future version. Specify a dtype explicitly to silence this warning.\n",
      "  s = pd.Series(data, index=index, name=name, **kwargs)\n",
      "\r",
      "83it [31:28, 22.86s/it]"
     ]
    },
    {
     "name": "stdout",
     "output_type": "stream",
     "text": [
      "Saved 11721 rows.\n",
      "\n",
      "Read file 83.\n"
     ]
    },
    {
     "name": "stderr",
     "output_type": "stream",
     "text": [
      "/Users/julialromero/miniconda3/envs/myenv/lib/python3.9/site-packages/geopandas/geoseries.py:207: FutureWarning: The default dtype for empty Series will be 'object' instead of 'float64' in a future version. Specify a dtype explicitly to silence this warning.\n",
      "  s = pd.Series(data, index=index, name=name, **kwargs)\n",
      "\r",
      "84it [31:49, 22.24s/it]"
     ]
    },
    {
     "name": "stdout",
     "output_type": "stream",
     "text": [
      "Saved 11325 rows.\n",
      "\n",
      "Read file 84.\n"
     ]
    },
    {
     "name": "stderr",
     "output_type": "stream",
     "text": [
      "/Users/julialromero/miniconda3/envs/myenv/lib/python3.9/site-packages/geopandas/geoseries.py:207: FutureWarning: The default dtype for empty Series will be 'object' instead of 'float64' in a future version. Specify a dtype explicitly to silence this warning.\n",
      "  s = pd.Series(data, index=index, name=name, **kwargs)\n",
      "\r",
      "85it [32:08, 21.31s/it]"
     ]
    },
    {
     "name": "stdout",
     "output_type": "stream",
     "text": [
      "Saved 11742 rows.\n",
      "\n",
      "Read file 85.\n"
     ]
    },
    {
     "name": "stderr",
     "output_type": "stream",
     "text": [
      "/Users/julialromero/miniconda3/envs/myenv/lib/python3.9/site-packages/geopandas/geoseries.py:207: FutureWarning: The default dtype for empty Series will be 'object' instead of 'float64' in a future version. Specify a dtype explicitly to silence this warning.\n",
      "  s = pd.Series(data, index=index, name=name, **kwargs)\n",
      "\r",
      "86it [32:27, 20.66s/it]"
     ]
    },
    {
     "name": "stdout",
     "output_type": "stream",
     "text": [
      "Saved 11465 rows.\n",
      "\n",
      "Read file 86.\n"
     ]
    },
    {
     "name": "stderr",
     "output_type": "stream",
     "text": [
      "/Users/julialromero/miniconda3/envs/myenv/lib/python3.9/site-packages/geopandas/array.py:275: ShapelyDeprecationWarning: The array interface is deprecated and will no longer work in Shapely 2.0. Convert the '.coords' to a numpy array instead.\n",
      "  return GeometryArray(vectorized.points_from_xy(x, y, z), crs=crs)\n",
      "/var/folders/b6/qqcnr7cj16sd1r0nn3p4f_sw0000gn/T/ipykernel_89502/3658352350.py:20: SettingWithCopyWarning: \n",
      "A value is trying to be set on a copy of a slice from a DataFrame.\n",
      "Try using .loc[row_indexer,col_indexer] = value instead\n",
      "\n",
      "See the caveats in the documentation: https://pandas.pydata.org/pandas-docs/stable/user_guide/indexing.html#returning-a-view-versus-a-copy\n",
      "  cp['GEOID'] = points.apply(lambda p: get_tract_num(tract_data, p))\n",
      "\r",
      "87it [32:50, 21.32s/it]"
     ]
    },
    {
     "name": "stdout",
     "output_type": "stream",
     "text": [
      "Saved 11570 rows.\n",
      "\n",
      "Read file 87.\n"
     ]
    },
    {
     "name": "stderr",
     "output_type": "stream",
     "text": [
      "/Users/julialromero/miniconda3/envs/myenv/lib/python3.9/site-packages/geopandas/geoseries.py:207: FutureWarning: The default dtype for empty Series will be 'object' instead of 'float64' in a future version. Specify a dtype explicitly to silence this warning.\n",
      "  s = pd.Series(data, index=index, name=name, **kwargs)\n",
      "\r",
      "88it [33:11, 21.18s/it]"
     ]
    },
    {
     "name": "stdout",
     "output_type": "stream",
     "text": [
      "Saved 11659 rows.\n",
      "\n",
      "Read file 88.\n"
     ]
    },
    {
     "name": "stderr",
     "output_type": "stream",
     "text": [
      "/Users/julialromero/miniconda3/envs/myenv/lib/python3.9/site-packages/geopandas/geoseries.py:207: FutureWarning: The default dtype for empty Series will be 'object' instead of 'float64' in a future version. Specify a dtype explicitly to silence this warning.\n",
      "  s = pd.Series(data, index=index, name=name, **kwargs)\n",
      "\r",
      "89it [33:29, 20.31s/it]"
     ]
    },
    {
     "name": "stdout",
     "output_type": "stream",
     "text": [
      "Saved 11856 rows.\n",
      "\n",
      "Read file 89.\n"
     ]
    },
    {
     "name": "stderr",
     "output_type": "stream",
     "text": [
      "/Users/julialromero/miniconda3/envs/myenv/lib/python3.9/site-packages/geopandas/geoseries.py:207: FutureWarning: The default dtype for empty Series will be 'object' instead of 'float64' in a future version. Specify a dtype explicitly to silence this warning.\n",
      "  s = pd.Series(data, index=index, name=name, **kwargs)\n",
      "\r",
      "90it [33:51, 20.76s/it]"
     ]
    },
    {
     "name": "stdout",
     "output_type": "stream",
     "text": [
      "Saved 11639 rows.\n",
      "\n",
      "Read file 90.\n"
     ]
    },
    {
     "name": "stderr",
     "output_type": "stream",
     "text": [
      "/Users/julialromero/miniconda3/envs/myenv/lib/python3.9/site-packages/geopandas/geoseries.py:207: FutureWarning: The default dtype for empty Series will be 'object' instead of 'float64' in a future version. Specify a dtype explicitly to silence this warning.\n",
      "  s = pd.Series(data, index=index, name=name, **kwargs)\n",
      "\r",
      "91it [34:09, 20.06s/it]"
     ]
    },
    {
     "name": "stdout",
     "output_type": "stream",
     "text": [
      "Saved 11647 rows.\n",
      "\n",
      "Read file 91.\n"
     ]
    },
    {
     "name": "stderr",
     "output_type": "stream",
     "text": [
      "/Users/julialromero/miniconda3/envs/myenv/lib/python3.9/site-packages/geopandas/geoseries.py:207: FutureWarning: The default dtype for empty Series will be 'object' instead of 'float64' in a future version. Specify a dtype explicitly to silence this warning.\n",
      "  s = pd.Series(data, index=index, name=name, **kwargs)\n",
      "\r",
      "92it [34:35, 21.85s/it]"
     ]
    },
    {
     "name": "stdout",
     "output_type": "stream",
     "text": [
      "Saved 11421 rows.\n",
      "\n",
      "Read file 92.\n"
     ]
    },
    {
     "name": "stderr",
     "output_type": "stream",
     "text": [
      "/Users/julialromero/miniconda3/envs/myenv/lib/python3.9/site-packages/geopandas/geoseries.py:207: FutureWarning: The default dtype for empty Series will be 'object' instead of 'float64' in a future version. Specify a dtype explicitly to silence this warning.\n",
      "  s = pd.Series(data, index=index, name=name, **kwargs)\n",
      "\r",
      "93it [35:22, 29.24s/it]"
     ]
    },
    {
     "name": "stdout",
     "output_type": "stream",
     "text": [
      "Saved 11458 rows.\n",
      "\n",
      "Read file 93.\n"
     ]
    },
    {
     "name": "stderr",
     "output_type": "stream",
     "text": [
      "/Users/julialromero/miniconda3/envs/myenv/lib/python3.9/site-packages/geopandas/geoseries.py:207: FutureWarning: The default dtype for empty Series will be 'object' instead of 'float64' in a future version. Specify a dtype explicitly to silence this warning.\n",
      "  s = pd.Series(data, index=index, name=name, **kwargs)\n",
      "\r",
      "94it [35:55, 30.53s/it]"
     ]
    },
    {
     "name": "stdout",
     "output_type": "stream",
     "text": [
      "Saved 11515 rows.\n",
      "\n",
      "Read file 94.\n"
     ]
    },
    {
     "name": "stderr",
     "output_type": "stream",
     "text": [
      "/Users/julialromero/miniconda3/envs/myenv/lib/python3.9/site-packages/geopandas/geoseries.py:207: FutureWarning: The default dtype for empty Series will be 'object' instead of 'float64' in a future version. Specify a dtype explicitly to silence this warning.\n",
      "  s = pd.Series(data, index=index, name=name, **kwargs)\n",
      "\r",
      "95it [36:31, 32.15s/it]"
     ]
    },
    {
     "name": "stdout",
     "output_type": "stream",
     "text": [
      "Saved 11694 rows.\n",
      "\n",
      "Read file 95.\n"
     ]
    },
    {
     "name": "stderr",
     "output_type": "stream",
     "text": [
      "/Users/julialromero/miniconda3/envs/myenv/lib/python3.9/site-packages/geopandas/geoseries.py:207: FutureWarning: The default dtype for empty Series will be 'object' instead of 'float64' in a future version. Specify a dtype explicitly to silence this warning.\n",
      "  s = pd.Series(data, index=index, name=name, **kwargs)\n",
      "96it [36:51, 23.04s/it]\n",
      "0it [00:00, ?it/s]"
     ]
    },
    {
     "name": "stdout",
     "output_type": "stream",
     "text": [
      "Saved 11552 rows.\n",
      "--------done: month 09--------\n",
      "\n",
      "Read file 0.\n"
     ]
    },
    {
     "name": "stderr",
     "output_type": "stream",
     "text": [
      "/Users/julialromero/miniconda3/envs/myenv/lib/python3.9/site-packages/geopandas/geoseries.py:207: FutureWarning: The default dtype for empty Series will be 'object' instead of 'float64' in a future version. Specify a dtype explicitly to silence this warning.\n",
      "  s = pd.Series(data, index=index, name=name, **kwargs)\n",
      "\r",
      "1it [00:29, 29.08s/it]"
     ]
    },
    {
     "name": "stdout",
     "output_type": "stream",
     "text": [
      "Saved 11877 rows.\n",
      "\n",
      "Read file 1.\n"
     ]
    },
    {
     "name": "stderr",
     "output_type": "stream",
     "text": [
      "/Users/julialromero/miniconda3/envs/myenv/lib/python3.9/site-packages/geopandas/geoseries.py:207: FutureWarning: The default dtype for empty Series will be 'object' instead of 'float64' in a future version. Specify a dtype explicitly to silence this warning.\n",
      "  s = pd.Series(data, index=index, name=name, **kwargs)\n",
      "\r",
      "2it [00:51, 25.15s/it]"
     ]
    },
    {
     "name": "stdout",
     "output_type": "stream",
     "text": [
      "Saved 11699 rows.\n",
      "\n",
      "Read file 2.\n"
     ]
    },
    {
     "name": "stderr",
     "output_type": "stream",
     "text": [
      "/Users/julialromero/miniconda3/envs/myenv/lib/python3.9/site-packages/geopandas/geoseries.py:207: FutureWarning: The default dtype for empty Series will be 'object' instead of 'float64' in a future version. Specify a dtype explicitly to silence this warning.\n",
      "  s = pd.Series(data, index=index, name=name, **kwargs)\n",
      "\r",
      "3it [01:09, 22.01s/it]"
     ]
    },
    {
     "name": "stdout",
     "output_type": "stream",
     "text": [
      "Saved 11755 rows.\n",
      "\n",
      "Read file 3.\n"
     ]
    },
    {
     "name": "stderr",
     "output_type": "stream",
     "text": [
      "/Users/julialromero/miniconda3/envs/myenv/lib/python3.9/site-packages/geopandas/geoseries.py:207: FutureWarning: The default dtype for empty Series will be 'object' instead of 'float64' in a future version. Specify a dtype explicitly to silence this warning.\n",
      "  s = pd.Series(data, index=index, name=name, **kwargs)\n",
      "\r",
      "4it [01:29, 21.11s/it]"
     ]
    },
    {
     "name": "stdout",
     "output_type": "stream",
     "text": [
      "Saved 11870 rows.\n",
      "\n",
      "Read file 4.\n"
     ]
    },
    {
     "name": "stderr",
     "output_type": "stream",
     "text": [
      "/Users/julialromero/miniconda3/envs/myenv/lib/python3.9/site-packages/geopandas/geoseries.py:207: FutureWarning: The default dtype for empty Series will be 'object' instead of 'float64' in a future version. Specify a dtype explicitly to silence this warning.\n",
      "  s = pd.Series(data, index=index, name=name, **kwargs)\n",
      "\r",
      "5it [01:47, 19.97s/it]"
     ]
    },
    {
     "name": "stdout",
     "output_type": "stream",
     "text": [
      "Saved 11756 rows.\n",
      "\n",
      "Read file 5.\n"
     ]
    },
    {
     "name": "stderr",
     "output_type": "stream",
     "text": [
      "/Users/julialromero/miniconda3/envs/myenv/lib/python3.9/site-packages/geopandas/geoseries.py:207: FutureWarning: The default dtype for empty Series will be 'object' instead of 'float64' in a future version. Specify a dtype explicitly to silence this warning.\n",
      "  s = pd.Series(data, index=index, name=name, **kwargs)\n",
      "\r",
      "6it [02:06, 19.58s/it]"
     ]
    },
    {
     "name": "stdout",
     "output_type": "stream",
     "text": [
      "Saved 11774 rows.\n",
      "\n",
      "Read file 6.\n"
     ]
    },
    {
     "name": "stderr",
     "output_type": "stream",
     "text": [
      "/Users/julialromero/miniconda3/envs/myenv/lib/python3.9/site-packages/geopandas/geoseries.py:207: FutureWarning: The default dtype for empty Series will be 'object' instead of 'float64' in a future version. Specify a dtype explicitly to silence this warning.\n",
      "  s = pd.Series(data, index=index, name=name, **kwargs)\n",
      "\r",
      "7it [02:30, 21.00s/it]"
     ]
    },
    {
     "name": "stdout",
     "output_type": "stream",
     "text": [
      "Saved 12097 rows.\n",
      "\n",
      "Read file 7.\n"
     ]
    },
    {
     "name": "stderr",
     "output_type": "stream",
     "text": [
      "/Users/julialromero/miniconda3/envs/myenv/lib/python3.9/site-packages/geopandas/geoseries.py:207: FutureWarning: The default dtype for empty Series will be 'object' instead of 'float64' in a future version. Specify a dtype explicitly to silence this warning.\n",
      "  s = pd.Series(data, index=index, name=name, **kwargs)\n",
      "\r",
      "8it [02:57, 23.08s/it]"
     ]
    },
    {
     "name": "stdout",
     "output_type": "stream",
     "text": [
      "Saved 11889 rows.\n",
      "\n",
      "Read file 8.\n",
      "CBG length incorrect: CA:59150078\n"
     ]
    },
    {
     "name": "stderr",
     "output_type": "stream",
     "text": [
      "/Users/julialromero/miniconda3/envs/myenv/lib/python3.9/site-packages/geopandas/geoseries.py:207: FutureWarning: The default dtype for empty Series will be 'object' instead of 'float64' in a future version. Specify a dtype explicitly to silence this warning.\n",
      "  s = pd.Series(data, index=index, name=name, **kwargs)\n",
      "9it [03:38, 28.76s/it]"
     ]
    },
    {
     "name": "stdout",
     "output_type": "stream",
     "text": [
      "Saved 18769 rows.\n",
      "\n",
      "Read file 9.\n"
     ]
    },
    {
     "name": "stderr",
     "output_type": "stream",
     "text": [
      "/Users/julialromero/miniconda3/envs/myenv/lib/python3.9/site-packages/geopandas/geoseries.py:207: FutureWarning: The default dtype for empty Series will be 'object' instead of 'float64' in a future version. Specify a dtype explicitly to silence this warning.\n",
      "  s = pd.Series(data, index=index, name=name, **kwargs)\n",
      "\r",
      "10it [04:07, 28.75s/it]"
     ]
    },
    {
     "name": "stdout",
     "output_type": "stream",
     "text": [
      "Saved 12099 rows.\n",
      "\n",
      "Read file 10.\n"
     ]
    },
    {
     "name": "stderr",
     "output_type": "stream",
     "text": [
      "/Users/julialromero/miniconda3/envs/myenv/lib/python3.9/site-packages/geopandas/geoseries.py:207: FutureWarning: The default dtype for empty Series will be 'object' instead of 'float64' in a future version. Specify a dtype explicitly to silence this warning.\n",
      "  s = pd.Series(data, index=index, name=name, **kwargs)\n",
      "\r",
      "11it [04:38, 29.23s/it]"
     ]
    },
    {
     "name": "stdout",
     "output_type": "stream",
     "text": [
      "Saved 11729 rows.\n",
      "\n",
      "Read file 11.\n"
     ]
    },
    {
     "name": "stderr",
     "output_type": "stream",
     "text": [
      "/Users/julialromero/miniconda3/envs/myenv/lib/python3.9/site-packages/geopandas/geoseries.py:207: FutureWarning: The default dtype for empty Series will be 'object' instead of 'float64' in a future version. Specify a dtype explicitly to silence this warning.\n",
      "  s = pd.Series(data, index=index, name=name, **kwargs)\n",
      "\r",
      "12it [05:11, 30.43s/it]"
     ]
    },
    {
     "name": "stdout",
     "output_type": "stream",
     "text": [
      "Saved 11687 rows.\n",
      "\n",
      "Read file 12.\n"
     ]
    },
    {
     "name": "stderr",
     "output_type": "stream",
     "text": [
      "/Users/julialromero/miniconda3/envs/myenv/lib/python3.9/site-packages/geopandas/geoseries.py:207: FutureWarning: The default dtype for empty Series will be 'object' instead of 'float64' in a future version. Specify a dtype explicitly to silence this warning.\n",
      "  s = pd.Series(data, index=index, name=name, **kwargs)\n",
      "\r",
      "13it [05:38, 29.38s/it]"
     ]
    },
    {
     "name": "stdout",
     "output_type": "stream",
     "text": [
      "Saved 11866 rows.\n",
      "\n",
      "Read file 13.\n"
     ]
    },
    {
     "name": "stderr",
     "output_type": "stream",
     "text": [
      "/Users/julialromero/miniconda3/envs/myenv/lib/python3.9/site-packages/geopandas/geoseries.py:207: FutureWarning: The default dtype for empty Series will be 'object' instead of 'float64' in a future version. Specify a dtype explicitly to silence this warning.\n",
      "  s = pd.Series(data, index=index, name=name, **kwargs)\n",
      "\r",
      "14it [06:01, 27.69s/it]"
     ]
    },
    {
     "name": "stdout",
     "output_type": "stream",
     "text": [
      "Saved 11537 rows.\n",
      "\n",
      "Read file 14.\n"
     ]
    },
    {
     "name": "stderr",
     "output_type": "stream",
     "text": [
      "/Users/julialromero/miniconda3/envs/myenv/lib/python3.9/site-packages/geopandas/array.py:275: ShapelyDeprecationWarning: The array interface is deprecated and will no longer work in Shapely 2.0. Convert the '.coords' to a numpy array instead.\n",
      "  return GeometryArray(vectorized.points_from_xy(x, y, z), crs=crs)\n",
      "/var/folders/b6/qqcnr7cj16sd1r0nn3p4f_sw0000gn/T/ipykernel_89502/3658352350.py:20: SettingWithCopyWarning: \n",
      "A value is trying to be set on a copy of a slice from a DataFrame.\n",
      "Try using .loc[row_indexer,col_indexer] = value instead\n",
      "\n",
      "See the caveats in the documentation: https://pandas.pydata.org/pandas-docs/stable/user_guide/indexing.html#returning-a-view-versus-a-copy\n",
      "  cp['GEOID'] = points.apply(lambda p: get_tract_num(tract_data, p))\n",
      "\r",
      "15it [06:34, 29.17s/it]"
     ]
    },
    {
     "name": "stdout",
     "output_type": "stream",
     "text": [
      "Saved 11803 rows.\n",
      "\n",
      "Read file 15.\n"
     ]
    },
    {
     "name": "stderr",
     "output_type": "stream",
     "text": [
      "/Users/julialromero/miniconda3/envs/myenv/lib/python3.9/site-packages/geopandas/geoseries.py:207: FutureWarning: The default dtype for empty Series will be 'object' instead of 'float64' in a future version. Specify a dtype explicitly to silence this warning.\n",
      "  s = pd.Series(data, index=index, name=name, **kwargs)\n",
      "\r",
      "16it [07:00, 28.08s/it]"
     ]
    },
    {
     "name": "stdout",
     "output_type": "stream",
     "text": [
      "Saved 11896 rows.\n",
      "\n",
      "Read file 16.\n"
     ]
    },
    {
     "name": "stderr",
     "output_type": "stream",
     "text": [
      "/Users/julialromero/miniconda3/envs/myenv/lib/python3.9/site-packages/geopandas/geoseries.py:207: FutureWarning: The default dtype for empty Series will be 'object' instead of 'float64' in a future version. Specify a dtype explicitly to silence this warning.\n",
      "  s = pd.Series(data, index=index, name=name, **kwargs)\n",
      "\r",
      "17it [07:27, 27.96s/it]"
     ]
    },
    {
     "name": "stdout",
     "output_type": "stream",
     "text": [
      "Saved 11975 rows.\n",
      "\n",
      "Read file 17.\n"
     ]
    },
    {
     "name": "stderr",
     "output_type": "stream",
     "text": [
      "/Users/julialromero/miniconda3/envs/myenv/lib/python3.9/site-packages/geopandas/geoseries.py:207: FutureWarning: The default dtype for empty Series will be 'object' instead of 'float64' in a future version. Specify a dtype explicitly to silence this warning.\n",
      "  s = pd.Series(data, index=index, name=name, **kwargs)\n",
      "\r",
      "18it [07:49, 26.14s/it]"
     ]
    },
    {
     "name": "stdout",
     "output_type": "stream",
     "text": [
      "Saved 11985 rows.\n",
      "\n",
      "Read file 18.\n"
     ]
    },
    {
     "name": "stderr",
     "output_type": "stream",
     "text": [
      "/Users/julialromero/miniconda3/envs/myenv/lib/python3.9/site-packages/geopandas/geoseries.py:207: FutureWarning: The default dtype for empty Series will be 'object' instead of 'float64' in a future version. Specify a dtype explicitly to silence this warning.\n",
      "  s = pd.Series(data, index=index, name=name, **kwargs)\n",
      "\r",
      "19it [08:07, 23.65s/it]"
     ]
    },
    {
     "name": "stdout",
     "output_type": "stream",
     "text": [
      "Saved 11874 rows.\n",
      "\n",
      "Read file 19.\n"
     ]
    },
    {
     "name": "stderr",
     "output_type": "stream",
     "text": [
      "/Users/julialromero/miniconda3/envs/myenv/lib/python3.9/site-packages/geopandas/geoseries.py:207: FutureWarning: The default dtype for empty Series will be 'object' instead of 'float64' in a future version. Specify a dtype explicitly to silence this warning.\n",
      "  s = pd.Series(data, index=index, name=name, **kwargs)\n",
      "\r",
      "20it [08:39, 26.27s/it]"
     ]
    },
    {
     "name": "stdout",
     "output_type": "stream",
     "text": [
      "Saved 11810 rows.\n",
      "\n",
      "Read file 20.\n"
     ]
    },
    {
     "name": "stderr",
     "output_type": "stream",
     "text": [
      "/Users/julialromero/miniconda3/envs/myenv/lib/python3.9/site-packages/geopandas/geoseries.py:207: FutureWarning: The default dtype for empty Series will be 'object' instead of 'float64' in a future version. Specify a dtype explicitly to silence this warning.\n",
      "  s = pd.Series(data, index=index, name=name, **kwargs)\n",
      "\r",
      "21it [08:59, 24.27s/it]"
     ]
    },
    {
     "name": "stdout",
     "output_type": "stream",
     "text": [
      "Saved 11744 rows.\n",
      "\n",
      "Read file 21.\n"
     ]
    },
    {
     "name": "stderr",
     "output_type": "stream",
     "text": [
      "/Users/julialromero/miniconda3/envs/myenv/lib/python3.9/site-packages/geopandas/geoseries.py:207: FutureWarning: The default dtype for empty Series will be 'object' instead of 'float64' in a future version. Specify a dtype explicitly to silence this warning.\n",
      "  s = pd.Series(data, index=index, name=name, **kwargs)\n",
      "\r",
      "22it [09:17, 22.45s/it]"
     ]
    },
    {
     "name": "stdout",
     "output_type": "stream",
     "text": [
      "Saved 11727 rows.\n",
      "\n",
      "Read file 22.\n"
     ]
    },
    {
     "name": "stderr",
     "output_type": "stream",
     "text": [
      "/Users/julialromero/miniconda3/envs/myenv/lib/python3.9/site-packages/geopandas/geoseries.py:207: FutureWarning: The default dtype for empty Series will be 'object' instead of 'float64' in a future version. Specify a dtype explicitly to silence this warning.\n",
      "  s = pd.Series(data, index=index, name=name, **kwargs)\n",
      "\r",
      "23it [09:54, 26.66s/it]"
     ]
    },
    {
     "name": "stdout",
     "output_type": "stream",
     "text": [
      "Saved 11734 rows.\n",
      "\n",
      "Read file 23.\n"
     ]
    },
    {
     "name": "stderr",
     "output_type": "stream",
     "text": [
      "/Users/julialromero/miniconda3/envs/myenv/lib/python3.9/site-packages/geopandas/geoseries.py:207: FutureWarning: The default dtype for empty Series will be 'object' instead of 'float64' in a future version. Specify a dtype explicitly to silence this warning.\n",
      "  s = pd.Series(data, index=index, name=name, **kwargs)\n",
      "24it [10:18, 26.07s/it]"
     ]
    },
    {
     "name": "stdout",
     "output_type": "stream",
     "text": [
      "Saved 11814 rows.\n",
      "\n",
      "Read file 24.\n"
     ]
    },
    {
     "name": "stderr",
     "output_type": "stream",
     "text": [
      "/Users/julialromero/miniconda3/envs/myenv/lib/python3.9/site-packages/geopandas/geoseries.py:207: FutureWarning: The default dtype for empty Series will be 'object' instead of 'float64' in a future version. Specify a dtype explicitly to silence this warning.\n",
      "  s = pd.Series(data, index=index, name=name, **kwargs)\n",
      "\r",
      "25it [10:42, 25.36s/it]"
     ]
    },
    {
     "name": "stdout",
     "output_type": "stream",
     "text": [
      "Saved 11833 rows.\n",
      "\n",
      "Read file 25.\n"
     ]
    },
    {
     "name": "stderr",
     "output_type": "stream",
     "text": [
      "/Users/julialromero/miniconda3/envs/myenv/lib/python3.9/site-packages/geopandas/geoseries.py:207: FutureWarning: The default dtype for empty Series will be 'object' instead of 'float64' in a future version. Specify a dtype explicitly to silence this warning.\n",
      "  s = pd.Series(data, index=index, name=name, **kwargs)\n",
      "\r",
      "26it [11:06, 24.94s/it]"
     ]
    },
    {
     "name": "stdout",
     "output_type": "stream",
     "text": [
      "Saved 11773 rows.\n",
      "\n",
      "Read file 26.\n"
     ]
    },
    {
     "name": "stderr",
     "output_type": "stream",
     "text": [
      "/Users/julialromero/miniconda3/envs/myenv/lib/python3.9/site-packages/geopandas/geoseries.py:207: FutureWarning: The default dtype for empty Series will be 'object' instead of 'float64' in a future version. Specify a dtype explicitly to silence this warning.\n",
      "  s = pd.Series(data, index=index, name=name, **kwargs)\n",
      "\r",
      "27it [11:33, 25.50s/it]"
     ]
    },
    {
     "name": "stdout",
     "output_type": "stream",
     "text": [
      "Saved 11698 rows.\n",
      "\n",
      "Read file 27.\n"
     ]
    },
    {
     "name": "stderr",
     "output_type": "stream",
     "text": [
      "/Users/julialromero/miniconda3/envs/myenv/lib/python3.9/site-packages/geopandas/geoseries.py:207: FutureWarning: The default dtype for empty Series will be 'object' instead of 'float64' in a future version. Specify a dtype explicitly to silence this warning.\n",
      "  s = pd.Series(data, index=index, name=name, **kwargs)\n",
      "\r",
      "28it [11:57, 25.22s/it]"
     ]
    },
    {
     "name": "stdout",
     "output_type": "stream",
     "text": [
      "Saved 11831 rows.\n",
      "\n",
      "Read file 28.\n"
     ]
    },
    {
     "name": "stderr",
     "output_type": "stream",
     "text": [
      "/Users/julialromero/miniconda3/envs/myenv/lib/python3.9/site-packages/geopandas/geoseries.py:207: FutureWarning: The default dtype for empty Series will be 'object' instead of 'float64' in a future version. Specify a dtype explicitly to silence this warning.\n",
      "  s = pd.Series(data, index=index, name=name, **kwargs)\n",
      "\r",
      "29it [12:19, 24.26s/it]"
     ]
    },
    {
     "name": "stdout",
     "output_type": "stream",
     "text": [
      "Saved 11766 rows.\n",
      "\n",
      "Read file 29.\n"
     ]
    },
    {
     "name": "stderr",
     "output_type": "stream",
     "text": [
      "/Users/julialromero/miniconda3/envs/myenv/lib/python3.9/site-packages/geopandas/geoseries.py:207: FutureWarning: The default dtype for empty Series will be 'object' instead of 'float64' in a future version. Specify a dtype explicitly to silence this warning.\n",
      "  s = pd.Series(data, index=index, name=name, **kwargs)\n",
      "\r",
      "30it [12:47, 25.16s/it]"
     ]
    },
    {
     "name": "stdout",
     "output_type": "stream",
     "text": [
      "Saved 11781 rows.\n",
      "\n",
      "Read file 30.\n"
     ]
    },
    {
     "name": "stderr",
     "output_type": "stream",
     "text": [
      "/Users/julialromero/miniconda3/envs/myenv/lib/python3.9/site-packages/geopandas/geoseries.py:207: FutureWarning: The default dtype for empty Series will be 'object' instead of 'float64' in a future version. Specify a dtype explicitly to silence this warning.\n",
      "  s = pd.Series(data, index=index, name=name, **kwargs)\n",
      "\r",
      "31it [13:18, 27.16s/it]"
     ]
    },
    {
     "name": "stdout",
     "output_type": "stream",
     "text": [
      "Saved 12117 rows.\n",
      "\n",
      "Read file 31.\n"
     ]
    },
    {
     "name": "stderr",
     "output_type": "stream",
     "text": [
      "/Users/julialromero/miniconda3/envs/myenv/lib/python3.9/site-packages/geopandas/geoseries.py:207: FutureWarning: The default dtype for empty Series will be 'object' instead of 'float64' in a future version. Specify a dtype explicitly to silence this warning.\n",
      "  s = pd.Series(data, index=index, name=name, **kwargs)\n",
      "\r",
      "32it [13:39, 25.02s/it]"
     ]
    },
    {
     "name": "stdout",
     "output_type": "stream",
     "text": [
      "Saved 11880 rows.\n",
      "\n",
      "Read file 32.\n",
      "CBG length incorrect: CA:59150078\n"
     ]
    },
    {
     "name": "stderr",
     "output_type": "stream",
     "text": [
      "/Users/julialromero/miniconda3/envs/myenv/lib/python3.9/site-packages/geopandas/geoseries.py:207: FutureWarning: The default dtype for empty Series will be 'object' instead of 'float64' in a future version. Specify a dtype explicitly to silence this warning.\n",
      "  s = pd.Series(data, index=index, name=name, **kwargs)\n",
      "\r",
      "33it [14:28, 32.26s/it]"
     ]
    },
    {
     "name": "stdout",
     "output_type": "stream",
     "text": [
      "Saved 18972 rows.\n",
      "\n",
      "Read file 33.\n"
     ]
    },
    {
     "name": "stderr",
     "output_type": "stream",
     "text": [
      "/Users/julialromero/miniconda3/envs/myenv/lib/python3.9/site-packages/geopandas/geoseries.py:207: FutureWarning: The default dtype for empty Series will be 'object' instead of 'float64' in a future version. Specify a dtype explicitly to silence this warning.\n",
      "  s = pd.Series(data, index=index, name=name, **kwargs)\n",
      "\r",
      "34it [14:50, 29.43s/it]"
     ]
    },
    {
     "name": "stdout",
     "output_type": "stream",
     "text": [
      "Saved 12052 rows.\n",
      "\n",
      "Read file 34.\n"
     ]
    },
    {
     "name": "stderr",
     "output_type": "stream",
     "text": [
      "/Users/julialromero/miniconda3/envs/myenv/lib/python3.9/site-packages/geopandas/geoseries.py:207: FutureWarning: The default dtype for empty Series will be 'object' instead of 'float64' in a future version. Specify a dtype explicitly to silence this warning.\n",
      "  s = pd.Series(data, index=index, name=name, **kwargs)\n",
      "\r",
      "35it [15:10, 26.40s/it]"
     ]
    },
    {
     "name": "stdout",
     "output_type": "stream",
     "text": [
      "Saved 11760 rows.\n",
      "\n",
      "Read file 35.\n"
     ]
    },
    {
     "name": "stderr",
     "output_type": "stream",
     "text": [
      "/Users/julialromero/miniconda3/envs/myenv/lib/python3.9/site-packages/geopandas/geoseries.py:207: FutureWarning: The default dtype for empty Series will be 'object' instead of 'float64' in a future version. Specify a dtype explicitly to silence this warning.\n",
      "  s = pd.Series(data, index=index, name=name, **kwargs)\n",
      "\r",
      "36it [15:34, 25.81s/it]"
     ]
    },
    {
     "name": "stdout",
     "output_type": "stream",
     "text": [
      "Saved 11635 rows.\n",
      "\n",
      "Read file 36.\n"
     ]
    },
    {
     "name": "stderr",
     "output_type": "stream",
     "text": [
      "/Users/julialromero/miniconda3/envs/myenv/lib/python3.9/site-packages/geopandas/geoseries.py:207: FutureWarning: The default dtype for empty Series will be 'object' instead of 'float64' in a future version. Specify a dtype explicitly to silence this warning.\n",
      "  s = pd.Series(data, index=index, name=name, **kwargs)\n",
      "\r",
      "37it [15:58, 25.19s/it]"
     ]
    },
    {
     "name": "stdout",
     "output_type": "stream",
     "text": [
      "Saved 11839 rows.\n",
      "\n",
      "Read file 37.\n"
     ]
    },
    {
     "name": "stderr",
     "output_type": "stream",
     "text": [
      "/Users/julialromero/miniconda3/envs/myenv/lib/python3.9/site-packages/geopandas/geoseries.py:207: FutureWarning: The default dtype for empty Series will be 'object' instead of 'float64' in a future version. Specify a dtype explicitly to silence this warning.\n",
      "  s = pd.Series(data, index=index, name=name, **kwargs)\n",
      "\r",
      "38it [16:14, 22.53s/it]"
     ]
    },
    {
     "name": "stdout",
     "output_type": "stream",
     "text": [
      "Saved 11536 rows.\n",
      "\n",
      "Read file 38.\n"
     ]
    },
    {
     "name": "stderr",
     "output_type": "stream",
     "text": [
      "/Users/julialromero/miniconda3/envs/myenv/lib/python3.9/site-packages/geopandas/array.py:275: ShapelyDeprecationWarning: The array interface is deprecated and will no longer work in Shapely 2.0. Convert the '.coords' to a numpy array instead.\n",
      "  return GeometryArray(vectorized.points_from_xy(x, y, z), crs=crs)\n",
      "/var/folders/b6/qqcnr7cj16sd1r0nn3p4f_sw0000gn/T/ipykernel_89502/3658352350.py:20: SettingWithCopyWarning: \n",
      "A value is trying to be set on a copy of a slice from a DataFrame.\n",
      "Try using .loc[row_indexer,col_indexer] = value instead\n",
      "\n",
      "See the caveats in the documentation: https://pandas.pydata.org/pandas-docs/stable/user_guide/indexing.html#returning-a-view-versus-a-copy\n",
      "  cp['GEOID'] = points.apply(lambda p: get_tract_num(tract_data, p))\n",
      "\r",
      "39it [16:46, 25.27s/it]"
     ]
    },
    {
     "name": "stdout",
     "output_type": "stream",
     "text": [
      "Saved 11874 rows.\n",
      "\n",
      "Read file 39.\n"
     ]
    },
    {
     "name": "stderr",
     "output_type": "stream",
     "text": [
      "/Users/julialromero/miniconda3/envs/myenv/lib/python3.9/site-packages/geopandas/geoseries.py:207: FutureWarning: The default dtype for empty Series will be 'object' instead of 'float64' in a future version. Specify a dtype explicitly to silence this warning.\n",
      "  s = pd.Series(data, index=index, name=name, **kwargs)\n",
      "\r",
      "40it [17:07, 23.98s/it]"
     ]
    },
    {
     "name": "stdout",
     "output_type": "stream",
     "text": [
      "Saved 11823 rows.\n",
      "\n",
      "Read file 40.\n"
     ]
    },
    {
     "name": "stderr",
     "output_type": "stream",
     "text": [
      "/Users/julialromero/miniconda3/envs/myenv/lib/python3.9/site-packages/geopandas/geoseries.py:207: FutureWarning: The default dtype for empty Series will be 'object' instead of 'float64' in a future version. Specify a dtype explicitly to silence this warning.\n",
      "  s = pd.Series(data, index=index, name=name, **kwargs)\n",
      "\r",
      "41it [17:26, 22.44s/it]"
     ]
    },
    {
     "name": "stdout",
     "output_type": "stream",
     "text": [
      "Saved 11920 rows.\n",
      "\n",
      "Read file 41.\n"
     ]
    },
    {
     "name": "stderr",
     "output_type": "stream",
     "text": [
      "/Users/julialromero/miniconda3/envs/myenv/lib/python3.9/site-packages/geopandas/geoseries.py:207: FutureWarning: The default dtype for empty Series will be 'object' instead of 'float64' in a future version. Specify a dtype explicitly to silence this warning.\n",
      "  s = pd.Series(data, index=index, name=name, **kwargs)\n",
      "\r",
      "42it [17:43, 20.74s/it]"
     ]
    },
    {
     "name": "stdout",
     "output_type": "stream",
     "text": [
      "Saved 11824 rows.\n",
      "\n",
      "Read file 42.\n"
     ]
    },
    {
     "name": "stderr",
     "output_type": "stream",
     "text": [
      "/Users/julialromero/miniconda3/envs/myenv/lib/python3.9/site-packages/geopandas/geoseries.py:207: FutureWarning: The default dtype for empty Series will be 'object' instead of 'float64' in a future version. Specify a dtype explicitly to silence this warning.\n",
      "  s = pd.Series(data, index=index, name=name, **kwargs)\n",
      "\r",
      "43it [17:59, 19.58s/it]"
     ]
    },
    {
     "name": "stdout",
     "output_type": "stream",
     "text": [
      "Saved 11795 rows.\n",
      "\n",
      "Read file 43.\n"
     ]
    },
    {
     "name": "stderr",
     "output_type": "stream",
     "text": [
      "/Users/julialromero/miniconda3/envs/myenv/lib/python3.9/site-packages/geopandas/geoseries.py:207: FutureWarning: The default dtype for empty Series will be 'object' instead of 'float64' in a future version. Specify a dtype explicitly to silence this warning.\n",
      "  s = pd.Series(data, index=index, name=name, **kwargs)\n",
      "\r",
      "44it [18:26, 21.61s/it]"
     ]
    },
    {
     "name": "stdout",
     "output_type": "stream",
     "text": [
      "Saved 11816 rows.\n",
      "\n",
      "Read file 44.\n"
     ]
    },
    {
     "name": "stderr",
     "output_type": "stream",
     "text": [
      "/Users/julialromero/miniconda3/envs/myenv/lib/python3.9/site-packages/geopandas/geoseries.py:207: FutureWarning: The default dtype for empty Series will be 'object' instead of 'float64' in a future version. Specify a dtype explicitly to silence this warning.\n",
      "  s = pd.Series(data, index=index, name=name, **kwargs)\n",
      "\r",
      "45it [18:43, 20.38s/it]"
     ]
    },
    {
     "name": "stdout",
     "output_type": "stream",
     "text": [
      "Saved 11638 rows.\n",
      "\n",
      "Read file 45.\n"
     ]
    },
    {
     "name": "stderr",
     "output_type": "stream",
     "text": [
      "/Users/julialromero/miniconda3/envs/myenv/lib/python3.9/site-packages/geopandas/geoseries.py:207: FutureWarning: The default dtype for empty Series will be 'object' instead of 'float64' in a future version. Specify a dtype explicitly to silence this warning.\n",
      "  s = pd.Series(data, index=index, name=name, **kwargs)\n",
      "\r",
      "46it [19:12, 22.96s/it]"
     ]
    },
    {
     "name": "stdout",
     "output_type": "stream",
     "text": [
      "Saved 11703 rows.\n",
      "\n",
      "Read file 46.\n"
     ]
    },
    {
     "name": "stderr",
     "output_type": "stream",
     "text": [
      "/Users/julialromero/miniconda3/envs/myenv/lib/python3.9/site-packages/geopandas/geoseries.py:207: FutureWarning: The default dtype for empty Series will be 'object' instead of 'float64' in a future version. Specify a dtype explicitly to silence this warning.\n",
      "  s = pd.Series(data, index=index, name=name, **kwargs)\n",
      "\r",
      "47it [19:36, 23.28s/it]"
     ]
    },
    {
     "name": "stdout",
     "output_type": "stream",
     "text": [
      "Saved 11706 rows.\n",
      "\n",
      "Read file 47.\n"
     ]
    },
    {
     "name": "stderr",
     "output_type": "stream",
     "text": [
      "/Users/julialromero/miniconda3/envs/myenv/lib/python3.9/site-packages/geopandas/geoseries.py:207: FutureWarning: The default dtype for empty Series will be 'object' instead of 'float64' in a future version. Specify a dtype explicitly to silence this warning.\n",
      "  s = pd.Series(data, index=index, name=name, **kwargs)\n",
      "\r",
      "48it [20:07, 25.43s/it]"
     ]
    },
    {
     "name": "stdout",
     "output_type": "stream",
     "text": [
      "Saved 11833 rows.\n",
      "\n",
      "Read file 48.\n"
     ]
    },
    {
     "name": "stderr",
     "output_type": "stream",
     "text": [
      "/Users/julialromero/miniconda3/envs/myenv/lib/python3.9/site-packages/geopandas/geoseries.py:207: FutureWarning: The default dtype for empty Series will be 'object' instead of 'float64' in a future version. Specify a dtype explicitly to silence this warning.\n",
      "  s = pd.Series(data, index=index, name=name, **kwargs)\n",
      "\r",
      "49it [20:33, 25.72s/it]"
     ]
    },
    {
     "name": "stdout",
     "output_type": "stream",
     "text": [
      "Saved 11821 rows.\n",
      "\n",
      "Read file 49.\n"
     ]
    },
    {
     "name": "stderr",
     "output_type": "stream",
     "text": [
      "/Users/julialromero/miniconda3/envs/myenv/lib/python3.9/site-packages/geopandas/geoseries.py:207: FutureWarning: The default dtype for empty Series will be 'object' instead of 'float64' in a future version. Specify a dtype explicitly to silence this warning.\n",
      "  s = pd.Series(data, index=index, name=name, **kwargs)\n",
      "\r",
      "50it [21:08, 28.39s/it]"
     ]
    },
    {
     "name": "stdout",
     "output_type": "stream",
     "text": [
      "Saved 11704 rows.\n",
      "\n",
      "Read file 50.\n"
     ]
    },
    {
     "name": "stderr",
     "output_type": "stream",
     "text": [
      "/Users/julialromero/miniconda3/envs/myenv/lib/python3.9/site-packages/geopandas/geoseries.py:207: FutureWarning: The default dtype for empty Series will be 'object' instead of 'float64' in a future version. Specify a dtype explicitly to silence this warning.\n",
      "  s = pd.Series(data, index=index, name=name, **kwargs)\n",
      "\r",
      "51it [21:41, 29.85s/it]"
     ]
    },
    {
     "name": "stdout",
     "output_type": "stream",
     "text": [
      "Saved 11659 rows.\n",
      "\n",
      "Read file 51.\n"
     ]
    },
    {
     "name": "stderr",
     "output_type": "stream",
     "text": [
      "/Users/julialromero/miniconda3/envs/myenv/lib/python3.9/site-packages/geopandas/geoseries.py:207: FutureWarning: The default dtype for empty Series will be 'object' instead of 'float64' in a future version. Specify a dtype explicitly to silence this warning.\n",
      "  s = pd.Series(data, index=index, name=name, **kwargs)\n",
      "\r",
      "52it [22:07, 28.82s/it]"
     ]
    },
    {
     "name": "stdout",
     "output_type": "stream",
     "text": [
      "Saved 11828 rows.\n",
      "\n",
      "Read file 52.\n"
     ]
    },
    {
     "name": "stderr",
     "output_type": "stream",
     "text": [
      "/Users/julialromero/miniconda3/envs/myenv/lib/python3.9/site-packages/geopandas/geoseries.py:207: FutureWarning: The default dtype for empty Series will be 'object' instead of 'float64' in a future version. Specify a dtype explicitly to silence this warning.\n",
      "  s = pd.Series(data, index=index, name=name, **kwargs)\n",
      "\r",
      "53it [22:27, 26.02s/it]"
     ]
    },
    {
     "name": "stdout",
     "output_type": "stream",
     "text": [
      "Saved 11760 rows.\n",
      "\n",
      "Read file 53.\n"
     ]
    },
    {
     "name": "stderr",
     "output_type": "stream",
     "text": [
      "/Users/julialromero/miniconda3/envs/myenv/lib/python3.9/site-packages/geopandas/geoseries.py:207: FutureWarning: The default dtype for empty Series will be 'object' instead of 'float64' in a future version. Specify a dtype explicitly to silence this warning.\n",
      "  s = pd.Series(data, index=index, name=name, **kwargs)\n",
      "\r",
      "54it [22:48, 24.49s/it]"
     ]
    },
    {
     "name": "stdout",
     "output_type": "stream",
     "text": [
      "Saved 11778 rows.\n",
      "\n",
      "Read file 54.\n"
     ]
    },
    {
     "name": "stderr",
     "output_type": "stream",
     "text": [
      "/Users/julialromero/miniconda3/envs/myenv/lib/python3.9/site-packages/geopandas/geoseries.py:207: FutureWarning: The default dtype for empty Series will be 'object' instead of 'float64' in a future version. Specify a dtype explicitly to silence this warning.\n",
      "  s = pd.Series(data, index=index, name=name, **kwargs)\n",
      "\r",
      "55it [23:21, 27.01s/it]"
     ]
    },
    {
     "name": "stdout",
     "output_type": "stream",
     "text": [
      "Saved 12081 rows.\n",
      "\n",
      "Read file 55.\n"
     ]
    },
    {
     "name": "stderr",
     "output_type": "stream",
     "text": [
      "/Users/julialromero/miniconda3/envs/myenv/lib/python3.9/site-packages/geopandas/geoseries.py:207: FutureWarning: The default dtype for empty Series will be 'object' instead of 'float64' in a future version. Specify a dtype explicitly to silence this warning.\n",
      "  s = pd.Series(data, index=index, name=name, **kwargs)\n",
      "\r",
      "56it [23:38, 24.09s/it]"
     ]
    },
    {
     "name": "stdout",
     "output_type": "stream",
     "text": [
      "Saved 11876 rows.\n",
      "\n",
      "Read file 56.\n",
      "CBG length incorrect: CA:59150078\n"
     ]
    },
    {
     "name": "stderr",
     "output_type": "stream",
     "text": [
      "/Users/julialromero/miniconda3/envs/myenv/lib/python3.9/site-packages/geopandas/geoseries.py:207: FutureWarning: The default dtype for empty Series will be 'object' instead of 'float64' in a future version. Specify a dtype explicitly to silence this warning.\n",
      "  s = pd.Series(data, index=index, name=name, **kwargs)\n",
      "57it [24:28, 31.78s/it]"
     ]
    },
    {
     "name": "stdout",
     "output_type": "stream",
     "text": [
      "Saved 18947 rows.\n",
      "\n",
      "Read file 57.\n"
     ]
    },
    {
     "name": "stderr",
     "output_type": "stream",
     "text": [
      "/Users/julialromero/miniconda3/envs/myenv/lib/python3.9/site-packages/geopandas/geoseries.py:207: FutureWarning: The default dtype for empty Series will be 'object' instead of 'float64' in a future version. Specify a dtype explicitly to silence this warning.\n",
      "  s = pd.Series(data, index=index, name=name, **kwargs)\n",
      "\r",
      "58it [25:00, 31.87s/it]"
     ]
    },
    {
     "name": "stdout",
     "output_type": "stream",
     "text": [
      "Saved 12063 rows.\n",
      "\n",
      "Read file 58.\n"
     ]
    },
    {
     "name": "stderr",
     "output_type": "stream",
     "text": [
      "/Users/julialromero/miniconda3/envs/myenv/lib/python3.9/site-packages/geopandas/geoseries.py:207: FutureWarning: The default dtype for empty Series will be 'object' instead of 'float64' in a future version. Specify a dtype explicitly to silence this warning.\n",
      "  s = pd.Series(data, index=index, name=name, **kwargs)\n",
      "\r",
      "59it [25:18, 27.76s/it]"
     ]
    },
    {
     "name": "stdout",
     "output_type": "stream",
     "text": [
      "Saved 11715 rows.\n",
      "\n",
      "Read file 59.\n"
     ]
    },
    {
     "name": "stderr",
     "output_type": "stream",
     "text": [
      "/Users/julialromero/miniconda3/envs/myenv/lib/python3.9/site-packages/geopandas/geoseries.py:207: FutureWarning: The default dtype for empty Series will be 'object' instead of 'float64' in a future version. Specify a dtype explicitly to silence this warning.\n",
      "  s = pd.Series(data, index=index, name=name, **kwargs)\n",
      "\r",
      "60it [25:39, 25.60s/it]"
     ]
    },
    {
     "name": "stdout",
     "output_type": "stream",
     "text": [
      "Saved 11632 rows.\n",
      "\n",
      "Read file 60.\n"
     ]
    },
    {
     "name": "stderr",
     "output_type": "stream",
     "text": [
      "/Users/julialromero/miniconda3/envs/myenv/lib/python3.9/site-packages/geopandas/geoseries.py:207: FutureWarning: The default dtype for empty Series will be 'object' instead of 'float64' in a future version. Specify a dtype explicitly to silence this warning.\n",
      "  s = pd.Series(data, index=index, name=name, **kwargs)\n",
      "\r",
      "61it [26:14, 28.64s/it]"
     ]
    },
    {
     "name": "stdout",
     "output_type": "stream",
     "text": [
      "Saved 11849 rows.\n",
      "\n",
      "Read file 61.\n"
     ]
    },
    {
     "name": "stderr",
     "output_type": "stream",
     "text": [
      "/Users/julialromero/miniconda3/envs/myenv/lib/python3.9/site-packages/geopandas/geoseries.py:207: FutureWarning: The default dtype for empty Series will be 'object' instead of 'float64' in a future version. Specify a dtype explicitly to silence this warning.\n",
      "  s = pd.Series(data, index=index, name=name, **kwargs)\n",
      "\r",
      "62it [26:38, 27.31s/it]"
     ]
    },
    {
     "name": "stdout",
     "output_type": "stream",
     "text": [
      "Saved 11545 rows.\n",
      "\n",
      "Read file 62.\n"
     ]
    },
    {
     "name": "stderr",
     "output_type": "stream",
     "text": [
      "/Users/julialromero/miniconda3/envs/myenv/lib/python3.9/site-packages/geopandas/array.py:275: ShapelyDeprecationWarning: The array interface is deprecated and will no longer work in Shapely 2.0. Convert the '.coords' to a numpy array instead.\n",
      "  return GeometryArray(vectorized.points_from_xy(x, y, z), crs=crs)\n",
      "/var/folders/b6/qqcnr7cj16sd1r0nn3p4f_sw0000gn/T/ipykernel_89502/3658352350.py:20: SettingWithCopyWarning: \n",
      "A value is trying to be set on a copy of a slice from a DataFrame.\n",
      "Try using .loc[row_indexer,col_indexer] = value instead\n",
      "\n",
      "See the caveats in the documentation: https://pandas.pydata.org/pandas-docs/stable/user_guide/indexing.html#returning-a-view-versus-a-copy\n",
      "  cp['GEOID'] = points.apply(lambda p: get_tract_num(tract_data, p))\n",
      "\r",
      "63it [27:00, 25.60s/it]"
     ]
    },
    {
     "name": "stdout",
     "output_type": "stream",
     "text": [
      "Saved 11845 rows.\n",
      "\n",
      "Read file 63.\n"
     ]
    },
    {
     "name": "stderr",
     "output_type": "stream",
     "text": [
      "/Users/julialromero/miniconda3/envs/myenv/lib/python3.9/site-packages/geopandas/geoseries.py:207: FutureWarning: The default dtype for empty Series will be 'object' instead of 'float64' in a future version. Specify a dtype explicitly to silence this warning.\n",
      "  s = pd.Series(data, index=index, name=name, **kwargs)\n",
      "\r",
      "64it [27:21, 24.20s/it]"
     ]
    },
    {
     "name": "stdout",
     "output_type": "stream",
     "text": [
      "Saved 11860 rows.\n",
      "\n",
      "Read file 64.\n"
     ]
    },
    {
     "name": "stderr",
     "output_type": "stream",
     "text": [
      "/Users/julialromero/miniconda3/envs/myenv/lib/python3.9/site-packages/geopandas/geoseries.py:207: FutureWarning: The default dtype for empty Series will be 'object' instead of 'float64' in a future version. Specify a dtype explicitly to silence this warning.\n",
      "  s = pd.Series(data, index=index, name=name, **kwargs)\n",
      "\r",
      "65it [27:47, 24.66s/it]"
     ]
    },
    {
     "name": "stdout",
     "output_type": "stream",
     "text": [
      "Saved 11974 rows.\n",
      "\n",
      "Read file 65.\n"
     ]
    },
    {
     "name": "stderr",
     "output_type": "stream",
     "text": [
      "/Users/julialromero/miniconda3/envs/myenv/lib/python3.9/site-packages/geopandas/geoseries.py:207: FutureWarning: The default dtype for empty Series will be 'object' instead of 'float64' in a future version. Specify a dtype explicitly to silence this warning.\n",
      "  s = pd.Series(data, index=index, name=name, **kwargs)\n",
      "\r",
      "66it [28:03, 22.07s/it]"
     ]
    },
    {
     "name": "stdout",
     "output_type": "stream",
     "text": [
      "Saved 11845 rows.\n",
      "\n",
      "Read file 66.\n"
     ]
    },
    {
     "name": "stderr",
     "output_type": "stream",
     "text": [
      "/Users/julialromero/miniconda3/envs/myenv/lib/python3.9/site-packages/geopandas/geoseries.py:207: FutureWarning: The default dtype for empty Series will be 'object' instead of 'float64' in a future version. Specify a dtype explicitly to silence this warning.\n",
      "  s = pd.Series(data, index=index, name=name, **kwargs)\n",
      "\r",
      "67it [28:20, 20.66s/it]"
     ]
    },
    {
     "name": "stdout",
     "output_type": "stream",
     "text": [
      "Saved 11868 rows.\n",
      "\n",
      "Read file 67.\n"
     ]
    },
    {
     "name": "stderr",
     "output_type": "stream",
     "text": [
      "/Users/julialromero/miniconda3/envs/myenv/lib/python3.9/site-packages/geopandas/geoseries.py:207: FutureWarning: The default dtype for empty Series will be 'object' instead of 'float64' in a future version. Specify a dtype explicitly to silence this warning.\n",
      "  s = pd.Series(data, index=index, name=name, **kwargs)\n",
      "\r",
      "68it [29:10, 29.34s/it]"
     ]
    },
    {
     "name": "stdout",
     "output_type": "stream",
     "text": [
      "Saved 11826 rows.\n",
      "\n",
      "Read file 68.\n"
     ]
    },
    {
     "name": "stderr",
     "output_type": "stream",
     "text": [
      "/Users/julialromero/miniconda3/envs/myenv/lib/python3.9/site-packages/geopandas/geoseries.py:207: FutureWarning: The default dtype for empty Series will be 'object' instead of 'float64' in a future version. Specify a dtype explicitly to silence this warning.\n",
      "  s = pd.Series(data, index=index, name=name, **kwargs)\n",
      "\r",
      "69it [29:28, 25.89s/it]"
     ]
    },
    {
     "name": "stdout",
     "output_type": "stream",
     "text": [
      "Saved 11723 rows.\n",
      "\n",
      "Read file 69.\n"
     ]
    },
    {
     "name": "stderr",
     "output_type": "stream",
     "text": [
      "/Users/julialromero/miniconda3/envs/myenv/lib/python3.9/site-packages/geopandas/geoseries.py:207: FutureWarning: The default dtype for empty Series will be 'object' instead of 'float64' in a future version. Specify a dtype explicitly to silence this warning.\n",
      "  s = pd.Series(data, index=index, name=name, **kwargs)\n",
      "\r",
      "70it [29:45, 23.39s/it]"
     ]
    },
    {
     "name": "stdout",
     "output_type": "stream",
     "text": [
      "Saved 11734 rows.\n",
      "\n",
      "Read file 70.\n"
     ]
    },
    {
     "name": "stderr",
     "output_type": "stream",
     "text": [
      "/Users/julialromero/miniconda3/envs/myenv/lib/python3.9/site-packages/geopandas/geoseries.py:207: FutureWarning: The default dtype for empty Series will be 'object' instead of 'float64' in a future version. Specify a dtype explicitly to silence this warning.\n",
      "  s = pd.Series(data, index=index, name=name, **kwargs)\n",
      "\r",
      "71it [30:24, 27.96s/it]"
     ]
    },
    {
     "name": "stdout",
     "output_type": "stream",
     "text": [
      "Saved 11746 rows.\n",
      "\n",
      "Read file 71.\n"
     ]
    },
    {
     "name": "stderr",
     "output_type": "stream",
     "text": [
      "/Users/julialromero/miniconda3/envs/myenv/lib/python3.9/site-packages/geopandas/geoseries.py:207: FutureWarning: The default dtype for empty Series will be 'object' instead of 'float64' in a future version. Specify a dtype explicitly to silence this warning.\n",
      "  s = pd.Series(data, index=index, name=name, **kwargs)\n",
      "\r",
      "72it [30:43, 25.49s/it]"
     ]
    },
    {
     "name": "stdout",
     "output_type": "stream",
     "text": [
      "Saved 11830 rows.\n",
      "\n",
      "Read file 72.\n"
     ]
    },
    {
     "name": "stderr",
     "output_type": "stream",
     "text": [
      "/Users/julialromero/miniconda3/envs/myenv/lib/python3.9/site-packages/geopandas/geoseries.py:207: FutureWarning: The default dtype for empty Series will be 'object' instead of 'float64' in a future version. Specify a dtype explicitly to silence this warning.\n",
      "  s = pd.Series(data, index=index, name=name, **kwargs)\n",
      "\r",
      "73it [31:04, 24.03s/it]"
     ]
    },
    {
     "name": "stdout",
     "output_type": "stream",
     "text": [
      "Saved 11903 rows.\n",
      "\n",
      "Read file 73.\n"
     ]
    },
    {
     "name": "stderr",
     "output_type": "stream",
     "text": [
      "/Users/julialromero/miniconda3/envs/myenv/lib/python3.9/site-packages/geopandas/geoseries.py:207: FutureWarning: The default dtype for empty Series will be 'object' instead of 'float64' in a future version. Specify a dtype explicitly to silence this warning.\n",
      "  s = pd.Series(data, index=index, name=name, **kwargs)\n",
      "\r",
      "74it [31:20, 21.64s/it]"
     ]
    },
    {
     "name": "stdout",
     "output_type": "stream",
     "text": [
      "Saved 11671 rows.\n",
      "\n",
      "Read file 74.\n"
     ]
    },
    {
     "name": "stderr",
     "output_type": "stream",
     "text": [
      "/Users/julialromero/miniconda3/envs/myenv/lib/python3.9/site-packages/geopandas/geoseries.py:207: FutureWarning: The default dtype for empty Series will be 'object' instead of 'float64' in a future version. Specify a dtype explicitly to silence this warning.\n",
      "  s = pd.Series(data, index=index, name=name, **kwargs)\n",
      "\r",
      "75it [31:37, 20.21s/it]"
     ]
    },
    {
     "name": "stdout",
     "output_type": "stream",
     "text": [
      "Saved 11681 rows.\n",
      "\n",
      "Read file 75.\n"
     ]
    },
    {
     "name": "stderr",
     "output_type": "stream",
     "text": [
      "/Users/julialromero/miniconda3/envs/myenv/lib/python3.9/site-packages/geopandas/geoseries.py:207: FutureWarning: The default dtype for empty Series will be 'object' instead of 'float64' in a future version. Specify a dtype explicitly to silence this warning.\n",
      "  s = pd.Series(data, index=index, name=name, **kwargs)\n",
      "\r",
      "76it [31:53, 18.99s/it]"
     ]
    },
    {
     "name": "stdout",
     "output_type": "stream",
     "text": [
      "Saved 11794 rows.\n",
      "\n",
      "Read file 76.\n"
     ]
    },
    {
     "name": "stderr",
     "output_type": "stream",
     "text": [
      "/Users/julialromero/miniconda3/envs/myenv/lib/python3.9/site-packages/geopandas/geoseries.py:207: FutureWarning: The default dtype for empty Series will be 'object' instead of 'float64' in a future version. Specify a dtype explicitly to silence this warning.\n",
      "  s = pd.Series(data, index=index, name=name, **kwargs)\n",
      "\r",
      "77it [32:10, 18.44s/it]"
     ]
    },
    {
     "name": "stdout",
     "output_type": "stream",
     "text": [
      "Saved 11947 rows.\n",
      "\n",
      "Read file 77.\n"
     ]
    },
    {
     "name": "stderr",
     "output_type": "stream",
     "text": [
      "/Users/julialromero/miniconda3/envs/myenv/lib/python3.9/site-packages/geopandas/geoseries.py:207: FutureWarning: The default dtype for empty Series will be 'object' instead of 'float64' in a future version. Specify a dtype explicitly to silence this warning.\n",
      "  s = pd.Series(data, index=index, name=name, **kwargs)\n",
      "\r",
      "78it [32:48, 24.19s/it]"
     ]
    },
    {
     "name": "stdout",
     "output_type": "stream",
     "text": [
      "Saved 11864 rows.\n",
      "\n",
      "Read file 78.\n"
     ]
    },
    {
     "name": "stderr",
     "output_type": "stream",
     "text": [
      "/Users/julialromero/miniconda3/envs/myenv/lib/python3.9/site-packages/geopandas/geoseries.py:207: FutureWarning: The default dtype for empty Series will be 'object' instead of 'float64' in a future version. Specify a dtype explicitly to silence this warning.\n",
      "  s = pd.Series(data, index=index, name=name, **kwargs)\n",
      "\r",
      "79it [33:04, 21.84s/it]"
     ]
    },
    {
     "name": "stdout",
     "output_type": "stream",
     "text": [
      "Saved 12248 rows.\n",
      "\n",
      "Read file 79.\n"
     ]
    },
    {
     "name": "stderr",
     "output_type": "stream",
     "text": [
      "/Users/julialromero/miniconda3/envs/myenv/lib/python3.9/site-packages/geopandas/geoseries.py:207: FutureWarning: The default dtype for empty Series will be 'object' instead of 'float64' in a future version. Specify a dtype explicitly to silence this warning.\n",
      "  s = pd.Series(data, index=index, name=name, **kwargs)\n",
      "\r",
      "80it [33:19, 19.84s/it]"
     ]
    },
    {
     "name": "stdout",
     "output_type": "stream",
     "text": [
      "Saved 11799 rows.\n",
      "\n",
      "Read file 80.\n"
     ]
    },
    {
     "name": "stderr",
     "output_type": "stream",
     "text": [
      "/Users/julialromero/miniconda3/envs/myenv/lib/python3.9/site-packages/geopandas/geoseries.py:207: FutureWarning: The default dtype for empty Series will be 'object' instead of 'float64' in a future version. Specify a dtype explicitly to silence this warning.\n",
      "  s = pd.Series(data, index=index, name=name, **kwargs)\n",
      "\r",
      "81it [33:47, 22.00s/it]"
     ]
    },
    {
     "name": "stdout",
     "output_type": "stream",
     "text": [
      "CBG length incorrect: CA:59150078\n",
      "Saved 17810 rows.\n",
      "\n",
      "Read file 81.\n"
     ]
    },
    {
     "name": "stderr",
     "output_type": "stream",
     "text": [
      "/Users/julialromero/miniconda3/envs/myenv/lib/python3.9/site-packages/geopandas/geoseries.py:207: FutureWarning: The default dtype for empty Series will be 'object' instead of 'float64' in a future version. Specify a dtype explicitly to silence this warning.\n",
      "  s = pd.Series(data, index=index, name=name, **kwargs)\n",
      "\r",
      "82it [34:03, 20.32s/it]"
     ]
    },
    {
     "name": "stdout",
     "output_type": "stream",
     "text": [
      "Saved 12078 rows.\n",
      "\n",
      "Read file 82.\n"
     ]
    },
    {
     "name": "stderr",
     "output_type": "stream",
     "text": [
      "/Users/julialromero/miniconda3/envs/myenv/lib/python3.9/site-packages/geopandas/geoseries.py:207: FutureWarning: The default dtype for empty Series will be 'object' instead of 'float64' in a future version. Specify a dtype explicitly to silence this warning.\n",
      "  s = pd.Series(data, index=index, name=name, **kwargs)\n",
      "\r",
      "83it [34:19, 18.91s/it]"
     ]
    },
    {
     "name": "stdout",
     "output_type": "stream",
     "text": [
      "Saved 11929 rows.\n",
      "\n",
      "Read file 83.\n"
     ]
    },
    {
     "name": "stderr",
     "output_type": "stream",
     "text": [
      "/Users/julialromero/miniconda3/envs/myenv/lib/python3.9/site-packages/geopandas/geoseries.py:207: FutureWarning: The default dtype for empty Series will be 'object' instead of 'float64' in a future version. Specify a dtype explicitly to silence this warning.\n",
      "  s = pd.Series(data, index=index, name=name, **kwargs)\n",
      "\r",
      "84it [34:34, 18.01s/it]"
     ]
    },
    {
     "name": "stdout",
     "output_type": "stream",
     "text": [
      "Saved 11636 rows.\n",
      "\n",
      "Read file 84.\n"
     ]
    },
    {
     "name": "stderr",
     "output_type": "stream",
     "text": [
      "/Users/julialromero/miniconda3/envs/myenv/lib/python3.9/site-packages/geopandas/geoseries.py:207: FutureWarning: The default dtype for empty Series will be 'object' instead of 'float64' in a future version. Specify a dtype explicitly to silence this warning.\n",
      "  s = pd.Series(data, index=index, name=name, **kwargs)\n",
      "\r",
      "85it [35:12, 23.82s/it]"
     ]
    },
    {
     "name": "stdout",
     "output_type": "stream",
     "text": [
      "Saved 11874 rows.\n",
      "\n",
      "Read file 85.\n"
     ]
    },
    {
     "name": "stderr",
     "output_type": "stream",
     "text": [
      "/Users/julialromero/miniconda3/envs/myenv/lib/python3.9/site-packages/geopandas/geoseries.py:207: FutureWarning: The default dtype for empty Series will be 'object' instead of 'float64' in a future version. Specify a dtype explicitly to silence this warning.\n",
      "  s = pd.Series(data, index=index, name=name, **kwargs)\n",
      "\r",
      "86it [35:30, 22.04s/it]"
     ]
    },
    {
     "name": "stdout",
     "output_type": "stream",
     "text": [
      "Saved 11518 rows.\n",
      "\n",
      "Read file 86.\n"
     ]
    },
    {
     "name": "stderr",
     "output_type": "stream",
     "text": [
      "/Users/julialromero/miniconda3/envs/myenv/lib/python3.9/site-packages/geopandas/array.py:275: ShapelyDeprecationWarning: The array interface is deprecated and will no longer work in Shapely 2.0. Convert the '.coords' to a numpy array instead.\n",
      "  return GeometryArray(vectorized.points_from_xy(x, y, z), crs=crs)\n",
      "/var/folders/b6/qqcnr7cj16sd1r0nn3p4f_sw0000gn/T/ipykernel_89502/3658352350.py:20: SettingWithCopyWarning: \n",
      "A value is trying to be set on a copy of a slice from a DataFrame.\n",
      "Try using .loc[row_indexer,col_indexer] = value instead\n",
      "\n",
      "See the caveats in the documentation: https://pandas.pydata.org/pandas-docs/stable/user_guide/indexing.html#returning-a-view-versus-a-copy\n",
      "  cp['GEOID'] = points.apply(lambda p: get_tract_num(tract_data, p))\n",
      "\r",
      "87it [36:00, 24.38s/it]"
     ]
    },
    {
     "name": "stdout",
     "output_type": "stream",
     "text": [
      "Saved 11837 rows.\n",
      "\n",
      "Read file 87.\n"
     ]
    },
    {
     "name": "stderr",
     "output_type": "stream",
     "text": [
      "/Users/julialromero/miniconda3/envs/myenv/lib/python3.9/site-packages/geopandas/geoseries.py:207: FutureWarning: The default dtype for empty Series will be 'object' instead of 'float64' in a future version. Specify a dtype explicitly to silence this warning.\n",
      "  s = pd.Series(data, index=index, name=name, **kwargs)\n",
      "\r",
      "88it [36:44, 30.25s/it]"
     ]
    },
    {
     "name": "stdout",
     "output_type": "stream",
     "text": [
      "Saved 11810 rows.\n",
      "\n",
      "Read file 88.\n"
     ]
    },
    {
     "name": "stderr",
     "output_type": "stream",
     "text": [
      "/Users/julialromero/miniconda3/envs/myenv/lib/python3.9/site-packages/geopandas/geoseries.py:207: FutureWarning: The default dtype for empty Series will be 'object' instead of 'float64' in a future version. Specify a dtype explicitly to silence this warning.\n",
      "  s = pd.Series(data, index=index, name=name, **kwargs)\n",
      "\r",
      "89it [37:13, 29.90s/it]"
     ]
    },
    {
     "name": "stdout",
     "output_type": "stream",
     "text": [
      "Saved 11939 rows.\n",
      "\n",
      "Read file 89.\n"
     ]
    },
    {
     "name": "stderr",
     "output_type": "stream",
     "text": [
      "/Users/julialromero/miniconda3/envs/myenv/lib/python3.9/site-packages/geopandas/geoseries.py:207: FutureWarning: The default dtype for empty Series will be 'object' instead of 'float64' in a future version. Specify a dtype explicitly to silence this warning.\n",
      "  s = pd.Series(data, index=index, name=name, **kwargs)\n",
      "\r",
      "90it [37:31, 26.32s/it]"
     ]
    },
    {
     "name": "stdout",
     "output_type": "stream",
     "text": [
      "Saved 11999 rows.\n",
      "\n",
      "Read file 90.\n"
     ]
    },
    {
     "name": "stderr",
     "output_type": "stream",
     "text": [
      "/Users/julialromero/miniconda3/envs/myenv/lib/python3.9/site-packages/geopandas/geoseries.py:207: FutureWarning: The default dtype for empty Series will be 'object' instead of 'float64' in a future version. Specify a dtype explicitly to silence this warning.\n",
      "  s = pd.Series(data, index=index, name=name, **kwargs)\n",
      "\r",
      "91it [38:04, 28.32s/it]"
     ]
    },
    {
     "name": "stdout",
     "output_type": "stream",
     "text": [
      "Saved 11840 rows.\n",
      "\n",
      "Read file 91.\n"
     ]
    },
    {
     "name": "stderr",
     "output_type": "stream",
     "text": [
      "/Users/julialromero/miniconda3/envs/myenv/lib/python3.9/site-packages/geopandas/geoseries.py:207: FutureWarning: The default dtype for empty Series will be 'object' instead of 'float64' in a future version. Specify a dtype explicitly to silence this warning.\n",
      "  s = pd.Series(data, index=index, name=name, **kwargs)\n",
      "\r",
      "92it [38:32, 28.37s/it]"
     ]
    },
    {
     "name": "stdout",
     "output_type": "stream",
     "text": [
      "Saved 11763 rows.\n",
      "\n",
      "Read file 92.\n"
     ]
    },
    {
     "name": "stderr",
     "output_type": "stream",
     "text": [
      "/Users/julialromero/miniconda3/envs/myenv/lib/python3.9/site-packages/geopandas/geoseries.py:207: FutureWarning: The default dtype for empty Series will be 'object' instead of 'float64' in a future version. Specify a dtype explicitly to silence this warning.\n",
      "  s = pd.Series(data, index=index, name=name, **kwargs)\n",
      "\r",
      "93it [39:10, 31.22s/it]"
     ]
    },
    {
     "name": "stdout",
     "output_type": "stream",
     "text": [
      "Saved 11764 rows.\n",
      "\n",
      "Read file 93.\n"
     ]
    },
    {
     "name": "stderr",
     "output_type": "stream",
     "text": [
      "/Users/julialromero/miniconda3/envs/myenv/lib/python3.9/site-packages/geopandas/geoseries.py:207: FutureWarning: The default dtype for empty Series will be 'object' instead of 'float64' in a future version. Specify a dtype explicitly to silence this warning.\n",
      "  s = pd.Series(data, index=index, name=name, **kwargs)\n",
      "\r",
      "94it [40:01, 37.11s/it]"
     ]
    },
    {
     "name": "stdout",
     "output_type": "stream",
     "text": [
      "Saved 11641 rows.\n",
      "\n",
      "Read file 94.\n"
     ]
    },
    {
     "name": "stderr",
     "output_type": "stream",
     "text": [
      "/Users/julialromero/miniconda3/envs/myenv/lib/python3.9/site-packages/geopandas/geoseries.py:207: FutureWarning: The default dtype for empty Series will be 'object' instead of 'float64' in a future version. Specify a dtype explicitly to silence this warning.\n",
      "  s = pd.Series(data, index=index, name=name, **kwargs)\n",
      "\r",
      "95it [40:19, 31.32s/it]"
     ]
    },
    {
     "name": "stdout",
     "output_type": "stream",
     "text": [
      "Saved 11973 rows.\n",
      "\n",
      "Read file 95.\n"
     ]
    },
    {
     "name": "stderr",
     "output_type": "stream",
     "text": [
      "/Users/julialromero/miniconda3/envs/myenv/lib/python3.9/site-packages/geopandas/geoseries.py:207: FutureWarning: The default dtype for empty Series will be 'object' instead of 'float64' in a future version. Specify a dtype explicitly to silence this warning.\n",
      "  s = pd.Series(data, index=index, name=name, **kwargs)\n",
      "96it [40:55, 25.58s/it]\n",
      "0it [00:00, ?it/s]"
     ]
    },
    {
     "name": "stdout",
     "output_type": "stream",
     "text": [
      "Saved 11782 rows.\n",
      "--------done: month 10--------\n",
      "\n",
      "Read file 0.\n"
     ]
    },
    {
     "name": "stderr",
     "output_type": "stream",
     "text": [
      "/Users/julialromero/miniconda3/envs/myenv/lib/python3.9/site-packages/geopandas/geoseries.py:207: FutureWarning: The default dtype for empty Series will be 'object' instead of 'float64' in a future version. Specify a dtype explicitly to silence this warning.\n",
      "  s = pd.Series(data, index=index, name=name, **kwargs)\n",
      "\r",
      "1it [00:16, 16.83s/it]"
     ]
    },
    {
     "name": "stdout",
     "output_type": "stream",
     "text": [
      "Saved 12047 rows.\n",
      "\n",
      "Read file 1.\n"
     ]
    },
    {
     "name": "stderr",
     "output_type": "stream",
     "text": [
      "/Users/julialromero/miniconda3/envs/myenv/lib/python3.9/site-packages/geopandas/geoseries.py:207: FutureWarning: The default dtype for empty Series will be 'object' instead of 'float64' in a future version. Specify a dtype explicitly to silence this warning.\n",
      "  s = pd.Series(data, index=index, name=name, **kwargs)\n",
      "\r",
      "2it [00:35, 18.00s/it]"
     ]
    },
    {
     "name": "stdout",
     "output_type": "stream",
     "text": [
      "Saved 11950 rows.\n",
      "\n",
      "Read file 2.\n"
     ]
    },
    {
     "name": "stderr",
     "output_type": "stream",
     "text": [
      "/Users/julialromero/miniconda3/envs/myenv/lib/python3.9/site-packages/geopandas/geoseries.py:207: FutureWarning: The default dtype for empty Series will be 'object' instead of 'float64' in a future version. Specify a dtype explicitly to silence this warning.\n",
      "  s = pd.Series(data, index=index, name=name, **kwargs)\n",
      "\r",
      "3it [00:51, 17.14s/it]"
     ]
    },
    {
     "name": "stdout",
     "output_type": "stream",
     "text": [
      "Saved 11903 rows.\n",
      "\n",
      "Read file 3.\n"
     ]
    },
    {
     "name": "stderr",
     "output_type": "stream",
     "text": [
      "/Users/julialromero/miniconda3/envs/myenv/lib/python3.9/site-packages/geopandas/geoseries.py:207: FutureWarning: The default dtype for empty Series will be 'object' instead of 'float64' in a future version. Specify a dtype explicitly to silence this warning.\n",
      "  s = pd.Series(data, index=index, name=name, **kwargs)\n",
      "\r",
      "4it [01:07, 16.70s/it]"
     ]
    },
    {
     "name": "stdout",
     "output_type": "stream",
     "text": [
      "Saved 12073 rows.\n",
      "\n",
      "Read file 4.\n"
     ]
    },
    {
     "name": "stderr",
     "output_type": "stream",
     "text": [
      "/Users/julialromero/miniconda3/envs/myenv/lib/python3.9/site-packages/geopandas/geoseries.py:207: FutureWarning: The default dtype for empty Series will be 'object' instead of 'float64' in a future version. Specify a dtype explicitly to silence this warning.\n",
      "  s = pd.Series(data, index=index, name=name, **kwargs)\n",
      "\r",
      "5it [01:25, 17.15s/it]"
     ]
    },
    {
     "name": "stdout",
     "output_type": "stream",
     "text": [
      "Saved 11937 rows.\n",
      "\n",
      "Read file 5.\n"
     ]
    },
    {
     "name": "stderr",
     "output_type": "stream",
     "text": [
      "/Users/julialromero/miniconda3/envs/myenv/lib/python3.9/site-packages/geopandas/geoseries.py:207: FutureWarning: The default dtype for empty Series will be 'object' instead of 'float64' in a future version. Specify a dtype explicitly to silence this warning.\n",
      "  s = pd.Series(data, index=index, name=name, **kwargs)\n",
      "\r",
      "6it [01:43, 17.39s/it]"
     ]
    },
    {
     "name": "stdout",
     "output_type": "stream",
     "text": [
      "Saved 11972 rows.\n",
      "\n",
      "Read file 6.\n"
     ]
    },
    {
     "name": "stderr",
     "output_type": "stream",
     "text": [
      "/Users/julialromero/miniconda3/envs/myenv/lib/python3.9/site-packages/geopandas/geoseries.py:207: FutureWarning: The default dtype for empty Series will be 'object' instead of 'float64' in a future version. Specify a dtype explicitly to silence this warning.\n",
      "  s = pd.Series(data, index=index, name=name, **kwargs)\n",
      "\r",
      "7it [02:15, 22.20s/it]"
     ]
    },
    {
     "name": "stdout",
     "output_type": "stream",
     "text": [
      "Saved 12240 rows.\n",
      "\n",
      "Read file 7.\n"
     ]
    },
    {
     "name": "stderr",
     "output_type": "stream",
     "text": [
      "/Users/julialromero/miniconda3/envs/myenv/lib/python3.9/site-packages/geopandas/geoseries.py:207: FutureWarning: The default dtype for empty Series will be 'object' instead of 'float64' in a future version. Specify a dtype explicitly to silence this warning.\n",
      "  s = pd.Series(data, index=index, name=name, **kwargs)\n",
      "\r",
      "8it [02:34, 21.00s/it]"
     ]
    },
    {
     "name": "stdout",
     "output_type": "stream",
     "text": [
      "Saved 12153 rows.\n",
      "\n",
      "Read file 8.\n",
      "CBG length incorrect: CA:59150078\n"
     ]
    },
    {
     "name": "stderr",
     "output_type": "stream",
     "text": [
      "/Users/julialromero/miniconda3/envs/myenv/lib/python3.9/site-packages/geopandas/geoseries.py:207: FutureWarning: The default dtype for empty Series will be 'object' instead of 'float64' in a future version. Specify a dtype explicitly to silence this warning.\n",
      "  s = pd.Series(data, index=index, name=name, **kwargs)\n",
      "\r",
      "9it [03:12, 26.32s/it]"
     ]
    },
    {
     "name": "stdout",
     "output_type": "stream",
     "text": [
      "Saved 19517 rows.\n",
      "\n",
      "Read file 9.\n"
     ]
    },
    {
     "name": "stderr",
     "output_type": "stream",
     "text": [
      "/Users/julialromero/miniconda3/envs/myenv/lib/python3.9/site-packages/geopandas/geoseries.py:207: FutureWarning: The default dtype for empty Series will be 'object' instead of 'float64' in a future version. Specify a dtype explicitly to silence this warning.\n",
      "  s = pd.Series(data, index=index, name=name, **kwargs)\n",
      "\r",
      "10it [03:40, 26.93s/it]"
     ]
    },
    {
     "name": "stdout",
     "output_type": "stream",
     "text": [
      "Saved 12074 rows.\n",
      "\n",
      "Read file 10.\n"
     ]
    },
    {
     "name": "stderr",
     "output_type": "stream",
     "text": [
      "/Users/julialromero/miniconda3/envs/myenv/lib/python3.9/site-packages/geopandas/geoseries.py:207: FutureWarning: The default dtype for empty Series will be 'object' instead of 'float64' in a future version. Specify a dtype explicitly to silence this warning.\n",
      "  s = pd.Series(data, index=index, name=name, **kwargs)\n",
      "\r",
      "11it [03:56, 23.46s/it]"
     ]
    },
    {
     "name": "stdout",
     "output_type": "stream",
     "text": [
      "Saved 11934 rows.\n",
      "\n",
      "Read file 11.\n"
     ]
    },
    {
     "name": "stderr",
     "output_type": "stream",
     "text": [
      "/Users/julialromero/miniconda3/envs/myenv/lib/python3.9/site-packages/geopandas/geoseries.py:207: FutureWarning: The default dtype for empty Series will be 'object' instead of 'float64' in a future version. Specify a dtype explicitly to silence this warning.\n",
      "  s = pd.Series(data, index=index, name=name, **kwargs)\n",
      "\r",
      "12it [04:26, 25.52s/it]"
     ]
    },
    {
     "name": "stdout",
     "output_type": "stream",
     "text": [
      "Saved 11854 rows.\n",
      "\n",
      "Read file 12.\n"
     ]
    },
    {
     "name": "stderr",
     "output_type": "stream",
     "text": [
      "/Users/julialromero/miniconda3/envs/myenv/lib/python3.9/site-packages/geopandas/geoseries.py:207: FutureWarning: The default dtype for empty Series will be 'object' instead of 'float64' in a future version. Specify a dtype explicitly to silence this warning.\n",
      "  s = pd.Series(data, index=index, name=name, **kwargs)\n",
      "\r",
      "13it [04:43, 23.15s/it]"
     ]
    },
    {
     "name": "stdout",
     "output_type": "stream",
     "text": [
      "Saved 12065 rows.\n",
      "\n",
      "Read file 13.\n"
     ]
    },
    {
     "name": "stderr",
     "output_type": "stream",
     "text": [
      "/Users/julialromero/miniconda3/envs/myenv/lib/python3.9/site-packages/geopandas/geoseries.py:207: FutureWarning: The default dtype for empty Series will be 'object' instead of 'float64' in a future version. Specify a dtype explicitly to silence this warning.\n",
      "  s = pd.Series(data, index=index, name=name, **kwargs)\n",
      "\r",
      "14it [04:59, 20.95s/it]"
     ]
    },
    {
     "name": "stdout",
     "output_type": "stream",
     "text": [
      "Saved 11787 rows.\n",
      "\n",
      "Read file 14.\n"
     ]
    },
    {
     "name": "stderr",
     "output_type": "stream",
     "text": [
      "/Users/julialromero/miniconda3/envs/myenv/lib/python3.9/site-packages/geopandas/array.py:275: ShapelyDeprecationWarning: The array interface is deprecated and will no longer work in Shapely 2.0. Convert the '.coords' to a numpy array instead.\n",
      "  return GeometryArray(vectorized.points_from_xy(x, y, z), crs=crs)\n",
      "/var/folders/b6/qqcnr7cj16sd1r0nn3p4f_sw0000gn/T/ipykernel_89502/3658352350.py:20: SettingWithCopyWarning: \n",
      "A value is trying to be set on a copy of a slice from a DataFrame.\n",
      "Try using .loc[row_indexer,col_indexer] = value instead\n",
      "\n",
      "See the caveats in the documentation: https://pandas.pydata.org/pandas-docs/stable/user_guide/indexing.html#returning-a-view-versus-a-copy\n",
      "  cp['GEOID'] = points.apply(lambda p: get_tract_num(tract_data, p))\n",
      "\r",
      "15it [05:20, 20.78s/it]"
     ]
    },
    {
     "name": "stdout",
     "output_type": "stream",
     "text": [
      "Saved 12024 rows.\n",
      "\n",
      "Read file 15.\n"
     ]
    },
    {
     "name": "stderr",
     "output_type": "stream",
     "text": [
      "/Users/julialromero/miniconda3/envs/myenv/lib/python3.9/site-packages/geopandas/geoseries.py:207: FutureWarning: The default dtype for empty Series will be 'object' instead of 'float64' in a future version. Specify a dtype explicitly to silence this warning.\n",
      "  s = pd.Series(data, index=index, name=name, **kwargs)\n",
      "\r",
      "16it [05:36, 19.39s/it]"
     ]
    },
    {
     "name": "stdout",
     "output_type": "stream",
     "text": [
      "Saved 12040 rows.\n",
      "\n",
      "Read file 16.\n"
     ]
    },
    {
     "name": "stderr",
     "output_type": "stream",
     "text": [
      "/Users/julialromero/miniconda3/envs/myenv/lib/python3.9/site-packages/geopandas/geoseries.py:207: FutureWarning: The default dtype for empty Series will be 'object' instead of 'float64' in a future version. Specify a dtype explicitly to silence this warning.\n",
      "  s = pd.Series(data, index=index, name=name, **kwargs)\n",
      "\r",
      "17it [06:04, 22.12s/it]"
     ]
    },
    {
     "name": "stdout",
     "output_type": "stream",
     "text": [
      "Saved 12184 rows.\n",
      "\n",
      "Read file 17.\n"
     ]
    },
    {
     "name": "stderr",
     "output_type": "stream",
     "text": [
      "/Users/julialromero/miniconda3/envs/myenv/lib/python3.9/site-packages/geopandas/geoseries.py:207: FutureWarning: The default dtype for empty Series will be 'object' instead of 'float64' in a future version. Specify a dtype explicitly to silence this warning.\n",
      "  s = pd.Series(data, index=index, name=name, **kwargs)\n",
      "\r",
      "18it [06:23, 21.05s/it]"
     ]
    },
    {
     "name": "stdout",
     "output_type": "stream",
     "text": [
      "Saved 12053 rows.\n",
      "\n",
      "Read file 18.\n"
     ]
    },
    {
     "name": "stderr",
     "output_type": "stream",
     "text": [
      "/Users/julialromero/miniconda3/envs/myenv/lib/python3.9/site-packages/geopandas/geoseries.py:207: FutureWarning: The default dtype for empty Series will be 'object' instead of 'float64' in a future version. Specify a dtype explicitly to silence this warning.\n",
      "  s = pd.Series(data, index=index, name=name, **kwargs)\n",
      "\r",
      "19it [06:41, 20.15s/it]"
     ]
    },
    {
     "name": "stdout",
     "output_type": "stream",
     "text": [
      "Saved 12024 rows.\n",
      "\n",
      "Read file 19.\n"
     ]
    },
    {
     "name": "stderr",
     "output_type": "stream",
     "text": [
      "/Users/julialromero/miniconda3/envs/myenv/lib/python3.9/site-packages/geopandas/geoseries.py:207: FutureWarning: The default dtype for empty Series will be 'object' instead of 'float64' in a future version. Specify a dtype explicitly to silence this warning.\n",
      "  s = pd.Series(data, index=index, name=name, **kwargs)\n",
      "\r",
      "20it [06:58, 19.29s/it]"
     ]
    },
    {
     "name": "stdout",
     "output_type": "stream",
     "text": [
      "Saved 12033 rows.\n",
      "\n",
      "Read file 20.\n"
     ]
    },
    {
     "name": "stderr",
     "output_type": "stream",
     "text": [
      "/Users/julialromero/miniconda3/envs/myenv/lib/python3.9/site-packages/geopandas/geoseries.py:207: FutureWarning: The default dtype for empty Series will be 'object' instead of 'float64' in a future version. Specify a dtype explicitly to silence this warning.\n",
      "  s = pd.Series(data, index=index, name=name, **kwargs)\n",
      "\r",
      "21it [07:14, 18.12s/it]"
     ]
    },
    {
     "name": "stdout",
     "output_type": "stream",
     "text": [
      "Saved 11966 rows.\n",
      "\n",
      "Read file 21.\n"
     ]
    },
    {
     "name": "stderr",
     "output_type": "stream",
     "text": [
      "/Users/julialromero/miniconda3/envs/myenv/lib/python3.9/site-packages/geopandas/geoseries.py:207: FutureWarning: The default dtype for empty Series will be 'object' instead of 'float64' in a future version. Specify a dtype explicitly to silence this warning.\n",
      "  s = pd.Series(data, index=index, name=name, **kwargs)\n",
      "\r",
      "22it [07:31, 18.03s/it]"
     ]
    },
    {
     "name": "stdout",
     "output_type": "stream",
     "text": [
      "Saved 11981 rows.\n",
      "\n",
      "Read file 22.\n"
     ]
    },
    {
     "name": "stderr",
     "output_type": "stream",
     "text": [
      "/Users/julialromero/miniconda3/envs/myenv/lib/python3.9/site-packages/geopandas/geoseries.py:207: FutureWarning: The default dtype for empty Series will be 'object' instead of 'float64' in a future version. Specify a dtype explicitly to silence this warning.\n",
      "  s = pd.Series(data, index=index, name=name, **kwargs)\n",
      "\r",
      "23it [08:01, 21.41s/it]"
     ]
    },
    {
     "name": "stdout",
     "output_type": "stream",
     "text": [
      "Saved 11988 rows.\n",
      "\n",
      "Read file 23.\n"
     ]
    },
    {
     "name": "stderr",
     "output_type": "stream",
     "text": [
      "/Users/julialromero/miniconda3/envs/myenv/lib/python3.9/site-packages/geopandas/geoseries.py:207: FutureWarning: The default dtype for empty Series will be 'object' instead of 'float64' in a future version. Specify a dtype explicitly to silence this warning.\n",
      "  s = pd.Series(data, index=index, name=name, **kwargs)\n",
      "\r",
      "24it [08:18, 20.06s/it]"
     ]
    },
    {
     "name": "stdout",
     "output_type": "stream",
     "text": [
      "Saved 12015 rows.\n",
      "\n",
      "Read file 24.\n"
     ]
    },
    {
     "name": "stderr",
     "output_type": "stream",
     "text": [
      "/Users/julialromero/miniconda3/envs/myenv/lib/python3.9/site-packages/geopandas/geoseries.py:207: FutureWarning: The default dtype for empty Series will be 'object' instead of 'float64' in a future version. Specify a dtype explicitly to silence this warning.\n",
      "  s = pd.Series(data, index=index, name=name, **kwargs)\n",
      "\r",
      "25it [08:42, 21.24s/it]"
     ]
    },
    {
     "name": "stdout",
     "output_type": "stream",
     "text": [
      "Saved 11971 rows.\n",
      "\n",
      "Read file 25.\n"
     ]
    },
    {
     "name": "stderr",
     "output_type": "stream",
     "text": [
      "/Users/julialromero/miniconda3/envs/myenv/lib/python3.9/site-packages/geopandas/geoseries.py:207: FutureWarning: The default dtype for empty Series will be 'object' instead of 'float64' in a future version. Specify a dtype explicitly to silence this warning.\n",
      "  s = pd.Series(data, index=index, name=name, **kwargs)\n",
      "\r",
      "26it [08:57, 19.41s/it]"
     ]
    },
    {
     "name": "stdout",
     "output_type": "stream",
     "text": [
      "Saved 12007 rows.\n",
      "\n",
      "Read file 26.\n"
     ]
    },
    {
     "name": "stderr",
     "output_type": "stream",
     "text": [
      "/Users/julialromero/miniconda3/envs/myenv/lib/python3.9/site-packages/geopandas/geoseries.py:207: FutureWarning: The default dtype for empty Series will be 'object' instead of 'float64' in a future version. Specify a dtype explicitly to silence this warning.\n",
      "  s = pd.Series(data, index=index, name=name, **kwargs)\n",
      "\r",
      "27it [09:14, 18.88s/it]"
     ]
    },
    {
     "name": "stdout",
     "output_type": "stream",
     "text": [
      "Saved 11942 rows.\n",
      "\n",
      "Read file 27.\n"
     ]
    },
    {
     "name": "stderr",
     "output_type": "stream",
     "text": [
      "/Users/julialromero/miniconda3/envs/myenv/lib/python3.9/site-packages/geopandas/geoseries.py:207: FutureWarning: The default dtype for empty Series will be 'object' instead of 'float64' in a future version. Specify a dtype explicitly to silence this warning.\n",
      "  s = pd.Series(data, index=index, name=name, **kwargs)\n",
      "\r",
      "28it [09:34, 19.06s/it]"
     ]
    },
    {
     "name": "stdout",
     "output_type": "stream",
     "text": [
      "Saved 11926 rows.\n",
      "\n",
      "Read file 28.\n"
     ]
    },
    {
     "name": "stderr",
     "output_type": "stream",
     "text": [
      "/Users/julialromero/miniconda3/envs/myenv/lib/python3.9/site-packages/geopandas/geoseries.py:207: FutureWarning: The default dtype for empty Series will be 'object' instead of 'float64' in a future version. Specify a dtype explicitly to silence this warning.\n",
      "  s = pd.Series(data, index=index, name=name, **kwargs)\n",
      "\r",
      "29it [09:50, 18.10s/it]"
     ]
    },
    {
     "name": "stdout",
     "output_type": "stream",
     "text": [
      "Saved 12101 rows.\n",
      "\n",
      "Read file 29.\n"
     ]
    },
    {
     "name": "stderr",
     "output_type": "stream",
     "text": [
      "/Users/julialromero/miniconda3/envs/myenv/lib/python3.9/site-packages/geopandas/geoseries.py:207: FutureWarning: The default dtype for empty Series will be 'object' instead of 'float64' in a future version. Specify a dtype explicitly to silence this warning.\n",
      "  s = pd.Series(data, index=index, name=name, **kwargs)\n",
      "\r",
      "30it [10:08, 18.24s/it]"
     ]
    },
    {
     "name": "stdout",
     "output_type": "stream",
     "text": [
      "Saved 12002 rows.\n",
      "\n",
      "Read file 30.\n"
     ]
    },
    {
     "name": "stderr",
     "output_type": "stream",
     "text": [
      "/Users/julialromero/miniconda3/envs/myenv/lib/python3.9/site-packages/geopandas/geoseries.py:207: FutureWarning: The default dtype for empty Series will be 'object' instead of 'float64' in a future version. Specify a dtype explicitly to silence this warning.\n",
      "  s = pd.Series(data, index=index, name=name, **kwargs)\n",
      "\r",
      "31it [10:36, 21.16s/it]"
     ]
    },
    {
     "name": "stdout",
     "output_type": "stream",
     "text": [
      "Saved 12350 rows.\n",
      "\n",
      "Read file 31.\n"
     ]
    },
    {
     "name": "stderr",
     "output_type": "stream",
     "text": [
      "/Users/julialromero/miniconda3/envs/myenv/lib/python3.9/site-packages/geopandas/geoseries.py:207: FutureWarning: The default dtype for empty Series will be 'object' instead of 'float64' in a future version. Specify a dtype explicitly to silence this warning.\n",
      "  s = pd.Series(data, index=index, name=name, **kwargs)\n",
      "\r",
      "32it [10:53, 19.70s/it]"
     ]
    },
    {
     "name": "stdout",
     "output_type": "stream",
     "text": [
      "Saved 12019 rows.\n",
      "\n",
      "Read file 32.\n"
     ]
    },
    {
     "name": "stderr",
     "output_type": "stream",
     "text": [
      "/Users/julialromero/miniconda3/envs/myenv/lib/python3.9/site-packages/geopandas/geoseries.py:207: FutureWarning: The default dtype for empty Series will be 'object' instead of 'float64' in a future version. Specify a dtype explicitly to silence this warning.\n",
      "  s = pd.Series(data, index=index, name=name, **kwargs)\n",
      "\r",
      "33it [11:15, 20.46s/it]"
     ]
    },
    {
     "name": "stdout",
     "output_type": "stream",
     "text": [
      "CBG length incorrect: CA:59150078\n",
      "Saved 17310 rows.\n",
      "\n",
      "Read file 33.\n"
     ]
    },
    {
     "name": "stderr",
     "output_type": "stream",
     "text": [
      "/Users/julialromero/miniconda3/envs/myenv/lib/python3.9/site-packages/geopandas/geoseries.py:207: FutureWarning: The default dtype for empty Series will be 'object' instead of 'float64' in a future version. Specify a dtype explicitly to silence this warning.\n",
      "  s = pd.Series(data, index=index, name=name, **kwargs)\n",
      "\r",
      "34it [11:32, 19.40s/it]"
     ]
    },
    {
     "name": "stdout",
     "output_type": "stream",
     "text": [
      "Saved 12212 rows.\n",
      "\n",
      "Read file 34.\n"
     ]
    },
    {
     "name": "stderr",
     "output_type": "stream",
     "text": [
      "/Users/julialromero/miniconda3/envs/myenv/lib/python3.9/site-packages/geopandas/geoseries.py:207: FutureWarning: The default dtype for empty Series will be 'object' instead of 'float64' in a future version. Specify a dtype explicitly to silence this warning.\n",
      "  s = pd.Series(data, index=index, name=name, **kwargs)\n",
      "\r",
      "35it [11:49, 18.79s/it]"
     ]
    },
    {
     "name": "stdout",
     "output_type": "stream",
     "text": [
      "Saved 12051 rows.\n",
      "\n",
      "Read file 35.\n"
     ]
    },
    {
     "name": "stderr",
     "output_type": "stream",
     "text": [
      "/Users/julialromero/miniconda3/envs/myenv/lib/python3.9/site-packages/geopandas/geoseries.py:207: FutureWarning: The default dtype for empty Series will be 'object' instead of 'float64' in a future version. Specify a dtype explicitly to silence this warning.\n",
      "  s = pd.Series(data, index=index, name=name, **kwargs)\n",
      "\r",
      "36it [12:09, 19.00s/it]"
     ]
    },
    {
     "name": "stdout",
     "output_type": "stream",
     "text": [
      "Saved 11830 rows.\n",
      "\n",
      "Read file 36.\n"
     ]
    },
    {
     "name": "stderr",
     "output_type": "stream",
     "text": [
      "/Users/julialromero/miniconda3/envs/myenv/lib/python3.9/site-packages/geopandas/geoseries.py:207: FutureWarning: The default dtype for empty Series will be 'object' instead of 'float64' in a future version. Specify a dtype explicitly to silence this warning.\n",
      "  s = pd.Series(data, index=index, name=name, **kwargs)\n",
      "\r",
      "37it [12:29, 19.55s/it]"
     ]
    },
    {
     "name": "stdout",
     "output_type": "stream",
     "text": [
      "Saved 12176 rows.\n",
      "\n",
      "Read file 37.\n"
     ]
    },
    {
     "name": "stderr",
     "output_type": "stream",
     "text": [
      "/Users/julialromero/miniconda3/envs/myenv/lib/python3.9/site-packages/geopandas/geoseries.py:207: FutureWarning: The default dtype for empty Series will be 'object' instead of 'float64' in a future version. Specify a dtype explicitly to silence this warning.\n",
      "  s = pd.Series(data, index=index, name=name, **kwargs)\n",
      "\r",
      "38it [13:11, 26.06s/it]"
     ]
    },
    {
     "name": "stdout",
     "output_type": "stream",
     "text": [
      "Saved 11835 rows.\n",
      "\n",
      "Read file 38.\n"
     ]
    },
    {
     "name": "stderr",
     "output_type": "stream",
     "text": [
      "/Users/julialromero/miniconda3/envs/myenv/lib/python3.9/site-packages/geopandas/geoseries.py:207: FutureWarning: The default dtype for empty Series will be 'object' instead of 'float64' in a future version. Specify a dtype explicitly to silence this warning.\n",
      "  s = pd.Series(data, index=index, name=name, **kwargs)\n",
      "\r",
      "39it [13:28, 23.34s/it]"
     ]
    },
    {
     "name": "stdout",
     "output_type": "stream",
     "text": [
      "Saved 11961 rows.\n",
      "\n",
      "Read file 39.\n"
     ]
    },
    {
     "name": "stderr",
     "output_type": "stream",
     "text": [
      "/Users/julialromero/miniconda3/envs/myenv/lib/python3.9/site-packages/geopandas/geoseries.py:207: FutureWarning: The default dtype for empty Series will be 'object' instead of 'float64' in a future version. Specify a dtype explicitly to silence this warning.\n",
      "  s = pd.Series(data, index=index, name=name, **kwargs)\n",
      "\r",
      "40it [13:48, 22.45s/it]"
     ]
    },
    {
     "name": "stdout",
     "output_type": "stream",
     "text": [
      "Saved 11940 rows.\n",
      "\n",
      "Read file 40.\n"
     ]
    },
    {
     "name": "stderr",
     "output_type": "stream",
     "text": [
      "/Users/julialromero/miniconda3/envs/myenv/lib/python3.9/site-packages/geopandas/geoseries.py:207: FutureWarning: The default dtype for empty Series will be 'object' instead of 'float64' in a future version. Specify a dtype explicitly to silence this warning.\n",
      "  s = pd.Series(data, index=index, name=name, **kwargs)\n",
      "\r",
      "41it [14:09, 21.99s/it]"
     ]
    },
    {
     "name": "stdout",
     "output_type": "stream",
     "text": [
      "Saved 12245 rows.\n",
      "\n",
      "Read file 41.\n"
     ]
    },
    {
     "name": "stderr",
     "output_type": "stream",
     "text": [
      "/Users/julialromero/miniconda3/envs/myenv/lib/python3.9/site-packages/geopandas/geoseries.py:207: FutureWarning: The default dtype for empty Series will be 'object' instead of 'float64' in a future version. Specify a dtype explicitly to silence this warning.\n",
      "  s = pd.Series(data, index=index, name=name, **kwargs)\n",
      "\r",
      "42it [14:40, 24.61s/it]"
     ]
    },
    {
     "name": "stdout",
     "output_type": "stream",
     "text": [
      "Saved 12175 rows.\n",
      "\n",
      "Read file 42.\n"
     ]
    },
    {
     "name": "stderr",
     "output_type": "stream",
     "text": [
      "/Users/julialromero/miniconda3/envs/myenv/lib/python3.9/site-packages/geopandas/geoseries.py:207: FutureWarning: The default dtype for empty Series will be 'object' instead of 'float64' in a future version. Specify a dtype explicitly to silence this warning.\n",
      "  s = pd.Series(data, index=index, name=name, **kwargs)\n",
      "\r",
      "43it [15:11, 26.68s/it]"
     ]
    },
    {
     "name": "stdout",
     "output_type": "stream",
     "text": [
      "Saved 11984 rows.\n",
      "\n",
      "Read file 43.\n"
     ]
    },
    {
     "name": "stderr",
     "output_type": "stream",
     "text": [
      "/Users/julialromero/miniconda3/envs/myenv/lib/python3.9/site-packages/geopandas/geoseries.py:207: FutureWarning: The default dtype for empty Series will be 'object' instead of 'float64' in a future version. Specify a dtype explicitly to silence this warning.\n",
      "  s = pd.Series(data, index=index, name=name, **kwargs)\n",
      "\r",
      "44it [15:31, 24.71s/it]"
     ]
    },
    {
     "name": "stdout",
     "output_type": "stream",
     "text": [
      "Saved 11852 rows.\n",
      "\n",
      "Read file 44.\n"
     ]
    },
    {
     "name": "stderr",
     "output_type": "stream",
     "text": [
      "/Users/julialromero/miniconda3/envs/myenv/lib/python3.9/site-packages/geopandas/geoseries.py:207: FutureWarning: The default dtype for empty Series will be 'object' instead of 'float64' in a future version. Specify a dtype explicitly to silence this warning.\n",
      "  s = pd.Series(data, index=index, name=name, **kwargs)\n",
      "\r",
      "45it [15:57, 25.15s/it]"
     ]
    },
    {
     "name": "stdout",
     "output_type": "stream",
     "text": [
      "Saved 11933 rows.\n",
      "\n",
      "Read file 45.\n"
     ]
    },
    {
     "name": "stderr",
     "output_type": "stream",
     "text": [
      "/Users/julialromero/miniconda3/envs/myenv/lib/python3.9/site-packages/geopandas/geoseries.py:207: FutureWarning: The default dtype for empty Series will be 'object' instead of 'float64' in a future version. Specify a dtype explicitly to silence this warning.\n",
      "  s = pd.Series(data, index=index, name=name, **kwargs)\n",
      "\r",
      "46it [16:20, 24.43s/it]"
     ]
    },
    {
     "name": "stdout",
     "output_type": "stream",
     "text": [
      "Saved 11791 rows.\n",
      "\n",
      "Read file 46.\n"
     ]
    },
    {
     "name": "stderr",
     "output_type": "stream",
     "text": [
      "/Users/julialromero/miniconda3/envs/myenv/lib/python3.9/site-packages/geopandas/geoseries.py:207: FutureWarning: The default dtype for empty Series will be 'object' instead of 'float64' in a future version. Specify a dtype explicitly to silence this warning.\n",
      "  s = pd.Series(data, index=index, name=name, **kwargs)\n",
      "\r",
      "47it [16:46, 24.76s/it]"
     ]
    },
    {
     "name": "stdout",
     "output_type": "stream",
     "text": [
      "Saved 12122 rows.\n",
      "\n",
      "Read file 47.\n"
     ]
    },
    {
     "name": "stderr",
     "output_type": "stream",
     "text": [
      "/Users/julialromero/miniconda3/envs/myenv/lib/python3.9/site-packages/geopandas/geoseries.py:207: FutureWarning: The default dtype for empty Series will be 'object' instead of 'float64' in a future version. Specify a dtype explicitly to silence this warning.\n",
      "  s = pd.Series(data, index=index, name=name, **kwargs)\n",
      "\r",
      "48it [17:14, 25.94s/it]"
     ]
    },
    {
     "name": "stdout",
     "output_type": "stream",
     "text": [
      "Saved 11909 rows.\n",
      "\n",
      "Read file 48.\n"
     ]
    },
    {
     "name": "stderr",
     "output_type": "stream",
     "text": [
      "/Users/julialromero/miniconda3/envs/myenv/lib/python3.9/site-packages/geopandas/geoseries.py:207: FutureWarning: The default dtype for empty Series will be 'object' instead of 'float64' in a future version. Specify a dtype explicitly to silence this warning.\n",
      "  s = pd.Series(data, index=index, name=name, **kwargs)\n",
      "\r",
      "49it [17:57, 31.00s/it]"
     ]
    },
    {
     "name": "stdout",
     "output_type": "stream",
     "text": [
      "Saved 12063 rows.\n",
      "\n",
      "Read file 49.\n"
     ]
    },
    {
     "name": "stderr",
     "output_type": "stream",
     "text": [
      "/Users/julialromero/miniconda3/envs/myenv/lib/python3.9/site-packages/geopandas/geoseries.py:207: FutureWarning: The default dtype for empty Series will be 'object' instead of 'float64' in a future version. Specify a dtype explicitly to silence this warning.\n",
      "  s = pd.Series(data, index=index, name=name, **kwargs)\n",
      "\r",
      "50it [18:23, 29.33s/it]"
     ]
    },
    {
     "name": "stdout",
     "output_type": "stream",
     "text": [
      "Saved 11996 rows.\n",
      "\n",
      "Read file 50.\n"
     ]
    },
    {
     "name": "stderr",
     "output_type": "stream",
     "text": [
      "/Users/julialromero/miniconda3/envs/myenv/lib/python3.9/site-packages/geopandas/geoseries.py:207: FutureWarning: The default dtype for empty Series will be 'object' instead of 'float64' in a future version. Specify a dtype explicitly to silence this warning.\n",
      "  s = pd.Series(data, index=index, name=name, **kwargs)\n",
      "\r",
      "51it [18:51, 29.03s/it]"
     ]
    },
    {
     "name": "stdout",
     "output_type": "stream",
     "text": [
      "Saved 11930 rows.\n",
      "\n",
      "Read file 51.\n"
     ]
    },
    {
     "name": "stderr",
     "output_type": "stream",
     "text": [
      "/Users/julialromero/miniconda3/envs/myenv/lib/python3.9/site-packages/geopandas/geoseries.py:207: FutureWarning: The default dtype for empty Series will be 'object' instead of 'float64' in a future version. Specify a dtype explicitly to silence this warning.\n",
      "  s = pd.Series(data, index=index, name=name, **kwargs)\n",
      "\r",
      "52it [19:12, 26.47s/it]"
     ]
    },
    {
     "name": "stdout",
     "output_type": "stream",
     "text": [
      "Saved 12073 rows.\n",
      "\n",
      "Read file 52.\n"
     ]
    },
    {
     "name": "stderr",
     "output_type": "stream",
     "text": [
      "/Users/julialromero/miniconda3/envs/myenv/lib/python3.9/site-packages/geopandas/geoseries.py:207: FutureWarning: The default dtype for empty Series will be 'object' instead of 'float64' in a future version. Specify a dtype explicitly to silence this warning.\n",
      "  s = pd.Series(data, index=index, name=name, **kwargs)\n",
      "\r",
      "53it [19:32, 24.70s/it]"
     ]
    },
    {
     "name": "stdout",
     "output_type": "stream",
     "text": [
      "Saved 11926 rows.\n",
      "\n",
      "Read file 53.\n"
     ]
    },
    {
     "name": "stderr",
     "output_type": "stream",
     "text": [
      "/Users/julialromero/miniconda3/envs/myenv/lib/python3.9/site-packages/geopandas/geoseries.py:207: FutureWarning: The default dtype for empty Series will be 'object' instead of 'float64' in a future version. Specify a dtype explicitly to silence this warning.\n",
      "  s = pd.Series(data, index=index, name=name, **kwargs)\n",
      "\r",
      "54it [19:52, 23.18s/it]"
     ]
    },
    {
     "name": "stdout",
     "output_type": "stream",
     "text": [
      "Saved 11952 rows.\n",
      "\n",
      "Read file 54.\n"
     ]
    },
    {
     "name": "stderr",
     "output_type": "stream",
     "text": [
      "/Users/julialromero/miniconda3/envs/myenv/lib/python3.9/site-packages/geopandas/geoseries.py:207: FutureWarning: The default dtype for empty Series will be 'object' instead of 'float64' in a future version. Specify a dtype explicitly to silence this warning.\n",
      "  s = pd.Series(data, index=index, name=name, **kwargs)\n",
      "\r",
      "55it [20:13, 22.58s/it]"
     ]
    },
    {
     "name": "stdout",
     "output_type": "stream",
     "text": [
      "Saved 12299 rows.\n",
      "\n",
      "Read file 55.\n"
     ]
    },
    {
     "name": "stderr",
     "output_type": "stream",
     "text": [
      "/Users/julialromero/miniconda3/envs/myenv/lib/python3.9/site-packages/geopandas/geoseries.py:207: FutureWarning: The default dtype for empty Series will be 'object' instead of 'float64' in a future version. Specify a dtype explicitly to silence this warning.\n",
      "  s = pd.Series(data, index=index, name=name, **kwargs)\n",
      "\r",
      "56it [20:36, 22.58s/it]"
     ]
    },
    {
     "name": "stdout",
     "output_type": "stream",
     "text": [
      "Saved 12099 rows.\n",
      "\n",
      "Read file 56.\n",
      "CBG length incorrect: CA:59150078\n"
     ]
    },
    {
     "name": "stderr",
     "output_type": "stream",
     "text": [
      "/Users/julialromero/miniconda3/envs/myenv/lib/python3.9/site-packages/geopandas/geoseries.py:207: FutureWarning: The default dtype for empty Series will be 'object' instead of 'float64' in a future version. Specify a dtype explicitly to silence this warning.\n",
      "  s = pd.Series(data, index=index, name=name, **kwargs)\n",
      "57it [21:13, 27.03s/it]"
     ]
    },
    {
     "name": "stdout",
     "output_type": "stream",
     "text": [
      "Saved 19565 rows.\n",
      "\n",
      "Read file 57.\n"
     ]
    },
    {
     "name": "stderr",
     "output_type": "stream",
     "text": [
      "/Users/julialromero/miniconda3/envs/myenv/lib/python3.9/site-packages/geopandas/geoseries.py:207: FutureWarning: The default dtype for empty Series will be 'object' instead of 'float64' in a future version. Specify a dtype explicitly to silence this warning.\n",
      "  s = pd.Series(data, index=index, name=name, **kwargs)\n",
      "\r",
      "58it [21:30, 23.94s/it]"
     ]
    },
    {
     "name": "stdout",
     "output_type": "stream",
     "text": [
      "Saved 12101 rows.\n",
      "\n",
      "Read file 58.\n"
     ]
    },
    {
     "name": "stderr",
     "output_type": "stream",
     "text": [
      "/Users/julialromero/miniconda3/envs/myenv/lib/python3.9/site-packages/geopandas/geoseries.py:207: FutureWarning: The default dtype for empty Series will be 'object' instead of 'float64' in a future version. Specify a dtype explicitly to silence this warning.\n",
      "  s = pd.Series(data, index=index, name=name, **kwargs)\n",
      "\r",
      "59it [21:49, 22.47s/it]"
     ]
    },
    {
     "name": "stdout",
     "output_type": "stream",
     "text": [
      "Saved 12013 rows.\n",
      "\n",
      "Read file 59.\n"
     ]
    },
    {
     "name": "stderr",
     "output_type": "stream",
     "text": [
      "/Users/julialromero/miniconda3/envs/myenv/lib/python3.9/site-packages/geopandas/geoseries.py:207: FutureWarning: The default dtype for empty Series will be 'object' instead of 'float64' in a future version. Specify a dtype explicitly to silence this warning.\n",
      "  s = pd.Series(data, index=index, name=name, **kwargs)\n",
      "\r",
      "60it [22:08, 21.46s/it]"
     ]
    },
    {
     "name": "stdout",
     "output_type": "stream",
     "text": [
      "Saved 11839 rows.\n",
      "\n",
      "Read file 60.\n"
     ]
    },
    {
     "name": "stderr",
     "output_type": "stream",
     "text": [
      "/Users/julialromero/miniconda3/envs/myenv/lib/python3.9/site-packages/geopandas/geoseries.py:207: FutureWarning: The default dtype for empty Series will be 'object' instead of 'float64' in a future version. Specify a dtype explicitly to silence this warning.\n",
      "  s = pd.Series(data, index=index, name=name, **kwargs)\n",
      "\r",
      "61it [22:35, 23.14s/it]"
     ]
    },
    {
     "name": "stdout",
     "output_type": "stream",
     "text": [
      "Saved 12073 rows.\n",
      "\n",
      "Read file 61.\n"
     ]
    },
    {
     "name": "stderr",
     "output_type": "stream",
     "text": [
      "/Users/julialromero/miniconda3/envs/myenv/lib/python3.9/site-packages/geopandas/geoseries.py:207: FutureWarning: The default dtype for empty Series will be 'object' instead of 'float64' in a future version. Specify a dtype explicitly to silence this warning.\n",
      "  s = pd.Series(data, index=index, name=name, **kwargs)\n",
      "\r",
      "62it [22:53, 21.78s/it]"
     ]
    },
    {
     "name": "stdout",
     "output_type": "stream",
     "text": [
      "Saved 11755 rows.\n",
      "\n",
      "Read file 62.\n"
     ]
    },
    {
     "name": "stderr",
     "output_type": "stream",
     "text": [
      "/Users/julialromero/miniconda3/envs/myenv/lib/python3.9/site-packages/geopandas/geoseries.py:207: FutureWarning: The default dtype for empty Series will be 'object' instead of 'float64' in a future version. Specify a dtype explicitly to silence this warning.\n",
      "  s = pd.Series(data, index=index, name=name, **kwargs)\n",
      "\r",
      "63it [23:11, 20.55s/it]"
     ]
    },
    {
     "name": "stdout",
     "output_type": "stream",
     "text": [
      "Saved 12093 rows.\n",
      "\n",
      "Read file 63.\n"
     ]
    },
    {
     "name": "stderr",
     "output_type": "stream",
     "text": [
      "/Users/julialromero/miniconda3/envs/myenv/lib/python3.9/site-packages/geopandas/geoseries.py:207: FutureWarning: The default dtype for empty Series will be 'object' instead of 'float64' in a future version. Specify a dtype explicitly to silence this warning.\n",
      "  s = pd.Series(data, index=index, name=name, **kwargs)\n",
      "\r",
      "64it [23:28, 19.35s/it]"
     ]
    },
    {
     "name": "stdout",
     "output_type": "stream",
     "text": [
      "Saved 12052 rows.\n",
      "\n",
      "Read file 64.\n"
     ]
    },
    {
     "name": "stderr",
     "output_type": "stream",
     "text": [
      "/Users/julialromero/miniconda3/envs/myenv/lib/python3.9/site-packages/geopandas/geoseries.py:207: FutureWarning: The default dtype for empty Series will be 'object' instead of 'float64' in a future version. Specify a dtype explicitly to silence this warning.\n",
      "  s = pd.Series(data, index=index, name=name, **kwargs)\n",
      "\r",
      "65it [23:43, 18.20s/it]"
     ]
    },
    {
     "name": "stdout",
     "output_type": "stream",
     "text": [
      "Saved 12203 rows.\n",
      "\n",
      "Read file 65.\n"
     ]
    },
    {
     "name": "stderr",
     "output_type": "stream",
     "text": [
      "/Users/julialromero/miniconda3/envs/myenv/lib/python3.9/site-packages/geopandas/geoseries.py:207: FutureWarning: The default dtype for empty Series will be 'object' instead of 'float64' in a future version. Specify a dtype explicitly to silence this warning.\n",
      "  s = pd.Series(data, index=index, name=name, **kwargs)\n",
      "\r",
      "66it [24:00, 17.81s/it]"
     ]
    },
    {
     "name": "stdout",
     "output_type": "stream",
     "text": [
      "Saved 12081 rows.\n",
      "\n",
      "Read file 66.\n"
     ]
    },
    {
     "name": "stderr",
     "output_type": "stream",
     "text": [
      "/Users/julialromero/miniconda3/envs/myenv/lib/python3.9/site-packages/geopandas/geoseries.py:207: FutureWarning: The default dtype for empty Series will be 'object' instead of 'float64' in a future version. Specify a dtype explicitly to silence this warning.\n",
      "  s = pd.Series(data, index=index, name=name, **kwargs)\n",
      "\r",
      "67it [24:28, 20.83s/it]"
     ]
    },
    {
     "name": "stdout",
     "output_type": "stream",
     "text": [
      "Saved 12046 rows.\n",
      "\n",
      "Read file 67.\n"
     ]
    },
    {
     "name": "stderr",
     "output_type": "stream",
     "text": [
      "/Users/julialromero/miniconda3/envs/myenv/lib/python3.9/site-packages/geopandas/geoseries.py:207: FutureWarning: The default dtype for empty Series will be 'object' instead of 'float64' in a future version. Specify a dtype explicitly to silence this warning.\n",
      "  s = pd.Series(data, index=index, name=name, **kwargs)\n",
      "\r",
      "68it [24:44, 19.49s/it]"
     ]
    },
    {
     "name": "stdout",
     "output_type": "stream",
     "text": [
      "Saved 12048 rows.\n",
      "\n",
      "Read file 68.\n"
     ]
    },
    {
     "name": "stderr",
     "output_type": "stream",
     "text": [
      "/Users/julialromero/miniconda3/envs/myenv/lib/python3.9/site-packages/geopandas/geoseries.py:207: FutureWarning: The default dtype for empty Series will be 'object' instead of 'float64' in a future version. Specify a dtype explicitly to silence this warning.\n",
      "  s = pd.Series(data, index=index, name=name, **kwargs)\n",
      "\r",
      "69it [25:36, 29.28s/it]"
     ]
    },
    {
     "name": "stdout",
     "output_type": "stream",
     "text": [
      "Saved 11962 rows.\n",
      "\n",
      "Read file 69.\n"
     ]
    },
    {
     "name": "stderr",
     "output_type": "stream",
     "text": [
      "/Users/julialromero/miniconda3/envs/myenv/lib/python3.9/site-packages/geopandas/geoseries.py:207: FutureWarning: The default dtype for empty Series will be 'object' instead of 'float64' in a future version. Specify a dtype explicitly to silence this warning.\n",
      "  s = pd.Series(data, index=index, name=name, **kwargs)\n",
      "\r",
      "70it [25:52, 25.23s/it]"
     ]
    },
    {
     "name": "stdout",
     "output_type": "stream",
     "text": [
      "Saved 11916 rows.\n",
      "\n",
      "Read file 70.\n"
     ]
    },
    {
     "name": "stderr",
     "output_type": "stream",
     "text": [
      "/Users/julialromero/miniconda3/envs/myenv/lib/python3.9/site-packages/geopandas/geoseries.py:207: FutureWarning: The default dtype for empty Series will be 'object' instead of 'float64' in a future version. Specify a dtype explicitly to silence this warning.\n",
      "  s = pd.Series(data, index=index, name=name, **kwargs)\n",
      "\r",
      "71it [26:13, 23.84s/it]"
     ]
    },
    {
     "name": "stdout",
     "output_type": "stream",
     "text": [
      "Saved 11971 rows.\n",
      "\n",
      "Read file 71.\n"
     ]
    },
    {
     "name": "stderr",
     "output_type": "stream",
     "text": [
      "/Users/julialromero/miniconda3/envs/myenv/lib/python3.9/site-packages/geopandas/geoseries.py:207: FutureWarning: The default dtype for empty Series will be 'object' instead of 'float64' in a future version. Specify a dtype explicitly to silence this warning.\n",
      "  s = pd.Series(data, index=index, name=name, **kwargs)\n",
      "\r",
      "72it [26:29, 21.55s/it]"
     ]
    },
    {
     "name": "stdout",
     "output_type": "stream",
     "text": [
      "Saved 12092 rows.\n",
      "\n",
      "Read file 72.\n"
     ]
    },
    {
     "name": "stderr",
     "output_type": "stream",
     "text": [
      "/Users/julialromero/miniconda3/envs/myenv/lib/python3.9/site-packages/geopandas/geoseries.py:207: FutureWarning: The default dtype for empty Series will be 'object' instead of 'float64' in a future version. Specify a dtype explicitly to silence this warning.\n",
      "  s = pd.Series(data, index=index, name=name, **kwargs)\n",
      "\r",
      "73it [26:44, 19.65s/it]"
     ]
    },
    {
     "name": "stdout",
     "output_type": "stream",
     "text": [
      "Saved 12064 rows.\n",
      "\n",
      "Read file 73.\n"
     ]
    },
    {
     "name": "stderr",
     "output_type": "stream",
     "text": [
      "/Users/julialromero/miniconda3/envs/myenv/lib/python3.9/site-packages/geopandas/geoseries.py:207: FutureWarning: The default dtype for empty Series will be 'object' instead of 'float64' in a future version. Specify a dtype explicitly to silence this warning.\n",
      "  s = pd.Series(data, index=index, name=name, **kwargs)\n",
      "\r",
      "74it [27:00, 18.58s/it]"
     ]
    },
    {
     "name": "stdout",
     "output_type": "stream",
     "text": [
      "Saved 11908 rows.\n",
      "\n",
      "Read file 74.\n"
     ]
    },
    {
     "name": "stderr",
     "output_type": "stream",
     "text": [
      "/Users/julialromero/miniconda3/envs/myenv/lib/python3.9/site-packages/geopandas/geoseries.py:207: FutureWarning: The default dtype for empty Series will be 'object' instead of 'float64' in a future version. Specify a dtype explicitly to silence this warning.\n",
      "  s = pd.Series(data, index=index, name=name, **kwargs)\n",
      "\r",
      "75it [27:17, 17.94s/it]"
     ]
    },
    {
     "name": "stdout",
     "output_type": "stream",
     "text": [
      "Saved 11895 rows.\n",
      "\n",
      "Read file 75.\n"
     ]
    },
    {
     "name": "stderr",
     "output_type": "stream",
     "text": [
      "/Users/julialromero/miniconda3/envs/myenv/lib/python3.9/site-packages/geopandas/geoseries.py:207: FutureWarning: The default dtype for empty Series will be 'object' instead of 'float64' in a future version. Specify a dtype explicitly to silence this warning.\n",
      "  s = pd.Series(data, index=index, name=name, **kwargs)\n",
      "\r",
      "76it [27:33, 17.36s/it]"
     ]
    },
    {
     "name": "stdout",
     "output_type": "stream",
     "text": [
      "Saved 11998 rows.\n",
      "\n",
      "Read file 76.\n"
     ]
    },
    {
     "name": "stderr",
     "output_type": "stream",
     "text": [
      "/Users/julialromero/miniconda3/envs/myenv/lib/python3.9/site-packages/geopandas/geoseries.py:207: FutureWarning: The default dtype for empty Series will be 'object' instead of 'float64' in a future version. Specify a dtype explicitly to silence this warning.\n",
      "  s = pd.Series(data, index=index, name=name, **kwargs)\n",
      "\r",
      "77it [27:48, 16.78s/it]"
     ]
    },
    {
     "name": "stdout",
     "output_type": "stream",
     "text": [
      "Saved 11898 rows.\n",
      "\n",
      "Read file 77.\n"
     ]
    },
    {
     "name": "stderr",
     "output_type": "stream",
     "text": [
      "/Users/julialromero/miniconda3/envs/myenv/lib/python3.9/site-packages/geopandas/geoseries.py:207: FutureWarning: The default dtype for empty Series will be 'object' instead of 'float64' in a future version. Specify a dtype explicitly to silence this warning.\n",
      "  s = pd.Series(data, index=index, name=name, **kwargs)\n",
      "\r",
      "78it [28:03, 16.27s/it]"
     ]
    },
    {
     "name": "stdout",
     "output_type": "stream",
     "text": [
      "Saved 11923 rows.\n",
      "\n",
      "Read file 78.\n"
     ]
    },
    {
     "name": "stderr",
     "output_type": "stream",
     "text": [
      "/Users/julialromero/miniconda3/envs/myenv/lib/python3.9/site-packages/geopandas/geoseries.py:207: FutureWarning: The default dtype for empty Series will be 'object' instead of 'float64' in a future version. Specify a dtype explicitly to silence this warning.\n",
      "  s = pd.Series(data, index=index, name=name, **kwargs)\n",
      "\r",
      "79it [28:19, 16.00s/it]"
     ]
    },
    {
     "name": "stdout",
     "output_type": "stream",
     "text": [
      "Saved 12296 rows.\n",
      "\n",
      "Read file 79.\n"
     ]
    },
    {
     "name": "stderr",
     "output_type": "stream",
     "text": [
      "/Users/julialromero/miniconda3/envs/myenv/lib/python3.9/site-packages/geopandas/geoseries.py:207: FutureWarning: The default dtype for empty Series will be 'object' instead of 'float64' in a future version. Specify a dtype explicitly to silence this warning.\n",
      "  s = pd.Series(data, index=index, name=name, **kwargs)\n",
      "\r",
      "80it [28:34, 15.93s/it]"
     ]
    },
    {
     "name": "stdout",
     "output_type": "stream",
     "text": [
      "Saved 12086 rows.\n",
      "\n",
      "Read file 80.\n",
      "CBG length incorrect: CA:59150078\n"
     ]
    },
    {
     "name": "stderr",
     "output_type": "stream",
     "text": [
      "/Users/julialromero/miniconda3/envs/myenv/lib/python3.9/site-packages/geopandas/geoseries.py:207: FutureWarning: The default dtype for empty Series will be 'object' instead of 'float64' in a future version. Specify a dtype explicitly to silence this warning.\n",
      "  s = pd.Series(data, index=index, name=name, **kwargs)\n",
      "\r",
      "81it [29:01, 19.14s/it]"
     ]
    },
    {
     "name": "stdout",
     "output_type": "stream",
     "text": [
      "Saved 19214 rows.\n",
      "\n",
      "Read file 81.\n"
     ]
    },
    {
     "name": "stderr",
     "output_type": "stream",
     "text": [
      "/Users/julialromero/miniconda3/envs/myenv/lib/python3.9/site-packages/geopandas/geoseries.py:207: FutureWarning: The default dtype for empty Series will be 'object' instead of 'float64' in a future version. Specify a dtype explicitly to silence this warning.\n",
      "  s = pd.Series(data, index=index, name=name, **kwargs)\n",
      "\r",
      "82it [29:17, 18.05s/it]"
     ]
    },
    {
     "name": "stdout",
     "output_type": "stream",
     "text": [
      "Saved 12262 rows.\n",
      "\n",
      "Read file 82.\n"
     ]
    },
    {
     "name": "stderr",
     "output_type": "stream",
     "text": [
      "/Users/julialromero/miniconda3/envs/myenv/lib/python3.9/site-packages/geopandas/geoseries.py:207: FutureWarning: The default dtype for empty Series will be 'object' instead of 'float64' in a future version. Specify a dtype explicitly to silence this warning.\n",
      "  s = pd.Series(data, index=index, name=name, **kwargs)\n",
      "\r",
      "83it [29:33, 17.67s/it]"
     ]
    },
    {
     "name": "stdout",
     "output_type": "stream",
     "text": [
      "Saved 11956 rows.\n",
      "\n",
      "Read file 83.\n"
     ]
    },
    {
     "name": "stderr",
     "output_type": "stream",
     "text": [
      "/Users/julialromero/miniconda3/envs/myenv/lib/python3.9/site-packages/geopandas/geoseries.py:207: FutureWarning: The default dtype for empty Series will be 'object' instead of 'float64' in a future version. Specify a dtype explicitly to silence this warning.\n",
      "  s = pd.Series(data, index=index, name=name, **kwargs)\n",
      "\r",
      "84it [29:49, 17.03s/it]"
     ]
    },
    {
     "name": "stdout",
     "output_type": "stream",
     "text": [
      "Saved 11763 rows.\n",
      "\n",
      "Read file 84.\n"
     ]
    },
    {
     "name": "stderr",
     "output_type": "stream",
     "text": [
      "/Users/julialromero/miniconda3/envs/myenv/lib/python3.9/site-packages/geopandas/geoseries.py:207: FutureWarning: The default dtype for empty Series will be 'object' instead of 'float64' in a future version. Specify a dtype explicitly to silence this warning.\n",
      "  s = pd.Series(data, index=index, name=name, **kwargs)\n",
      "\r",
      "85it [30:05, 16.66s/it]"
     ]
    },
    {
     "name": "stdout",
     "output_type": "stream",
     "text": [
      "Saved 12076 rows.\n",
      "\n",
      "Read file 85.\n"
     ]
    },
    {
     "name": "stderr",
     "output_type": "stream",
     "text": [
      "/Users/julialromero/miniconda3/envs/myenv/lib/python3.9/site-packages/geopandas/geoseries.py:207: FutureWarning: The default dtype for empty Series will be 'object' instead of 'float64' in a future version. Specify a dtype explicitly to silence this warning.\n",
      "  s = pd.Series(data, index=index, name=name, **kwargs)\n",
      "\r",
      "86it [30:23, 17.28s/it]"
     ]
    },
    {
     "name": "stdout",
     "output_type": "stream",
     "text": [
      "Saved 11692 rows.\n",
      "\n",
      "Read file 86.\n"
     ]
    },
    {
     "name": "stderr",
     "output_type": "stream",
     "text": [
      "/Users/julialromero/miniconda3/envs/myenv/lib/python3.9/site-packages/geopandas/array.py:275: ShapelyDeprecationWarning: The array interface is deprecated and will no longer work in Shapely 2.0. Convert the '.coords' to a numpy array instead.\n",
      "  return GeometryArray(vectorized.points_from_xy(x, y, z), crs=crs)\n",
      "/var/folders/b6/qqcnr7cj16sd1r0nn3p4f_sw0000gn/T/ipykernel_89502/3658352350.py:20: SettingWithCopyWarning: \n",
      "A value is trying to be set on a copy of a slice from a DataFrame.\n",
      "Try using .loc[row_indexer,col_indexer] = value instead\n",
      "\n",
      "See the caveats in the documentation: https://pandas.pydata.org/pandas-docs/stable/user_guide/indexing.html#returning-a-view-versus-a-copy\n",
      "  cp['GEOID'] = points.apply(lambda p: get_tract_num(tract_data, p))\n",
      "\r",
      "87it [30:51, 20.28s/it]"
     ]
    },
    {
     "name": "stdout",
     "output_type": "stream",
     "text": [
      "Saved 12024 rows.\n",
      "\n",
      "Read file 87.\n"
     ]
    },
    {
     "name": "stderr",
     "output_type": "stream",
     "text": [
      "/Users/julialromero/miniconda3/envs/myenv/lib/python3.9/site-packages/geopandas/geoseries.py:207: FutureWarning: The default dtype for empty Series will be 'object' instead of 'float64' in a future version. Specify a dtype explicitly to silence this warning.\n",
      "  s = pd.Series(data, index=index, name=name, **kwargs)\n",
      "\r",
      "88it [31:08, 19.40s/it]"
     ]
    },
    {
     "name": "stdout",
     "output_type": "stream",
     "text": [
      "Saved 11987 rows.\n",
      "\n",
      "Read file 88.\n"
     ]
    },
    {
     "name": "stderr",
     "output_type": "stream",
     "text": [
      "/Users/julialromero/miniconda3/envs/myenv/lib/python3.9/site-packages/geopandas/geoseries.py:207: FutureWarning: The default dtype for empty Series will be 'object' instead of 'float64' in a future version. Specify a dtype explicitly to silence this warning.\n",
      "  s = pd.Series(data, index=index, name=name, **kwargs)\n",
      "\r",
      "89it [31:26, 18.81s/it]"
     ]
    },
    {
     "name": "stdout",
     "output_type": "stream",
     "text": [
      "Saved 12115 rows.\n",
      "\n",
      "Read file 89.\n"
     ]
    },
    {
     "name": "stderr",
     "output_type": "stream",
     "text": [
      "/Users/julialromero/miniconda3/envs/myenv/lib/python3.9/site-packages/geopandas/geoseries.py:207: FutureWarning: The default dtype for empty Series will be 'object' instead of 'float64' in a future version. Specify a dtype explicitly to silence this warning.\n",
      "  s = pd.Series(data, index=index, name=name, **kwargs)\n",
      "\r",
      "90it [31:42, 18.17s/it]"
     ]
    },
    {
     "name": "stdout",
     "output_type": "stream",
     "text": [
      "Saved 12050 rows.\n",
      "\n",
      "Read file 90.\n"
     ]
    },
    {
     "name": "stderr",
     "output_type": "stream",
     "text": [
      "/Users/julialromero/miniconda3/envs/myenv/lib/python3.9/site-packages/geopandas/geoseries.py:207: FutureWarning: The default dtype for empty Series will be 'object' instead of 'float64' in a future version. Specify a dtype explicitly to silence this warning.\n",
      "  s = pd.Series(data, index=index, name=name, **kwargs)\n",
      "\r",
      "91it [31:58, 17.50s/it]"
     ]
    },
    {
     "name": "stdout",
     "output_type": "stream",
     "text": [
      "Saved 11967 rows.\n",
      "\n",
      "Read file 91.\n"
     ]
    },
    {
     "name": "stderr",
     "output_type": "stream",
     "text": [
      "/Users/julialromero/miniconda3/envs/myenv/lib/python3.9/site-packages/geopandas/geoseries.py:207: FutureWarning: The default dtype for empty Series will be 'object' instead of 'float64' in a future version. Specify a dtype explicitly to silence this warning.\n",
      "  s = pd.Series(data, index=index, name=name, **kwargs)\n",
      "\r",
      "92it [32:15, 17.37s/it]"
     ]
    },
    {
     "name": "stdout",
     "output_type": "stream",
     "text": [
      "Saved 11989 rows.\n",
      "\n",
      "Read file 92.\n"
     ]
    },
    {
     "name": "stderr",
     "output_type": "stream",
     "text": [
      "/Users/julialromero/miniconda3/envs/myenv/lib/python3.9/site-packages/geopandas/geoseries.py:207: FutureWarning: The default dtype for empty Series will be 'object' instead of 'float64' in a future version. Specify a dtype explicitly to silence this warning.\n",
      "  s = pd.Series(data, index=index, name=name, **kwargs)\n",
      "\r",
      "93it [32:31, 16.97s/it]"
     ]
    },
    {
     "name": "stdout",
     "output_type": "stream",
     "text": [
      "Saved 11975 rows.\n",
      "\n",
      "Read file 93.\n"
     ]
    },
    {
     "name": "stderr",
     "output_type": "stream",
     "text": [
      "/Users/julialromero/miniconda3/envs/myenv/lib/python3.9/site-packages/geopandas/geoseries.py:207: FutureWarning: The default dtype for empty Series will be 'object' instead of 'float64' in a future version. Specify a dtype explicitly to silence this warning.\n",
      "  s = pd.Series(data, index=index, name=name, **kwargs)\n",
      "\r",
      "94it [33:01, 20.75s/it]"
     ]
    },
    {
     "name": "stdout",
     "output_type": "stream",
     "text": [
      "Saved 11952 rows.\n",
      "\n",
      "Read file 94.\n"
     ]
    },
    {
     "name": "stderr",
     "output_type": "stream",
     "text": [
      "/Users/julialromero/miniconda3/envs/myenv/lib/python3.9/site-packages/geopandas/geoseries.py:207: FutureWarning: The default dtype for empty Series will be 'object' instead of 'float64' in a future version. Specify a dtype explicitly to silence this warning.\n",
      "  s = pd.Series(data, index=index, name=name, **kwargs)\n",
      "\r",
      "95it [33:16, 19.23s/it]"
     ]
    },
    {
     "name": "stdout",
     "output_type": "stream",
     "text": [
      "Saved 11948 rows.\n",
      "\n",
      "Read file 95.\n"
     ]
    },
    {
     "name": "stderr",
     "output_type": "stream",
     "text": [
      "/Users/julialromero/miniconda3/envs/myenv/lib/python3.9/site-packages/geopandas/geoseries.py:207: FutureWarning: The default dtype for empty Series will be 'object' instead of 'float64' in a future version. Specify a dtype explicitly to silence this warning.\n",
      "  s = pd.Series(data, index=index, name=name, **kwargs)\n",
      "\r",
      "96it [33:34, 18.71s/it]"
     ]
    },
    {
     "name": "stdout",
     "output_type": "stream",
     "text": [
      "Saved 11985 rows.\n",
      "\n",
      "Read file 96.\n"
     ]
    },
    {
     "name": "stderr",
     "output_type": "stream",
     "text": [
      "/Users/julialromero/miniconda3/envs/myenv/lib/python3.9/site-packages/geopandas/geoseries.py:207: FutureWarning: The default dtype for empty Series will be 'object' instead of 'float64' in a future version. Specify a dtype explicitly to silence this warning.\n",
      "  s = pd.Series(data, index=index, name=name, **kwargs)\n",
      "\r",
      "97it [33:52, 18.45s/it]"
     ]
    },
    {
     "name": "stdout",
     "output_type": "stream",
     "text": [
      "Saved 12027 rows.\n",
      "\n",
      "Read file 97.\n"
     ]
    },
    {
     "name": "stderr",
     "output_type": "stream",
     "text": [
      "/Users/julialromero/miniconda3/envs/myenv/lib/python3.9/site-packages/geopandas/geoseries.py:207: FutureWarning: The default dtype for empty Series will be 'object' instead of 'float64' in a future version. Specify a dtype explicitly to silence this warning.\n",
      "  s = pd.Series(data, index=index, name=name, **kwargs)\n",
      "\r",
      "98it [34:08, 17.78s/it]"
     ]
    },
    {
     "name": "stdout",
     "output_type": "stream",
     "text": [
      "Saved 11914 rows.\n",
      "\n",
      "Read file 98.\n"
     ]
    },
    {
     "name": "stderr",
     "output_type": "stream",
     "text": [
      "/Users/julialromero/miniconda3/envs/myenv/lib/python3.9/site-packages/geopandas/geoseries.py:207: FutureWarning: The default dtype for empty Series will be 'object' instead of 'float64' in a future version. Specify a dtype explicitly to silence this warning.\n",
      "  s = pd.Series(data, index=index, name=name, **kwargs)\n",
      "\r",
      "99it [35:00, 28.17s/it]"
     ]
    },
    {
     "name": "stdout",
     "output_type": "stream",
     "text": [
      "Saved 11889 rows.\n",
      "\n",
      "Read file 99.\n"
     ]
    },
    {
     "name": "stderr",
     "output_type": "stream",
     "text": [
      "/Users/julialromero/miniconda3/envs/myenv/lib/python3.9/site-packages/geopandas/geoseries.py:207: FutureWarning: The default dtype for empty Series will be 'object' instead of 'float64' in a future version. Specify a dtype explicitly to silence this warning.\n",
      "  s = pd.Series(data, index=index, name=name, **kwargs)\n",
      "\r",
      "100it [35:20, 25.54s/it]"
     ]
    },
    {
     "name": "stdout",
     "output_type": "stream",
     "text": [
      "Saved 12011 rows.\n",
      "\n",
      "Read file 100.\n"
     ]
    },
    {
     "name": "stderr",
     "output_type": "stream",
     "text": [
      "/Users/julialromero/miniconda3/envs/myenv/lib/python3.9/site-packages/geopandas/geoseries.py:207: FutureWarning: The default dtype for empty Series will be 'object' instead of 'float64' in a future version. Specify a dtype explicitly to silence this warning.\n",
      "  s = pd.Series(data, index=index, name=name, **kwargs)\n",
      "\r",
      "101it [35:37, 22.94s/it]"
     ]
    },
    {
     "name": "stdout",
     "output_type": "stream",
     "text": [
      "Saved 11894 rows.\n",
      "\n",
      "Read file 101.\n"
     ]
    },
    {
     "name": "stderr",
     "output_type": "stream",
     "text": [
      "/Users/julialromero/miniconda3/envs/myenv/lib/python3.9/site-packages/geopandas/geoseries.py:207: FutureWarning: The default dtype for empty Series will be 'object' instead of 'float64' in a future version. Specify a dtype explicitly to silence this warning.\n",
      "  s = pd.Series(data, index=index, name=name, **kwargs)\n",
      "\r",
      "102it [35:53, 20.80s/it]"
     ]
    },
    {
     "name": "stdout",
     "output_type": "stream",
     "text": [
      "Saved 11907 rows.\n",
      "\n",
      "Read file 102.\n"
     ]
    },
    {
     "name": "stderr",
     "output_type": "stream",
     "text": [
      "/Users/julialromero/miniconda3/envs/myenv/lib/python3.9/site-packages/geopandas/geoseries.py:207: FutureWarning: The default dtype for empty Series will be 'object' instead of 'float64' in a future version. Specify a dtype explicitly to silence this warning.\n",
      "  s = pd.Series(data, index=index, name=name, **kwargs)\n",
      "\r",
      "103it [36:33, 26.77s/it]"
     ]
    },
    {
     "name": "stdout",
     "output_type": "stream",
     "text": [
      "Saved 12270 rows.\n",
      "\n",
      "Read file 103.\n"
     ]
    },
    {
     "name": "stderr",
     "output_type": "stream",
     "text": [
      "/Users/julialromero/miniconda3/envs/myenv/lib/python3.9/site-packages/geopandas/geoseries.py:207: FutureWarning: The default dtype for empty Series will be 'object' instead of 'float64' in a future version. Specify a dtype explicitly to silence this warning.\n",
      "  s = pd.Series(data, index=index, name=name, **kwargs)\n",
      "\r",
      "104it [36:49, 23.49s/it]"
     ]
    },
    {
     "name": "stdout",
     "output_type": "stream",
     "text": [
      "Saved 12085 rows.\n",
      "\n",
      "Read file 104.\n",
      "CBG length incorrect: CA:59150078\n"
     ]
    },
    {
     "name": "stderr",
     "output_type": "stream",
     "text": [
      "/Users/julialromero/miniconda3/envs/myenv/lib/python3.9/site-packages/geopandas/geoseries.py:207: FutureWarning: The default dtype for empty Series will be 'object' instead of 'float64' in a future version. Specify a dtype explicitly to silence this warning.\n",
      "  s = pd.Series(data, index=index, name=name, **kwargs)\n",
      "\r",
      "105it [37:16, 24.42s/it]"
     ]
    },
    {
     "name": "stdout",
     "output_type": "stream",
     "text": [
      "Saved 19315 rows.\n",
      "\n",
      "Read file 105.\n"
     ]
    },
    {
     "name": "stderr",
     "output_type": "stream",
     "text": [
      "/Users/julialromero/miniconda3/envs/myenv/lib/python3.9/site-packages/geopandas/geoseries.py:207: FutureWarning: The default dtype for empty Series will be 'object' instead of 'float64' in a future version. Specify a dtype explicitly to silence this warning.\n",
      "  s = pd.Series(data, index=index, name=name, **kwargs)\n",
      "\r",
      "106it [37:32, 21.99s/it]"
     ]
    },
    {
     "name": "stdout",
     "output_type": "stream",
     "text": [
      "Saved 12275 rows.\n",
      "\n",
      "Read file 106.\n"
     ]
    },
    {
     "name": "stderr",
     "output_type": "stream",
     "text": [
      "/Users/julialromero/miniconda3/envs/myenv/lib/python3.9/site-packages/geopandas/geoseries.py:207: FutureWarning: The default dtype for empty Series will be 'object' instead of 'float64' in a future version. Specify a dtype explicitly to silence this warning.\n",
      "  s = pd.Series(data, index=index, name=name, **kwargs)\n",
      "\r",
      "107it [37:48, 20.28s/it]"
     ]
    },
    {
     "name": "stdout",
     "output_type": "stream",
     "text": [
      "Saved 11868 rows.\n",
      "\n",
      "Read file 107.\n"
     ]
    },
    {
     "name": "stderr",
     "output_type": "stream",
     "text": [
      "/Users/julialromero/miniconda3/envs/myenv/lib/python3.9/site-packages/geopandas/geoseries.py:207: FutureWarning: The default dtype for empty Series will be 'object' instead of 'float64' in a future version. Specify a dtype explicitly to silence this warning.\n",
      "  s = pd.Series(data, index=index, name=name, **kwargs)\n",
      "\r",
      "108it [38:09, 20.32s/it]"
     ]
    },
    {
     "name": "stdout",
     "output_type": "stream",
     "text": [
      "Saved 11791 rows.\n",
      "\n",
      "Read file 108.\n"
     ]
    },
    {
     "name": "stderr",
     "output_type": "stream",
     "text": [
      "/Users/julialromero/miniconda3/envs/myenv/lib/python3.9/site-packages/geopandas/geoseries.py:207: FutureWarning: The default dtype for empty Series will be 'object' instead of 'float64' in a future version. Specify a dtype explicitly to silence this warning.\n",
      "  s = pd.Series(data, index=index, name=name, **kwargs)\n",
      "\r",
      "109it [38:25, 19.12s/it]"
     ]
    },
    {
     "name": "stdout",
     "output_type": "stream",
     "text": [
      "Saved 12063 rows.\n",
      "\n",
      "Read file 109.\n"
     ]
    },
    {
     "name": "stderr",
     "output_type": "stream",
     "text": [
      "/Users/julialromero/miniconda3/envs/myenv/lib/python3.9/site-packages/geopandas/geoseries.py:207: FutureWarning: The default dtype for empty Series will be 'object' instead of 'float64' in a future version. Specify a dtype explicitly to silence this warning.\n",
      "  s = pd.Series(data, index=index, name=name, **kwargs)\n",
      "\r",
      "110it [38:53, 21.86s/it]"
     ]
    },
    {
     "name": "stdout",
     "output_type": "stream",
     "text": [
      "Saved 11738 rows.\n",
      "\n",
      "Read file 110.\n"
     ]
    },
    {
     "name": "stderr",
     "output_type": "stream",
     "text": [
      "/Users/julialromero/miniconda3/envs/myenv/lib/python3.9/site-packages/geopandas/array.py:275: ShapelyDeprecationWarning: The array interface is deprecated and will no longer work in Shapely 2.0. Convert the '.coords' to a numpy array instead.\n",
      "  return GeometryArray(vectorized.points_from_xy(x, y, z), crs=crs)\n",
      "/var/folders/b6/qqcnr7cj16sd1r0nn3p4f_sw0000gn/T/ipykernel_89502/3658352350.py:20: SettingWithCopyWarning: \n",
      "A value is trying to be set on a copy of a slice from a DataFrame.\n",
      "Try using .loc[row_indexer,col_indexer] = value instead\n",
      "\n",
      "See the caveats in the documentation: https://pandas.pydata.org/pandas-docs/stable/user_guide/indexing.html#returning-a-view-versus-a-copy\n",
      "  cp['GEOID'] = points.apply(lambda p: get_tract_num(tract_data, p))\n",
      "\r",
      "111it [39:10, 20.42s/it]"
     ]
    },
    {
     "name": "stdout",
     "output_type": "stream",
     "text": [
      "Saved 12058 rows.\n",
      "\n",
      "Read file 111.\n"
     ]
    },
    {
     "name": "stderr",
     "output_type": "stream",
     "text": [
      "/Users/julialromero/miniconda3/envs/myenv/lib/python3.9/site-packages/geopandas/geoseries.py:207: FutureWarning: The default dtype for empty Series will be 'object' instead of 'float64' in a future version. Specify a dtype explicitly to silence this warning.\n",
      "  s = pd.Series(data, index=index, name=name, **kwargs)\n",
      "\r",
      "112it [39:26, 19.09s/it]"
     ]
    },
    {
     "name": "stdout",
     "output_type": "stream",
     "text": [
      "Saved 12016 rows.\n",
      "\n",
      "Read file 112.\n"
     ]
    },
    {
     "name": "stderr",
     "output_type": "stream",
     "text": [
      "/Users/julialromero/miniconda3/envs/myenv/lib/python3.9/site-packages/geopandas/geoseries.py:207: FutureWarning: The default dtype for empty Series will be 'object' instead of 'float64' in a future version. Specify a dtype explicitly to silence this warning.\n",
      "  s = pd.Series(data, index=index, name=name, **kwargs)\n",
      "\r",
      "113it [39:42, 17.93s/it]"
     ]
    },
    {
     "name": "stdout",
     "output_type": "stream",
     "text": [
      "Saved 12147 rows.\n",
      "\n",
      "Read file 113.\n"
     ]
    },
    {
     "name": "stderr",
     "output_type": "stream",
     "text": [
      "/Users/julialromero/miniconda3/envs/myenv/lib/python3.9/site-packages/geopandas/geoseries.py:207: FutureWarning: The default dtype for empty Series will be 'object' instead of 'float64' in a future version. Specify a dtype explicitly to silence this warning.\n",
      "  s = pd.Series(data, index=index, name=name, **kwargs)\n",
      "\r",
      "114it [39:59, 17.87s/it]"
     ]
    },
    {
     "name": "stdout",
     "output_type": "stream",
     "text": [
      "Saved 12016 rows.\n",
      "\n",
      "Read file 114.\n"
     ]
    },
    {
     "name": "stderr",
     "output_type": "stream",
     "text": [
      "/Users/julialromero/miniconda3/envs/myenv/lib/python3.9/site-packages/geopandas/geoseries.py:207: FutureWarning: The default dtype for empty Series will be 'object' instead of 'float64' in a future version. Specify a dtype explicitly to silence this warning.\n",
      "  s = pd.Series(data, index=index, name=name, **kwargs)\n",
      "\r",
      "115it [40:16, 17.56s/it]"
     ]
    },
    {
     "name": "stdout",
     "output_type": "stream",
     "text": [
      "Saved 11941 rows.\n",
      "\n",
      "Read file 115.\n"
     ]
    },
    {
     "name": "stderr",
     "output_type": "stream",
     "text": [
      "/Users/julialromero/miniconda3/envs/myenv/lib/python3.9/site-packages/geopandas/geoseries.py:207: FutureWarning: The default dtype for empty Series will be 'object' instead of 'float64' in a future version. Specify a dtype explicitly to silence this warning.\n",
      "  s = pd.Series(data, index=index, name=name, **kwargs)\n",
      "\r",
      "116it [40:32, 17.17s/it]"
     ]
    },
    {
     "name": "stdout",
     "output_type": "stream",
     "text": [
      "Saved 11957 rows.\n",
      "\n",
      "Read file 116.\n"
     ]
    },
    {
     "name": "stderr",
     "output_type": "stream",
     "text": [
      "/Users/julialromero/miniconda3/envs/myenv/lib/python3.9/site-packages/geopandas/geoseries.py:207: FutureWarning: The default dtype for empty Series will be 'object' instead of 'float64' in a future version. Specify a dtype explicitly to silence this warning.\n",
      "  s = pd.Series(data, index=index, name=name, **kwargs)\n",
      "\r",
      "117it [40:48, 16.85s/it]"
     ]
    },
    {
     "name": "stdout",
     "output_type": "stream",
     "text": [
      "Saved 11948 rows.\n",
      "\n",
      "Read file 117.\n"
     ]
    },
    {
     "name": "stderr",
     "output_type": "stream",
     "text": [
      "/Users/julialromero/miniconda3/envs/myenv/lib/python3.9/site-packages/geopandas/geoseries.py:207: FutureWarning: The default dtype for empty Series will be 'object' instead of 'float64' in a future version. Specify a dtype explicitly to silence this warning.\n",
      "  s = pd.Series(data, index=index, name=name, **kwargs)\n",
      "\r",
      "118it [41:05, 16.77s/it]"
     ]
    },
    {
     "name": "stdout",
     "output_type": "stream",
     "text": [
      "Saved 11926 rows.\n",
      "\n",
      "Read file 118.\n"
     ]
    },
    {
     "name": "stderr",
     "output_type": "stream",
     "text": [
      "/Users/julialromero/miniconda3/envs/myenv/lib/python3.9/site-packages/geopandas/geoseries.py:207: FutureWarning: The default dtype for empty Series will be 'object' instead of 'float64' in a future version. Specify a dtype explicitly to silence this warning.\n",
      "  s = pd.Series(data, index=index, name=name, **kwargs)\n",
      "\r",
      "119it [41:20, 16.21s/it]"
     ]
    },
    {
     "name": "stdout",
     "output_type": "stream",
     "text": [
      "Saved 12011 rows.\n",
      "\n",
      "Read file 119.\n"
     ]
    },
    {
     "name": "stderr",
     "output_type": "stream",
     "text": [
      "/Users/julialromero/miniconda3/envs/myenv/lib/python3.9/site-packages/geopandas/geoseries.py:207: FutureWarning: The default dtype for empty Series will be 'object' instead of 'float64' in a future version. Specify a dtype explicitly to silence this warning.\n",
      "  s = pd.Series(data, index=index, name=name, **kwargs)\n",
      "120it [41:39, 20.83s/it]\n",
      "0it [00:00, ?it/s]"
     ]
    },
    {
     "name": "stdout",
     "output_type": "stream",
     "text": [
      "Saved 11994 rows.\n",
      "--------done: month 11--------\n",
      "\n",
      "Read file 0.\n"
     ]
    },
    {
     "name": "stderr",
     "output_type": "stream",
     "text": [
      "/Users/julialromero/miniconda3/envs/myenv/lib/python3.9/site-packages/geopandas/geoseries.py:207: FutureWarning: The default dtype for empty Series will be 'object' instead of 'float64' in a future version. Specify a dtype explicitly to silence this warning.\n",
      "  s = pd.Series(data, index=index, name=name, **kwargs)\n",
      "\r",
      "1it [00:15, 15.99s/it]"
     ]
    },
    {
     "name": "stdout",
     "output_type": "stream",
     "text": [
      "Saved 11582 rows.\n",
      "\n",
      "Read file 1.\n"
     ]
    },
    {
     "name": "stderr",
     "output_type": "stream",
     "text": [
      "/Users/julialromero/miniconda3/envs/myenv/lib/python3.9/site-packages/geopandas/geoseries.py:207: FutureWarning: The default dtype for empty Series will be 'object' instead of 'float64' in a future version. Specify a dtype explicitly to silence this warning.\n",
      "  s = pd.Series(data, index=index, name=name, **kwargs)\n",
      "\r",
      "2it [00:32, 16.19s/it]"
     ]
    },
    {
     "name": "stdout",
     "output_type": "stream",
     "text": [
      "Saved 11383 rows.\n",
      "\n",
      "Read file 2.\n"
     ]
    },
    {
     "name": "stderr",
     "output_type": "stream",
     "text": [
      "/Users/julialromero/miniconda3/envs/myenv/lib/python3.9/site-packages/geopandas/geoseries.py:207: FutureWarning: The default dtype for empty Series will be 'object' instead of 'float64' in a future version. Specify a dtype explicitly to silence this warning.\n",
      "  s = pd.Series(data, index=index, name=name, **kwargs)\n",
      "\r",
      "3it [00:48, 16.09s/it]"
     ]
    },
    {
     "name": "stdout",
     "output_type": "stream",
     "text": [
      "Saved 11507 rows.\n",
      "\n",
      "Read file 3.\n"
     ]
    },
    {
     "name": "stderr",
     "output_type": "stream",
     "text": [
      "/Users/julialromero/miniconda3/envs/myenv/lib/python3.9/site-packages/geopandas/geoseries.py:207: FutureWarning: The default dtype for empty Series will be 'object' instead of 'float64' in a future version. Specify a dtype explicitly to silence this warning.\n",
      "  s = pd.Series(data, index=index, name=name, **kwargs)\n",
      "\r",
      "4it [01:04, 15.96s/it]"
     ]
    },
    {
     "name": "stdout",
     "output_type": "stream",
     "text": [
      "Saved 11506 rows.\n",
      "\n",
      "Read file 4.\n"
     ]
    },
    {
     "name": "stderr",
     "output_type": "stream",
     "text": [
      "/Users/julialromero/miniconda3/envs/myenv/lib/python3.9/site-packages/geopandas/geoseries.py:207: FutureWarning: The default dtype for empty Series will be 'object' instead of 'float64' in a future version. Specify a dtype explicitly to silence this warning.\n",
      "  s = pd.Series(data, index=index, name=name, **kwargs)\n",
      "\r",
      "5it [01:20, 15.96s/it]"
     ]
    },
    {
     "name": "stdout",
     "output_type": "stream",
     "text": [
      "Saved 11491 rows.\n",
      "\n",
      "Read file 5.\n"
     ]
    },
    {
     "name": "stderr",
     "output_type": "stream",
     "text": [
      "/Users/julialromero/miniconda3/envs/myenv/lib/python3.9/site-packages/geopandas/geoseries.py:207: FutureWarning: The default dtype for empty Series will be 'object' instead of 'float64' in a future version. Specify a dtype explicitly to silence this warning.\n",
      "  s = pd.Series(data, index=index, name=name, **kwargs)\n",
      "\r",
      "6it [01:59, 23.88s/it]"
     ]
    },
    {
     "name": "stdout",
     "output_type": "stream",
     "text": [
      "Saved 11411 rows.\n",
      "\n",
      "Read file 6.\n"
     ]
    },
    {
     "name": "stderr",
     "output_type": "stream",
     "text": [
      "/Users/julialromero/miniconda3/envs/myenv/lib/python3.9/site-packages/geopandas/geoseries.py:207: FutureWarning: The default dtype for empty Series will be 'object' instead of 'float64' in a future version. Specify a dtype explicitly to silence this warning.\n",
      "  s = pd.Series(data, index=index, name=name, **kwargs)\n",
      "\r",
      "7it [02:16, 21.65s/it]"
     ]
    },
    {
     "name": "stdout",
     "output_type": "stream",
     "text": [
      "Saved 11805 rows.\n",
      "\n",
      "Read file 7.\n"
     ]
    },
    {
     "name": "stderr",
     "output_type": "stream",
     "text": [
      "/Users/julialromero/miniconda3/envs/myenv/lib/python3.9/site-packages/geopandas/geoseries.py:207: FutureWarning: The default dtype for empty Series will be 'object' instead of 'float64' in a future version. Specify a dtype explicitly to silence this warning.\n",
      "  s = pd.Series(data, index=index, name=name, **kwargs)\n",
      "\r",
      "8it [02:32, 19.78s/it]"
     ]
    },
    {
     "name": "stdout",
     "output_type": "stream",
     "text": [
      "Saved 11583 rows.\n",
      "\n",
      "Read file 8.\n",
      "CBG length incorrect: CA:59150078\n"
     ]
    },
    {
     "name": "stderr",
     "output_type": "stream",
     "text": [
      "/Users/julialromero/miniconda3/envs/myenv/lib/python3.9/site-packages/geopandas/geoseries.py:207: FutureWarning: The default dtype for empty Series will be 'object' instead of 'float64' in a future version. Specify a dtype explicitly to silence this warning.\n",
      "  s = pd.Series(data, index=index, name=name, **kwargs)\n",
      "\r",
      "9it [03:01, 22.67s/it]"
     ]
    },
    {
     "name": "stdout",
     "output_type": "stream",
     "text": [
      "Saved 21798 rows.\n",
      "\n",
      "Read file 9.\n"
     ]
    },
    {
     "name": "stderr",
     "output_type": "stream",
     "text": [
      "/Users/julialromero/miniconda3/envs/myenv/lib/python3.9/site-packages/geopandas/geoseries.py:207: FutureWarning: The default dtype for empty Series will be 'object' instead of 'float64' in a future version. Specify a dtype explicitly to silence this warning.\n",
      "  s = pd.Series(data, index=index, name=name, **kwargs)\n",
      "\r",
      "10it [03:17, 20.81s/it]"
     ]
    },
    {
     "name": "stdout",
     "output_type": "stream",
     "text": [
      "Saved 11535 rows.\n",
      "\n",
      "Read file 10.\n"
     ]
    },
    {
     "name": "stderr",
     "output_type": "stream",
     "text": [
      "/Users/julialromero/miniconda3/envs/myenv/lib/python3.9/site-packages/geopandas/geoseries.py:207: FutureWarning: The default dtype for empty Series will be 'object' instead of 'float64' in a future version. Specify a dtype explicitly to silence this warning.\n",
      "  s = pd.Series(data, index=index, name=name, **kwargs)\n",
      "\r",
      "11it [03:35, 19.98s/it]"
     ]
    },
    {
     "name": "stdout",
     "output_type": "stream",
     "text": [
      "Saved 11456 rows.\n",
      "\n",
      "Read file 11.\n"
     ]
    },
    {
     "name": "stderr",
     "output_type": "stream",
     "text": [
      "/Users/julialromero/miniconda3/envs/myenv/lib/python3.9/site-packages/geopandas/geoseries.py:207: FutureWarning: The default dtype for empty Series will be 'object' instead of 'float64' in a future version. Specify a dtype explicitly to silence this warning.\n",
      "  s = pd.Series(data, index=index, name=name, **kwargs)\n",
      "\r",
      "12it [03:53, 19.15s/it]"
     ]
    },
    {
     "name": "stdout",
     "output_type": "stream",
     "text": [
      "Saved 11582 rows.\n",
      "\n",
      "Read file 12.\n"
     ]
    },
    {
     "name": "stderr",
     "output_type": "stream",
     "text": [
      "/Users/julialromero/miniconda3/envs/myenv/lib/python3.9/site-packages/geopandas/geoseries.py:207: FutureWarning: The default dtype for empty Series will be 'object' instead of 'float64' in a future version. Specify a dtype explicitly to silence this warning.\n",
      "  s = pd.Series(data, index=index, name=name, **kwargs)\n",
      "\r",
      "13it [04:08, 18.05s/it]"
     ]
    },
    {
     "name": "stdout",
     "output_type": "stream",
     "text": [
      "Saved 11321 rows.\n",
      "\n",
      "Read file 13.\n"
     ]
    },
    {
     "name": "stderr",
     "output_type": "stream",
     "text": [
      "/Users/julialromero/miniconda3/envs/myenv/lib/python3.9/site-packages/geopandas/array.py:275: ShapelyDeprecationWarning: The array interface is deprecated and will no longer work in Shapely 2.0. Convert the '.coords' to a numpy array instead.\n",
      "  return GeometryArray(vectorized.points_from_xy(x, y, z), crs=crs)\n",
      "/var/folders/b6/qqcnr7cj16sd1r0nn3p4f_sw0000gn/T/ipykernel_89502/3658352350.py:20: SettingWithCopyWarning: \n",
      "A value is trying to be set on a copy of a slice from a DataFrame.\n",
      "Try using .loc[row_indexer,col_indexer] = value instead\n",
      "\n",
      "See the caveats in the documentation: https://pandas.pydata.org/pandas-docs/stable/user_guide/indexing.html#returning-a-view-versus-a-copy\n",
      "  cp['GEOID'] = points.apply(lambda p: get_tract_num(tract_data, p))\n",
      "\r",
      "14it [04:25, 17.57s/it]"
     ]
    },
    {
     "name": "stdout",
     "output_type": "stream",
     "text": [
      "Saved 11480 rows.\n",
      "\n",
      "Read file 14.\n"
     ]
    },
    {
     "name": "stderr",
     "output_type": "stream",
     "text": [
      "/Users/julialromero/miniconda3/envs/myenv/lib/python3.9/site-packages/geopandas/geoseries.py:207: FutureWarning: The default dtype for empty Series will be 'object' instead of 'float64' in a future version. Specify a dtype explicitly to silence this warning.\n",
      "  s = pd.Series(data, index=index, name=name, **kwargs)\n",
      "\r",
      "15it [04:41, 17.18s/it]"
     ]
    },
    {
     "name": "stdout",
     "output_type": "stream",
     "text": [
      "Saved 11539 rows.\n",
      "\n",
      "Read file 15.\n"
     ]
    },
    {
     "name": "stderr",
     "output_type": "stream",
     "text": [
      "/Users/julialromero/miniconda3/envs/myenv/lib/python3.9/site-packages/geopandas/geoseries.py:207: FutureWarning: The default dtype for empty Series will be 'object' instead of 'float64' in a future version. Specify a dtype explicitly to silence this warning.\n",
      "  s = pd.Series(data, index=index, name=name, **kwargs)\n",
      "\r",
      "16it [04:57, 16.96s/it]"
     ]
    },
    {
     "name": "stdout",
     "output_type": "stream",
     "text": [
      "Saved 11618 rows.\n",
      "\n",
      "Read file 16.\n"
     ]
    },
    {
     "name": "stderr",
     "output_type": "stream",
     "text": [
      "/Users/julialromero/miniconda3/envs/myenv/lib/python3.9/site-packages/geopandas/geoseries.py:207: FutureWarning: The default dtype for empty Series will be 'object' instead of 'float64' in a future version. Specify a dtype explicitly to silence this warning.\n",
      "  s = pd.Series(data, index=index, name=name, **kwargs)\n",
      "\r",
      "17it [05:13, 16.66s/it]"
     ]
    },
    {
     "name": "stdout",
     "output_type": "stream",
     "text": [
      "Saved 11677 rows.\n",
      "\n",
      "Read file 17.\n"
     ]
    },
    {
     "name": "stderr",
     "output_type": "stream",
     "text": [
      "/Users/julialromero/miniconda3/envs/myenv/lib/python3.9/site-packages/geopandas/geoseries.py:207: FutureWarning: The default dtype for empty Series will be 'object' instead of 'float64' in a future version. Specify a dtype explicitly to silence this warning.\n",
      "  s = pd.Series(data, index=index, name=name, **kwargs)\n",
      "\r",
      "18it [05:29, 16.42s/it]"
     ]
    },
    {
     "name": "stdout",
     "output_type": "stream",
     "text": [
      "Saved 11560 rows.\n",
      "\n",
      "Read file 18.\n"
     ]
    },
    {
     "name": "stderr",
     "output_type": "stream",
     "text": [
      "/Users/julialromero/miniconda3/envs/myenv/lib/python3.9/site-packages/geopandas/geoseries.py:207: FutureWarning: The default dtype for empty Series will be 'object' instead of 'float64' in a future version. Specify a dtype explicitly to silence this warning.\n",
      "  s = pd.Series(data, index=index, name=name, **kwargs)\n",
      "\r",
      "19it [05:45, 16.30s/it]"
     ]
    },
    {
     "name": "stdout",
     "output_type": "stream",
     "text": [
      "Saved 11553 rows.\n",
      "\n",
      "Read file 19.\n"
     ]
    },
    {
     "name": "stderr",
     "output_type": "stream",
     "text": [
      "/Users/julialromero/miniconda3/envs/myenv/lib/python3.9/site-packages/geopandas/geoseries.py:207: FutureWarning: The default dtype for empty Series will be 'object' instead of 'float64' in a future version. Specify a dtype explicitly to silence this warning.\n",
      "  s = pd.Series(data, index=index, name=name, **kwargs)\n",
      "\r",
      "20it [06:05, 17.47s/it]"
     ]
    },
    {
     "name": "stdout",
     "output_type": "stream",
     "text": [
      "Saved 11456 rows.\n",
      "\n",
      "Read file 20.\n"
     ]
    },
    {
     "name": "stderr",
     "output_type": "stream",
     "text": [
      "/Users/julialromero/miniconda3/envs/myenv/lib/python3.9/site-packages/geopandas/geoseries.py:207: FutureWarning: The default dtype for empty Series will be 'object' instead of 'float64' in a future version. Specify a dtype explicitly to silence this warning.\n",
      "  s = pd.Series(data, index=index, name=name, **kwargs)\n",
      "\r",
      "21it [06:22, 17.10s/it]"
     ]
    },
    {
     "name": "stdout",
     "output_type": "stream",
     "text": [
      "Saved 11383 rows.\n",
      "\n",
      "Read file 21.\n"
     ]
    },
    {
     "name": "stderr",
     "output_type": "stream",
     "text": [
      "/Users/julialromero/miniconda3/envs/myenv/lib/python3.9/site-packages/geopandas/geoseries.py:207: FutureWarning: The default dtype for empty Series will be 'object' instead of 'float64' in a future version. Specify a dtype explicitly to silence this warning.\n",
      "  s = pd.Series(data, index=index, name=name, **kwargs)\n",
      "\r",
      "22it [06:50, 20.55s/it]"
     ]
    },
    {
     "name": "stdout",
     "output_type": "stream",
     "text": [
      "Saved 11620 rows.\n",
      "\n",
      "Read file 22.\n"
     ]
    },
    {
     "name": "stderr",
     "output_type": "stream",
     "text": [
      "/Users/julialromero/miniconda3/envs/myenv/lib/python3.9/site-packages/geopandas/geoseries.py:207: FutureWarning: The default dtype for empty Series will be 'object' instead of 'float64' in a future version. Specify a dtype explicitly to silence this warning.\n",
      "  s = pd.Series(data, index=index, name=name, **kwargs)\n",
      "\r",
      "23it [07:08, 19.76s/it]"
     ]
    },
    {
     "name": "stdout",
     "output_type": "stream",
     "text": [
      "Saved 11395 rows.\n",
      "\n",
      "Read file 23.\n"
     ]
    },
    {
     "name": "stderr",
     "output_type": "stream",
     "text": [
      "/Users/julialromero/miniconda3/envs/myenv/lib/python3.9/site-packages/geopandas/geoseries.py:207: FutureWarning: The default dtype for empty Series will be 'object' instead of 'float64' in a future version. Specify a dtype explicitly to silence this warning.\n",
      "  s = pd.Series(data, index=index, name=name, **kwargs)\n",
      "\r",
      "24it [07:35, 21.95s/it]"
     ]
    },
    {
     "name": "stdout",
     "output_type": "stream",
     "text": [
      "Saved 11624 rows.\n",
      "\n",
      "Read file 24.\n"
     ]
    },
    {
     "name": "stderr",
     "output_type": "stream",
     "text": [
      "/Users/julialromero/miniconda3/envs/myenv/lib/python3.9/site-packages/geopandas/geoseries.py:207: FutureWarning: The default dtype for empty Series will be 'object' instead of 'float64' in a future version. Specify a dtype explicitly to silence this warning.\n",
      "  s = pd.Series(data, index=index, name=name, **kwargs)\n",
      "\r",
      "25it [07:51, 20.05s/it]"
     ]
    },
    {
     "name": "stdout",
     "output_type": "stream",
     "text": [
      "Saved 11447 rows.\n",
      "\n",
      "Read file 25.\n"
     ]
    },
    {
     "name": "stderr",
     "output_type": "stream",
     "text": [
      "/Users/julialromero/miniconda3/envs/myenv/lib/python3.9/site-packages/geopandas/geoseries.py:207: FutureWarning: The default dtype for empty Series will be 'object' instead of 'float64' in a future version. Specify a dtype explicitly to silence this warning.\n",
      "  s = pd.Series(data, index=index, name=name, **kwargs)\n",
      "\r",
      "26it [08:07, 18.98s/it]"
     ]
    },
    {
     "name": "stdout",
     "output_type": "stream",
     "text": [
      "Saved 11521 rows.\n",
      "\n",
      "Read file 26.\n"
     ]
    },
    {
     "name": "stderr",
     "output_type": "stream",
     "text": [
      "/Users/julialromero/miniconda3/envs/myenv/lib/python3.9/site-packages/geopandas/geoseries.py:207: FutureWarning: The default dtype for empty Series will be 'object' instead of 'float64' in a future version. Specify a dtype explicitly to silence this warning.\n",
      "  s = pd.Series(data, index=index, name=name, **kwargs)\n",
      "\r",
      "27it [08:26, 18.84s/it]"
     ]
    },
    {
     "name": "stdout",
     "output_type": "stream",
     "text": [
      "Saved 11630 rows.\n",
      "\n",
      "Read file 27.\n"
     ]
    },
    {
     "name": "stderr",
     "output_type": "stream",
     "text": [
      "/Users/julialromero/miniconda3/envs/myenv/lib/python3.9/site-packages/geopandas/geoseries.py:207: FutureWarning: The default dtype for empty Series will be 'object' instead of 'float64' in a future version. Specify a dtype explicitly to silence this warning.\n",
      "  s = pd.Series(data, index=index, name=name, **kwargs)\n",
      "\r",
      "28it [08:42, 18.03s/it]"
     ]
    },
    {
     "name": "stdout",
     "output_type": "stream",
     "text": [
      "Saved 11736 rows.\n",
      "\n",
      "Read file 28.\n"
     ]
    },
    {
     "name": "stderr",
     "output_type": "stream",
     "text": [
      "/Users/julialromero/miniconda3/envs/myenv/lib/python3.9/site-packages/geopandas/geoseries.py:207: FutureWarning: The default dtype for empty Series will be 'object' instead of 'float64' in a future version. Specify a dtype explicitly to silence this warning.\n",
      "  s = pd.Series(data, index=index, name=name, **kwargs)\n",
      "\r",
      "29it [09:18, 23.51s/it]"
     ]
    },
    {
     "name": "stdout",
     "output_type": "stream",
     "text": [
      "Saved 11498 rows.\n",
      "\n",
      "Read file 29.\n"
     ]
    },
    {
     "name": "stderr",
     "output_type": "stream",
     "text": [
      "/Users/julialromero/miniconda3/envs/myenv/lib/python3.9/site-packages/geopandas/geoseries.py:207: FutureWarning: The default dtype for empty Series will be 'object' instead of 'float64' in a future version. Specify a dtype explicitly to silence this warning.\n",
      "  s = pd.Series(data, index=index, name=name, **kwargs)\n",
      "\r",
      "30it [09:34, 21.33s/it]"
     ]
    },
    {
     "name": "stdout",
     "output_type": "stream",
     "text": [
      "Saved 11884 rows.\n",
      "\n",
      "Read file 30.\n"
     ]
    },
    {
     "name": "stderr",
     "output_type": "stream",
     "text": [
      "/Users/julialromero/miniconda3/envs/myenv/lib/python3.9/site-packages/geopandas/geoseries.py:207: FutureWarning: The default dtype for empty Series will be 'object' instead of 'float64' in a future version. Specify a dtype explicitly to silence this warning.\n",
      "  s = pd.Series(data, index=index, name=name, **kwargs)\n",
      "\r",
      "31it [09:52, 20.09s/it]"
     ]
    },
    {
     "name": "stdout",
     "output_type": "stream",
     "text": [
      "Saved 11730 rows.\n",
      "\n",
      "Read file 31.\n"
     ]
    },
    {
     "name": "stderr",
     "output_type": "stream",
     "text": [
      "/Users/julialromero/miniconda3/envs/myenv/lib/python3.9/site-packages/geopandas/geoseries.py:207: FutureWarning: The default dtype for empty Series will be 'object' instead of 'float64' in a future version. Specify a dtype explicitly to silence this warning.\n",
      "  s = pd.Series(data, index=index, name=name, **kwargs)\n",
      "\r",
      "32it [10:11, 19.83s/it]"
     ]
    },
    {
     "name": "stdout",
     "output_type": "stream",
     "text": [
      "Saved 13481 rows.\n",
      "\n",
      "Read file 32.\n"
     ]
    },
    {
     "name": "stderr",
     "output_type": "stream",
     "text": [
      "/Users/julialromero/miniconda3/envs/myenv/lib/python3.9/site-packages/geopandas/geoseries.py:207: FutureWarning: The default dtype for empty Series will be 'object' instead of 'float64' in a future version. Specify a dtype explicitly to silence this warning.\n",
      "  s = pd.Series(data, index=index, name=name, **kwargs)\n",
      "\r",
      "33it [10:39, 22.30s/it]"
     ]
    },
    {
     "name": "stdout",
     "output_type": "stream",
     "text": [
      "CBG length incorrect: CA:59150078\n",
      "Saved 11565 rows.\n",
      "\n",
      "Read file 33.\n"
     ]
    },
    {
     "name": "stderr",
     "output_type": "stream",
     "text": [
      "/Users/julialromero/miniconda3/envs/myenv/lib/python3.9/site-packages/geopandas/geoseries.py:207: FutureWarning: The default dtype for empty Series will be 'object' instead of 'float64' in a future version. Specify a dtype explicitly to silence this warning.\n",
      "  s = pd.Series(data, index=index, name=name, **kwargs)\n",
      "\r",
      "34it [10:55, 20.52s/it]"
     ]
    },
    {
     "name": "stdout",
     "output_type": "stream",
     "text": [
      "Saved 11802 rows.\n",
      "\n",
      "Read file 34.\n"
     ]
    },
    {
     "name": "stderr",
     "output_type": "stream",
     "text": [
      "/Users/julialromero/miniconda3/envs/myenv/lib/python3.9/site-packages/geopandas/geoseries.py:207: FutureWarning: The default dtype for empty Series will be 'object' instead of 'float64' in a future version. Specify a dtype explicitly to silence this warning.\n",
      "  s = pd.Series(data, index=index, name=name, **kwargs)\n",
      "\r",
      "35it [11:12, 19.50s/it]"
     ]
    },
    {
     "name": "stdout",
     "output_type": "stream",
     "text": [
      "Saved 11498 rows.\n",
      "\n",
      "Read file 35.\n"
     ]
    },
    {
     "name": "stderr",
     "output_type": "stream",
     "text": [
      "/Users/julialromero/miniconda3/envs/myenv/lib/python3.9/site-packages/geopandas/geoseries.py:207: FutureWarning: The default dtype for empty Series will be 'object' instead of 'float64' in a future version. Specify a dtype explicitly to silence this warning.\n",
      "  s = pd.Series(data, index=index, name=name, **kwargs)\n",
      "\r",
      "36it [11:31, 19.28s/it]"
     ]
    },
    {
     "name": "stdout",
     "output_type": "stream",
     "text": [
      "Saved 11861 rows.\n",
      "\n",
      "Read file 36.\n"
     ]
    },
    {
     "name": "stderr",
     "output_type": "stream",
     "text": [
      "/Users/julialromero/miniconda3/envs/myenv/lib/python3.9/site-packages/geopandas/geoseries.py:207: FutureWarning: The default dtype for empty Series will be 'object' instead of 'float64' in a future version. Specify a dtype explicitly to silence this warning.\n",
      "  s = pd.Series(data, index=index, name=name, **kwargs)\n",
      "\r",
      "37it [11:48, 18.51s/it]"
     ]
    },
    {
     "name": "stdout",
     "output_type": "stream",
     "text": [
      "Saved 11411 rows.\n",
      "\n",
      "Read file 37.\n"
     ]
    },
    {
     "name": "stderr",
     "output_type": "stream",
     "text": [
      "/Users/julialromero/miniconda3/envs/myenv/lib/python3.9/site-packages/geopandas/array.py:275: ShapelyDeprecationWarning: The array interface is deprecated and will no longer work in Shapely 2.0. Convert the '.coords' to a numpy array instead.\n",
      "  return GeometryArray(vectorized.points_from_xy(x, y, z), crs=crs)\n",
      "/var/folders/b6/qqcnr7cj16sd1r0nn3p4f_sw0000gn/T/ipykernel_89502/3658352350.py:20: SettingWithCopyWarning: \n",
      "A value is trying to be set on a copy of a slice from a DataFrame.\n",
      "Try using .loc[row_indexer,col_indexer] = value instead\n",
      "\n",
      "See the caveats in the documentation: https://pandas.pydata.org/pandas-docs/stable/user_guide/indexing.html#returning-a-view-versus-a-copy\n",
      "  cp['GEOID'] = points.apply(lambda p: get_tract_num(tract_data, p))\n",
      "\r",
      "38it [12:16, 21.41s/it]"
     ]
    },
    {
     "name": "stdout",
     "output_type": "stream",
     "text": [
      "Saved 11684 rows.\n",
      "\n",
      "Read file 38.\n"
     ]
    },
    {
     "name": "stderr",
     "output_type": "stream",
     "text": [
      "/Users/julialromero/miniconda3/envs/myenv/lib/python3.9/site-packages/geopandas/geoseries.py:207: FutureWarning: The default dtype for empty Series will be 'object' instead of 'float64' in a future version. Specify a dtype explicitly to silence this warning.\n",
      "  s = pd.Series(data, index=index, name=name, **kwargs)\n",
      "\r",
      "39it [12:44, 23.44s/it]"
     ]
    },
    {
     "name": "stdout",
     "output_type": "stream",
     "text": [
      "Saved 11769 rows.\n",
      "\n",
      "Read file 39.\n"
     ]
    },
    {
     "name": "stderr",
     "output_type": "stream",
     "text": [
      "/Users/julialromero/miniconda3/envs/myenv/lib/python3.9/site-packages/geopandas/geoseries.py:207: FutureWarning: The default dtype for empty Series will be 'object' instead of 'float64' in a future version. Specify a dtype explicitly to silence this warning.\n",
      "  s = pd.Series(data, index=index, name=name, **kwargs)\n",
      "\r",
      "40it [13:01, 21.56s/it]"
     ]
    },
    {
     "name": "stdout",
     "output_type": "stream",
     "text": [
      "Saved 11941 rows.\n",
      "\n",
      "Read file 40.\n"
     ]
    },
    {
     "name": "stderr",
     "output_type": "stream",
     "text": [
      "/Users/julialromero/miniconda3/envs/myenv/lib/python3.9/site-packages/geopandas/geoseries.py:207: FutureWarning: The default dtype for empty Series will be 'object' instead of 'float64' in a future version. Specify a dtype explicitly to silence this warning.\n",
      "  s = pd.Series(data, index=index, name=name, **kwargs)\n",
      "\r",
      "41it [13:47, 28.74s/it]"
     ]
    },
    {
     "name": "stdout",
     "output_type": "stream",
     "text": [
      "Saved 11822 rows.\n",
      "\n",
      "Read file 41.\n"
     ]
    },
    {
     "name": "stderr",
     "output_type": "stream",
     "text": [
      "/Users/julialromero/miniconda3/envs/myenv/lib/python3.9/site-packages/geopandas/geoseries.py:207: FutureWarning: The default dtype for empty Series will be 'object' instead of 'float64' in a future version. Specify a dtype explicitly to silence this warning.\n",
      "  s = pd.Series(data, index=index, name=name, **kwargs)\n",
      "\r",
      "42it [14:03, 25.01s/it]"
     ]
    },
    {
     "name": "stdout",
     "output_type": "stream",
     "text": [
      "Saved 11699 rows.\n",
      "\n",
      "Read file 42.\n"
     ]
    },
    {
     "name": "stderr",
     "output_type": "stream",
     "text": [
      "/Users/julialromero/miniconda3/envs/myenv/lib/python3.9/site-packages/geopandas/geoseries.py:207: FutureWarning: The default dtype for empty Series will be 'object' instead of 'float64' in a future version. Specify a dtype explicitly to silence this warning.\n",
      "  s = pd.Series(data, index=index, name=name, **kwargs)\n",
      "\r",
      "43it [14:19, 22.29s/it]"
     ]
    },
    {
     "name": "stdout",
     "output_type": "stream",
     "text": [
      "Saved 11547 rows.\n",
      "\n",
      "Read file 43.\n"
     ]
    },
    {
     "name": "stderr",
     "output_type": "stream",
     "text": [
      "/Users/julialromero/miniconda3/envs/myenv/lib/python3.9/site-packages/geopandas/geoseries.py:207: FutureWarning: The default dtype for empty Series will be 'object' instead of 'float64' in a future version. Specify a dtype explicitly to silence this warning.\n",
      "  s = pd.Series(data, index=index, name=name, **kwargs)\n",
      "\r",
      "44it [14:35, 20.34s/it]"
     ]
    },
    {
     "name": "stdout",
     "output_type": "stream",
     "text": [
      "Saved 11569 rows.\n",
      "\n",
      "Read file 44.\n"
     ]
    },
    {
     "name": "stderr",
     "output_type": "stream",
     "text": [
      "/Users/julialromero/miniconda3/envs/myenv/lib/python3.9/site-packages/geopandas/geoseries.py:207: FutureWarning: The default dtype for empty Series will be 'object' instead of 'float64' in a future version. Specify a dtype explicitly to silence this warning.\n",
      "  s = pd.Series(data, index=index, name=name, **kwargs)\n",
      "\r",
      "45it [15:02, 22.34s/it]"
     ]
    },
    {
     "name": "stdout",
     "output_type": "stream",
     "text": [
      "Saved 11489 rows.\n",
      "\n",
      "Read file 45.\n"
     ]
    },
    {
     "name": "stderr",
     "output_type": "stream",
     "text": [
      "/Users/julialromero/miniconda3/envs/myenv/lib/python3.9/site-packages/geopandas/geoseries.py:207: FutureWarning: The default dtype for empty Series will be 'object' instead of 'float64' in a future version. Specify a dtype explicitly to silence this warning.\n",
      "  s = pd.Series(data, index=index, name=name, **kwargs)\n",
      "\r",
      "46it [15:19, 20.68s/it]"
     ]
    },
    {
     "name": "stdout",
     "output_type": "stream",
     "text": [
      "Saved 11697 rows.\n",
      "\n",
      "Read file 46.\n"
     ]
    },
    {
     "name": "stderr",
     "output_type": "stream",
     "text": [
      "/Users/julialromero/miniconda3/envs/myenv/lib/python3.9/site-packages/geopandas/geoseries.py:207: FutureWarning: The default dtype for empty Series will be 'object' instead of 'float64' in a future version. Specify a dtype explicitly to silence this warning.\n",
      "  s = pd.Series(data, index=index, name=name, **kwargs)\n",
      "\r",
      "47it [16:22, 33.55s/it]"
     ]
    },
    {
     "name": "stdout",
     "output_type": "stream",
     "text": [
      "Saved 11590 rows.\n",
      "\n",
      "Read file 47.\n"
     ]
    },
    {
     "name": "stderr",
     "output_type": "stream",
     "text": [
      "/Users/julialromero/miniconda3/envs/myenv/lib/python3.9/site-packages/geopandas/geoseries.py:207: FutureWarning: The default dtype for empty Series will be 'object' instead of 'float64' in a future version. Specify a dtype explicitly to silence this warning.\n",
      "  s = pd.Series(data, index=index, name=name, **kwargs)\n",
      "\r",
      "48it [16:38, 28.28s/it]"
     ]
    },
    {
     "name": "stdout",
     "output_type": "stream",
     "text": [
      "Saved 11659 rows.\n",
      "\n",
      "Read file 48.\n"
     ]
    },
    {
     "name": "stderr",
     "output_type": "stream",
     "text": [
      "/Users/julialromero/miniconda3/envs/myenv/lib/python3.9/site-packages/geopandas/geoseries.py:207: FutureWarning: The default dtype for empty Series will be 'object' instead of 'float64' in a future version. Specify a dtype explicitly to silence this warning.\n",
      "  s = pd.Series(data, index=index, name=name, **kwargs)\n",
      "\r",
      "49it [17:07, 28.34s/it]"
     ]
    },
    {
     "name": "stdout",
     "output_type": "stream",
     "text": [
      "Saved 11550 rows.\n",
      "\n",
      "Read file 49.\n"
     ]
    },
    {
     "name": "stderr",
     "output_type": "stream",
     "text": [
      "/Users/julialromero/miniconda3/envs/myenv/lib/python3.9/site-packages/geopandas/geoseries.py:207: FutureWarning: The default dtype for empty Series will be 'object' instead of 'float64' in a future version. Specify a dtype explicitly to silence this warning.\n",
      "  s = pd.Series(data, index=index, name=name, **kwargs)\n",
      "\r",
      "50it [17:24, 24.89s/it]"
     ]
    },
    {
     "name": "stdout",
     "output_type": "stream",
     "text": [
      "Saved 11530 rows.\n",
      "\n",
      "Read file 50.\n"
     ]
    },
    {
     "name": "stderr",
     "output_type": "stream",
     "text": [
      "/Users/julialromero/miniconda3/envs/myenv/lib/python3.9/site-packages/geopandas/geoseries.py:207: FutureWarning: The default dtype for empty Series will be 'object' instead of 'float64' in a future version. Specify a dtype explicitly to silence this warning.\n",
      "  s = pd.Series(data, index=index, name=name, **kwargs)\n",
      "\r",
      "51it [17:41, 22.71s/it]"
     ]
    },
    {
     "name": "stdout",
     "output_type": "stream",
     "text": [
      "Saved 11629 rows.\n",
      "\n",
      "Read file 51.\n"
     ]
    },
    {
     "name": "stderr",
     "output_type": "stream",
     "text": [
      "/Users/julialromero/miniconda3/envs/myenv/lib/python3.9/site-packages/geopandas/geoseries.py:207: FutureWarning: The default dtype for empty Series will be 'object' instead of 'float64' in a future version. Specify a dtype explicitly to silence this warning.\n",
      "  s = pd.Series(data, index=index, name=name, **kwargs)\n",
      "\r",
      "52it [17:58, 21.05s/it]"
     ]
    },
    {
     "name": "stdout",
     "output_type": "stream",
     "text": [
      "Saved 11563 rows.\n",
      "\n",
      "Read file 52.\n"
     ]
    },
    {
     "name": "stderr",
     "output_type": "stream",
     "text": [
      "/Users/julialromero/miniconda3/envs/myenv/lib/python3.9/site-packages/geopandas/geoseries.py:207: FutureWarning: The default dtype for empty Series will be 'object' instead of 'float64' in a future version. Specify a dtype explicitly to silence this warning.\n",
      "  s = pd.Series(data, index=index, name=name, **kwargs)\n",
      "\r",
      "53it [18:34, 25.39s/it]"
     ]
    },
    {
     "name": "stdout",
     "output_type": "stream",
     "text": [
      "Saved 11594 rows.\n",
      "\n",
      "Read file 53.\n"
     ]
    },
    {
     "name": "stderr",
     "output_type": "stream",
     "text": [
      "/Users/julialromero/miniconda3/envs/myenv/lib/python3.9/site-packages/geopandas/geoseries.py:207: FutureWarning: The default dtype for empty Series will be 'object' instead of 'float64' in a future version. Specify a dtype explicitly to silence this warning.\n",
      "  s = pd.Series(data, index=index, name=name, **kwargs)\n",
      "\r",
      "54it [18:50, 22.45s/it]"
     ]
    },
    {
     "name": "stdout",
     "output_type": "stream",
     "text": [
      "Saved 11824 rows.\n",
      "\n",
      "Read file 54.\n"
     ]
    },
    {
     "name": "stderr",
     "output_type": "stream",
     "text": [
      "/Users/julialromero/miniconda3/envs/myenv/lib/python3.9/site-packages/geopandas/geoseries.py:207: FutureWarning: The default dtype for empty Series will be 'object' instead of 'float64' in a future version. Specify a dtype explicitly to silence this warning.\n",
      "  s = pd.Series(data, index=index, name=name, **kwargs)\n",
      "\r",
      "55it [19:07, 20.83s/it]"
     ]
    },
    {
     "name": "stdout",
     "output_type": "stream",
     "text": [
      "Saved 11711 rows.\n",
      "\n",
      "Read file 55.\n"
     ]
    },
    {
     "name": "stderr",
     "output_type": "stream",
     "text": [
      "/Users/julialromero/miniconda3/envs/myenv/lib/python3.9/site-packages/geopandas/geoseries.py:207: FutureWarning: The default dtype for empty Series will be 'object' instead of 'float64' in a future version. Specify a dtype explicitly to silence this warning.\n",
      "  s = pd.Series(data, index=index, name=name, **kwargs)\n",
      "\r",
      "56it [19:33, 22.57s/it]"
     ]
    },
    {
     "name": "stdout",
     "output_type": "stream",
     "text": [
      "CBG length incorrect: CA:59150078\n",
      "Saved 18690 rows.\n",
      "\n",
      "Read file 56.\n"
     ]
    },
    {
     "name": "stderr",
     "output_type": "stream",
     "text": [
      "/Users/julialromero/miniconda3/envs/myenv/lib/python3.9/site-packages/geopandas/geoseries.py:207: FutureWarning: The default dtype for empty Series will be 'object' instead of 'float64' in a future version. Specify a dtype explicitly to silence this warning.\n",
      "  s = pd.Series(data, index=index, name=name, **kwargs)\n",
      "\r",
      "57it [19:49, 20.60s/it]"
     ]
    },
    {
     "name": "stdout",
     "output_type": "stream",
     "text": [
      "Saved 11862 rows.\n",
      "\n",
      "Read file 57.\n"
     ]
    },
    {
     "name": "stderr",
     "output_type": "stream",
     "text": [
      "/Users/julialromero/miniconda3/envs/myenv/lib/python3.9/site-packages/geopandas/geoseries.py:207: FutureWarning: The default dtype for empty Series will be 'object' instead of 'float64' in a future version. Specify a dtype explicitly to silence this warning.\n",
      "  s = pd.Series(data, index=index, name=name, **kwargs)\n",
      "\r",
      "58it [20:05, 19.27s/it]"
     ]
    },
    {
     "name": "stdout",
     "output_type": "stream",
     "text": [
      "Saved 11632 rows.\n",
      "\n",
      "Read file 58.\n"
     ]
    },
    {
     "name": "stderr",
     "output_type": "stream",
     "text": [
      "/Users/julialromero/miniconda3/envs/myenv/lib/python3.9/site-packages/geopandas/geoseries.py:207: FutureWarning: The default dtype for empty Series will be 'object' instead of 'float64' in a future version. Specify a dtype explicitly to silence this warning.\n",
      "  s = pd.Series(data, index=index, name=name, **kwargs)\n",
      "\r",
      "59it [20:33, 21.81s/it]"
     ]
    },
    {
     "name": "stdout",
     "output_type": "stream",
     "text": [
      "Saved 11486 rows.\n",
      "\n",
      "Read file 59.\n"
     ]
    },
    {
     "name": "stderr",
     "output_type": "stream",
     "text": [
      "/Users/julialromero/miniconda3/envs/myenv/lib/python3.9/site-packages/geopandas/geoseries.py:207: FutureWarning: The default dtype for empty Series will be 'object' instead of 'float64' in a future version. Specify a dtype explicitly to silence this warning.\n",
      "  s = pd.Series(data, index=index, name=name, **kwargs)\n",
      "\r",
      "60it [20:50, 20.35s/it]"
     ]
    },
    {
     "name": "stdout",
     "output_type": "stream",
     "text": [
      "Saved 11633 rows.\n",
      "\n",
      "Read file 60.\n"
     ]
    },
    {
     "name": "stderr",
     "output_type": "stream",
     "text": [
      "/Users/julialromero/miniconda3/envs/myenv/lib/python3.9/site-packages/geopandas/geoseries.py:207: FutureWarning: The default dtype for empty Series will be 'object' instead of 'float64' in a future version. Specify a dtype explicitly to silence this warning.\n",
      "  s = pd.Series(data, index=index, name=name, **kwargs)\n",
      "\r",
      "61it [21:06, 19.15s/it]"
     ]
    },
    {
     "name": "stdout",
     "output_type": "stream",
     "text": [
      "Saved 11366 rows.\n",
      "\n",
      "Read file 61.\n"
     ]
    },
    {
     "name": "stderr",
     "output_type": "stream",
     "text": [
      "/Users/julialromero/miniconda3/envs/myenv/lib/python3.9/site-packages/geopandas/array.py:275: ShapelyDeprecationWarning: The array interface is deprecated and will no longer work in Shapely 2.0. Convert the '.coords' to a numpy array instead.\n",
      "  return GeometryArray(vectorized.points_from_xy(x, y, z), crs=crs)\n",
      "/var/folders/b6/qqcnr7cj16sd1r0nn3p4f_sw0000gn/T/ipykernel_89502/3658352350.py:20: SettingWithCopyWarning: \n",
      "A value is trying to be set on a copy of a slice from a DataFrame.\n",
      "Try using .loc[row_indexer,col_indexer] = value instead\n",
      "\n",
      "See the caveats in the documentation: https://pandas.pydata.org/pandas-docs/stable/user_guide/indexing.html#returning-a-view-versus-a-copy\n",
      "  cp['GEOID'] = points.apply(lambda p: get_tract_num(tract_data, p))\n",
      "\r",
      "62it [21:26, 19.12s/it]"
     ]
    },
    {
     "name": "stdout",
     "output_type": "stream",
     "text": [
      "Saved 11629 rows.\n",
      "\n",
      "Read file 62.\n"
     ]
    },
    {
     "name": "stderr",
     "output_type": "stream",
     "text": [
      "/Users/julialromero/miniconda3/envs/myenv/lib/python3.9/site-packages/geopandas/geoseries.py:207: FutureWarning: The default dtype for empty Series will be 'object' instead of 'float64' in a future version. Specify a dtype explicitly to silence this warning.\n",
      "  s = pd.Series(data, index=index, name=name, **kwargs)\n",
      "\r",
      "63it [21:41, 18.11s/it]"
     ]
    },
    {
     "name": "stdout",
     "output_type": "stream",
     "text": [
      "Saved 11609 rows.\n",
      "\n",
      "Read file 63.\n"
     ]
    },
    {
     "name": "stderr",
     "output_type": "stream",
     "text": [
      "/Users/julialromero/miniconda3/envs/myenv/lib/python3.9/site-packages/geopandas/geoseries.py:207: FutureWarning: The default dtype for empty Series will be 'object' instead of 'float64' in a future version. Specify a dtype explicitly to silence this warning.\n",
      "  s = pd.Series(data, index=index, name=name, **kwargs)\n",
      "\r",
      "64it [22:09, 21.13s/it]"
     ]
    },
    {
     "name": "stdout",
     "output_type": "stream",
     "text": [
      "Saved 11786 rows.\n",
      "\n",
      "Read file 64.\n"
     ]
    },
    {
     "name": "stderr",
     "output_type": "stream",
     "text": [
      "/Users/julialromero/miniconda3/envs/myenv/lib/python3.9/site-packages/geopandas/geoseries.py:207: FutureWarning: The default dtype for empty Series will be 'object' instead of 'float64' in a future version. Specify a dtype explicitly to silence this warning.\n",
      "  s = pd.Series(data, index=index, name=name, **kwargs)\n",
      "\r",
      "65it [22:26, 19.86s/it]"
     ]
    },
    {
     "name": "stdout",
     "output_type": "stream",
     "text": [
      "Saved 11673 rows.\n",
      "\n",
      "Read file 65.\n"
     ]
    },
    {
     "name": "stderr",
     "output_type": "stream",
     "text": [
      "/Users/julialromero/miniconda3/envs/myenv/lib/python3.9/site-packages/geopandas/geoseries.py:207: FutureWarning: The default dtype for empty Series will be 'object' instead of 'float64' in a future version. Specify a dtype explicitly to silence this warning.\n",
      "  s = pd.Series(data, index=index, name=name, **kwargs)\n",
      "\r",
      "66it [22:42, 18.62s/it]"
     ]
    },
    {
     "name": "stdout",
     "output_type": "stream",
     "text": [
      "Saved 11647 rows.\n",
      "\n",
      "Read file 66.\n"
     ]
    },
    {
     "name": "stderr",
     "output_type": "stream",
     "text": [
      "/Users/julialromero/miniconda3/envs/myenv/lib/python3.9/site-packages/geopandas/geoseries.py:207: FutureWarning: The default dtype for empty Series will be 'object' instead of 'float64' in a future version. Specify a dtype explicitly to silence this warning.\n",
      "  s = pd.Series(data, index=index, name=name, **kwargs)\n",
      "\r",
      "67it [22:58, 17.69s/it]"
     ]
    },
    {
     "name": "stdout",
     "output_type": "stream",
     "text": [
      "Saved 11581 rows.\n",
      "\n",
      "Read file 67.\n"
     ]
    },
    {
     "name": "stderr",
     "output_type": "stream",
     "text": [
      "/Users/julialromero/miniconda3/envs/myenv/lib/python3.9/site-packages/geopandas/geoseries.py:207: FutureWarning: The default dtype for empty Series will be 'object' instead of 'float64' in a future version. Specify a dtype explicitly to silence this warning.\n",
      "  s = pd.Series(data, index=index, name=name, **kwargs)\n",
      "\r",
      "68it [23:15, 17.53s/it]"
     ]
    },
    {
     "name": "stdout",
     "output_type": "stream",
     "text": [
      "Saved 11506 rows.\n",
      "\n",
      "Read file 68.\n"
     ]
    },
    {
     "name": "stderr",
     "output_type": "stream",
     "text": [
      "/Users/julialromero/miniconda3/envs/myenv/lib/python3.9/site-packages/geopandas/geoseries.py:207: FutureWarning: The default dtype for empty Series will be 'object' instead of 'float64' in a future version. Specify a dtype explicitly to silence this warning.\n",
      "  s = pd.Series(data, index=index, name=name, **kwargs)\n",
      "\r",
      "69it [23:32, 17.31s/it]"
     ]
    },
    {
     "name": "stdout",
     "output_type": "stream",
     "text": [
      "Saved 11570 rows.\n",
      "\n",
      "Read file 69.\n"
     ]
    },
    {
     "name": "stderr",
     "output_type": "stream",
     "text": [
      "/Users/julialromero/miniconda3/envs/myenv/lib/python3.9/site-packages/geopandas/geoseries.py:207: FutureWarning: The default dtype for empty Series will be 'object' instead of 'float64' in a future version. Specify a dtype explicitly to silence this warning.\n",
      "  s = pd.Series(data, index=index, name=name, **kwargs)\n",
      "\r",
      "70it [23:48, 17.00s/it]"
     ]
    },
    {
     "name": "stdout",
     "output_type": "stream",
     "text": [
      "Saved 11528 rows.\n",
      "\n",
      "Read file 70.\n"
     ]
    },
    {
     "name": "stderr",
     "output_type": "stream",
     "text": [
      "/Users/julialromero/miniconda3/envs/myenv/lib/python3.9/site-packages/geopandas/geoseries.py:207: FutureWarning: The default dtype for empty Series will be 'object' instead of 'float64' in a future version. Specify a dtype explicitly to silence this warning.\n",
      "  s = pd.Series(data, index=index, name=name, **kwargs)\n",
      "\r",
      "71it [24:04, 16.86s/it]"
     ]
    },
    {
     "name": "stdout",
     "output_type": "stream",
     "text": [
      "Saved 11592 rows.\n",
      "\n",
      "Read file 71.\n"
     ]
    },
    {
     "name": "stderr",
     "output_type": "stream",
     "text": [
      "/Users/julialromero/miniconda3/envs/myenv/lib/python3.9/site-packages/geopandas/geoseries.py:207: FutureWarning: The default dtype for empty Series will be 'object' instead of 'float64' in a future version. Specify a dtype explicitly to silence this warning.\n",
      "  s = pd.Series(data, index=index, name=name, **kwargs)\n",
      "\r",
      "72it [24:22, 17.21s/it]"
     ]
    },
    {
     "name": "stdout",
     "output_type": "stream",
     "text": [
      "Saved 11736 rows.\n",
      "\n",
      "Read file 72.\n"
     ]
    },
    {
     "name": "stderr",
     "output_type": "stream",
     "text": [
      "/Users/julialromero/miniconda3/envs/myenv/lib/python3.9/site-packages/geopandas/geoseries.py:207: FutureWarning: The default dtype for empty Series will be 'object' instead of 'float64' in a future version. Specify a dtype explicitly to silence this warning.\n",
      "  s = pd.Series(data, index=index, name=name, **kwargs)\n",
      "\r",
      "73it [24:50, 20.48s/it]"
     ]
    },
    {
     "name": "stdout",
     "output_type": "stream",
     "text": [
      "Saved 11612 rows.\n",
      "\n",
      "Read file 73.\n"
     ]
    },
    {
     "name": "stderr",
     "output_type": "stream",
     "text": [
      "/Users/julialromero/miniconda3/envs/myenv/lib/python3.9/site-packages/geopandas/geoseries.py:207: FutureWarning: The default dtype for empty Series will be 'object' instead of 'float64' in a future version. Specify a dtype explicitly to silence this warning.\n",
      "  s = pd.Series(data, index=index, name=name, **kwargs)\n",
      "\r",
      "74it [25:15, 21.56s/it]"
     ]
    },
    {
     "name": "stdout",
     "output_type": "stream",
     "text": [
      "Saved 11673 rows.\n",
      "\n",
      "Read file 74.\n"
     ]
    },
    {
     "name": "stderr",
     "output_type": "stream",
     "text": [
      "/Users/julialromero/miniconda3/envs/myenv/lib/python3.9/site-packages/geopandas/geoseries.py:207: FutureWarning: The default dtype for empty Series will be 'object' instead of 'float64' in a future version. Specify a dtype explicitly to silence this warning.\n",
      "  s = pd.Series(data, index=index, name=name, **kwargs)\n",
      "\r",
      "75it [25:33, 20.78s/it]"
     ]
    },
    {
     "name": "stdout",
     "output_type": "stream",
     "text": [
      "Saved 11719 rows.\n",
      "\n",
      "Read file 75.\n"
     ]
    },
    {
     "name": "stderr",
     "output_type": "stream",
     "text": [
      "/Users/julialromero/miniconda3/envs/myenv/lib/python3.9/site-packages/geopandas/geoseries.py:207: FutureWarning: The default dtype for empty Series will be 'object' instead of 'float64' in a future version. Specify a dtype explicitly to silence this warning.\n",
      "  s = pd.Series(data, index=index, name=name, **kwargs)\n",
      "\r",
      "76it [25:51, 19.69s/it]"
     ]
    },
    {
     "name": "stdout",
     "output_type": "stream",
     "text": [
      "Saved 11723 rows.\n",
      "\n",
      "Read file 76.\n"
     ]
    },
    {
     "name": "stderr",
     "output_type": "stream",
     "text": [
      "/Users/julialromero/miniconda3/envs/myenv/lib/python3.9/site-packages/geopandas/geoseries.py:207: FutureWarning: The default dtype for empty Series will be 'object' instead of 'float64' in a future version. Specify a dtype explicitly to silence this warning.\n",
      "  s = pd.Series(data, index=index, name=name, **kwargs)\n",
      "\r",
      "77it [26:11, 19.80s/it]"
     ]
    },
    {
     "name": "stdout",
     "output_type": "stream",
     "text": [
      "Saved 11632 rows.\n",
      "\n",
      "Read file 77.\n"
     ]
    },
    {
     "name": "stderr",
     "output_type": "stream",
     "text": [
      "/Users/julialromero/miniconda3/envs/myenv/lib/python3.9/site-packages/geopandas/geoseries.py:207: FutureWarning: The default dtype for empty Series will be 'object' instead of 'float64' in a future version. Specify a dtype explicitly to silence this warning.\n",
      "  s = pd.Series(data, index=index, name=name, **kwargs)\n",
      "\r",
      "78it [26:27, 18.90s/it]"
     ]
    },
    {
     "name": "stdout",
     "output_type": "stream",
     "text": [
      "Saved 11985 rows.\n",
      "\n",
      "Read file 78.\n"
     ]
    },
    {
     "name": "stderr",
     "output_type": "stream",
     "text": [
      "/Users/julialromero/miniconda3/envs/myenv/lib/python3.9/site-packages/geopandas/geoseries.py:207: FutureWarning: The default dtype for empty Series will be 'object' instead of 'float64' in a future version. Specify a dtype explicitly to silence this warning.\n",
      "  s = pd.Series(data, index=index, name=name, **kwargs)\n",
      "79it [26:45, 18.46s/it]"
     ]
    },
    {
     "name": "stdout",
     "output_type": "stream",
     "text": [
      "Saved 11856 rows.\n",
      "\n",
      "Read file 79.\n"
     ]
    },
    {
     "name": "stderr",
     "output_type": "stream",
     "text": [
      "/Users/julialromero/miniconda3/envs/myenv/lib/python3.9/site-packages/geopandas/geoseries.py:207: FutureWarning: The default dtype for empty Series will be 'object' instead of 'float64' in a future version. Specify a dtype explicitly to silence this warning.\n",
      "  s = pd.Series(data, index=index, name=name, **kwargs)\n",
      "\r",
      "80it [27:06, 19.35s/it]"
     ]
    },
    {
     "name": "stdout",
     "output_type": "stream",
     "text": [
      "CBG length incorrect: CA:59150078\n",
      "Saved 14908 rows.\n",
      "\n",
      "Read file 80.\n"
     ]
    },
    {
     "name": "stderr",
     "output_type": "stream",
     "text": [
      "/Users/julialromero/miniconda3/envs/myenv/lib/python3.9/site-packages/geopandas/geoseries.py:207: FutureWarning: The default dtype for empty Series will be 'object' instead of 'float64' in a future version. Specify a dtype explicitly to silence this warning.\n",
      "  s = pd.Series(data, index=index, name=name, **kwargs)\n",
      "\r",
      "81it [27:24, 18.71s/it]"
     ]
    },
    {
     "name": "stdout",
     "output_type": "stream",
     "text": [
      "Saved 11775 rows.\n",
      "\n",
      "Read file 81.\n"
     ]
    },
    {
     "name": "stderr",
     "output_type": "stream",
     "text": [
      "/Users/julialromero/miniconda3/envs/myenv/lib/python3.9/site-packages/geopandas/geoseries.py:207: FutureWarning: The default dtype for empty Series will be 'object' instead of 'float64' in a future version. Specify a dtype explicitly to silence this warning.\n",
      "  s = pd.Series(data, index=index, name=name, **kwargs)\n",
      "\r",
      "82it [27:43, 18.83s/it]"
     ]
    },
    {
     "name": "stdout",
     "output_type": "stream",
     "text": [
      "Saved 11704 rows.\n",
      "\n",
      "Read file 82.\n"
     ]
    },
    {
     "name": "stderr",
     "output_type": "stream",
     "text": [
      "/Users/julialromero/miniconda3/envs/myenv/lib/python3.9/site-packages/geopandas/geoseries.py:207: FutureWarning: The default dtype for empty Series will be 'object' instead of 'float64' in a future version. Specify a dtype explicitly to silence this warning.\n",
      "  s = pd.Series(data, index=index, name=name, **kwargs)\n",
      "\r",
      "83it [27:59, 18.19s/it]"
     ]
    },
    {
     "name": "stdout",
     "output_type": "stream",
     "text": [
      "Saved 11580 rows.\n",
      "\n",
      "Read file 83.\n"
     ]
    },
    {
     "name": "stderr",
     "output_type": "stream",
     "text": [
      "/Users/julialromero/miniconda3/envs/myenv/lib/python3.9/site-packages/geopandas/geoseries.py:207: FutureWarning: The default dtype for empty Series will be 'object' instead of 'float64' in a future version. Specify a dtype explicitly to silence this warning.\n",
      "  s = pd.Series(data, index=index, name=name, **kwargs)\n",
      "\r",
      "84it [28:17, 17.99s/it]"
     ]
    },
    {
     "name": "stdout",
     "output_type": "stream",
     "text": [
      "Saved 11823 rows.\n",
      "\n",
      "Read file 84.\n"
     ]
    },
    {
     "name": "stderr",
     "output_type": "stream",
     "text": [
      "/Users/julialromero/miniconda3/envs/myenv/lib/python3.9/site-packages/geopandas/geoseries.py:207: FutureWarning: The default dtype for empty Series will be 'object' instead of 'float64' in a future version. Specify a dtype explicitly to silence this warning.\n",
      "  s = pd.Series(data, index=index, name=name, **kwargs)\n",
      "\r",
      "85it [28:49, 22.12s/it]"
     ]
    },
    {
     "name": "stdout",
     "output_type": "stream",
     "text": [
      "Saved 11440 rows.\n",
      "\n",
      "Read file 85.\n"
     ]
    },
    {
     "name": "stderr",
     "output_type": "stream",
     "text": [
      "/Users/julialromero/miniconda3/envs/myenv/lib/python3.9/site-packages/geopandas/array.py:275: ShapelyDeprecationWarning: The array interface is deprecated and will no longer work in Shapely 2.0. Convert the '.coords' to a numpy array instead.\n",
      "  return GeometryArray(vectorized.points_from_xy(x, y, z), crs=crs)\n",
      "/var/folders/b6/qqcnr7cj16sd1r0nn3p4f_sw0000gn/T/ipykernel_89502/3658352350.py:20: SettingWithCopyWarning: \n",
      "A value is trying to be set on a copy of a slice from a DataFrame.\n",
      "Try using .loc[row_indexer,col_indexer] = value instead\n",
      "\n",
      "See the caveats in the documentation: https://pandas.pydata.org/pandas-docs/stable/user_guide/indexing.html#returning-a-view-versus-a-copy\n",
      "  cp['GEOID'] = points.apply(lambda p: get_tract_num(tract_data, p))\n",
      "\r",
      "86it [29:21, 25.19s/it]"
     ]
    },
    {
     "name": "stdout",
     "output_type": "stream",
     "text": [
      "Saved 11649 rows.\n",
      "\n",
      "Read file 86.\n"
     ]
    },
    {
     "name": "stderr",
     "output_type": "stream",
     "text": [
      "/Users/julialromero/miniconda3/envs/myenv/lib/python3.9/site-packages/geopandas/geoseries.py:207: FutureWarning: The default dtype for empty Series will be 'object' instead of 'float64' in a future version. Specify a dtype explicitly to silence this warning.\n",
      "  s = pd.Series(data, index=index, name=name, **kwargs)\n",
      "\r",
      "87it [29:39, 22.96s/it]"
     ]
    },
    {
     "name": "stdout",
     "output_type": "stream",
     "text": [
      "Saved 11744 rows.\n",
      "\n",
      "Read file 87.\n"
     ]
    },
    {
     "name": "stderr",
     "output_type": "stream",
     "text": [
      "/Users/julialromero/miniconda3/envs/myenv/lib/python3.9/site-packages/geopandas/geoseries.py:207: FutureWarning: The default dtype for empty Series will be 'object' instead of 'float64' in a future version. Specify a dtype explicitly to silence this warning.\n",
      "  s = pd.Series(data, index=index, name=name, **kwargs)\n",
      "\r",
      "88it [29:56, 21.16s/it]"
     ]
    },
    {
     "name": "stdout",
     "output_type": "stream",
     "text": [
      "Saved 11901 rows.\n",
      "\n",
      "Read file 88.\n"
     ]
    },
    {
     "name": "stderr",
     "output_type": "stream",
     "text": [
      "/Users/julialromero/miniconda3/envs/myenv/lib/python3.9/site-packages/geopandas/geoseries.py:207: FutureWarning: The default dtype for empty Series will be 'object' instead of 'float64' in a future version. Specify a dtype explicitly to silence this warning.\n",
      "  s = pd.Series(data, index=index, name=name, **kwargs)\n",
      "\r",
      "89it [30:16, 20.95s/it]"
     ]
    },
    {
     "name": "stdout",
     "output_type": "stream",
     "text": [
      "Saved 11792 rows.\n",
      "\n",
      "Read file 89.\n"
     ]
    },
    {
     "name": "stderr",
     "output_type": "stream",
     "text": [
      "/Users/julialromero/miniconda3/envs/myenv/lib/python3.9/site-packages/geopandas/geoseries.py:207: FutureWarning: The default dtype for empty Series will be 'object' instead of 'float64' in a future version. Specify a dtype explicitly to silence this warning.\n",
      "  s = pd.Series(data, index=index, name=name, **kwargs)\n",
      "\r",
      "90it [30:34, 20.04s/it]"
     ]
    },
    {
     "name": "stdout",
     "output_type": "stream",
     "text": [
      "Saved 11849 rows.\n",
      "\n",
      "Read file 90.\n"
     ]
    },
    {
     "name": "stderr",
     "output_type": "stream",
     "text": [
      "/Users/julialromero/miniconda3/envs/myenv/lib/python3.9/site-packages/geopandas/geoseries.py:207: FutureWarning: The default dtype for empty Series will be 'object' instead of 'float64' in a future version. Specify a dtype explicitly to silence this warning.\n",
      "  s = pd.Series(data, index=index, name=name, **kwargs)\n",
      "\r",
      "91it [30:55, 20.26s/it]"
     ]
    },
    {
     "name": "stdout",
     "output_type": "stream",
     "text": [
      "Saved 11677 rows.\n",
      "\n",
      "Read file 91.\n"
     ]
    },
    {
     "name": "stderr",
     "output_type": "stream",
     "text": [
      "/Users/julialromero/miniconda3/envs/myenv/lib/python3.9/site-packages/geopandas/geoseries.py:207: FutureWarning: The default dtype for empty Series will be 'object' instead of 'float64' in a future version. Specify a dtype explicitly to silence this warning.\n",
      "  s = pd.Series(data, index=index, name=name, **kwargs)\n",
      "\r",
      "92it [31:13, 19.63s/it]"
     ]
    },
    {
     "name": "stdout",
     "output_type": "stream",
     "text": [
      "Saved 11665 rows.\n",
      "\n",
      "Read file 92.\n"
     ]
    },
    {
     "name": "stderr",
     "output_type": "stream",
     "text": [
      "/Users/julialromero/miniconda3/envs/myenv/lib/python3.9/site-packages/geopandas/geoseries.py:207: FutureWarning: The default dtype for empty Series will be 'object' instead of 'float64' in a future version. Specify a dtype explicitly to silence this warning.\n",
      "  s = pd.Series(data, index=index, name=name, **kwargs)\n",
      "\r",
      "93it [31:30, 18.86s/it]"
     ]
    },
    {
     "name": "stdout",
     "output_type": "stream",
     "text": [
      "Saved 11619 rows.\n",
      "\n",
      "Read file 93.\n"
     ]
    },
    {
     "name": "stderr",
     "output_type": "stream",
     "text": [
      "/Users/julialromero/miniconda3/envs/myenv/lib/python3.9/site-packages/geopandas/geoseries.py:207: FutureWarning: The default dtype for empty Series will be 'object' instead of 'float64' in a future version. Specify a dtype explicitly to silence this warning.\n",
      "  s = pd.Series(data, index=index, name=name, **kwargs)\n",
      "\r",
      "94it [31:48, 18.46s/it]"
     ]
    },
    {
     "name": "stdout",
     "output_type": "stream",
     "text": [
      "Saved 11728 rows.\n",
      "\n",
      "Read file 94.\n"
     ]
    },
    {
     "name": "stderr",
     "output_type": "stream",
     "text": [
      "/Users/julialromero/miniconda3/envs/myenv/lib/python3.9/site-packages/geopandas/geoseries.py:207: FutureWarning: The default dtype for empty Series will be 'object' instead of 'float64' in a future version. Specify a dtype explicitly to silence this warning.\n",
      "  s = pd.Series(data, index=index, name=name, **kwargs)\n",
      "95it [32:10, 20.32s/it]"
     ]
    },
    {
     "name": "stdout",
     "output_type": "stream",
     "text": [
      "Saved 11704 rows.\n",
      "--------done: month 12--------\n"
     ]
    },
    {
     "name": "stderr",
     "output_type": "stream",
     "text": [
      "\n"
     ]
    }
   ],
   "source": [
    "cols=['placekey','parent_placekey', 'date_range_start', 'date_range_end', 'longitude', 'latitude', 'city', 'region', 'iso_country_code', 'visitor_home_aggregation' , 'poi_cbg']\n",
    "\n",
    "\n",
    "for i, month_cd in enumerate(['07', '08', '09', '10', '11', '12']):\n",
    "    spend_sample = rsp[rsp[\"parent\"].str.endswith(\"SAFEGRAPH/WP\")]\n",
    "    spend_sample = spend_sample[spend_sample[\"name\"].str.contains('csv.gz')]\n",
    "\n",
    "    s = '2021/' + month_cd\n",
    "    spend_sample = spend_sample[spend_sample[\"parent\"].str.contains(s)]\n",
    "\n",
    "    request_files_and_save_to_drive(spend_sample, cols, access_token, month_counter=month_cd, dir_path=dirname)"
   ]
  },
  {
   "cell_type": "code",
   "execution_count": 33,
   "metadata": {},
   "outputs": [
    {
     "name": "stdout",
     "output_type": "stream",
     "text": [
      "  STATEFP COUNTYFP TRACTCE        GEOID  NAME           NAMELSAD  MTFCC  \\\n",
      "0      09      003  514500  09003514500  5145  Census Tract 5145  G5020   \n",
      "1      09      003  514600  09003514600  5146  Census Tract 5146  G5020   \n",
      "2      09      003  514700  09003514700  5147  Census Tract 5147  G5020   \n",
      "3      09      003  514800  09003514800  5148  Census Tract 5148  G5020   \n",
      "4      09      003  514900  09003514900  5149  Census Tract 5149  G5020   \n",
      "\n",
      "  FUNCSTAT    ALAND  AWATER     INTPTLAT      INTPTLON state_abbr  \\\n",
      "0        S  2673486   48144  +41.7772247  -072.5398572         CT   \n",
      "1        S  2144936       0  +41.7692952  -072.5444530         CT   \n",
      "2        S  1383464       0  +41.7698536  -072.5227784         CT   \n",
      "3        S  1377342       0  +41.7708559  -072.5106023         CT   \n",
      "4        S  3546060   22405  +41.7907521  -072.4835364         CT   \n",
      "\n",
      "                                            geometry  \n",
      "0  POLYGON ((-72.56218 41.78077, -72.56122 41.780...  \n",
      "1  POLYGON ((-72.55995 41.77014, -72.55994 41.770...  \n",
      "2  POLYGON ((-72.53319 41.77264, -72.53263 41.772...  \n",
      "3  POLYGON ((-72.51694 41.77688, -72.51671 41.776...  \n",
      "4  POLYGON ((-72.50908 41.79366, -72.50862 41.793...  \n",
      "loaded data\n"
     ]
    }
   ],
   "source": [
    "from mobility_processor import *\n",
    "\n",
    "ct = CensusTractMobility(tract_data_dir='../Tracts/nyc_metro_boundaries/nyc_metro_boundaries.shp')"
   ]
  },
  {
   "cell_type": "code",
   "execution_count": 35,
   "metadata": {},
   "outputs": [
    {
     "data": {
      "text/plain": [
       "8231"
      ]
     },
     "execution_count": 35,
     "metadata": {},
     "output_type": "execute_result"
    }
   ],
   "source": [
    "len(ct.node_idx_map.keys())"
   ]
  },
  {
   "cell_type": "code",
   "execution_count": 38,
   "metadata": {},
   "outputs": [
    {
     "data": {
      "text/plain": [
       "8231"
      ]
     },
     "execution_count": 38,
     "metadata": {},
     "output_type": "execute_result"
    }
   ],
   "source": [
    "pd.Series(ct.node_idx_map.keys()).nunique()"
   ]
  },
  {
   "cell_type": "code",
   "execution_count": 39,
   "metadata": {},
   "outputs": [
    {
     "name": "stderr",
     "output_type": "stream",
     "text": [
      "/var/folders/b6/qqcnr7cj16sd1r0nn3p4f_sw0000gn/T/ipykernel_77706/2595457795.py:3: UserWarning: Unpickling a shapely <2.0 geometry object. Please save the pickle again; shapely 2.1 will not have this compatibility.\n",
      "  g = pickle.load(f) # CensusTractMobility object\n"
     ]
    }
   ],
   "source": [
    "graph_obj_path = '../safegraph/graph_checkpoints/nyc_metro/checkpoint_1.pkl'\n",
    "with open(graph_obj_path, 'rb') as f:\n",
    "    g = pickle.load(f) # CensusTractMobility object\n",
    "idx_node_map = g.get_idx_node()"
   ]
  },
  {
   "cell_type": "code",
   "execution_count": 41,
   "metadata": {},
   "outputs": [
    {
     "data": {
      "text/plain": [
       "8231"
      ]
     },
     "execution_count": 41,
     "metadata": {},
     "output_type": "execute_result"
    }
   ],
   "source": [
    "len(idx_node_map.keys())"
   ]
  },
  {
   "cell_type": "code",
   "execution_count": 42,
   "metadata": {},
   "outputs": [
    {
     "data": {
      "text/plain": [
       "0       09003514500\n",
       "1       09003514600\n",
       "2       09003514700\n",
       "3       09003514800\n",
       "4       09003514900\n",
       "           ...     \n",
       "8226    34029734003\n",
       "8227    34013014000\n",
       "8228    34013014400\n",
       "8229    34013013600\n",
       "8230    34013013700\n",
       "Name: GEOID, Length: 8231, dtype: object"
      ]
     },
     "execution_count": 42,
     "metadata": {},
     "output_type": "execute_result"
    }
   ],
   "source": [
    "g.tract_data['GEOID']"
   ]
  },
  {
   "cell_type": "code",
   "execution_count": null,
   "metadata": {},
   "outputs": [],
   "source": []
  }
 ],
 "metadata": {
  "kernelspec": {
   "display_name": "Python 3 (ipykernel)",
   "language": "python",
   "name": "python3"
  },
  "language_info": {
   "codemirror_mode": {
    "name": "ipython",
    "version": 3
   },
   "file_extension": ".py",
   "mimetype": "text/x-python",
   "name": "python",
   "nbconvert_exporter": "python",
   "pygments_lexer": "ipython3",
   "version": "3.9.16"
  },
  "vscode": {
   "interpreter": {
    "hash": "37159767d604f98141fb69402bfc3247d2ef5afce2f12832c77156ed4d34eb19"
   }
  }
 },
 "nbformat": 4,
 "nbformat_minor": 2
}
