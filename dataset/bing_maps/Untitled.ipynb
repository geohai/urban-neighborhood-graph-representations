{
 "cells": [
  {
   "cell_type": "code",
   "execution_count": 1,
   "id": "f0d726c2",
   "metadata": {},
   "outputs": [],
   "source": [
    "with open('../api_keys/bingmaps.txt', 'r') as f:\n",
    "    key = f.read()"
   ]
  },
  {
   "cell_type": "code",
   "execution_count": 2,
   "id": "13f7e312",
   "metadata": {},
   "outputs": [
    {
     "data": {
      "text/plain": [
       "'pdn0Sb9RT8CnHGAmAmpJ~ZXD6DqcLdg27r7grOLTuhg~AqYjT18ghYA14j3UokXtoLjwgBTVjodbQ38IE81FBOSRYxJWfkG3-73cjPl-ERf3'"
      ]
     },
     "execution_count": 2,
     "metadata": {},
     "output_type": "execute_result"
    }
   ],
   "source": [
    "http://dev.virtualearth.net/REST/v1/Imagery/MetaData/Streetside/47.668687,-122.384795?key={key}"
   ]
  },
  {
   "cell_type": "code",
   "execution_count": 5,
   "id": "37c8d30c",
   "metadata": {},
   "outputs": [
    {
     "data": {
      "application/javascript": [
       "var map = new Microsoft.Maps.Map('#myMap');\n"
      ],
      "text/plain": [
       "<IPython.core.display.Javascript object>"
      ]
     },
     "metadata": {},
     "output_type": "display_data"
    }
   ],
   "source": [
    "%%js\n",
    "var map = new Microsoft.Maps.Map('#myMap');"
   ]
  },
  {
   "cell_type": "code",
   "execution_count": 4,
   "id": "50cb339c",
   "metadata": {},
   "outputs": [
    {
     "data": {
      "application/javascript": [
       "\n",
       "var bounds = new Microsoft.Maps.LocationRect(new Microsoft.Maps.Location(28.332823, -81.492279), 0.01, 0.01);\n",
       "Microsoft.Maps.Map.getClosestPanorama(bounds, onSuccess, onMissingCoverage);\n",
       "function onSuccess(panoramaInfo) {\n",
       "    var map = new Microsoft.Maps.Map(document.getElementById('myMap'), {\n",
       "        zoom: 18,\n",
       "        mapTypeId: Microsoft.Maps.MapTypeId.streetside,\n",
       "        streetsideOptions: {\n",
       "            panoramaInfo: panoramaInfo,\n",
       "            onSuccessLoading: function () { return document.getElementById('printoutPanel').innerHTML = 'Streetside loaded'; },\n",
       "            onErrorLoading: function () { return document.getElementById('printoutPanel').innerHTML = 'Streetside failed to loaded'; }\n",
       "        }\n",
       "    });\n",
       "}\n",
       "function onMissingCoverage() {\n",
       "    document.getElementById('printoutPanel').innerHTML = 'No streetside coverage/error in getting the panorama';\n",
       "}\n"
      ],
      "text/plain": [
       "<IPython.core.display.Javascript object>"
      ]
     },
     "metadata": {},
     "output_type": "display_data"
    }
   ],
   "source": [
    "%%js\n",
    "\n",
    "var bounds = new Microsoft.Maps.LocationRect(new Microsoft.Maps.Location(28.332823, -81.492279), 0.01, 0.01);\n",
    "Microsoft.Maps.Map.getClosestPanorama(bounds, onSuccess, onMissingCoverage);\n",
    "function onSuccess(panoramaInfo) {\n",
    "    var map = new Microsoft.Maps.Map(document.getElementById('myMap'), {\n",
    "        zoom: 18,\n",
    "        mapTypeId: Microsoft.Maps.MapTypeId.streetside,\n",
    "        streetsideOptions: {\n",
    "            panoramaInfo: panoramaInfo,\n",
    "            onSuccessLoading: function () { return document.getElementById('printoutPanel').innerHTML = 'Streetside loaded'; },\n",
    "            onErrorLoading: function () { return document.getElementById('printoutPanel').innerHTML = 'Streetside failed to loaded'; }\n",
    "        }\n",
    "    });\n",
    "}\n",
    "function onMissingCoverage() {\n",
    "    document.getElementById('printoutPanel').innerHTML = 'No streetside coverage/error in getting the panorama';\n",
    "}\n"
   ]
  },
  {
   "cell_type": "code",
   "execution_count": null,
   "id": "827dcf46",
   "metadata": {},
   "outputs": [],
   "source": []
  }
 ],
 "metadata": {
  "kernelspec": {
   "display_name": "Python 3 (ipykernel)",
   "language": "python",
   "name": "python3"
  },
  "language_info": {
   "codemirror_mode": {
    "name": "ipython",
    "version": 3
   },
   "file_extension": ".py",
   "mimetype": "text/x-python",
   "name": "python",
   "nbconvert_exporter": "python",
   "pygments_lexer": "ipython3",
   "version": "3.9.16"
  }
 },
 "nbformat": 4,
 "nbformat_minor": 5
}
